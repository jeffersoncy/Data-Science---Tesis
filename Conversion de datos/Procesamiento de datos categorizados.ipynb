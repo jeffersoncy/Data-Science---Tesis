{
 "cells": [
  {
   "cell_type": "code",
   "execution_count": 1,
   "metadata": {},
   "outputs": [
    {
     "name": "stdout",
     "output_type": "stream",
     "text": [
      "Last updated: 2023-09-03T19:11:28.619636-05:00\n",
      "\n",
      "Python implementation: CPython\n",
      "Python version       : 3.10.11\n",
      "IPython version      : 8.13.2\n",
      "\n",
      "Compiler    : MSC v.1916 64 bit (AMD64)\n",
      "OS          : Windows\n",
      "Release     : 10\n",
      "Machine     : AMD64\n",
      "Processor   : Intel64 Family 6 Model 158 Stepping 10, GenuineIntel\n",
      "CPU cores   : 8\n",
      "Architecture: 64bit\n",
      "\n"
     ]
    }
   ],
   "source": [
    "%load_ext watermark\n",
    "%watermark"
   ]
  },
  {
   "cell_type": "markdown",
   "metadata": {},
   "source": [
    "En esta sección se procede a convertir las repuestas que están en datos numéricos a valores legibles, los cuales servirán de ayuda al momento de obtener la importancia de las características para las nuevas predicciones que se realicen."
   ]
  },
  {
   "cell_type": "code",
   "execution_count": 2,
   "metadata": {},
   "outputs": [],
   "source": [
    "import pandas as pd\n",
    "import matplotlib.pyplot as plt\n",
    "%matplotlib inline\n",
    "plt.rcParams[\"figure.figsize\"] = (12,12)"
   ]
  },
  {
   "cell_type": "code",
   "execution_count": 3,
   "metadata": {},
   "outputs": [
    {
     "data": {
      "text/html": [
       "<div>\n",
       "<style scoped>\n",
       "    .dataframe tbody tr th:only-of-type {\n",
       "        vertical-align: middle;\n",
       "    }\n",
       "\n",
       "    .dataframe tbody tr th {\n",
       "        vertical-align: top;\n",
       "    }\n",
       "\n",
       "    .dataframe thead th {\n",
       "        text-align: right;\n",
       "    }\n",
       "</style>\n",
       "<table border=\"1\" class=\"dataframe\">\n",
       "  <thead>\n",
       "    <tr style=\"text-align: right;\">\n",
       "      <th></th>\n",
       "      <th>per_sexo</th>\n",
       "      <th>vive_padre_hogar</th>\n",
       "      <th>vive_madre_hogar</th>\n",
       "      <th>departamento</th>\n",
       "      <th>tipo_vivienda</th>\n",
       "      <th>residentes_hogar</th>\n",
       "      <th>d_01_aporta_dinero_hogar</th>\n",
       "      <th>d_08_estado_salud</th>\n",
       "      <th>d_09_deprimido</th>\n",
       "      <th>d_10_poco_interes</th>\n",
       "      <th>...</th>\n",
       "      <th>frecuencia_consumo_marihuana_tipo</th>\n",
       "      <th>frecuencia_consumo_cocaina_tipo</th>\n",
       "      <th>frecuencia_consumo_basuco_tipo</th>\n",
       "      <th>frecuencia_consumo_heroina_tipo</th>\n",
       "      <th>g_01_a_num_familiares_consumen_sp_imp</th>\n",
       "      <th>g_02_a_num_amigos_consumen_sp_imp</th>\n",
       "      <th>g_08_a_ofrecieron_marihuana_imp</th>\n",
       "      <th>g_08_b_ofrecieron_cocaina_imp</th>\n",
       "      <th>g_08_c_ofrecieron_basuco_imp</th>\n",
       "      <th>g_08_e_ofrecieron_heroina_imp</th>\n",
       "    </tr>\n",
       "  </thead>\n",
       "  <tbody>\n",
       "    <tr>\n",
       "      <th>0</th>\n",
       "      <td>1</td>\n",
       "      <td>2</td>\n",
       "      <td>2</td>\n",
       "      <td>Guaviare</td>\n",
       "      <td>2</td>\n",
       "      <td>5</td>\n",
       "      <td>1</td>\n",
       "      <td>2</td>\n",
       "      <td>1</td>\n",
       "      <td>1</td>\n",
       "      <td>...</td>\n",
       "      <td>Nunca</td>\n",
       "      <td>Nunca</td>\n",
       "      <td>Nunca</td>\n",
       "      <td>Nunca</td>\n",
       "      <td>3</td>\n",
       "      <td>2</td>\n",
       "      <td>10</td>\n",
       "      <td>10</td>\n",
       "      <td>10</td>\n",
       "      <td>10</td>\n",
       "    </tr>\n",
       "    <tr>\n",
       "      <th>1</th>\n",
       "      <td>2</td>\n",
       "      <td>2</td>\n",
       "      <td>1</td>\n",
       "      <td>Cordoba</td>\n",
       "      <td>1</td>\n",
       "      <td>4</td>\n",
       "      <td>2</td>\n",
       "      <td>3</td>\n",
       "      <td>2</td>\n",
       "      <td>2</td>\n",
       "      <td>...</td>\n",
       "      <td>Nunca</td>\n",
       "      <td>Nunca</td>\n",
       "      <td>Nunca</td>\n",
       "      <td>Nunca</td>\n",
       "      <td>3</td>\n",
       "      <td>3</td>\n",
       "      <td>10</td>\n",
       "      <td>10</td>\n",
       "      <td>10</td>\n",
       "      <td>10</td>\n",
       "    </tr>\n",
       "    <tr>\n",
       "      <th>2</th>\n",
       "      <td>1</td>\n",
       "      <td>3</td>\n",
       "      <td>3</td>\n",
       "      <td>Caqueta</td>\n",
       "      <td>1</td>\n",
       "      <td>4</td>\n",
       "      <td>1</td>\n",
       "      <td>4</td>\n",
       "      <td>2</td>\n",
       "      <td>2</td>\n",
       "      <td>...</td>\n",
       "      <td>Nunca</td>\n",
       "      <td>Nunca</td>\n",
       "      <td>Nunca</td>\n",
       "      <td>Nunca</td>\n",
       "      <td>3</td>\n",
       "      <td>3</td>\n",
       "      <td>10</td>\n",
       "      <td>10</td>\n",
       "      <td>10</td>\n",
       "      <td>10</td>\n",
       "    </tr>\n",
       "    <tr>\n",
       "      <th>3</th>\n",
       "      <td>2</td>\n",
       "      <td>1</td>\n",
       "      <td>1</td>\n",
       "      <td>Bolivar</td>\n",
       "      <td>1</td>\n",
       "      <td>6</td>\n",
       "      <td>1</td>\n",
       "      <td>4</td>\n",
       "      <td>1</td>\n",
       "      <td>1</td>\n",
       "      <td>...</td>\n",
       "      <td>Nunca</td>\n",
       "      <td>Nunca</td>\n",
       "      <td>Nunca</td>\n",
       "      <td>Nunca</td>\n",
       "      <td>3</td>\n",
       "      <td>3</td>\n",
       "      <td>10</td>\n",
       "      <td>10</td>\n",
       "      <td>10</td>\n",
       "      <td>10</td>\n",
       "    </tr>\n",
       "    <tr>\n",
       "      <th>4</th>\n",
       "      <td>2</td>\n",
       "      <td>1</td>\n",
       "      <td>1</td>\n",
       "      <td>Tolima</td>\n",
       "      <td>1</td>\n",
       "      <td>4</td>\n",
       "      <td>2</td>\n",
       "      <td>4</td>\n",
       "      <td>2</td>\n",
       "      <td>2</td>\n",
       "      <td>...</td>\n",
       "      <td>Nunca</td>\n",
       "      <td>Nunca</td>\n",
       "      <td>Nunca</td>\n",
       "      <td>Nunca</td>\n",
       "      <td>3</td>\n",
       "      <td>2</td>\n",
       "      <td>10</td>\n",
       "      <td>10</td>\n",
       "      <td>10</td>\n",
       "      <td>10</td>\n",
       "    </tr>\n",
       "  </tbody>\n",
       "</table>\n",
       "<p>5 rows × 42 columns</p>\n",
       "</div>"
      ],
      "text/plain": [
       "   per_sexo  vive_padre_hogar  vive_madre_hogar departamento  tipo_vivienda  \\\n",
       "0         1                 2                 2     Guaviare              2   \n",
       "1         2                 2                 1      Cordoba              1   \n",
       "2         1                 3                 3      Caqueta              1   \n",
       "3         2                 1                 1      Bolivar              1   \n",
       "4         2                 1                 1       Tolima              1   \n",
       "\n",
       "   residentes_hogar  d_01_aporta_dinero_hogar  d_08_estado_salud  \\\n",
       "0                 5                         1                  2   \n",
       "1                 4                         2                  3   \n",
       "2                 4                         1                  4   \n",
       "3                 6                         1                  4   \n",
       "4                 4                         2                  4   \n",
       "\n",
       "   d_09_deprimido  d_10_poco_interes  ...  frecuencia_consumo_marihuana_tipo  \\\n",
       "0               1                  1  ...                              Nunca   \n",
       "1               2                  2  ...                              Nunca   \n",
       "2               2                  2  ...                              Nunca   \n",
       "3               1                  1  ...                              Nunca   \n",
       "4               2                  2  ...                              Nunca   \n",
       "\n",
       "   frecuencia_consumo_cocaina_tipo  frecuencia_consumo_basuco_tipo  \\\n",
       "0                            Nunca                           Nunca   \n",
       "1                            Nunca                           Nunca   \n",
       "2                            Nunca                           Nunca   \n",
       "3                            Nunca                           Nunca   \n",
       "4                            Nunca                           Nunca   \n",
       "\n",
       "   frecuencia_consumo_heroina_tipo  g_01_a_num_familiares_consumen_sp_imp  \\\n",
       "0                            Nunca                                      3   \n",
       "1                            Nunca                                      3   \n",
       "2                            Nunca                                      3   \n",
       "3                            Nunca                                      3   \n",
       "4                            Nunca                                      3   \n",
       "\n",
       "   g_02_a_num_amigos_consumen_sp_imp  g_08_a_ofrecieron_marihuana_imp  \\\n",
       "0                                  2                               10   \n",
       "1                                  3                               10   \n",
       "2                                  3                               10   \n",
       "3                                  3                               10   \n",
       "4                                  2                               10   \n",
       "\n",
       "   g_08_b_ofrecieron_cocaina_imp  g_08_c_ofrecieron_basuco_imp  \\\n",
       "0                             10                            10   \n",
       "1                             10                            10   \n",
       "2                             10                            10   \n",
       "3                             10                            10   \n",
       "4                             10                            10   \n",
       "\n",
       "   g_08_e_ofrecieron_heroina_imp  \n",
       "0                             10  \n",
       "1                             10  \n",
       "2                             10  \n",
       "3                             10  \n",
       "4                             10  \n",
       "\n",
       "[5 rows x 42 columns]"
      ]
     },
     "execution_count": 3,
     "metadata": {},
     "output_type": "execute_result"
    }
   ],
   "source": [
    "consumidores = pd.read_pickle(\"C:/Users/Danny/Desktop/Analisis tesis/Analisis exploratorio de datos/data/consumidores_procesado.pkl\")\n",
    "consumidores.head()"
   ]
  },
  {
   "cell_type": "code",
   "execution_count": 4,
   "metadata": {},
   "outputs": [
    {
     "data": {
      "text/plain": [
       "(10000, 42)"
      ]
     },
     "execution_count": 4,
     "metadata": {},
     "output_type": "execute_result"
    }
   ],
   "source": [
    "consumidores.shape"
   ]
  },
  {
   "cell_type": "markdown",
   "metadata": {},
   "source": [
    "# Conversion de valores numéricos a cadenas legibles"
   ]
  },
  {
   "cell_type": "markdown",
   "metadata": {},
   "source": [
    "### Sexo tipo"
   ]
  },
  {
   "cell_type": "code",
   "execution_count": 5,
   "metadata": {},
   "outputs": [
    {
     "data": {
      "text/plain": [
       "array([1, 2], dtype=int64)"
      ]
     },
     "execution_count": 5,
     "metadata": {},
     "output_type": "execute_result"
    }
   ],
   "source": [
    "consumidores.per_sexo.unique()"
   ]
  },
  {
   "cell_type": "code",
   "execution_count": 6,
   "metadata": {},
   "outputs": [],
   "source": [
    "consumidores.loc[consumidores['per_sexo']==1, 'per_sexo_tipo'] = 'Hombre'\n",
    "\n",
    "consumidores.loc[consumidores['per_sexo']==2, 'per_sexo_tipo'] = 'Mujer'"
   ]
  },
  {
   "cell_type": "code",
   "execution_count": 7,
   "metadata": {},
   "outputs": [],
   "source": [
    "consumidores.per_sexo_tipo = consumidores.per_sexo_tipo.astype(\"category\")"
   ]
  },
  {
   "cell_type": "code",
   "execution_count": 8,
   "metadata": {},
   "outputs": [
    {
     "data": {
      "text/plain": [
       "CategoricalDtype(categories=['Hombre', 'Mujer'], ordered=False)"
      ]
     },
     "execution_count": 8,
     "metadata": {},
     "output_type": "execute_result"
    }
   ],
   "source": [
    "consumidores.per_sexo_tipo.dtype"
   ]
  },
  {
   "cell_type": "code",
   "execution_count": 9,
   "metadata": {},
   "outputs": [
    {
     "data": {
      "text/plain": [
       "Hombre    5029\n",
       "Mujer     4971\n",
       "Name: per_sexo_tipo, dtype: int64"
      ]
     },
     "execution_count": 9,
     "metadata": {},
     "output_type": "execute_result"
    }
   ],
   "source": [
    "consumidores.per_sexo_tipo.value_counts()"
   ]
  },
  {
   "cell_type": "code",
   "execution_count": 10,
   "metadata": {},
   "outputs": [],
   "source": [
    "del consumidores['per_sexo']"
   ]
  },
  {
   "cell_type": "markdown",
   "metadata": {},
   "source": [
    "### Vive el padre en el hogar tipo"
   ]
  },
  {
   "cell_type": "code",
   "execution_count": 11,
   "metadata": {},
   "outputs": [
    {
     "data": {
      "text/plain": [
       "array([2, 3, 1], dtype=int64)"
      ]
     },
     "execution_count": 11,
     "metadata": {},
     "output_type": "execute_result"
    }
   ],
   "source": [
    "consumidores.vive_padre_hogar.unique()"
   ]
  },
  {
   "cell_type": "code",
   "execution_count": 12,
   "metadata": {},
   "outputs": [],
   "source": [
    "consumidores.loc[consumidores['vive_padre_hogar']==1, 'vive_padre_hogar_tipo'] = 'vive_padre_hogar_Si'\n",
    "\n",
    "consumidores.loc[consumidores['vive_padre_hogar']==2, 'vive_padre_hogar_tipo'] = 'vive_padre_hogar_No'\n",
    "\n",
    "consumidores.loc[consumidores['vive_padre_hogar']==3, 'vive_padre_hogar_tipo'] = 'vive_padre_hogar_Fallecido'"
   ]
  },
  {
   "cell_type": "code",
   "execution_count": 13,
   "metadata": {},
   "outputs": [],
   "source": [
    "consumidores.vive_padre_hogar_tipo = consumidores.vive_padre_hogar_tipo.astype(\"category\")"
   ]
  },
  {
   "cell_type": "code",
   "execution_count": 14,
   "metadata": {},
   "outputs": [
    {
     "data": {
      "text/plain": [
       "CategoricalDtype(categories=['vive_padre_hogar_Fallecido', 'vive_padre_hogar_No',\n",
       "                  'vive_padre_hogar_Si'],\n",
       ", ordered=False)"
      ]
     },
     "execution_count": 14,
     "metadata": {},
     "output_type": "execute_result"
    }
   ],
   "source": [
    "consumidores.vive_padre_hogar_tipo.dtype"
   ]
  },
  {
   "cell_type": "code",
   "execution_count": 15,
   "metadata": {},
   "outputs": [
    {
     "data": {
      "text/plain": [
       "vive_padre_hogar_No           5702\n",
       "vive_padre_hogar_Fallecido    2803\n",
       "vive_padre_hogar_Si           1495\n",
       "Name: vive_padre_hogar_tipo, dtype: int64"
      ]
     },
     "execution_count": 15,
     "metadata": {},
     "output_type": "execute_result"
    }
   ],
   "source": [
    "consumidores.vive_padre_hogar_tipo.value_counts()"
   ]
  },
  {
   "cell_type": "code",
   "execution_count": 16,
   "metadata": {},
   "outputs": [],
   "source": [
    "del consumidores['vive_padre_hogar']"
   ]
  },
  {
   "cell_type": "markdown",
   "metadata": {},
   "source": [
    "### Vive la madre en el hogar tipo"
   ]
  },
  {
   "cell_type": "code",
   "execution_count": 17,
   "metadata": {},
   "outputs": [
    {
     "data": {
      "text/plain": [
       "array([2, 1, 3], dtype=int64)"
      ]
     },
     "execution_count": 17,
     "metadata": {},
     "output_type": "execute_result"
    }
   ],
   "source": [
    "consumidores.vive_madre_hogar.unique()"
   ]
  },
  {
   "cell_type": "code",
   "execution_count": 18,
   "metadata": {},
   "outputs": [],
   "source": [
    "consumidores.loc[consumidores['vive_madre_hogar']==1, 'vive_madre_hogar_tipo'] = 'vive_madre_hogar_Si'\n",
    "\n",
    "consumidores.loc[consumidores['vive_madre_hogar']==2, 'vive_madre_hogar_tipo'] = 'vive_madre_hogar_No'\n",
    "\n",
    "consumidores.loc[consumidores['vive_madre_hogar']==3, 'vive_madre_hogar_tipo'] = 'vive_madre_hogar_Fallecida'"
   ]
  },
  {
   "cell_type": "code",
   "execution_count": 19,
   "metadata": {},
   "outputs": [],
   "source": [
    "consumidores.vive_madre_hogar_tipo = consumidores.vive_madre_hogar_tipo.astype(\"category\")"
   ]
  },
  {
   "cell_type": "code",
   "execution_count": 20,
   "metadata": {},
   "outputs": [
    {
     "data": {
      "text/plain": [
       "CategoricalDtype(categories=['vive_madre_hogar_Fallecida', 'vive_madre_hogar_No',\n",
       "                  'vive_madre_hogar_Si'],\n",
       ", ordered=False)"
      ]
     },
     "execution_count": 20,
     "metadata": {},
     "output_type": "execute_result"
    }
   ],
   "source": [
    "consumidores.vive_madre_hogar_tipo.dtype"
   ]
  },
  {
   "cell_type": "code",
   "execution_count": 21,
   "metadata": {},
   "outputs": [
    {
     "data": {
      "text/plain": [
       "vive_madre_hogar_No           5337\n",
       "vive_madre_hogar_Si           2998\n",
       "vive_madre_hogar_Fallecida    1665\n",
       "Name: vive_madre_hogar_tipo, dtype: int64"
      ]
     },
     "execution_count": 21,
     "metadata": {},
     "output_type": "execute_result"
    }
   ],
   "source": [
    "consumidores.vive_madre_hogar_tipo.value_counts()"
   ]
  },
  {
   "cell_type": "code",
   "execution_count": 22,
   "metadata": {},
   "outputs": [],
   "source": [
    "del consumidores['vive_madre_hogar']"
   ]
  },
  {
   "cell_type": "markdown",
   "metadata": {},
   "source": [
    "### Tipo de vivienda"
   ]
  },
  {
   "cell_type": "code",
   "execution_count": 23,
   "metadata": {},
   "outputs": [
    {
     "data": {
      "text/plain": [
       "array([2, 1, 3, 4], dtype=int64)"
      ]
     },
     "execution_count": 23,
     "metadata": {},
     "output_type": "execute_result"
    }
   ],
   "source": [
    "consumidores.tipo_vivienda.unique()"
   ]
  },
  {
   "cell_type": "code",
   "execution_count": 24,
   "metadata": {},
   "outputs": [],
   "source": [
    "consumidores.loc[consumidores['tipo_vivienda']==1, 'vivienda_tipo'] = 'Casa'\n",
    "\n",
    "consumidores.loc[consumidores['tipo_vivienda']==2, 'vivienda_tipo'] = 'Apartamento'\n",
    "\n",
    "consumidores.loc[consumidores['tipo_vivienda']==3, 'vivienda_tipo'] = 'Cuarto'\n",
    "\n",
    "consumidores.loc[consumidores['tipo_vivienda']==4, 'vivienda_tipo'] = 'Vivienda_indigena'"
   ]
  },
  {
   "cell_type": "code",
   "execution_count": 25,
   "metadata": {},
   "outputs": [],
   "source": [
    "consumidores.vivienda_tipo = consumidores.vivienda_tipo.astype(\"category\")"
   ]
  },
  {
   "cell_type": "code",
   "execution_count": 26,
   "metadata": {},
   "outputs": [
    {
     "data": {
      "text/plain": [
       "CategoricalDtype(categories=['Apartamento', 'Casa', 'Cuarto', 'Vivienda_indigena'], ordered=False)"
      ]
     },
     "execution_count": 26,
     "metadata": {},
     "output_type": "execute_result"
    }
   ],
   "source": [
    "consumidores.vivienda_tipo.dtype"
   ]
  },
  {
   "cell_type": "code",
   "execution_count": 27,
   "metadata": {},
   "outputs": [
    {
     "data": {
      "text/plain": [
       "Casa                 5454\n",
       "Apartamento          4279\n",
       "Cuarto                257\n",
       "Vivienda_indigena      10\n",
       "Name: vivienda_tipo, dtype: int64"
      ]
     },
     "execution_count": 27,
     "metadata": {},
     "output_type": "execute_result"
    }
   ],
   "source": [
    "consumidores.vivienda_tipo.value_counts()"
   ]
  },
  {
   "cell_type": "code",
   "execution_count": 28,
   "metadata": {},
   "outputs": [],
   "source": [
    "del consumidores['tipo_vivienda']"
   ]
  },
  {
   "cell_type": "markdown",
   "metadata": {},
   "source": [
    "### Numero de residentes en el hogar (Pendiente)"
   ]
  },
  {
   "cell_type": "code",
   "execution_count": 29,
   "metadata": {},
   "outputs": [
    {
     "data": {
      "text/plain": [
       "array([ 5,  4,  6,  1,  2,  3,  8,  7,  9, 11, 12, 10, 13, 14],\n",
       "      dtype=int64)"
      ]
     },
     "execution_count": 29,
     "metadata": {},
     "output_type": "execute_result"
    }
   ],
   "source": [
    "consumidores.residentes_hogar.unique()"
   ]
  },
  {
   "cell_type": "markdown",
   "metadata": {},
   "source": [
    "### d_01 Aporta dinero en el hogar tipo"
   ]
  },
  {
   "cell_type": "code",
   "execution_count": 30,
   "metadata": {},
   "outputs": [
    {
     "data": {
      "text/plain": [
       "array([1, 2], dtype=int64)"
      ]
     },
     "execution_count": 30,
     "metadata": {},
     "output_type": "execute_result"
    }
   ],
   "source": [
    "consumidores.d_01_aporta_dinero_hogar.unique()"
   ]
  },
  {
   "cell_type": "code",
   "execution_count": 31,
   "metadata": {},
   "outputs": [],
   "source": [
    "consumidores.loc[consumidores['d_01_aporta_dinero_hogar']==1, 'd_01_aporta_dinero_hogar_tipo'] = 'd_01_Si'\n",
    "\n",
    "consumidores.loc[consumidores['d_01_aporta_dinero_hogar']==2, 'd_01_aporta_dinero_hogar_tipo'] = 'd_01_No'"
   ]
  },
  {
   "cell_type": "code",
   "execution_count": 32,
   "metadata": {},
   "outputs": [
    {
     "data": {
      "text/plain": [
       "CategoricalDtype(categories=['d_01_No', 'd_01_Si'], ordered=False)"
      ]
     },
     "execution_count": 32,
     "metadata": {},
     "output_type": "execute_result"
    }
   ],
   "source": [
    "consumidores.d_01_aporta_dinero_hogar_tipo = consumidores.d_01_aporta_dinero_hogar_tipo.astype(\"category\")\n",
    "consumidores.d_01_aporta_dinero_hogar_tipo.dtype"
   ]
  },
  {
   "cell_type": "code",
   "execution_count": 33,
   "metadata": {},
   "outputs": [
    {
     "data": {
      "text/plain": [
       "d_01_Si    6942\n",
       "d_01_No    3058\n",
       "Name: d_01_aporta_dinero_hogar_tipo, dtype: int64"
      ]
     },
     "execution_count": 33,
     "metadata": {},
     "output_type": "execute_result"
    }
   ],
   "source": [
    "consumidores.d_01_aporta_dinero_hogar_tipo.value_counts()"
   ]
  },
  {
   "cell_type": "code",
   "execution_count": 34,
   "metadata": {},
   "outputs": [],
   "source": [
    "del consumidores['d_01_aporta_dinero_hogar']"
   ]
  },
  {
   "cell_type": "markdown",
   "metadata": {},
   "source": [
    "### d_08 Estado de salud tipo"
   ]
  },
  {
   "cell_type": "code",
   "execution_count": 35,
   "metadata": {},
   "outputs": [
    {
     "data": {
      "text/plain": [
       "array([2, 3, 4, 5, 1], dtype=int64)"
      ]
     },
     "execution_count": 35,
     "metadata": {},
     "output_type": "execute_result"
    }
   ],
   "source": [
    "consumidores.d_08_estado_salud.unique()"
   ]
  },
  {
   "cell_type": "code",
   "execution_count": 36,
   "metadata": {},
   "outputs": [],
   "source": [
    "consumidores.loc[consumidores['d_08_estado_salud']==1, 'd_08_estado_salud_tipo'] = 'd_08_Muy_malo'\n",
    "\n",
    "consumidores.loc[consumidores['d_08_estado_salud']==2, 'd_08_estado_salud_tipo'] = 'd_08_Malo'\n",
    "\n",
    "consumidores.loc[consumidores['d_08_estado_salud']==3, 'd_08_estado_salud_tipo'] = 'd_08_Regular'\n",
    "\n",
    "consumidores.loc[consumidores['d_08_estado_salud']==4, 'd_08_estado_salud_tipo'] = 'd_08_Bueno'\n",
    "\n",
    "consumidores.loc[consumidores['d_08_estado_salud']==5, 'd_08_estado_salud_tipo'] = 'd_08_Muy_bueno'"
   ]
  },
  {
   "cell_type": "code",
   "execution_count": 37,
   "metadata": {},
   "outputs": [
    {
     "data": {
      "text/plain": [
       "CategoricalDtype(categories=['d_08_Bueno', 'd_08_Malo', 'd_08_Muy_bueno', 'd_08_Muy_malo',\n",
       "                  'd_08_Regular'],\n",
       ", ordered=False)"
      ]
     },
     "execution_count": 37,
     "metadata": {},
     "output_type": "execute_result"
    }
   ],
   "source": [
    "consumidores.d_08_estado_salud_tipo = consumidores.d_08_estado_salud_tipo.astype(\"category\")\n",
    "consumidores.d_08_estado_salud_tipo.dtype"
   ]
  },
  {
   "cell_type": "code",
   "execution_count": 38,
   "metadata": {},
   "outputs": [
    {
     "data": {
      "text/plain": [
       "d_08_Bueno        5999\n",
       "d_08_Regular      2078\n",
       "d_08_Muy_bueno    1499\n",
       "d_08_Malo          324\n",
       "d_08_Muy_malo      100\n",
       "Name: d_08_estado_salud_tipo, dtype: int64"
      ]
     },
     "execution_count": 38,
     "metadata": {},
     "output_type": "execute_result"
    }
   ],
   "source": [
    "del consumidores['d_08_estado_salud']\n",
    "consumidores.d_08_estado_salud_tipo.value_counts()"
   ]
  },
  {
   "cell_type": "markdown",
   "metadata": {},
   "source": [
    "### d_09 Ha estado deprimido tipo"
   ]
  },
  {
   "cell_type": "code",
   "execution_count": 39,
   "metadata": {},
   "outputs": [
    {
     "data": {
      "text/plain": [
       "array([1, 2], dtype=int64)"
      ]
     },
     "execution_count": 39,
     "metadata": {},
     "output_type": "execute_result"
    }
   ],
   "source": [
    "consumidores.d_09_deprimido.unique()"
   ]
  },
  {
   "cell_type": "code",
   "execution_count": 40,
   "metadata": {},
   "outputs": [],
   "source": [
    "consumidores.loc[consumidores['d_09_deprimido']==1, 'd_09_deprimido_tipo'] = 'd_09_Si'\n",
    "\n",
    "consumidores.loc[consumidores['d_09_deprimido']==2, 'd_09_deprimido_tipo'] = 'd_09_No'"
   ]
  },
  {
   "cell_type": "code",
   "execution_count": 41,
   "metadata": {},
   "outputs": [
    {
     "data": {
      "text/plain": [
       "CategoricalDtype(categories=['d_09_No', 'd_09_Si'], ordered=False)"
      ]
     },
     "execution_count": 41,
     "metadata": {},
     "output_type": "execute_result"
    }
   ],
   "source": [
    "consumidores.d_09_deprimido_tipo = consumidores.d_09_deprimido_tipo.astype(\"category\")\n",
    "consumidores.d_09_deprimido_tipo.dtype"
   ]
  },
  {
   "cell_type": "code",
   "execution_count": 42,
   "metadata": {},
   "outputs": [
    {
     "data": {
      "text/plain": [
       "d_09_No    7430\n",
       "d_09_Si    2570\n",
       "Name: d_09_deprimido_tipo, dtype: int64"
      ]
     },
     "execution_count": 42,
     "metadata": {},
     "output_type": "execute_result"
    }
   ],
   "source": [
    "del consumidores['d_09_deprimido']\n",
    "consumidores.d_09_deprimido_tipo.value_counts()"
   ]
  },
  {
   "cell_type": "markdown",
   "metadata": {},
   "source": [
    "### d_10 Poco interes al realizar actividades tipo"
   ]
  },
  {
   "cell_type": "code",
   "execution_count": 43,
   "metadata": {},
   "outputs": [
    {
     "data": {
      "text/plain": [
       "array([1, 2], dtype=int64)"
      ]
     },
     "execution_count": 43,
     "metadata": {},
     "output_type": "execute_result"
    }
   ],
   "source": [
    "consumidores.d_10_poco_interes.unique()"
   ]
  },
  {
   "cell_type": "code",
   "execution_count": 44,
   "metadata": {},
   "outputs": [],
   "source": [
    "consumidores.loc[consumidores['d_10_poco_interes']==1, 'd_10_poco_interes_tipo'] = 'd_10_Si'\n",
    "\n",
    "consumidores.loc[consumidores['d_10_poco_interes']==2, 'd_10_poco_interes_tipo'] = 'd_10_No'"
   ]
  },
  {
   "cell_type": "code",
   "execution_count": 45,
   "metadata": {},
   "outputs": [
    {
     "data": {
      "text/plain": [
       "CategoricalDtype(categories=['d_10_No', 'd_10_Si'], ordered=False)"
      ]
     },
     "execution_count": 45,
     "metadata": {},
     "output_type": "execute_result"
    }
   ],
   "source": [
    "consumidores.d_10_poco_interes_tipo = consumidores.d_10_poco_interes_tipo.astype(\"category\")\n",
    "consumidores.d_10_poco_interes_tipo.dtype"
   ]
  },
  {
   "cell_type": "code",
   "execution_count": 46,
   "metadata": {},
   "outputs": [
    {
     "data": {
      "text/plain": [
       "d_10_No    7986\n",
       "d_10_Si    2014\n",
       "Name: d_10_poco_interes_tipo, dtype: int64"
      ]
     },
     "execution_count": 46,
     "metadata": {},
     "output_type": "execute_result"
    }
   ],
   "source": [
    "del consumidores['d_10_poco_interes']\n",
    "consumidores.d_10_poco_interes_tipo.value_counts()"
   ]
  },
  {
   "cell_type": "markdown",
   "metadata": {},
   "source": [
    "### d_11_h Conocimiento del riesgo de fumar marihuana frecuentemente tipo"
   ]
  },
  {
   "cell_type": "code",
   "execution_count": 47,
   "metadata": {},
   "outputs": [
    {
     "data": {
      "text/plain": [
       "array([4, 3, 5, 2, 1], dtype=int64)"
      ]
     },
     "execution_count": 47,
     "metadata": {},
     "output_type": "execute_result"
    }
   ],
   "source": [
    "consumidores.d_11_h_conocimiento_riesgo_fumar_marihuana_frecuentemente.unique()"
   ]
  },
  {
   "cell_type": "code",
   "execution_count": 48,
   "metadata": {},
   "outputs": [],
   "source": [
    "consumidores.loc[consumidores['d_11_h_conocimiento_riesgo_fumar_marihuana_frecuentemente']==1, 'd_11_h_conocimiento_riesgo_fumar_marihuana_frecuentemente_tipo'] = 'd_11_h_Ningun_riesgo'\n",
    "\n",
    "consumidores.loc[consumidores['d_11_h_conocimiento_riesgo_fumar_marihuana_frecuentemente']==2, 'd_11_h_conocimiento_riesgo_fumar_marihuana_frecuentemente_tipo'] = 'd_11_h_Riesgo_leve'\n",
    "\n",
    "consumidores.loc[consumidores['d_11_h_conocimiento_riesgo_fumar_marihuana_frecuentemente']==3, 'd_11_h_conocimiento_riesgo_fumar_marihuana_frecuentemente_tipo'] = 'd_11_h_Riesgo_moderado'\n",
    "\n",
    "consumidores.loc[consumidores['d_11_h_conocimiento_riesgo_fumar_marihuana_frecuentemente']==4, 'd_11_h_conocimiento_riesgo_fumar_marihuana_frecuentemente_tipo'] = 'd_11_h_Gran_riesgo'\n",
    "\n",
    "consumidores.loc[consumidores['d_11_h_conocimiento_riesgo_fumar_marihuana_frecuentemente']==5, 'd_11_h_conocimiento_riesgo_fumar_marihuana_frecuentemente_tipo'] = 'd_11_h_No_conoce_riesgo'"
   ]
  },
  {
   "cell_type": "code",
   "execution_count": 49,
   "metadata": {},
   "outputs": [
    {
     "data": {
      "text/plain": [
       "CategoricalDtype(categories=['d_11_h_Gran_riesgo', 'd_11_h_Ningun_riesgo',\n",
       "                  'd_11_h_No_conoce_riesgo', 'd_11_h_Riesgo_leve',\n",
       "                  'd_11_h_Riesgo_moderado'],\n",
       ", ordered=False)"
      ]
     },
     "execution_count": 49,
     "metadata": {},
     "output_type": "execute_result"
    }
   ],
   "source": [
    "consumidores.d_11_h_conocimiento_riesgo_fumar_marihuana_frecuentemente_tipo = consumidores.d_11_h_conocimiento_riesgo_fumar_marihuana_frecuentemente_tipo.astype(\"category\")\n",
    "consumidores.d_11_h_conocimiento_riesgo_fumar_marihuana_frecuentemente_tipo.dtype"
   ]
  },
  {
   "cell_type": "code",
   "execution_count": 50,
   "metadata": {},
   "outputs": [
    {
     "data": {
      "text/plain": [
       "d_11_h_Gran_riesgo         8254\n",
       "d_11_h_Riesgo_moderado      858\n",
       "d_11_h_Riesgo_leve          360\n",
       "d_11_h_No_conoce_riesgo     354\n",
       "d_11_h_Ningun_riesgo        174\n",
       "Name: d_11_h_conocimiento_riesgo_fumar_marihuana_frecuentemente_tipo, dtype: int64"
      ]
     },
     "execution_count": 50,
     "metadata": {},
     "output_type": "execute_result"
    }
   ],
   "source": [
    "del consumidores['d_11_h_conocimiento_riesgo_fumar_marihuana_frecuentemente']\n",
    "consumidores.d_11_h_conocimiento_riesgo_fumar_marihuana_frecuentemente_tipo.value_counts()"
   ]
  },
  {
   "cell_type": "markdown",
   "metadata": {},
   "source": [
    "### d_11_k Conocimiento del riesgo de consumir cocaina frecuentemente tipo"
   ]
  },
  {
   "cell_type": "code",
   "execution_count": 51,
   "metadata": {},
   "outputs": [
    {
     "data": {
      "text/plain": [
       "array([4, 5, 3, 1, 2], dtype=int64)"
      ]
     },
     "execution_count": 51,
     "metadata": {},
     "output_type": "execute_result"
    }
   ],
   "source": [
    "consumidores.d_11_k_conocimiento_riesgo_cocaina_frecuentemente.unique()"
   ]
  },
  {
   "cell_type": "code",
   "execution_count": 52,
   "metadata": {},
   "outputs": [],
   "source": [
    "consumidores.loc[consumidores['d_11_k_conocimiento_riesgo_cocaina_frecuentemente']==1, 'd_11_k_conocimiento_riesgo_cocaina_frecuentemente_tipo'] = 'd_11_k_Ningun_riesgo'\n",
    "\n",
    "consumidores.loc[consumidores['d_11_k_conocimiento_riesgo_cocaina_frecuentemente']==2, 'd_11_k_conocimiento_riesgo_cocaina_frecuentemente_tipo'] = 'd_11_k_Riesgo_leve'\n",
    "\n",
    "consumidores.loc[consumidores['d_11_k_conocimiento_riesgo_cocaina_frecuentemente']==3, 'd_11_k_conocimiento_riesgo_cocaina_frecuentemente_tipo'] = 'd_11_k_Riesgo_moderado'\n",
    "\n",
    "consumidores.loc[consumidores['d_11_k_conocimiento_riesgo_cocaina_frecuentemente']==4, 'd_11_k_conocimiento_riesgo_cocaina_frecuentemente_tipo'] = 'd_11_k_Gran_riesgo'\n",
    "\n",
    "consumidores.loc[consumidores['d_11_k_conocimiento_riesgo_cocaina_frecuentemente']==5, 'd_11_k_conocimiento_riesgo_cocaina_frecuentemente_tipo'] = 'd_11_k_No_conoce_riesgo'"
   ]
  },
  {
   "cell_type": "code",
   "execution_count": 53,
   "metadata": {},
   "outputs": [
    {
     "data": {
      "text/plain": [
       "CategoricalDtype(categories=['d_11_k_Gran_riesgo', 'd_11_k_Ningun_riesgo',\n",
       "                  'd_11_k_No_conoce_riesgo', 'd_11_k_Riesgo_leve',\n",
       "                  'd_11_k_Riesgo_moderado'],\n",
       ", ordered=False)"
      ]
     },
     "execution_count": 53,
     "metadata": {},
     "output_type": "execute_result"
    }
   ],
   "source": [
    "consumidores.d_11_k_conocimiento_riesgo_cocaina_frecuentemente_tipo = consumidores.d_11_k_conocimiento_riesgo_cocaina_frecuentemente_tipo.astype(\"category\")\n",
    "consumidores.d_11_k_conocimiento_riesgo_cocaina_frecuentemente_tipo.dtype"
   ]
  },
  {
   "cell_type": "code",
   "execution_count": 54,
   "metadata": {},
   "outputs": [
    {
     "data": {
      "text/plain": [
       "d_11_k_Gran_riesgo         9442\n",
       "d_11_k_No_conoce_riesgo     345\n",
       "d_11_k_Riesgo_moderado      154\n",
       "d_11_k_Riesgo_leve           43\n",
       "d_11_k_Ningun_riesgo         16\n",
       "Name: d_11_k_conocimiento_riesgo_cocaina_frecuentemente_tipo, dtype: int64"
      ]
     },
     "execution_count": 54,
     "metadata": {},
     "output_type": "execute_result"
    }
   ],
   "source": [
    "del consumidores['d_11_k_conocimiento_riesgo_cocaina_frecuentemente']\n",
    "consumidores.d_11_k_conocimiento_riesgo_cocaina_frecuentemente_tipo.value_counts()"
   ]
  },
  {
   "cell_type": "markdown",
   "metadata": {},
   "source": [
    "### d_11_n Conocimiento del riesgo de fumar basuco frecuentemente tipo"
   ]
  },
  {
   "cell_type": "code",
   "execution_count": 55,
   "metadata": {},
   "outputs": [
    {
     "data": {
      "text/plain": [
       "array([4, 5, 2, 3, 1], dtype=int64)"
      ]
     },
     "execution_count": 55,
     "metadata": {},
     "output_type": "execute_result"
    }
   ],
   "source": [
    "consumidores.d_11_n_conocimiento_riesgo_fumar_basuco_frecuentemente.unique()"
   ]
  },
  {
   "cell_type": "code",
   "execution_count": 56,
   "metadata": {},
   "outputs": [],
   "source": [
    "consumidores.loc[consumidores['d_11_n_conocimiento_riesgo_fumar_basuco_frecuentemente']==1, 'd_11_n_conocimiento_riesgo_fumar_basuco_frecuentemente_tipo'] = 'd_11_n_Ningun_riesgo'\n",
    "\n",
    "consumidores.loc[consumidores['d_11_n_conocimiento_riesgo_fumar_basuco_frecuentemente']==2, 'd_11_n_conocimiento_riesgo_fumar_basuco_frecuentemente_tipo'] = 'd_11_n_Riesgo_leve'\n",
    "\n",
    "consumidores.loc[consumidores['d_11_n_conocimiento_riesgo_fumar_basuco_frecuentemente']==3, 'd_11_n_conocimiento_riesgo_fumar_basuco_frecuentemente_tipo'] = 'd_11_n_Riesgo_moderado'\n",
    "\n",
    "consumidores.loc[consumidores['d_11_n_conocimiento_riesgo_fumar_basuco_frecuentemente']==4, 'd_11_n_conocimiento_riesgo_fumar_basuco_frecuentemente_tipo'] = 'd_11_n_Gran_riesgo'\n",
    "\n",
    "consumidores.loc[consumidores['d_11_n_conocimiento_riesgo_fumar_basuco_frecuentemente']==5, 'd_11_n_conocimiento_riesgo_fumar_basuco_frecuentemente_tipo'] = 'd_11_n_No_conoce_riesgo'"
   ]
  },
  {
   "cell_type": "code",
   "execution_count": 57,
   "metadata": {},
   "outputs": [
    {
     "data": {
      "text/plain": [
       "CategoricalDtype(categories=['d_11_n_Gran_riesgo', 'd_11_n_Ningun_riesgo',\n",
       "                  'd_11_n_No_conoce_riesgo', 'd_11_n_Riesgo_leve',\n",
       "                  'd_11_n_Riesgo_moderado'],\n",
       ", ordered=False)"
      ]
     },
     "execution_count": 57,
     "metadata": {},
     "output_type": "execute_result"
    }
   ],
   "source": [
    "consumidores.d_11_n_conocimiento_riesgo_fumar_basuco_frecuentemente_tipo = consumidores.d_11_n_conocimiento_riesgo_fumar_basuco_frecuentemente_tipo.astype(\"category\")\n",
    "consumidores.d_11_n_conocimiento_riesgo_fumar_basuco_frecuentemente_tipo.dtype"
   ]
  },
  {
   "cell_type": "code",
   "execution_count": 58,
   "metadata": {},
   "outputs": [
    {
     "data": {
      "text/plain": [
       "d_11_n_Gran_riesgo         9466\n",
       "d_11_n_No_conoce_riesgo     393\n",
       "d_11_n_Riesgo_moderado      100\n",
       "d_11_n_Riesgo_leve           23\n",
       "d_11_n_Ningun_riesgo         18\n",
       "Name: d_11_n_conocimiento_riesgo_fumar_basuco_frecuentemente_tipo, dtype: int64"
      ]
     },
     "execution_count": 58,
     "metadata": {},
     "output_type": "execute_result"
    }
   ],
   "source": [
    "del consumidores['d_11_n_conocimiento_riesgo_fumar_basuco_frecuentemente']\n",
    "consumidores.d_11_n_conocimiento_riesgo_fumar_basuco_frecuentemente_tipo.value_counts()"
   ]
  },
  {
   "cell_type": "markdown",
   "metadata": {},
   "source": [
    "### d_12_b El barrio presenta problema de consumo de sp tipo"
   ]
  },
  {
   "cell_type": "code",
   "execution_count": 59,
   "metadata": {},
   "outputs": [
    {
     "data": {
      "text/plain": [
       "array([2, 1], dtype=int64)"
      ]
     },
     "execution_count": 59,
     "metadata": {},
     "output_type": "execute_result"
    }
   ],
   "source": [
    "consumidores.d_12_b_presenta_problema_consumo_sp_barrio.unique()"
   ]
  },
  {
   "cell_type": "code",
   "execution_count": 60,
   "metadata": {},
   "outputs": [],
   "source": [
    "consumidores.loc[consumidores['d_12_b_presenta_problema_consumo_sp_barrio']==1, 'd_12_b_presenta_problema_consumo_sp_barrio_tipo'] = 'd_12_b_Si'\n",
    "\n",
    "consumidores.loc[consumidores['d_12_b_presenta_problema_consumo_sp_barrio']==2, 'd_12_b_presenta_problema_consumo_sp_barrio_tipo'] = 'd_12_b_No'"
   ]
  },
  {
   "cell_type": "code",
   "execution_count": 61,
   "metadata": {},
   "outputs": [
    {
     "data": {
      "text/plain": [
       "CategoricalDtype(categories=['d_12_b_No', 'd_12_b_Si'], ordered=False)"
      ]
     },
     "execution_count": 61,
     "metadata": {},
     "output_type": "execute_result"
    }
   ],
   "source": [
    "consumidores.d_12_b_presenta_problema_consumo_sp_barrio_tipo = consumidores.d_12_b_presenta_problema_consumo_sp_barrio_tipo.astype(\"category\")\n",
    "consumidores.d_12_b_presenta_problema_consumo_sp_barrio_tipo.dtype"
   ]
  },
  {
   "cell_type": "code",
   "execution_count": 62,
   "metadata": {},
   "outputs": [
    {
     "data": {
      "text/plain": [
       "d_12_b_Si    6764\n",
       "d_12_b_No    3236\n",
       "Name: d_12_b_presenta_problema_consumo_sp_barrio_tipo, dtype: int64"
      ]
     },
     "execution_count": 62,
     "metadata": {},
     "output_type": "execute_result"
    }
   ],
   "source": [
    "del consumidores['d_12_b_presenta_problema_consumo_sp_barrio']\n",
    "consumidores.d_12_b_presenta_problema_consumo_sp_barrio_tipo.value_counts()"
   ]
  },
  {
   "cell_type": "markdown",
   "metadata": {},
   "source": [
    "### d_12_c El barrio presenta problema de expendido de sp tipo"
   ]
  },
  {
   "cell_type": "code",
   "execution_count": 63,
   "metadata": {},
   "outputs": [
    {
     "data": {
      "text/plain": [
       "array([2, 1], dtype=int64)"
      ]
     },
     "execution_count": 63,
     "metadata": {},
     "output_type": "execute_result"
    }
   ],
   "source": [
    "consumidores.d_12_c_presenta_problema_expendio_sp_barrio.unique()"
   ]
  },
  {
   "cell_type": "code",
   "execution_count": 64,
   "metadata": {},
   "outputs": [],
   "source": [
    "consumidores.loc[consumidores['d_12_c_presenta_problema_expendio_sp_barrio']==1, 'd_12_c_presenta_problema_expendio_sp_barrio_tipo'] = 'd_12_c_Si'\n",
    "\n",
    "consumidores.loc[consumidores['d_12_c_presenta_problema_expendio_sp_barrio']==2, 'd_12_c_presenta_problema_expendio_sp_barrio_tipo'] = 'd_12_c_No'"
   ]
  },
  {
   "cell_type": "code",
   "execution_count": 65,
   "metadata": {},
   "outputs": [
    {
     "data": {
      "text/plain": [
       "CategoricalDtype(categories=['d_12_c_No', 'd_12_c_Si'], ordered=False)"
      ]
     },
     "execution_count": 65,
     "metadata": {},
     "output_type": "execute_result"
    }
   ],
   "source": [
    "consumidores.d_12_c_presenta_problema_expendio_sp_barrio_tipo = consumidores.d_12_c_presenta_problema_expendio_sp_barrio_tipo.astype(\"category\")\n",
    "consumidores.d_12_c_presenta_problema_expendio_sp_barrio_tipo.dtype"
   ]
  },
  {
   "cell_type": "code",
   "execution_count": 66,
   "metadata": {},
   "outputs": [
    {
     "data": {
      "text/plain": [
       "d_12_c_No    6044\n",
       "d_12_c_Si    3956\n",
       "Name: d_12_c_presenta_problema_expendio_sp_barrio_tipo, dtype: int64"
      ]
     },
     "execution_count": 66,
     "metadata": {},
     "output_type": "execute_result"
    }
   ],
   "source": [
    "del consumidores['d_12_c_presenta_problema_expendio_sp_barrio']\n",
    "consumidores.d_12_c_presenta_problema_expendio_sp_barrio_tipo.value_counts()"
   ]
  },
  {
   "cell_type": "markdown",
   "metadata": {},
   "source": [
    "### d2_01 Etnia"
   ]
  },
  {
   "cell_type": "code",
   "execution_count": 67,
   "metadata": {},
   "outputs": [
    {
     "data": {
      "text/plain": [
       "array([9, 5, 1, 3, 2, 4], dtype=int64)"
      ]
     },
     "execution_count": 67,
     "metadata": {},
     "output_type": "execute_result"
    }
   ],
   "source": [
    "consumidores.d2_01_etnia.unique()"
   ]
  },
  {
   "cell_type": "code",
   "execution_count": 68,
   "metadata": {},
   "outputs": [],
   "source": [
    "consumidores.loc[consumidores['d2_01_etnia']==1, 'd2_01_etnia_tipo'] = 'd2_01_Indigena'\n",
    "\n",
    "consumidores.loc[consumidores['d2_01_etnia']==2, 'd2_01_etnia_tipo'] = 'd2_01_Gitano/ROM'\n",
    "\n",
    "consumidores.loc[consumidores['d2_01_etnia']==3, 'd2_01_etnia_tipo'] = 'd2_01_Razial_archipielago_San_Andres_Providencia'\n",
    "\n",
    "consumidores.loc[consumidores['d2_01_etnia']==4, 'd2_01_etnia_tipo'] = 'd2_01_Palanquero_San_Basilio'\n",
    "\n",
    "consumidores.loc[consumidores['d2_01_etnia']==5, 'd2_01_etnia_tipo'] = 'd2_01_Negro_Mulato_Afrodescendinte_Afrocolombiano'\n",
    "\n",
    "consumidores.loc[consumidores['d2_01_etnia']==9, 'd2_01_etnia_tipo'] = 'd2_01_Ninguno'"
   ]
  },
  {
   "cell_type": "code",
   "execution_count": 69,
   "metadata": {},
   "outputs": [
    {
     "data": {
      "text/plain": [
       "CategoricalDtype(categories=['d2_01_Gitano/ROM', 'd2_01_Indigena',\n",
       "                  'd2_01_Negro_Mulato_Afrodescendinte_Afrocolombiano',\n",
       "                  'd2_01_Ninguno', 'd2_01_Palanquero_San_Basilio',\n",
       "                  'd2_01_Razial_archipielago_San_Andres_Providencia'],\n",
       ", ordered=False)"
      ]
     },
     "execution_count": 69,
     "metadata": {},
     "output_type": "execute_result"
    }
   ],
   "source": [
    "consumidores.d2_01_etnia_tipo = consumidores.d2_01_etnia_tipo.astype(\"category\")\n",
    "consumidores.d2_01_etnia_tipo.dtype"
   ]
  },
  {
   "cell_type": "code",
   "execution_count": 70,
   "metadata": {},
   "outputs": [
    {
     "data": {
      "text/plain": [
       "d2_01_Ninguno                                        8245\n",
       "d2_01_Negro_Mulato_Afrodescendinte_Afrocolombiano    1140\n",
       "d2_01_Indigena                                        576\n",
       "d2_01_Razial_archipielago_San_Andres_Providencia       22\n",
       "d2_01_Gitano/ROM                                       10\n",
       "d2_01_Palanquero_San_Basilio                            7\n",
       "Name: d2_01_etnia_tipo, dtype: int64"
      ]
     },
     "execution_count": 70,
     "metadata": {},
     "output_type": "execute_result"
    }
   ],
   "source": [
    "del consumidores['d2_01_etnia']\n",
    "consumidores.d2_01_etnia_tipo.value_counts()"
   ]
  },
  {
   "cell_type": "markdown",
   "metadata": {},
   "source": [
    "### d2_03 Estado civil"
   ]
  },
  {
   "cell_type": "code",
   "execution_count": 71,
   "metadata": {},
   "outputs": [
    {
     "data": {
      "text/plain": [
       "array([6, 3, 2, 5, 1, 4], dtype=int64)"
      ]
     },
     "execution_count": 71,
     "metadata": {},
     "output_type": "execute_result"
    }
   ],
   "source": [
    "consumidores.d2_03_estado_civil.unique()"
   ]
  },
  {
   "cell_type": "code",
   "execution_count": 72,
   "metadata": {},
   "outputs": [],
   "source": [
    "estado = [1,2]\n",
    "\n",
    "consumidores.loc[consumidores['d2_03_estado_civil'].isin(estado), 'd2_03_estado_civil_tipo'] = 'd2_03_Union_libre'\n",
    "\n",
    "consumidores.loc[consumidores['d2_03_estado_civil']==3, 'd2_03_estado_civil_tipo'] = 'd2_03_Casado'\n",
    "\n",
    "consumidores.loc[consumidores['d2_03_estado_civil']==4, 'd2_03_estado_civil_tipo'] = 'd2_03_Viudo'\n",
    "\n",
    "consumidores.loc[consumidores['d2_03_estado_civil']==5, 'd2_03_estado_civil_tipo'] = 'd2_03_Separado_Divorciado'\n",
    "\n",
    "consumidores.loc[consumidores['d2_03_estado_civil']==6, 'd2_03_estado_civil_tipo'] = 'd2_03_Soltero'"
   ]
  },
  {
   "cell_type": "code",
   "execution_count": 73,
   "metadata": {},
   "outputs": [
    {
     "data": {
      "text/plain": [
       "CategoricalDtype(categories=['d2_03_Casado', 'd2_03_Separado_Divorciado', 'd2_03_Soltero',\n",
       "                  'd2_03_Union_libre', 'd2_03_Viudo'],\n",
       ", ordered=False)"
      ]
     },
     "execution_count": 73,
     "metadata": {},
     "output_type": "execute_result"
    }
   ],
   "source": [
    "consumidores.d2_03_estado_civil_tipo = consumidores.d2_03_estado_civil_tipo.astype(\"category\")\n",
    "consumidores.d2_03_estado_civil_tipo.dtype"
   ]
  },
  {
   "cell_type": "code",
   "execution_count": 74,
   "metadata": {},
   "outputs": [
    {
     "data": {
      "text/plain": [
       "d2_03_Soltero                4167\n",
       "d2_03_Union_libre            2675\n",
       "d2_03_Casado                 1632\n",
       "d2_03_Separado_Divorciado    1292\n",
       "d2_03_Viudo                   234\n",
       "Name: d2_03_estado_civil_tipo, dtype: int64"
      ]
     },
     "execution_count": 74,
     "metadata": {},
     "output_type": "execute_result"
    }
   ],
   "source": [
    "del consumidores['d2_03_estado_civil']\n",
    "consumidores.d2_03_estado_civil_tipo.value_counts()"
   ]
  },
  {
   "cell_type": "markdown",
   "metadata": {},
   "source": [
    "### d2_04 Numero de hijos(Pendiente)"
   ]
  },
  {
   "cell_type": "code",
   "execution_count": 75,
   "metadata": {},
   "outputs": [
    {
     "data": {
      "text/plain": [
       "array([ 0,  3,  2,  1,  4,  5,  9,  6,  8,  7, 12, 10, 11], dtype=int64)"
      ]
     },
     "execution_count": 75,
     "metadata": {},
     "output_type": "execute_result"
    }
   ],
   "source": [
    "consumidores.d2_04_num_hijos.unique()"
   ]
  },
  {
   "cell_type": "markdown",
   "metadata": {},
   "source": [
    "### d2_05 Nivel educativo"
   ]
  },
  {
   "cell_type": "code",
   "execution_count": 76,
   "metadata": {},
   "outputs": [
    {
     "data": {
      "text/plain": [
       "array([5, 6, 4, 7, 1, 3, 8, 2], dtype=int64)"
      ]
     },
     "execution_count": 76,
     "metadata": {},
     "output_type": "execute_result"
    }
   ],
   "source": [
    "consumidores.d2_05_nivel_educativo.unique()"
   ]
  },
  {
   "cell_type": "code",
   "execution_count": 77,
   "metadata": {},
   "outputs": [],
   "source": [
    "consumidores.loc[consumidores['d2_05_nivel_educativo']==1, 'd2_05_nivel_educativo_tipo'] = 'd2_05_Ninguno'\n",
    "\n",
    "consumidores.loc[consumidores['d2_05_nivel_educativo']==2, 'd2_05_nivel_educativo_tipo'] = 'd2_05_Preescolar'\n",
    "\n",
    "consumidores.loc[consumidores['d2_05_nivel_educativo']==3, 'd2_05_nivel_educativo_tipo'] = 'd2_05_Basica_primaria'\n",
    "\n",
    "consumidores.loc[consumidores['d2_05_nivel_educativo']==4, 'd2_05_nivel_educativo_tipo'] = 'd2_05_Basica_secundaria'\n",
    "\n",
    "consumidores.loc[consumidores['d2_05_nivel_educativo']==5, 'd2_05_nivel_educativo_tipo'] = 'd2_05_Media'\n",
    "\n",
    "consumidores.loc[consumidores['d2_05_nivel_educativo']==6, 'd2_05_nivel_educativo_tipo'] = 'd2_05_Tecnico/Tecnologo'\n",
    "\n",
    "consumidores.loc[consumidores['d2_05_nivel_educativo']==7, 'd2_05_nivel_educativo_tipo'] = 'd2_05_Universitario'\n",
    "\n",
    "consumidores.loc[consumidores['d2_05_nivel_educativo']==8, 'd2_05_nivel_educativo_tipo'] = 'd2_05_Postgrado'"
   ]
  },
  {
   "cell_type": "code",
   "execution_count": 78,
   "metadata": {},
   "outputs": [
    {
     "data": {
      "text/plain": [
       "CategoricalDtype(categories=['d2_05_Basica_primaria', 'd2_05_Basica_secundaria',\n",
       "                  'd2_05_Media', 'd2_05_Ninguno', 'd2_05_Postgrado',\n",
       "                  'd2_05_Preescolar', 'd2_05_Tecnico/Tecnologo',\n",
       "                  'd2_05_Universitario'],\n",
       ", ordered=False)"
      ]
     },
     "execution_count": 78,
     "metadata": {},
     "output_type": "execute_result"
    }
   ],
   "source": [
    "consumidores.d2_05_nivel_educativo_tipo = consumidores.d2_05_nivel_educativo_tipo.astype(\"category\")\n",
    "consumidores.d2_05_nivel_educativo_tipo.dtype"
   ]
  },
  {
   "cell_type": "code",
   "execution_count": 79,
   "metadata": {},
   "outputs": [
    {
     "data": {
      "text/plain": [
       "d2_05_Media                3010\n",
       "d2_05_Tecnico/Tecnologo    1804\n",
       "d2_05_Universitario        1789\n",
       "d2_05_Basica_secundaria    1560\n",
       "d2_05_Basica_primaria      1319\n",
       "d2_05_Postgrado             402\n",
       "d2_05_Ninguno               102\n",
       "d2_05_Preescolar             14\n",
       "Name: d2_05_nivel_educativo_tipo, dtype: int64"
      ]
     },
     "execution_count": 79,
     "metadata": {},
     "output_type": "execute_result"
    }
   ],
   "source": [
    "del consumidores['d2_05_nivel_educativo']\n",
    "consumidores.d2_05_nivel_educativo_tipo.value_counts()"
   ]
  },
  {
   "cell_type": "markdown",
   "metadata": {},
   "source": [
    "### g_01 Tiene familiares que consumen sp tipo"
   ]
  },
  {
   "cell_type": "code",
   "execution_count": 80,
   "metadata": {},
   "outputs": [
    {
     "data": {
      "text/plain": [
       "array([2, 1], dtype=int64)"
      ]
     },
     "execution_count": 80,
     "metadata": {},
     "output_type": "execute_result"
    }
   ],
   "source": [
    "consumidores.g_01_familiares_consumen_sp.unique()"
   ]
  },
  {
   "cell_type": "code",
   "execution_count": 81,
   "metadata": {},
   "outputs": [],
   "source": [
    "consumidores.loc[consumidores['g_01_familiares_consumen_sp']==1, 'g_01_familiares_consumen_sp_tipo'] = 'g_01_Si'\n",
    "\n",
    "consumidores.loc[consumidores['g_01_familiares_consumen_sp']==2, 'g_01_familiares_consumen_sp_tipo'] = 'g_01_No'"
   ]
  },
  {
   "cell_type": "code",
   "execution_count": 82,
   "metadata": {},
   "outputs": [
    {
     "data": {
      "text/plain": [
       "CategoricalDtype(categories=['g_01_No', 'g_01_Si'], ordered=False)"
      ]
     },
     "execution_count": 82,
     "metadata": {},
     "output_type": "execute_result"
    }
   ],
   "source": [
    "consumidores.g_01_familiares_consumen_sp_tipo = consumidores.g_01_familiares_consumen_sp_tipo.astype(\"category\")\n",
    "consumidores.g_01_familiares_consumen_sp_tipo.dtype"
   ]
  },
  {
   "cell_type": "code",
   "execution_count": 83,
   "metadata": {},
   "outputs": [
    {
     "data": {
      "text/plain": [
       "g_01_No    7253\n",
       "g_01_Si    2747\n",
       "Name: g_01_familiares_consumen_sp_tipo, dtype: int64"
      ]
     },
     "execution_count": 83,
     "metadata": {},
     "output_type": "execute_result"
    }
   ],
   "source": [
    "del consumidores['g_01_familiares_consumen_sp']\n",
    "consumidores.g_01_familiares_consumen_sp_tipo.value_counts()"
   ]
  },
  {
   "cell_type": "markdown",
   "metadata": {},
   "source": [
    "### g_02 Tiene amigos que consumen sp tipo"
   ]
  },
  {
   "cell_type": "code",
   "execution_count": 84,
   "metadata": {},
   "outputs": [
    {
     "data": {
      "text/plain": [
       "array([1, 2], dtype=int64)"
      ]
     },
     "execution_count": 84,
     "metadata": {},
     "output_type": "execute_result"
    }
   ],
   "source": [
    "consumidores.g_02_amigos_consumen_sp.unique()"
   ]
  },
  {
   "cell_type": "code",
   "execution_count": 85,
   "metadata": {},
   "outputs": [],
   "source": [
    "consumidores.loc[consumidores['g_02_amigos_consumen_sp']==1, 'g_02_amigos_consumen_sp_tipo'] = 'g_02_Si'\n",
    "\n",
    "consumidores.loc[consumidores['g_02_amigos_consumen_sp']==2, 'g_02_amigos_consumen_sp_tipo'] = 'g_02_No'"
   ]
  },
  {
   "cell_type": "code",
   "execution_count": 86,
   "metadata": {},
   "outputs": [
    {
     "data": {
      "text/plain": [
       "CategoricalDtype(categories=['g_02_No', 'g_02_Si'], ordered=False)"
      ]
     },
     "execution_count": 86,
     "metadata": {},
     "output_type": "execute_result"
    }
   ],
   "source": [
    "consumidores.g_02_amigos_consumen_sp_tipo = consumidores.g_02_amigos_consumen_sp_tipo.astype(\"category\")\n",
    "consumidores.g_02_amigos_consumen_sp_tipo.dtype"
   ]
  },
  {
   "cell_type": "code",
   "execution_count": 87,
   "metadata": {},
   "outputs": [
    {
     "data": {
      "text/plain": [
       "g_02_No    5718\n",
       "g_02_Si    4282\n",
       "Name: g_02_amigos_consumen_sp_tipo, dtype: int64"
      ]
     },
     "execution_count": 87,
     "metadata": {},
     "output_type": "execute_result"
    }
   ],
   "source": [
    "del consumidores['g_02_amigos_consumen_sp']\n",
    "consumidores.g_02_amigos_consumen_sp_tipo.value_counts()"
   ]
  },
  {
   "cell_type": "markdown",
   "metadata": {},
   "source": [
    "### g_03 Ha sentido curiosidad por probar sp tipo"
   ]
  },
  {
   "cell_type": "code",
   "execution_count": 88,
   "metadata": {},
   "outputs": [
    {
     "data": {
      "text/plain": [
       "array([2, 1], dtype=int64)"
      ]
     },
     "execution_count": 88,
     "metadata": {},
     "output_type": "execute_result"
    }
   ],
   "source": [
    "consumidores.g_03_curiosidad_probar_sp.unique()"
   ]
  },
  {
   "cell_type": "code",
   "execution_count": 89,
   "metadata": {},
   "outputs": [],
   "source": [
    "consumidores.loc[consumidores['g_03_curiosidad_probar_sp']==1, 'g_03_curiosidad_probar_sp_tipo'] = 'g_03_Si'\n",
    "\n",
    "consumidores.loc[consumidores['g_03_curiosidad_probar_sp']==2, 'g_03_curiosidad_probar_sp_tipo'] = 'g_03_No'"
   ]
  },
  {
   "cell_type": "code",
   "execution_count": 90,
   "metadata": {},
   "outputs": [
    {
     "data": {
      "text/plain": [
       "CategoricalDtype(categories=['g_03_No', 'g_03_Si'], ordered=False)"
      ]
     },
     "execution_count": 90,
     "metadata": {},
     "output_type": "execute_result"
    }
   ],
   "source": [
    "consumidores.g_03_curiosidad_probar_sp_tipo = consumidores.g_03_curiosidad_probar_sp_tipo.astype(\"category\")\n",
    "consumidores.g_03_curiosidad_probar_sp_tipo.dtype"
   ]
  },
  {
   "cell_type": "code",
   "execution_count": 91,
   "metadata": {},
   "outputs": [
    {
     "data": {
      "text/plain": [
       "g_03_No    5774\n",
       "g_03_Si    4226\n",
       "Name: g_03_curiosidad_probar_sp_tipo, dtype: int64"
      ]
     },
     "execution_count": 91,
     "metadata": {},
     "output_type": "execute_result"
    }
   ],
   "source": [
    "del consumidores['g_03_curiosidad_probar_sp']\n",
    "consumidores.g_03_curiosidad_probar_sp_tipo.value_counts()"
   ]
  },
  {
   "cell_type": "markdown",
   "metadata": {},
   "source": [
    "### g_04 Probaria sp tipo"
   ]
  },
  {
   "cell_type": "code",
   "execution_count": 92,
   "metadata": {},
   "outputs": [
    {
     "data": {
      "text/plain": [
       "array([2, 1], dtype=int64)"
      ]
     },
     "execution_count": 92,
     "metadata": {},
     "output_type": "execute_result"
    }
   ],
   "source": [
    "consumidores.g_04_probaria_sp.unique()"
   ]
  },
  {
   "cell_type": "code",
   "execution_count": 93,
   "metadata": {},
   "outputs": [],
   "source": [
    "consumidores.loc[consumidores['g_04_probaria_sp']==1, 'g_04_probaria_sp_tipo'] = 'g_04_Si'\n",
    "\n",
    "consumidores.loc[consumidores['g_04_probaria_sp']==2, 'g_04_probaria_sp_tipo'] = 'g_04_No'"
   ]
  },
  {
   "cell_type": "code",
   "execution_count": 94,
   "metadata": {},
   "outputs": [
    {
     "data": {
      "text/plain": [
       "CategoricalDtype(categories=['g_04_No', 'g_04_Si'], ordered=False)"
      ]
     },
     "execution_count": 94,
     "metadata": {},
     "output_type": "execute_result"
    }
   ],
   "source": [
    "consumidores.g_04_probaria_sp_tipo = consumidores.g_04_probaria_sp_tipo.astype(\"category\")\n",
    "consumidores.g_04_probaria_sp_tipo.dtype"
   ]
  },
  {
   "cell_type": "code",
   "execution_count": 95,
   "metadata": {},
   "outputs": [
    {
     "data": {
      "text/plain": [
       "g_04_No    8090\n",
       "g_04_Si    1910\n",
       "Name: g_04_probaria_sp_tipo, dtype: int64"
      ]
     },
     "execution_count": 95,
     "metadata": {},
     "output_type": "execute_result"
    }
   ],
   "source": [
    "del consumidores['g_04_probaria_sp']\n",
    "consumidores.g_04_probaria_sp_tipo.value_counts()"
   ]
  },
  {
   "cell_type": "markdown",
   "metadata": {},
   "source": [
    "### g_05 Posibilidad de probar sp tipo"
   ]
  },
  {
   "cell_type": "code",
   "execution_count": 96,
   "metadata": {},
   "outputs": [
    {
     "data": {
      "text/plain": [
       "array([2, 1], dtype=int64)"
      ]
     },
     "execution_count": 96,
     "metadata": {},
     "output_type": "execute_result"
    }
   ],
   "source": [
    "consumidores.g_05_posibilidad_probar_sp.unique()"
   ]
  },
  {
   "cell_type": "code",
   "execution_count": 97,
   "metadata": {},
   "outputs": [],
   "source": [
    "consumidores.loc[consumidores['g_05_posibilidad_probar_sp']==1, 'g_05_posibilidad_probar_sp_tipo'] = 'g_05_Si'\n",
    "\n",
    "consumidores.loc[consumidores['g_05_posibilidad_probar_sp']==2, 'g_05_posibilidad_probar_sp_tipo'] = 'g_05_No'"
   ]
  },
  {
   "cell_type": "code",
   "execution_count": 98,
   "metadata": {},
   "outputs": [
    {
     "data": {
      "text/plain": [
       "CategoricalDtype(categories=['g_05_No', 'g_05_Si'], ordered=False)"
      ]
     },
     "execution_count": 98,
     "metadata": {},
     "output_type": "execute_result"
    }
   ],
   "source": [
    "consumidores.g_05_posibilidad_probar_sp_tipo = consumidores.g_05_posibilidad_probar_sp_tipo.astype(\"category\")\n",
    "consumidores.g_05_posibilidad_probar_sp_tipo.dtype"
   ]
  },
  {
   "cell_type": "code",
   "execution_count": 99,
   "metadata": {},
   "outputs": [
    {
     "data": {
      "text/plain": [
       "g_05_No    5147\n",
       "g_05_Si    4853\n",
       "Name: g_05_posibilidad_probar_sp_tipo, dtype: int64"
      ]
     },
     "execution_count": 99,
     "metadata": {},
     "output_type": "execute_result"
    }
   ],
   "source": [
    "del consumidores['g_05_posibilidad_probar_sp']\n",
    "consumidores.g_05_posibilidad_probar_sp_tipo.value_counts()"
   ]
  },
  {
   "cell_type": "markdown",
   "metadata": {},
   "source": [
    "### g_06_a Facilidad de conseguir marihuana tipo"
   ]
  },
  {
   "cell_type": "code",
   "execution_count": 100,
   "metadata": {},
   "outputs": [
    {
     "data": {
      "text/plain": [
       "array([9, 1, 3, 2], dtype=int64)"
      ]
     },
     "execution_count": 100,
     "metadata": {},
     "output_type": "execute_result"
    }
   ],
   "source": [
    "consumidores.g_06_a_posibilidad_conseguir_marihuana.unique()"
   ]
  },
  {
   "cell_type": "code",
   "execution_count": 101,
   "metadata": {},
   "outputs": [],
   "source": [
    "consumidores.loc[consumidores['g_06_a_posibilidad_conseguir_marihuana']==1, 'g_06_a_posibilidad_conseguir_marihuana_tipo'] = 'g_06_a_Seria_facil'\n",
    "\n",
    "consumidores.loc[consumidores['g_06_a_posibilidad_conseguir_marihuana']==2, 'g_06_a_posibilidad_conseguir_marihuana_tipo'] = 'g_06_a_Seria_dificil'\n",
    "\n",
    "consumidores.loc[consumidores['g_06_a_posibilidad_conseguir_marihuana']==3, 'g_06_a_posibilidad_conseguir_marihuana_tipo'] = 'g_06_a_No_podria_conseguir'\n",
    "\n",
    "consumidores.loc[consumidores['g_06_a_posibilidad_conseguir_marihuana']==9, 'g_06_a_posibilidad_conseguir_marihuana_tipo'] = 'g_06_a_No_conoce_facilidad_dificultad'"
   ]
  },
  {
   "cell_type": "code",
   "execution_count": 102,
   "metadata": {},
   "outputs": [
    {
     "data": {
      "text/plain": [
       "CategoricalDtype(categories=['g_06_a_No_conoce_facilidad_dificultad',\n",
       "                  'g_06_a_No_podria_conseguir', 'g_06_a_Seria_dificil',\n",
       "                  'g_06_a_Seria_facil'],\n",
       ", ordered=False)"
      ]
     },
     "execution_count": 102,
     "metadata": {},
     "output_type": "execute_result"
    }
   ],
   "source": [
    "consumidores.g_06_a_posibilidad_conseguir_marihuana_tipo = consumidores.g_06_a_posibilidad_conseguir_marihuana_tipo.astype(\"category\")\n",
    "consumidores.g_06_a_posibilidad_conseguir_marihuana_tipo.dtype"
   ]
  },
  {
   "cell_type": "code",
   "execution_count": 103,
   "metadata": {},
   "outputs": [
    {
     "data": {
      "text/plain": [
       "g_06_a_Seria_facil                       6100\n",
       "g_06_a_No_conoce_facilidad_dificultad    2390\n",
       "g_06_a_Seria_dificil                     1039\n",
       "g_06_a_No_podria_conseguir                471\n",
       "Name: g_06_a_posibilidad_conseguir_marihuana_tipo, dtype: int64"
      ]
     },
     "execution_count": 103,
     "metadata": {},
     "output_type": "execute_result"
    }
   ],
   "source": [
    "del consumidores['g_06_a_posibilidad_conseguir_marihuana']\n",
    "consumidores.g_06_a_posibilidad_conseguir_marihuana_tipo.value_counts()"
   ]
  },
  {
   "cell_type": "markdown",
   "metadata": {},
   "source": [
    "### g_06_b Facilidad de conseguir cocaina tipo"
   ]
  },
  {
   "cell_type": "code",
   "execution_count": 104,
   "metadata": {},
   "outputs": [
    {
     "data": {
      "text/plain": [
       "array([9, 1, 3, 2], dtype=int64)"
      ]
     },
     "execution_count": 104,
     "metadata": {},
     "output_type": "execute_result"
    }
   ],
   "source": [
    "consumidores.g_06_b_posibilidad_conseguir_cocaina.unique()"
   ]
  },
  {
   "cell_type": "code",
   "execution_count": 105,
   "metadata": {},
   "outputs": [],
   "source": [
    "consumidores.loc[consumidores['g_06_b_posibilidad_conseguir_cocaina']==1, 'g_06_b_posibilidad_conseguir_cocaina_tipo'] = 'g_06_b_Seria_facil'\n",
    "\n",
    "consumidores.loc[consumidores['g_06_b_posibilidad_conseguir_cocaina']==2, 'g_06_b_posibilidad_conseguir_cocaina_tipo'] = 'g_06_b_Seria_dificil'\n",
    "\n",
    "consumidores.loc[consumidores['g_06_b_posibilidad_conseguir_cocaina']==3, 'g_06_b_posibilidad_conseguir_cocaina_tipo'] = 'g_06_b_No_podria_conseguir'\n",
    "\n",
    "consumidores.loc[consumidores['g_06_b_posibilidad_conseguir_cocaina']==9, 'g_06_b_posibilidad_conseguir_cocaina_tipo'] = 'g_06_b_No_conoce_facilidad_dificultad'"
   ]
  },
  {
   "cell_type": "code",
   "execution_count": 106,
   "metadata": {},
   "outputs": [
    {
     "data": {
      "text/plain": [
       "CategoricalDtype(categories=['g_06_b_No_conoce_facilidad_dificultad',\n",
       "                  'g_06_b_No_podria_conseguir', 'g_06_b_Seria_dificil',\n",
       "                  'g_06_b_Seria_facil'],\n",
       ", ordered=False)"
      ]
     },
     "execution_count": 106,
     "metadata": {},
     "output_type": "execute_result"
    }
   ],
   "source": [
    "consumidores.g_06_b_posibilidad_conseguir_cocaina_tipo = consumidores.g_06_b_posibilidad_conseguir_cocaina_tipo.astype(\"category\")\n",
    "consumidores.g_06_b_posibilidad_conseguir_cocaina_tipo.dtype"
   ]
  },
  {
   "cell_type": "code",
   "execution_count": 107,
   "metadata": {},
   "outputs": [
    {
     "data": {
      "text/plain": [
       "g_06_b_Seria_facil                       3628\n",
       "g_06_b_No_conoce_facilidad_dificultad    3594\n",
       "g_06_b_Seria_dificil                     1921\n",
       "g_06_b_No_podria_conseguir                857\n",
       "Name: g_06_b_posibilidad_conseguir_cocaina_tipo, dtype: int64"
      ]
     },
     "execution_count": 107,
     "metadata": {},
     "output_type": "execute_result"
    }
   ],
   "source": [
    "del consumidores['g_06_b_posibilidad_conseguir_cocaina']\n",
    "consumidores.g_06_b_posibilidad_conseguir_cocaina_tipo.value_counts()"
   ]
  },
  {
   "cell_type": "markdown",
   "metadata": {},
   "source": [
    "### g_06_c Facilidad de conseguir basuco tipo"
   ]
  },
  {
   "cell_type": "code",
   "execution_count": 108,
   "metadata": {},
   "outputs": [
    {
     "data": {
      "text/plain": [
       "array([9, 1, 3, 2], dtype=int64)"
      ]
     },
     "execution_count": 108,
     "metadata": {},
     "output_type": "execute_result"
    }
   ],
   "source": [
    "consumidores.g_06_c_posibilidad_conseguir_basuco.unique()"
   ]
  },
  {
   "cell_type": "code",
   "execution_count": 109,
   "metadata": {},
   "outputs": [],
   "source": [
    "consumidores.loc[consumidores['g_06_c_posibilidad_conseguir_basuco']==1, 'g_06_c_posibilidad_conseguir_basuco_tipo'] = 'g_06_c_Seria_facil'\n",
    "\n",
    "consumidores.loc[consumidores['g_06_c_posibilidad_conseguir_basuco']==2, 'g_06_c_posibilidad_conseguir_basuco_tipo'] = 'g_06_c_Seria_dificil'\n",
    "\n",
    "consumidores.loc[consumidores['g_06_c_posibilidad_conseguir_basuco']==3, 'g_06_c_posibilidad_conseguir_basuco_tipo'] = 'g_06_c_No_podria_conseguir'\n",
    "\n",
    "consumidores.loc[consumidores['g_06_c_posibilidad_conseguir_basuco']==9, 'g_06_c_posibilidad_conseguir_basuco_tipo'] = 'g_06_c_No_conoce_facilidad_dificultad'"
   ]
  },
  {
   "cell_type": "code",
   "execution_count": 110,
   "metadata": {},
   "outputs": [
    {
     "data": {
      "text/plain": [
       "CategoricalDtype(categories=['g_06_c_No_conoce_facilidad_dificultad',\n",
       "                  'g_06_c_No_podria_conseguir', 'g_06_c_Seria_dificil',\n",
       "                  'g_06_c_Seria_facil'],\n",
       ", ordered=False)"
      ]
     },
     "execution_count": 110,
     "metadata": {},
     "output_type": "execute_result"
    }
   ],
   "source": [
    "consumidores.g_06_c_posibilidad_conseguir_basuco_tipo = consumidores.g_06_c_posibilidad_conseguir_basuco_tipo.astype(\"category\")\n",
    "consumidores.g_06_c_posibilidad_conseguir_basuco_tipo.dtype"
   ]
  },
  {
   "cell_type": "code",
   "execution_count": 111,
   "metadata": {},
   "outputs": [
    {
     "data": {
      "text/plain": [
       "g_06_c_No_conoce_facilidad_dificultad    3909\n",
       "g_06_c_Seria_facil                       3424\n",
       "g_06_c_Seria_dificil                     1749\n",
       "g_06_c_No_podria_conseguir                918\n",
       "Name: g_06_c_posibilidad_conseguir_basuco_tipo, dtype: int64"
      ]
     },
     "execution_count": 111,
     "metadata": {},
     "output_type": "execute_result"
    }
   ],
   "source": [
    "del consumidores['g_06_c_posibilidad_conseguir_basuco']\n",
    "consumidores.g_06_c_posibilidad_conseguir_basuco_tipo.value_counts()"
   ]
  },
  {
   "cell_type": "markdown",
   "metadata": {},
   "source": [
    "### g_06_j Facilidad de conseguir heroina tipo"
   ]
  },
  {
   "cell_type": "code",
   "execution_count": 112,
   "metadata": {},
   "outputs": [
    {
     "data": {
      "text/plain": [
       "array([9, 2, 3, 1], dtype=int64)"
      ]
     },
     "execution_count": 112,
     "metadata": {},
     "output_type": "execute_result"
    }
   ],
   "source": [
    "consumidores.g_06_j_posibilidad_conseguir_heroina.unique()"
   ]
  },
  {
   "cell_type": "code",
   "execution_count": 113,
   "metadata": {},
   "outputs": [],
   "source": [
    "consumidores.loc[consumidores['g_06_j_posibilidad_conseguir_heroina']==1, 'g_06_j_posibilidad_conseguir_heroina_tipo'] = 'g_06_j_Seria_facil'\n",
    "\n",
    "consumidores.loc[consumidores['g_06_j_posibilidad_conseguir_heroina']==2, 'g_06_j_posibilidad_conseguir_heroina_tipo'] = 'g_06_j_Seria_dificil'\n",
    "\n",
    "consumidores.loc[consumidores['g_06_j_posibilidad_conseguir_heroina']==3, 'g_06_j_posibilidad_conseguir_heroina_tipo'] = 'g_06_j_No_podria_conseguir'\n",
    "\n",
    "consumidores.loc[consumidores['g_06_j_posibilidad_conseguir_heroina']==9, 'g_06_j_posibilidad_conseguir_heroina_tipo'] = 'g_06_j_No_conoce_facilidad_dificultad'"
   ]
  },
  {
   "cell_type": "code",
   "execution_count": 114,
   "metadata": {},
   "outputs": [
    {
     "data": {
      "text/plain": [
       "CategoricalDtype(categories=['g_06_j_No_conoce_facilidad_dificultad',\n",
       "                  'g_06_j_No_podria_conseguir', 'g_06_j_Seria_dificil',\n",
       "                  'g_06_j_Seria_facil'],\n",
       ", ordered=False)"
      ]
     },
     "execution_count": 114,
     "metadata": {},
     "output_type": "execute_result"
    }
   ],
   "source": [
    "consumidores.g_06_j_posibilidad_conseguir_heroina_tipo = consumidores.g_06_j_posibilidad_conseguir_heroina_tipo.astype(\"category\")\n",
    "consumidores.g_06_j_posibilidad_conseguir_heroina_tipo.dtype"
   ]
  },
  {
   "cell_type": "code",
   "execution_count": 115,
   "metadata": {},
   "outputs": [
    {
     "data": {
      "text/plain": [
       "g_06_j_No_conoce_facilidad_dificultad    5613\n",
       "g_06_j_Seria_dificil                     2038\n",
       "g_06_j_Seria_facil                       1197\n",
       "g_06_j_No_podria_conseguir               1152\n",
       "Name: g_06_j_posibilidad_conseguir_heroina_tipo, dtype: int64"
      ]
     },
     "execution_count": 115,
     "metadata": {},
     "output_type": "execute_result"
    }
   ],
   "source": [
    "del consumidores['g_06_j_posibilidad_conseguir_heroina']\n",
    "consumidores.g_06_j_posibilidad_conseguir_heroina_tipo.value_counts()"
   ]
  },
  {
   "cell_type": "markdown",
   "metadata": {},
   "source": [
    "### g_07 Alguien le ofrecio probar o comprar sp tipo"
   ]
  },
  {
   "cell_type": "code",
   "execution_count": 116,
   "metadata": {},
   "outputs": [
    {
     "data": {
      "text/plain": [
       "array([2, 1], dtype=int64)"
      ]
     },
     "execution_count": 116,
     "metadata": {},
     "output_type": "execute_result"
    }
   ],
   "source": [
    "consumidores.g_07_alguien_ofrecio_comprar_probar_sp.unique()"
   ]
  },
  {
   "cell_type": "code",
   "execution_count": 117,
   "metadata": {},
   "outputs": [],
   "source": [
    "consumidores.loc[consumidores['g_07_alguien_ofrecio_comprar_probar_sp']==1, 'g_07_alguien_ofrecio_comprar_probar_sp_tipo'] = 'g_07_Si'\n",
    "\n",
    "consumidores.loc[consumidores['g_07_alguien_ofrecio_comprar_probar_sp']==2, 'g_07_alguien_ofrecio_comprar_probar_sp_tipo'] = 'g_07_No'"
   ]
  },
  {
   "cell_type": "code",
   "execution_count": 118,
   "metadata": {},
   "outputs": [
    {
     "data": {
      "text/plain": [
       "CategoricalDtype(categories=['g_07_No', 'g_07_Si'], ordered=False)"
      ]
     },
     "execution_count": 118,
     "metadata": {},
     "output_type": "execute_result"
    }
   ],
   "source": [
    "consumidores.g_07_alguien_ofrecio_comprar_probar_sp_tipo = consumidores.g_07_alguien_ofrecio_comprar_probar_sp_tipo.astype(\"category\")\n",
    "consumidores.g_07_alguien_ofrecio_comprar_probar_sp_tipo.dtype"
   ]
  },
  {
   "cell_type": "code",
   "execution_count": 119,
   "metadata": {},
   "outputs": [
    {
     "data": {
      "text/plain": [
       "g_07_No    5134\n",
       "g_07_Si    4866\n",
       "Name: g_07_alguien_ofrecio_comprar_probar_sp_tipo, dtype: int64"
      ]
     },
     "execution_count": 119,
     "metadata": {},
     "output_type": "execute_result"
    }
   ],
   "source": [
    "del consumidores['g_07_alguien_ofrecio_comprar_probar_sp']\n",
    "consumidores.g_07_alguien_ofrecio_comprar_probar_sp_tipo.value_counts()"
   ]
  },
  {
   "cell_type": "markdown",
   "metadata": {},
   "source": [
    "### g_01_a Numero de familiares que consumen sp tipo"
   ]
  },
  {
   "cell_type": "code",
   "execution_count": 120,
   "metadata": {},
   "outputs": [
    {
     "data": {
      "text/plain": [
       "array([3, 1, 2], dtype=int64)"
      ]
     },
     "execution_count": 120,
     "metadata": {},
     "output_type": "execute_result"
    }
   ],
   "source": [
    "consumidores.g_01_a_num_familiares_consumen_sp_imp.unique()"
   ]
  },
  {
   "cell_type": "code",
   "execution_count": 121,
   "metadata": {},
   "outputs": [],
   "source": [
    "consumidores.loc[consumidores['g_01_a_num_familiares_consumen_sp_imp']==1, 'g_01_a_num_familiares_consumen_sp_imp_tipo'] = 'g_01_a_Uno'\n",
    "\n",
    "consumidores.loc[consumidores['g_01_a_num_familiares_consumen_sp_imp']==2, 'g_01_a_num_familiares_consumen_sp_imp_tipo'] = 'g_01_a_Dos_o_mas'\n",
    "\n",
    "consumidores.loc[consumidores['g_01_a_num_familiares_consumen_sp_imp']==3, 'g_01_a_num_familiares_consumen_sp_imp_tipo'] = 'g_01_a_No_aplica'"
   ]
  },
  {
   "cell_type": "code",
   "execution_count": 122,
   "metadata": {},
   "outputs": [
    {
     "data": {
      "text/plain": [
       "CategoricalDtype(categories=['g_01_a_Dos_o_mas', 'g_01_a_No_aplica', 'g_01_a_Uno'], ordered=False)"
      ]
     },
     "execution_count": 122,
     "metadata": {},
     "output_type": "execute_result"
    }
   ],
   "source": [
    "consumidores.g_01_a_num_familiares_consumen_sp_imp_tipo = consumidores.g_01_a_num_familiares_consumen_sp_imp_tipo.astype(\"category\")\n",
    "consumidores.g_01_a_num_familiares_consumen_sp_imp_tipo.dtype"
   ]
  },
  {
   "cell_type": "code",
   "execution_count": 123,
   "metadata": {},
   "outputs": [
    {
     "data": {
      "text/plain": [
       "g_01_a_No_aplica    7253\n",
       "g_01_a_Dos_o_mas    1422\n",
       "g_01_a_Uno          1325\n",
       "Name: g_01_a_num_familiares_consumen_sp_imp_tipo, dtype: int64"
      ]
     },
     "execution_count": 123,
     "metadata": {},
     "output_type": "execute_result"
    }
   ],
   "source": [
    "del consumidores['g_01_a_num_familiares_consumen_sp_imp']\n",
    "consumidores.g_01_a_num_familiares_consumen_sp_imp_tipo.value_counts()"
   ]
  },
  {
   "cell_type": "markdown",
   "metadata": {},
   "source": [
    "### g_02_a Numero de amigos que consumen sp tipo"
   ]
  },
  {
   "cell_type": "code",
   "execution_count": 124,
   "metadata": {},
   "outputs": [
    {
     "data": {
      "text/plain": [
       "array([2, 3, 1], dtype=int64)"
      ]
     },
     "execution_count": 124,
     "metadata": {},
     "output_type": "execute_result"
    }
   ],
   "source": [
    "consumidores.g_02_a_num_amigos_consumen_sp_imp.unique()"
   ]
  },
  {
   "cell_type": "code",
   "execution_count": 125,
   "metadata": {},
   "outputs": [],
   "source": [
    "consumidores.loc[consumidores['g_02_a_num_amigos_consumen_sp_imp']==1, 'g_02_a_num_amigos_consumen_sp_imp_tipo'] = 'g_02_a_Uno'\n",
    "\n",
    "consumidores.loc[consumidores['g_02_a_num_amigos_consumen_sp_imp']==2, 'g_02_a_num_amigos_consumen_sp_imp_tipo'] = 'g_02_a_Dos_o_mas'\n",
    "\n",
    "consumidores.loc[consumidores['g_02_a_num_amigos_consumen_sp_imp']==3, 'g_02_a_num_amigos_consumen_sp_imp_tipo'] = 'g_02_a_No_aplica'"
   ]
  },
  {
   "cell_type": "code",
   "execution_count": 126,
   "metadata": {},
   "outputs": [
    {
     "data": {
      "text/plain": [
       "CategoricalDtype(categories=['g_02_a_Dos_o_mas', 'g_02_a_No_aplica', 'g_02_a_Uno'], ordered=False)"
      ]
     },
     "execution_count": 126,
     "metadata": {},
     "output_type": "execute_result"
    }
   ],
   "source": [
    "consumidores.g_02_a_num_amigos_consumen_sp_imp_tipo = consumidores.g_02_a_num_amigos_consumen_sp_imp_tipo.astype(\"category\")\n",
    "consumidores.g_02_a_num_amigos_consumen_sp_imp_tipo.dtype"
   ]
  },
  {
   "cell_type": "code",
   "execution_count": 127,
   "metadata": {},
   "outputs": [
    {
     "data": {
      "text/plain": [
       "g_02_a_No_aplica    5718\n",
       "g_02_a_Dos_o_mas    3660\n",
       "g_02_a_Uno           622\n",
       "Name: g_02_a_num_amigos_consumen_sp_imp_tipo, dtype: int64"
      ]
     },
     "execution_count": 127,
     "metadata": {},
     "output_type": "execute_result"
    }
   ],
   "source": [
    "del consumidores['g_02_a_num_amigos_consumen_sp_imp']\n",
    "consumidores.g_02_a_num_amigos_consumen_sp_imp_tipo.value_counts()"
   ]
  },
  {
   "cell_type": "markdown",
   "metadata": {},
   "source": [
    "### g_08_a Ultima vez que le ofrecieron marihuana tipo"
   ]
  },
  {
   "cell_type": "code",
   "execution_count": 128,
   "metadata": {},
   "outputs": [
    {
     "data": {
      "text/plain": [
       "array([10,  3,  2,  1,  9], dtype=int64)"
      ]
     },
     "execution_count": 128,
     "metadata": {},
     "output_type": "execute_result"
    }
   ],
   "source": [
    "consumidores.g_08_a_ofrecieron_marihuana_imp.unique()"
   ]
  },
  {
   "cell_type": "code",
   "execution_count": 129,
   "metadata": {},
   "outputs": [],
   "source": [
    "consumidores.loc[consumidores['g_08_a_ofrecieron_marihuana_imp']==1, 'g_08_a_ofrecieron_marihuana_imp_tipo'] = 'g_08_a_Ultimos_30_dias'\n",
    "\n",
    "consumidores.loc[consumidores['g_08_a_ofrecieron_marihuana_imp']==2, 'g_08_a_ofrecieron_marihuana_imp_tipo'] = 'g_08_a_Mas_30_dias_Menos_12_meses'\n",
    "\n",
    "consumidores.loc[consumidores['g_08_a_ofrecieron_marihuana_imp']==3, 'g_08_a_ofrecieron_marihuana_imp_tipo'] = 'g_08_a_Mas_12_meses'\n",
    "\n",
    "consumidores.loc[consumidores['g_08_a_ofrecieron_marihuana_imp']==9, 'g_08_a_ofrecieron_marihuana_imp_tipo'] = 'g_08_a_Nunca_me_han_ofrecido'\n",
    "\n",
    "consumidores.loc[consumidores['g_08_a_ofrecieron_marihuana_imp']==10, 'g_08_a_ofrecieron_marihuana_imp_tipo'] = 'g_08_a_No_aplica'"
   ]
  },
  {
   "cell_type": "code",
   "execution_count": 130,
   "metadata": {},
   "outputs": [
    {
     "data": {
      "text/plain": [
       "CategoricalDtype(categories=['g_08_a_Mas_12_meses', 'g_08_a_Mas_30_dias_Menos_12_meses',\n",
       "                  'g_08_a_No_aplica', 'g_08_a_Nunca_me_han_ofrecido',\n",
       "                  'g_08_a_Ultimos_30_dias'],\n",
       ", ordered=False)"
      ]
     },
     "execution_count": 130,
     "metadata": {},
     "output_type": "execute_result"
    }
   ],
   "source": [
    "consumidores.g_08_a_ofrecieron_marihuana_imp_tipo = consumidores.g_08_a_ofrecieron_marihuana_imp_tipo.astype(\"category\")\n",
    "consumidores.g_08_a_ofrecieron_marihuana_imp_tipo.dtype"
   ]
  },
  {
   "cell_type": "code",
   "execution_count": 131,
   "metadata": {},
   "outputs": [
    {
     "data": {
      "text/plain": [
       "g_08_a_No_aplica                     5134\n",
       "g_08_a_Mas_12_meses                  3041\n",
       "g_08_a_Ultimos_30_dias                882\n",
       "g_08_a_Mas_30_dias_Menos_12_meses     732\n",
       "g_08_a_Nunca_me_han_ofrecido          211\n",
       "Name: g_08_a_ofrecieron_marihuana_imp_tipo, dtype: int64"
      ]
     },
     "execution_count": 131,
     "metadata": {},
     "output_type": "execute_result"
    }
   ],
   "source": [
    "del consumidores['g_08_a_ofrecieron_marihuana_imp']\n",
    "consumidores.g_08_a_ofrecieron_marihuana_imp_tipo.value_counts()"
   ]
  },
  {
   "cell_type": "markdown",
   "metadata": {},
   "source": [
    "### g_08_b Ultima vez que le ofrecieron cocaina tipo"
   ]
  },
  {
   "cell_type": "code",
   "execution_count": 132,
   "metadata": {},
   "outputs": [
    {
     "data": {
      "text/plain": [
       "array([10,  9,  3,  2,  1], dtype=int64)"
      ]
     },
     "execution_count": 132,
     "metadata": {},
     "output_type": "execute_result"
    }
   ],
   "source": [
    "consumidores.g_08_b_ofrecieron_cocaina_imp.unique()"
   ]
  },
  {
   "cell_type": "code",
   "execution_count": 133,
   "metadata": {},
   "outputs": [],
   "source": [
    "consumidores.loc[consumidores['g_08_b_ofrecieron_cocaina_imp']==1, 'g_08_b_ofrecieron_cocaina_imp_tipo'] = 'g_08_b_Ultimos_30_dias'\n",
    "\n",
    "consumidores.loc[consumidores['g_08_b_ofrecieron_cocaina_imp']==2, 'g_08_b_ofrecieron_cocaina_imp_tipo'] = 'g_08_b_Mas_30_dias_Menos_12_meses'\n",
    "\n",
    "consumidores.loc[consumidores['g_08_b_ofrecieron_cocaina_imp']==3, 'g_08_b_ofrecieron_cocaina_imp_tipo'] = 'g_08_b_Mas_12_meses'\n",
    "\n",
    "consumidores.loc[consumidores['g_08_b_ofrecieron_cocaina_imp']==9, 'g_08_b_ofrecieron_cocaina_imp_tipo'] = 'g_08_b_Nunca_me_han_ofrecido'\n",
    "\n",
    "consumidores.loc[consumidores['g_08_b_ofrecieron_cocaina_imp']==10, 'g_08_b_ofrecieron_cocaina_imp_tipo'] = 'g_08_b_No_aplica'"
   ]
  },
  {
   "cell_type": "code",
   "execution_count": 134,
   "metadata": {},
   "outputs": [
    {
     "data": {
      "text/plain": [
       "CategoricalDtype(categories=['g_08_b_Mas_12_meses', 'g_08_b_Mas_30_dias_Menos_12_meses',\n",
       "                  'g_08_b_No_aplica', 'g_08_b_Nunca_me_han_ofrecido',\n",
       "                  'g_08_b_Ultimos_30_dias'],\n",
       ", ordered=False)"
      ]
     },
     "execution_count": 134,
     "metadata": {},
     "output_type": "execute_result"
    }
   ],
   "source": [
    "consumidores.g_08_b_ofrecieron_cocaina_imp_tipo = consumidores.g_08_b_ofrecieron_cocaina_imp_tipo.astype(\"category\")\n",
    "consumidores.g_08_b_ofrecieron_cocaina_imp_tipo.dtype"
   ]
  },
  {
   "cell_type": "code",
   "execution_count": 135,
   "metadata": {},
   "outputs": [
    {
     "data": {
      "text/plain": [
       "g_08_b_No_aplica                     5134\n",
       "g_08_b_Nunca_me_han_ofrecido         2672\n",
       "g_08_b_Mas_12_meses                  1532\n",
       "g_08_b_Mas_30_dias_Menos_12_meses     387\n",
       "g_08_b_Ultimos_30_dias                275\n",
       "Name: g_08_b_ofrecieron_cocaina_imp_tipo, dtype: int64"
      ]
     },
     "execution_count": 135,
     "metadata": {},
     "output_type": "execute_result"
    }
   ],
   "source": [
    "del consumidores['g_08_b_ofrecieron_cocaina_imp']\n",
    "consumidores.g_08_b_ofrecieron_cocaina_imp_tipo.value_counts()"
   ]
  },
  {
   "cell_type": "markdown",
   "metadata": {},
   "source": [
    "### g_08_c Ultima vez que le ofrecieron basuco tipo"
   ]
  },
  {
   "cell_type": "code",
   "execution_count": 136,
   "metadata": {},
   "outputs": [
    {
     "data": {
      "text/plain": [
       "array([10,  3,  9,  2,  1], dtype=int64)"
      ]
     },
     "execution_count": 136,
     "metadata": {},
     "output_type": "execute_result"
    }
   ],
   "source": [
    "consumidores.g_08_c_ofrecieron_basuco_imp.unique()"
   ]
  },
  {
   "cell_type": "code",
   "execution_count": 137,
   "metadata": {},
   "outputs": [],
   "source": [
    "consumidores.loc[consumidores['g_08_c_ofrecieron_basuco_imp']==1, 'g_08_c_ofrecieron_basuco_imp_tipo'] = 'g_08_c_Ultimos_30_dias'\n",
    "\n",
    "consumidores.loc[consumidores['g_08_c_ofrecieron_basuco_imp']==2, 'g_08_c_ofrecieron_basuco_imp_tipo'] = 'g_08_c_Mas_30_dias_Menos_12_meses'\n",
    "\n",
    "consumidores.loc[consumidores['g_08_c_ofrecieron_basuco_imp']==3, 'g_08_c_ofrecieron_basuco_imp_tipo'] = 'g_08_c_Mas_12_meses'\n",
    "\n",
    "consumidores.loc[consumidores['g_08_c_ofrecieron_basuco_imp']==9, 'g_08_c_ofrecieron_basuco_imp_tipo'] = 'g_08_c_Nunca_me_han_ofrecido'\n",
    "\n",
    "consumidores.loc[consumidores['g_08_c_ofrecieron_basuco_imp']==10, 'g_08_c_ofrecieron_basuco_imp_tipo'] = 'g_08_c_No_aplica'"
   ]
  },
  {
   "cell_type": "code",
   "execution_count": 138,
   "metadata": {},
   "outputs": [
    {
     "data": {
      "text/plain": [
       "CategoricalDtype(categories=['g_08_c_Mas_12_meses', 'g_08_c_Mas_30_dias_Menos_12_meses',\n",
       "                  'g_08_c_No_aplica', 'g_08_c_Nunca_me_han_ofrecido',\n",
       "                  'g_08_c_Ultimos_30_dias'],\n",
       ", ordered=False)"
      ]
     },
     "execution_count": 138,
     "metadata": {},
     "output_type": "execute_result"
    }
   ],
   "source": [
    "consumidores.g_08_c_ofrecieron_basuco_imp_tipo = consumidores.g_08_c_ofrecieron_basuco_imp_tipo.astype(\"category\")\n",
    "consumidores.g_08_c_ofrecieron_basuco_imp_tipo.dtype"
   ]
  },
  {
   "cell_type": "code",
   "execution_count": 139,
   "metadata": {},
   "outputs": [
    {
     "data": {
      "text/plain": [
       "g_08_c_No_aplica                     5134\n",
       "g_08_c_Nunca_me_han_ofrecido         3879\n",
       "g_08_c_Mas_12_meses                   769\n",
       "g_08_c_Ultimos_30_dias                117\n",
       "g_08_c_Mas_30_dias_Menos_12_meses     101\n",
       "Name: g_08_c_ofrecieron_basuco_imp_tipo, dtype: int64"
      ]
     },
     "execution_count": 139,
     "metadata": {},
     "output_type": "execute_result"
    }
   ],
   "source": [
    "del consumidores['g_08_c_ofrecieron_basuco_imp']\n",
    "consumidores.g_08_c_ofrecieron_basuco_imp_tipo.value_counts()"
   ]
  },
  {
   "cell_type": "markdown",
   "metadata": {},
   "source": [
    "### g_08_e Ultima vez que le ofrecieron heroina tipo"
   ]
  },
  {
   "cell_type": "code",
   "execution_count": 140,
   "metadata": {},
   "outputs": [
    {
     "data": {
      "text/plain": [
       "array([10,  9,  3,  1,  2], dtype=int64)"
      ]
     },
     "execution_count": 140,
     "metadata": {},
     "output_type": "execute_result"
    }
   ],
   "source": [
    "consumidores.g_08_e_ofrecieron_heroina_imp.unique()"
   ]
  },
  {
   "cell_type": "code",
   "execution_count": 141,
   "metadata": {},
   "outputs": [],
   "source": [
    "consumidores.loc[consumidores['g_08_e_ofrecieron_heroina_imp']==1, 'g_08_e_ofrecieron_heroina_imp_tipo'] = 'g_08_e_Ultimos_30_dias'\n",
    "\n",
    "consumidores.loc[consumidores['g_08_e_ofrecieron_heroina_imp']==2, 'g_08_e_ofrecieron_heroina_imp_tipo'] = 'g_08_e_Mas_30_dias_Menos_12_meses'\n",
    "\n",
    "consumidores.loc[consumidores['g_08_e_ofrecieron_heroina_imp']==3, 'g_08_e_ofrecieron_heroina_imp_tipo'] = 'g_08_e_Mas_12_meses'\n",
    "\n",
    "consumidores.loc[consumidores['g_08_e_ofrecieron_heroina_imp']==9, 'g_08_e_ofrecieron_heroina_imp_tipo'] = 'g_08_e_Nunca_me_han_ofrecido'\n",
    "\n",
    "consumidores.loc[consumidores['g_08_e_ofrecieron_heroina_imp']==10, 'g_08_e_ofrecieron_heroina_imp_tipo'] = 'g_08_e_No_aplica'"
   ]
  },
  {
   "cell_type": "code",
   "execution_count": 142,
   "metadata": {},
   "outputs": [
    {
     "data": {
      "text/plain": [
       "CategoricalDtype(categories=['g_08_e_Mas_12_meses', 'g_08_e_Mas_30_dias_Menos_12_meses',\n",
       "                  'g_08_e_No_aplica', 'g_08_e_Nunca_me_han_ofrecido',\n",
       "                  'g_08_e_Ultimos_30_dias'],\n",
       ", ordered=False)"
      ]
     },
     "execution_count": 142,
     "metadata": {},
     "output_type": "execute_result"
    }
   ],
   "source": [
    "consumidores.g_08_e_ofrecieron_heroina_imp_tipo = consumidores.g_08_e_ofrecieron_heroina_imp_tipo.astype(\"category\")\n",
    "consumidores.g_08_e_ofrecieron_heroina_imp_tipo.dtype"
   ]
  },
  {
   "cell_type": "code",
   "execution_count": 143,
   "metadata": {},
   "outputs": [
    {
     "data": {
      "text/plain": [
       "g_08_e_No_aplica                     5134\n",
       "g_08_e_Nunca_me_han_ofrecido         4432\n",
       "g_08_e_Mas_12_meses                   333\n",
       "g_08_e_Mas_30_dias_Menos_12_meses      60\n",
       "g_08_e_Ultimos_30_dias                 41\n",
       "Name: g_08_e_ofrecieron_heroina_imp_tipo, dtype: int64"
      ]
     },
     "execution_count": 143,
     "metadata": {},
     "output_type": "execute_result"
    }
   ],
   "source": [
    "del consumidores['g_08_e_ofrecieron_heroina_imp']\n",
    "consumidores.g_08_e_ofrecieron_heroina_imp_tipo.value_counts()"
   ]
  },
  {
   "cell_type": "code",
   "execution_count": 144,
   "metadata": {
    "scrolled": false
   },
   "outputs": [
    {
     "name": "stdout",
     "output_type": "stream",
     "text": [
      "<class 'pandas.core.frame.DataFrame'>\n",
      "RangeIndex: 10000 entries, 0 to 9999\n",
      "Data columns (total 42 columns):\n",
      " #   Column                                                          Non-Null Count  Dtype   \n",
      "---  ------                                                          --------------  -----   \n",
      " 0   departamento                                                    10000 non-null  object  \n",
      " 1   residentes_hogar                                                10000 non-null  int64   \n",
      " 2   d2_04_num_hijos                                                 10000 non-null  int64   \n",
      " 3   per_edad_tipo                                                   10000 non-null  category\n",
      " 4   estrato_tipo                                                    10000 non-null  category\n",
      " 5   situacion_tipo                                                  10000 non-null  category\n",
      " 6   frecuencia_consumo_marihuana_tipo                               10000 non-null  category\n",
      " 7   frecuencia_consumo_cocaina_tipo                                 10000 non-null  category\n",
      " 8   frecuencia_consumo_basuco_tipo                                  10000 non-null  category\n",
      " 9   frecuencia_consumo_heroina_tipo                                 10000 non-null  category\n",
      " 10  per_sexo_tipo                                                   10000 non-null  category\n",
      " 11  vive_padre_hogar_tipo                                           10000 non-null  category\n",
      " 12  vive_madre_hogar_tipo                                           10000 non-null  category\n",
      " 13  vivienda_tipo                                                   10000 non-null  category\n",
      " 14  d_01_aporta_dinero_hogar_tipo                                   10000 non-null  category\n",
      " 15  d_08_estado_salud_tipo                                          10000 non-null  category\n",
      " 16  d_09_deprimido_tipo                                             10000 non-null  category\n",
      " 17  d_10_poco_interes_tipo                                          10000 non-null  category\n",
      " 18  d_11_h_conocimiento_riesgo_fumar_marihuana_frecuentemente_tipo  10000 non-null  category\n",
      " 19  d_11_k_conocimiento_riesgo_cocaina_frecuentemente_tipo          10000 non-null  category\n",
      " 20  d_11_n_conocimiento_riesgo_fumar_basuco_frecuentemente_tipo     10000 non-null  category\n",
      " 21  d_12_b_presenta_problema_consumo_sp_barrio_tipo                 10000 non-null  category\n",
      " 22  d_12_c_presenta_problema_expendio_sp_barrio_tipo                10000 non-null  category\n",
      " 23  d2_01_etnia_tipo                                                10000 non-null  category\n",
      " 24  d2_03_estado_civil_tipo                                         10000 non-null  category\n",
      " 25  d2_05_nivel_educativo_tipo                                      10000 non-null  category\n",
      " 26  g_01_familiares_consumen_sp_tipo                                10000 non-null  category\n",
      " 27  g_02_amigos_consumen_sp_tipo                                    10000 non-null  category\n",
      " 28  g_03_curiosidad_probar_sp_tipo                                  10000 non-null  category\n",
      " 29  g_04_probaria_sp_tipo                                           10000 non-null  category\n",
      " 30  g_05_posibilidad_probar_sp_tipo                                 10000 non-null  category\n",
      " 31  g_06_a_posibilidad_conseguir_marihuana_tipo                     10000 non-null  category\n",
      " 32  g_06_b_posibilidad_conseguir_cocaina_tipo                       10000 non-null  category\n",
      " 33  g_06_c_posibilidad_conseguir_basuco_tipo                        10000 non-null  category\n",
      " 34  g_06_j_posibilidad_conseguir_heroina_tipo                       10000 non-null  category\n",
      " 35  g_07_alguien_ofrecio_comprar_probar_sp_tipo                     10000 non-null  category\n",
      " 36  g_01_a_num_familiares_consumen_sp_imp_tipo                      10000 non-null  category\n",
      " 37  g_02_a_num_amigos_consumen_sp_imp_tipo                          10000 non-null  category\n",
      " 38  g_08_a_ofrecieron_marihuana_imp_tipo                            10000 non-null  category\n",
      " 39  g_08_b_ofrecieron_cocaina_imp_tipo                              10000 non-null  category\n",
      " 40  g_08_c_ofrecieron_basuco_imp_tipo                               10000 non-null  category\n",
      " 41  g_08_e_ofrecieron_heroina_imp_tipo                              10000 non-null  category\n",
      "dtypes: category(39), int64(2), object(1)\n",
      "memory usage: 621.0+ KB\n"
     ]
    }
   ],
   "source": [
    "consumidores.info(verbose=True)"
   ]
  },
  {
   "cell_type": "code",
   "execution_count": 145,
   "metadata": {},
   "outputs": [],
   "source": [
    "del consumidores['frecuencia_consumo_heroina_tipo']\n",
    "del consumidores['g_06_j_posibilidad_conseguir_heroina_tipo']\n",
    "del consumidores['g_08_e_ofrecieron_heroina_imp_tipo']"
   ]
  },
  {
   "cell_type": "code",
   "execution_count": 146,
   "metadata": {},
   "outputs": [
    {
     "name": "stdout",
     "output_type": "stream",
     "text": [
      "<class 'pandas.core.frame.DataFrame'>\n",
      "RangeIndex: 10000 entries, 0 to 9999\n",
      "Data columns (total 39 columns):\n",
      " #   Column                                                          Non-Null Count  Dtype   \n",
      "---  ------                                                          --------------  -----   \n",
      " 0   departamento                                                    10000 non-null  object  \n",
      " 1   residentes_hogar                                                10000 non-null  int64   \n",
      " 2   d2_04_num_hijos                                                 10000 non-null  int64   \n",
      " 3   per_edad_tipo                                                   10000 non-null  category\n",
      " 4   estrato_tipo                                                    10000 non-null  category\n",
      " 5   situacion_tipo                                                  10000 non-null  category\n",
      " 6   frecuencia_consumo_marihuana_tipo                               10000 non-null  category\n",
      " 7   frecuencia_consumo_cocaina_tipo                                 10000 non-null  category\n",
      " 8   frecuencia_consumo_basuco_tipo                                  10000 non-null  category\n",
      " 9   per_sexo_tipo                                                   10000 non-null  category\n",
      " 10  vive_padre_hogar_tipo                                           10000 non-null  category\n",
      " 11  vive_madre_hogar_tipo                                           10000 non-null  category\n",
      " 12  vivienda_tipo                                                   10000 non-null  category\n",
      " 13  d_01_aporta_dinero_hogar_tipo                                   10000 non-null  category\n",
      " 14  d_08_estado_salud_tipo                                          10000 non-null  category\n",
      " 15  d_09_deprimido_tipo                                             10000 non-null  category\n",
      " 16  d_10_poco_interes_tipo                                          10000 non-null  category\n",
      " 17  d_11_h_conocimiento_riesgo_fumar_marihuana_frecuentemente_tipo  10000 non-null  category\n",
      " 18  d_11_k_conocimiento_riesgo_cocaina_frecuentemente_tipo          10000 non-null  category\n",
      " 19  d_11_n_conocimiento_riesgo_fumar_basuco_frecuentemente_tipo     10000 non-null  category\n",
      " 20  d_12_b_presenta_problema_consumo_sp_barrio_tipo                 10000 non-null  category\n",
      " 21  d_12_c_presenta_problema_expendio_sp_barrio_tipo                10000 non-null  category\n",
      " 22  d2_01_etnia_tipo                                                10000 non-null  category\n",
      " 23  d2_03_estado_civil_tipo                                         10000 non-null  category\n",
      " 24  d2_05_nivel_educativo_tipo                                      10000 non-null  category\n",
      " 25  g_01_familiares_consumen_sp_tipo                                10000 non-null  category\n",
      " 26  g_02_amigos_consumen_sp_tipo                                    10000 non-null  category\n",
      " 27  g_03_curiosidad_probar_sp_tipo                                  10000 non-null  category\n",
      " 28  g_04_probaria_sp_tipo                                           10000 non-null  category\n",
      " 29  g_05_posibilidad_probar_sp_tipo                                 10000 non-null  category\n",
      " 30  g_06_a_posibilidad_conseguir_marihuana_tipo                     10000 non-null  category\n",
      " 31  g_06_b_posibilidad_conseguir_cocaina_tipo                       10000 non-null  category\n",
      " 32  g_06_c_posibilidad_conseguir_basuco_tipo                        10000 non-null  category\n",
      " 33  g_07_alguien_ofrecio_comprar_probar_sp_tipo                     10000 non-null  category\n",
      " 34  g_01_a_num_familiares_consumen_sp_imp_tipo                      10000 non-null  category\n",
      " 35  g_02_a_num_amigos_consumen_sp_imp_tipo                          10000 non-null  category\n",
      " 36  g_08_a_ofrecieron_marihuana_imp_tipo                            10000 non-null  category\n",
      " 37  g_08_b_ofrecieron_cocaina_imp_tipo                              10000 non-null  category\n",
      " 38  g_08_c_ofrecieron_basuco_imp_tipo                               10000 non-null  category\n",
      "dtypes: category(36), int64(2), object(1)\n",
      "memory usage: 591.3+ KB\n"
     ]
    }
   ],
   "source": [
    "consumidores.info(verbose=True)"
   ]
  },
  {
   "cell_type": "markdown",
   "metadata": {},
   "source": [
    "Finalmente, guardamos en csv o pkl el dataset limpio"
   ]
  },
  {
   "cell_type": "code",
   "execution_count": 148,
   "metadata": {},
   "outputs": [],
   "source": [
    "consumidores.to_pickle(\"C:/Users/Danny/Desktop/Analisis tesis/Analisis exploratorio de datos/data/consumidores_categorizado_procesado.pkl\")\n",
    "consumidores.to_csv(\"C:/Users/Danny/Desktop/Analisis tesis/Analisis exploratorio de datos/data/consumidores_categorizado_procesado.csv\", index=False)"
   ]
  },
  {
   "cell_type": "markdown",
   "metadata": {},
   "source": [
    "### links\n",
    "\n",
    "http://sebastianraschka.com/Articles/2014_about_feature_scaling.html#about-standardization"
   ]
  },
  {
   "cell_type": "code",
   "execution_count": null,
   "metadata": {},
   "outputs": [],
   "source": []
  }
 ],
 "metadata": {
  "kernelspec": {
   "display_name": "Python 3 (ipykernel)",
   "language": "python",
   "name": "python3"
  },
  "language_info": {
   "codemirror_mode": {
    "name": "ipython",
    "version": 3
   },
   "file_extension": ".py",
   "mimetype": "text/x-python",
   "name": "python",
   "nbconvert_exporter": "python",
   "pygments_lexer": "ipython3",
   "version": "3.10.11"
  }
 },
 "nbformat": 4,
 "nbformat_minor": 2
}
