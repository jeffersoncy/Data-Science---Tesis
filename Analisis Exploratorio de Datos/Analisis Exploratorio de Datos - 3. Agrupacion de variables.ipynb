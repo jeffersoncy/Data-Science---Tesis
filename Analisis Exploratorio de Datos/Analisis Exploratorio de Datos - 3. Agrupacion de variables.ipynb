{
 "cells": [
  {
   "cell_type": "code",
   "execution_count": 1,
   "metadata": {},
   "outputs": [
    {
     "name": "stdout",
     "output_type": "stream",
     "text": [
      "Last updated: 2024-08-07T14:22:08.531607-05:00\n",
      "\n",
      "Python implementation: CPython\n",
      "Python version       : 3.11.4\n",
      "IPython version      : 8.12.2\n",
      "\n",
      "Compiler    : MSC v.1916 64 bit (AMD64)\n",
      "OS          : Windows\n",
      "Release     : 10\n",
      "Machine     : AMD64\n",
      "Processor   : Intel64 Family 6 Model 165 Stepping 2, GenuineIntel\n",
      "CPU cores   : 8\n",
      "Architecture: 64bit\n",
      "\n"
     ]
    }
   ],
   "source": [
    "%load_ext watermark\n",
    "%watermark"
   ]
  },
  {
   "cell_type": "code",
   "execution_count": 2,
   "metadata": {},
   "outputs": [],
   "source": [
    "import pandas as pd"
   ]
  },
  {
   "cell_type": "code",
   "execution_count": 3,
   "metadata": {},
   "outputs": [],
   "source": [
    "%matplotlib inline\n",
    "import matplotlib.pyplot as plt\n",
    "\n",
    "plt.rcParams['figure.figsize'] = (12,12) # 10 pulgadas de ancho y 10 de alto para todos los plots"
   ]
  },
  {
   "cell_type": "markdown",
   "metadata": {},
   "source": [
    "### Lectura de datos"
   ]
  },
  {
   "cell_type": "code",
   "execution_count": 4,
   "metadata": {},
   "outputs": [],
   "source": [
    "df_consumo = pd.read_csv(\"Data/df_consumo_sustancias.2.limpio_analisis.csv\")"
   ]
  },
  {
   "cell_type": "code",
   "execution_count": 5,
   "metadata": {},
   "outputs": [
    {
     "data": {
      "text/html": [
       "<div>\n",
       "<style scoped>\n",
       "    .dataframe tbody tr th:only-of-type {\n",
       "        vertical-align: middle;\n",
       "    }\n",
       "\n",
       "    .dataframe tbody tr th {\n",
       "        vertical-align: top;\n",
       "    }\n",
       "\n",
       "    .dataframe thead th {\n",
       "        text-align: right;\n",
       "    }\n",
       "</style>\n",
       "<table border=\"1\" class=\"dataframe\">\n",
       "  <thead>\n",
       "    <tr style=\"text-align: right;\">\n",
       "      <th></th>\n",
       "      <th>directorio</th>\n",
       "      <th>per_sexo</th>\n",
       "      <th>per_edad</th>\n",
       "      <th>vive_padre_hogar</th>\n",
       "      <th>vive_madre_hogar</th>\n",
       "      <th>departamento</th>\n",
       "      <th>municipio</th>\n",
       "      <th>tipo_vivienda</th>\n",
       "      <th>estrato</th>\n",
       "      <th>residentes_hogar</th>\n",
       "      <th>...</th>\n",
       "      <th>g_11_j_consumio_alguna_vez_heroina</th>\n",
       "      <th>g_11_j_anios_consumio_heroina</th>\n",
       "      <th>k_03_consumio_marihuana_12m</th>\n",
       "      <th>k_04_frecuencia_consumo_marihuana_12m</th>\n",
       "      <th>l_02_consumio_cocaina_12m</th>\n",
       "      <th>l_03_frecuencia_consumo_cocaina_12m</th>\n",
       "      <th>m_02_consumio_basuco_12m</th>\n",
       "      <th>m_03_frecuencia_consumo_basuco_12m</th>\n",
       "      <th>o_02_consumio_heroina_12m</th>\n",
       "      <th>o_03_frecuencia_consumo_heroina_12m</th>\n",
       "    </tr>\n",
       "  </thead>\n",
       "  <tbody>\n",
       "    <tr>\n",
       "      <th>0</th>\n",
       "      <td>11207</td>\n",
       "      <td>1</td>\n",
       "      <td>19</td>\n",
       "      <td>2</td>\n",
       "      <td>2</td>\n",
       "      <td>Guaviare</td>\n",
       "      <td>SAN JOSÉ DEL GUAVIARE</td>\n",
       "      <td>2</td>\n",
       "      <td>2.0</td>\n",
       "      <td>5</td>\n",
       "      <td>...</td>\n",
       "      <td>2</td>\n",
       "      <td>NaN</td>\n",
       "      <td>NaN</td>\n",
       "      <td>NaN</td>\n",
       "      <td>NaN</td>\n",
       "      <td>NaN</td>\n",
       "      <td>NaN</td>\n",
       "      <td>NaN</td>\n",
       "      <td>NaN</td>\n",
       "      <td>NaN</td>\n",
       "    </tr>\n",
       "    <tr>\n",
       "      <th>1</th>\n",
       "      <td>1180</td>\n",
       "      <td>2</td>\n",
       "      <td>51</td>\n",
       "      <td>2</td>\n",
       "      <td>1</td>\n",
       "      <td>Cordoba</td>\n",
       "      <td>MONTERÍA</td>\n",
       "      <td>1</td>\n",
       "      <td>1.0</td>\n",
       "      <td>4</td>\n",
       "      <td>...</td>\n",
       "      <td>2</td>\n",
       "      <td>NaN</td>\n",
       "      <td>NaN</td>\n",
       "      <td>NaN</td>\n",
       "      <td>NaN</td>\n",
       "      <td>NaN</td>\n",
       "      <td>NaN</td>\n",
       "      <td>NaN</td>\n",
       "      <td>NaN</td>\n",
       "      <td>NaN</td>\n",
       "    </tr>\n",
       "    <tr>\n",
       "      <th>2</th>\n",
       "      <td>4398</td>\n",
       "      <td>1</td>\n",
       "      <td>52</td>\n",
       "      <td>3</td>\n",
       "      <td>3</td>\n",
       "      <td>Caqueta</td>\n",
       "      <td>FLORENCIA</td>\n",
       "      <td>1</td>\n",
       "      <td>2.0</td>\n",
       "      <td>4</td>\n",
       "      <td>...</td>\n",
       "      <td>2</td>\n",
       "      <td>NaN</td>\n",
       "      <td>NaN</td>\n",
       "      <td>NaN</td>\n",
       "      <td>NaN</td>\n",
       "      <td>NaN</td>\n",
       "      <td>NaN</td>\n",
       "      <td>NaN</td>\n",
       "      <td>NaN</td>\n",
       "      <td>NaN</td>\n",
       "    </tr>\n",
       "    <tr>\n",
       "      <th>3</th>\n",
       "      <td>4399</td>\n",
       "      <td>2</td>\n",
       "      <td>39</td>\n",
       "      <td>1</td>\n",
       "      <td>1</td>\n",
       "      <td>Bolivar</td>\n",
       "      <td>CARTAGENA</td>\n",
       "      <td>1</td>\n",
       "      <td>5.0</td>\n",
       "      <td>6</td>\n",
       "      <td>...</td>\n",
       "      <td>2</td>\n",
       "      <td>NaN</td>\n",
       "      <td>NaN</td>\n",
       "      <td>NaN</td>\n",
       "      <td>NaN</td>\n",
       "      <td>NaN</td>\n",
       "      <td>NaN</td>\n",
       "      <td>NaN</td>\n",
       "      <td>NaN</td>\n",
       "      <td>NaN</td>\n",
       "    </tr>\n",
       "    <tr>\n",
       "      <th>4</th>\n",
       "      <td>2619</td>\n",
       "      <td>2</td>\n",
       "      <td>27</td>\n",
       "      <td>1</td>\n",
       "      <td>1</td>\n",
       "      <td>Tolima</td>\n",
       "      <td>ESPINAL</td>\n",
       "      <td>1</td>\n",
       "      <td>2.0</td>\n",
       "      <td>4</td>\n",
       "      <td>...</td>\n",
       "      <td>2</td>\n",
       "      <td>NaN</td>\n",
       "      <td>NaN</td>\n",
       "      <td>NaN</td>\n",
       "      <td>NaN</td>\n",
       "      <td>NaN</td>\n",
       "      <td>NaN</td>\n",
       "      <td>NaN</td>\n",
       "      <td>NaN</td>\n",
       "      <td>NaN</td>\n",
       "    </tr>\n",
       "  </tbody>\n",
       "</table>\n",
       "<p>5 rows × 56 columns</p>\n",
       "</div>"
      ],
      "text/plain": [
       "   directorio  per_sexo  per_edad  vive_padre_hogar  vive_madre_hogar  \\\n",
       "0       11207         1        19                 2                 2   \n",
       "1        1180         2        51                 2                 1   \n",
       "2        4398         1        52                 3                 3   \n",
       "3        4399         2        39                 1                 1   \n",
       "4        2619         2        27                 1                 1   \n",
       "\n",
       "  departamento              municipio  tipo_vivienda  estrato  \\\n",
       "0     Guaviare  SAN JOSÉ DEL GUAVIARE              2      2.0   \n",
       "1      Cordoba               MONTERÍA              1      1.0   \n",
       "2      Caqueta              FLORENCIA              1      2.0   \n",
       "3      Bolivar              CARTAGENA              1      5.0   \n",
       "4       Tolima                ESPINAL              1      2.0   \n",
       "\n",
       "   residentes_hogar  ...  g_11_j_consumio_alguna_vez_heroina  \\\n",
       "0                 5  ...                                   2   \n",
       "1                 4  ...                                   2   \n",
       "2                 4  ...                                   2   \n",
       "3                 6  ...                                   2   \n",
       "4                 4  ...                                   2   \n",
       "\n",
       "   g_11_j_anios_consumio_heroina  k_03_consumio_marihuana_12m  \\\n",
       "0                            NaN                          NaN   \n",
       "1                            NaN                          NaN   \n",
       "2                            NaN                          NaN   \n",
       "3                            NaN                          NaN   \n",
       "4                            NaN                          NaN   \n",
       "\n",
       "   k_04_frecuencia_consumo_marihuana_12m  l_02_consumio_cocaina_12m  \\\n",
       "0                                    NaN                        NaN   \n",
       "1                                    NaN                        NaN   \n",
       "2                                    NaN                        NaN   \n",
       "3                                    NaN                        NaN   \n",
       "4                                    NaN                        NaN   \n",
       "\n",
       "   l_03_frecuencia_consumo_cocaina_12m  m_02_consumio_basuco_12m  \\\n",
       "0                                  NaN                       NaN   \n",
       "1                                  NaN                       NaN   \n",
       "2                                  NaN                       NaN   \n",
       "3                                  NaN                       NaN   \n",
       "4                                  NaN                       NaN   \n",
       "\n",
       "   m_03_frecuencia_consumo_basuco_12m  o_02_consumio_heroina_12m  \\\n",
       "0                                 NaN                        NaN   \n",
       "1                                 NaN                        NaN   \n",
       "2                                 NaN                        NaN   \n",
       "3                                 NaN                        NaN   \n",
       "4                                 NaN                        NaN   \n",
       "\n",
       "   o_03_frecuencia_consumo_heroina_12m  \n",
       "0                                  NaN  \n",
       "1                                  NaN  \n",
       "2                                  NaN  \n",
       "3                                  NaN  \n",
       "4                                  NaN  \n",
       "\n",
       "[5 rows x 56 columns]"
      ]
     },
     "execution_count": 5,
     "metadata": {},
     "output_type": "execute_result"
    }
   ],
   "source": [
    "df_consumo.head()"
   ]
  },
  {
   "cell_type": "markdown",
   "metadata": {},
   "source": [
    "En este paso vamos a agregar aquellas variables que se puedan agregar en tipos más genéricos. Esto ayuda a analizar los por grupos en vez de por elementos individuales.\n",
    "\n",
    "Para ello podemos ver el numero de valores distintos que cada variable categorica tiene"
   ]
  },
  {
   "cell_type": "code",
   "execution_count": 7,
   "metadata": {},
   "outputs": [
    {
     "name": "stdout",
     "output_type": "stream",
     "text": [
      "directorio | 10000 | int64\n",
      "per_sexo | 2 | int64\n",
      "per_edad | 54 | int64\n",
      "vive_padre_hogar | 3 | int64\n",
      "vive_madre_hogar | 3 | int64\n",
      "departamento | 33 | object\n",
      "municipio | 135 | object\n",
      "tipo_vivienda | 4 | int64\n",
      "estrato | 6 | float64\n",
      "residentes_hogar | 14 | int64\n",
      "d_01_aporta_dinero_hogar | 2 | int64\n",
      "d_02_situacion_actual | 8 | int64\n",
      "d_08_estado_salud | 5 | int64\n",
      "d_09_deprimido | 2 | int64\n",
      "d_10_poco_interes | 2 | int64\n",
      "d_11_h_conocimiento_riesgo_fumar_marihuana_frecuentemente | 5 | int64\n",
      "d_11_k_conocimiento_riesgo_cocaina_frecuentemente | 5 | int64\n",
      "d_11_n_conocimiento_riesgo_fumar_basuco_frecuentemente | 5 | int64\n",
      "d_12_b_presenta_problema_consumo_sp_barrio | 2 | int64\n",
      "d_12_c_presenta_problema_expendio_sp_barrio | 2 | int64\n",
      "d2_01_etnia | 6 | int64\n",
      "d2_03_estado_civil | 6 | int64\n",
      "d2_04_num_hijos | 13 | int64\n",
      "d2_05_nivel_educativo | 8 | int64\n",
      "g_01_familiares_consumen_sp | 2 | int64\n",
      "g_01_a_num_familiares_consumen_sp | 3 | float64\n",
      "g_02_amigos_consumen_sp | 2 | int64\n",
      "g_02_a_num_amigos_consumen_sp | 3 | float64\n",
      "g_03_curiosidad_probar_sp | 2 | int64\n",
      "g_04_probaria_sp | 2 | int64\n",
      "g_05_posibilidad_probar_sp | 2 | int64\n",
      "g_06_a_posibilidad_conseguir_marihuana | 4 | int64\n",
      "g_06_b_posibilidad_conseguir_cocaina | 4 | int64\n",
      "g_06_c_posibilidad_conseguir_basuco | 4 | int64\n",
      "g_06_j_posibilidad_conseguir_heroina | 4 | int64\n",
      "g_07_alguien_ofrecio_comprar_probar_sp | 2 | int64\n",
      "g_08_a_ofrecieron_marihuana | 5 | float64\n",
      "g_08_b_ofrecieron_cocaina | 5 | float64\n",
      "g_08_c_ofrecieron_basuco | 5 | float64\n",
      "g_08_e_ofrecieron_heroina | 5 | float64\n",
      "g_11_f_consumio_alguna_vez_marihuana | 2 | int64\n",
      "g_11_f_anios_consumio_marihuana | 50 | float64\n",
      "g_11_g_consumio_alguna_vez_cocaina | 2 | int64\n",
      "g_11_g_anios_consumio_cocaina | 38 | float64\n",
      "g_11_h_consumio_alguna_vez_basuco | 2 | int64\n",
      "g_11_h_anios_consumio_basuco | 50 | float64\n",
      "g_11_j_consumio_alguna_vez_heroina | 2 | int64\n",
      "g_11_j_anios_consumio_heroina | 19 | float64\n",
      "k_03_consumio_marihuana_12m | 3 | float64\n",
      "k_04_frecuencia_consumo_marihuana_12m | 6 | float64\n",
      "l_02_consumio_cocaina_12m | 3 | float64\n",
      "l_03_frecuencia_consumo_cocaina_12m | 6 | float64\n",
      "m_02_consumio_basuco_12m | 3 | float64\n",
      "m_03_frecuencia_consumo_basuco_12m | 6 | float64\n",
      "o_02_consumio_heroina_12m | 3 | float64\n",
      "o_03_frecuencia_consumo_heroina_12m | 3 | float64\n"
     ]
    }
   ],
   "source": [
    "def unique_col_values(df):\n",
    "    for column in df:\n",
    "        print(\"{} | {} | {}\".format(\n",
    "            df[column].name, len(df[column].unique()), df[column].dtype\n",
    "        ))\n",
    "\n",
    "unique_col_values(df_consumo)"
   ]
  },
  {
   "cell_type": "code",
   "execution_count": 8,
   "metadata": {},
   "outputs": [
    {
     "data": {
      "image/png": "[encoded data removed]",
      "text/plain": [
       "<Figure size 1200x1200 with 1 Axes>"
      ]
     },
     "metadata": {},
     "output_type": "display_data"
    }
   ],
   "source": [
    "df_consumo.g_01_a_num_familiares_consumen_sp.hist();"
   ]
  },
  {
   "cell_type": "markdown",
   "metadata": {},
   "source": [
    "### Posibles variables a categorizar\n",
    "- estrato = bajo, medio, alto, \n",
    "- situacion = trabajando, estudiando, desempleado, otra actividad\n",
    "- edades persona y edades por consumo en total categorizar 4  "
   ]
  },
  {
   "cell_type": "markdown",
   "metadata": {},
   "source": [
    "### Agrupacion de variables categoricas"
   ]
  },
  {
   "cell_type": "markdown",
   "metadata": {},
   "source": [
    "##### Edad"
   ]
  },
  {
   "cell_type": "code",
   "execution_count": 9,
   "metadata": {},
   "outputs": [
    {
     "data": {
      "text/plain": [
       "array([19, 51, 52, 39, 27, 46, 38, 47, 55, 15, 57, 26, 30, 34, 28, 17, 24,\n",
       "       23, 12, 36, 62, 53, 50, 20, 16, 29, 22, 60, 61, 40, 65, 63, 32, 59,\n",
       "       25, 45, 42, 31, 37, 18, 21, 56, 58, 33, 13, 44, 35, 48, 14, 64, 43,\n",
       "       49, 54, 41], dtype=int64)"
      ]
     },
     "execution_count": 9,
     "metadata": {},
     "output_type": "execute_result"
    }
   ],
   "source": [
    "df_consumo.per_edad.unique()"
   ]
  },
  {
   "cell_type": "code",
   "execution_count": 10,
   "metadata": {},
   "outputs": [],
   "source": [
    "def clasificar_edades(edad):\n",
    "    if edad <= 18:\n",
    "        return 'Adolescente'\n",
    "    elif edad <= 27:\n",
    "        return 'Joven'\n",
    "    elif edad <= 59:\n",
    "        return 'Adulto'\n",
    "    else:\n",
    "        return 'Persona mayor'\n",
    "    \n",
    "df_consumo['per_edad_tipo'] = df_consumo['per_edad'].apply(clasificar_edades)"
   ]
  },
  {
   "cell_type": "code",
   "execution_count": 11,
   "metadata": {},
   "outputs": [],
   "source": [
    "df_consumo.per_edad_tipo = df_consumo.per_edad_tipo.astype(\"category\")"
   ]
  },
  {
   "cell_type": "code",
   "execution_count": 12,
   "metadata": {},
   "outputs": [
    {
     "data": {
      "text/plain": [
       "CategoricalDtype(categories=['Adolescente', 'Adulto', 'Joven', 'Persona mayor'], ordered=False)"
      ]
     },
     "execution_count": 12,
     "metadata": {},
     "output_type": "execute_result"
    }
   ],
   "source": [
    "df_consumo.per_edad_tipo.dtype"
   ]
  },
  {
   "cell_type": "code",
   "execution_count": 13,
   "metadata": {},
   "outputs": [
    {
     "data": {
      "text/plain": [
       "Adulto           5798\n",
       "Joven            2458\n",
       "Adolescente       902\n",
       "Persona mayor     842\n",
       "Name: per_edad_tipo, dtype: int64"
      ]
     },
     "execution_count": 13,
     "metadata": {},
     "output_type": "execute_result"
    }
   ],
   "source": [
    "df_consumo.per_edad_tipo.value_counts()"
   ]
  },
  {
   "cell_type": "code",
   "execution_count": 14,
   "metadata": {},
   "outputs": [
    {
     "data": {
      "image/png": "[encoded data removed]",
      "text/plain": [
       "<Figure size 1200x1200 with 1 Axes>"
      ]
     },
     "metadata": {},
     "output_type": "display_data"
    }
   ],
   "source": [
    "df_consumo.per_edad_tipo.hist();"
   ]
  },
  {
   "cell_type": "markdown",
   "metadata": {},
   "source": [
    "##### Estrato"
   ]
  },
  {
   "cell_type": "code",
   "execution_count": 15,
   "metadata": {},
   "outputs": [
    {
     "data": {
      "text/plain": [
       "array([2., 1., 5., 3., 6., 4.])"
      ]
     },
     "execution_count": 15,
     "metadata": {},
     "output_type": "execute_result"
    }
   ],
   "source": [
    "df_consumo.estrato.unique()"
   ]
  },
  {
   "cell_type": "code",
   "execution_count": 16,
   "metadata": {},
   "outputs": [],
   "source": [
    "bajo = [1,2]\n",
    "medio = [3,4]\n",
    "alto = [5,6]\n",
    "\n",
    "df_consumo.loc[df_consumo['estrato'].isin(bajo), \n",
    "             'estrato_tipo'] = 'Estrato bajo'\n",
    "\n",
    "df_consumo.loc[df_consumo['estrato'].isin(medio), \n",
    "             'estrato_tipo'] = 'Estrato medio'\n",
    "\n",
    "df_consumo.loc[df_consumo['estrato'].isin(alto), \n",
    "             'estrato_tipo'] = 'Estrato alto'"
   ]
  },
  {
   "cell_type": "code",
   "execution_count": 17,
   "metadata": {},
   "outputs": [],
   "source": [
    "df_consumo.estrato_tipo = df_consumo.estrato_tipo.astype(\"category\")"
   ]
  },
  {
   "cell_type": "code",
   "execution_count": 18,
   "metadata": {},
   "outputs": [
    {
     "data": {
      "text/plain": [
       "CategoricalDtype(categories=['Estrato alto', 'Estrato bajo', 'Estrato medio'], ordered=False)"
      ]
     },
     "execution_count": 18,
     "metadata": {},
     "output_type": "execute_result"
    }
   ],
   "source": [
    "df_consumo.estrato_tipo.dtype"
   ]
  },
  {
   "cell_type": "code",
   "execution_count": 19,
   "metadata": {},
   "outputs": [
    {
     "data": {
      "text/plain": [
       "Estrato bajo     6620\n",
       "Estrato medio    3102\n",
       "Estrato alto      278\n",
       "Name: estrato_tipo, dtype: int64"
      ]
     },
     "execution_count": 19,
     "metadata": {},
     "output_type": "execute_result"
    }
   ],
   "source": [
    "df_consumo.estrato_tipo.value_counts()"
   ]
  },
  {
   "cell_type": "markdown",
   "metadata": {},
   "source": [
    "##### Situación económica"
   ]
  },
  {
   "cell_type": "code",
   "execution_count": 20,
   "metadata": {},
   "outputs": [
    {
     "data": {
      "image/png": "[encoded data removed]",
      "text/plain": [
       "<Figure size 1200x1200 with 1 Axes>"
      ]
     },
     "metadata": {},
     "output_type": "display_data"
    }
   ],
   "source": [
    "df_consumo.d_02_situacion_actual.hist();"
   ]
  },
  {
   "cell_type": "code",
   "execution_count": 21,
   "metadata": {},
   "outputs": [
    {
     "data": {
      "text/plain": [
       "array([1, 2, 7, 3, 4, 5, 8, 6], dtype=int64)"
      ]
     },
     "execution_count": 21,
     "metadata": {},
     "output_type": "execute_result"
    }
   ],
   "source": [
    "df_consumo.d_02_situacion_actual.unique()"
   ]
  },
  {
   "cell_type": "markdown",
   "metadata": {},
   "source": [
    "Lista de códigos que representan situaciones que se considerarán como 'Otros'.\n",
    "\n",
    "Asignación de tipos de situación en la columna 'situacion_tipo' según los valores de 'd_02_situacion_actual'"
   ]
  },
  {
   "cell_type": "code",
   "execution_count": 22,
   "metadata": {},
   "outputs": [],
   "source": [
    "\n",
    "otros=[4,5,6,7,8]\n",
    "\n",
    "df_consumo.loc[df_consumo['d_02_situacion_actual']==1, 'situacion_tipo'] = 'Trabajando'\n",
    "\n",
    "df_consumo.loc[df_consumo['d_02_situacion_actual']==2, 'situacion_tipo'] = 'Buscando trabajo'\n",
    "\n",
    "df_consumo.loc[df_consumo['d_02_situacion_actual']==3, 'situacion_tipo'] = 'Estudiando'\n",
    "\n",
    "df_consumo.loc[df_consumo['d_02_situacion_actual'].isin(otros), 'situacion_tipo'] = 'Otros'"
   ]
  },
  {
   "cell_type": "code",
   "execution_count": 23,
   "metadata": {},
   "outputs": [],
   "source": [
    "df_consumo.situacion_tipo = df_consumo.situacion_tipo.astype(\"category\")"
   ]
  },
  {
   "cell_type": "code",
   "execution_count": 24,
   "metadata": {},
   "outputs": [
    {
     "data": {
      "text/plain": [
       "CategoricalDtype(categories=['Buscando trabajo', 'Estudiando', 'Otros', 'Trabajando'], ordered=False)"
      ]
     },
     "execution_count": 24,
     "metadata": {},
     "output_type": "execute_result"
    }
   ],
   "source": [
    "df_consumo.situacion_tipo.dtype"
   ]
  },
  {
   "cell_type": "code",
   "execution_count": 25,
   "metadata": {},
   "outputs": [
    {
     "data": {
      "text/plain": [
       "Trabajando          5958\n",
       "Otros               2204\n",
       "Estudiando          1297\n",
       "Buscando trabajo     541\n",
       "Name: situacion_tipo, dtype: int64"
      ]
     },
     "execution_count": 25,
     "metadata": {},
     "output_type": "execute_result"
    }
   ],
   "source": [
    "df_consumo.situacion_tipo.value_counts()"
   ]
  },
  {
   "cell_type": "code",
   "execution_count": 26,
   "metadata": {},
   "outputs": [
    {
     "data": {
      "image/png": "[encoded data removed]",
      "text/plain": [
       "<Figure size 1200x1200 with 1 Axes>"
      ]
     },
     "metadata": {},
     "output_type": "display_data"
    }
   ],
   "source": [
    "df_consumo.situacion_tipo.hist();"
   ]
  },
  {
   "cell_type": "markdown",
   "metadata": {},
   "source": [
    "##### Variable frecuencia_consumo_marihuana_tipo"
   ]
  },
  {
   "cell_type": "code",
   "execution_count": 27,
   "metadata": {},
   "outputs": [
    {
     "data": {
      "image/png": "[encoded data removed]",
      "text/plain": [
       "<Figure size 1200x1200 with 1 Axes>"
      ]
     },
     "metadata": {},
     "output_type": "display_data"
    }
   ],
   "source": [
    "df_consumo.g_11_f_consumio_alguna_vez_marihuana.hist();"
   ]
  },
  {
   "cell_type": "code",
   "execution_count": 28,
   "metadata": {},
   "outputs": [
    {
     "data": {
      "image/png": "[encoded data removed]",
      "text/plain": [
       "<Figure size 1200x1200 with 1 Axes>"
      ]
     },
     "metadata": {},
     "output_type": "display_data"
    }
   ],
   "source": [
    "df_consumo.k_03_consumio_marihuana_12m.hist();"
   ]
  },
  {
   "cell_type": "code",
   "execution_count": 29,
   "metadata": {},
   "outputs": [
    {
     "data": {
      "image/png": "[encoded data removed]",
      "text/plain": [
       "<Figure size 1200x1200 with 1 Axes>"
      ]
     },
     "metadata": {},
     "output_type": "display_data"
    }
   ],
   "source": [
    "df_consumo.k_04_frecuencia_consumo_marihuana_12m.hist();"
   ]
  },
  {
   "cell_type": "code",
   "execution_count": 30,
   "metadata": {},
   "outputs": [
    {
     "data": {
      "text/plain": [
       "array([nan,  2.,  1.,  3.,  5.,  4.])"
      ]
     },
     "execution_count": 30,
     "metadata": {},
     "output_type": "execute_result"
    }
   ],
   "source": [
    "df_consumo.k_04_frecuencia_consumo_marihuana_12m.unique()"
   ]
  },
  {
   "cell_type": "code",
   "execution_count": 31,
   "metadata": {},
   "outputs": [
    {
     "data": {
      "text/plain": [
       "array([2, 1], dtype=int64)"
      ]
     },
     "execution_count": 31,
     "metadata": {},
     "output_type": "execute_result"
    }
   ],
   "source": [
    "df_consumo.g_11_f_consumio_alguna_vez_marihuana.unique()"
   ]
  },
  {
   "cell_type": "code",
   "execution_count": 32,
   "metadata": {},
   "outputs": [
    {
     "data": {
      "text/plain": [
       "array([nan,  2.,  1.])"
      ]
     },
     "execution_count": 32,
     "metadata": {},
     "output_type": "execute_result"
    }
   ],
   "source": [
    "df_consumo.k_03_consumio_marihuana_12m.unique()"
   ]
  },
  {
   "cell_type": "markdown",
   "metadata": {},
   "source": [
    "Asignación de tipos de frecuencia de consumo de marihuana en la columna 'frecuencia_consumo_marihuana_tipo'"
   ]
  },
  {
   "cell_type": "code",
   "execution_count": 33,
   "metadata": {},
   "outputs": [],
   "source": [
    "df_consumo.loc[df_consumo['g_11_f_consumio_alguna_vez_marihuana']==2, 'frecuencia_consumo_marihuana_tipo'] = 'Nunca'\n",
    "\n",
    "df_consumo.loc[(df_consumo['g_11_f_consumio_alguna_vez_marihuana']==1) & (df_consumo['k_03_consumio_marihuana_12m']==2), 'frecuencia_consumo_marihuana_tipo'] = 'Alguna vez en su vida'\n",
    "\n",
    "df_consumo.loc[df_consumo['k_04_frecuencia_consumo_marihuana_12m']==1, 'frecuencia_consumo_marihuana_tipo'] = 'Una sola vez en los últimos 12 meses'\n",
    "\n",
    "df_consumo.loc[df_consumo['k_04_frecuencia_consumo_marihuana_12m']==2, 'frecuencia_consumo_marihuana_tipo'] = 'Algunas veces durante los últimos 12 meses'\n",
    "\n",
    "df_consumo.loc[df_consumo['k_04_frecuencia_consumo_marihuana_12m']==3, 'frecuencia_consumo_marihuana_tipo'] = 'Algunas veces mensualmente'\n",
    "\n",
    "df_consumo.loc[df_consumo['k_04_frecuencia_consumo_marihuana_12m']==4, 'frecuencia_consumo_marihuana_tipo'] = 'Algunas veces semanalmente'\n",
    "\n",
    "df_consumo.loc[df_consumo['k_04_frecuencia_consumo_marihuana_12m']==5, 'frecuencia_consumo_marihuana_tipo'] = 'Diariamente'"
   ]
  },
  {
   "cell_type": "code",
   "execution_count": 34,
   "metadata": {},
   "outputs": [
    {
     "data": {
      "image/png": "[encoded data removed]",
      "text/plain": [
       "<Figure size 1200x1200 with 1 Axes>"
      ]
     },
     "metadata": {},
     "output_type": "display_data"
    }
   ],
   "source": [
    "df_consumo.frecuencia_consumo_marihuana_tipo.hist();"
   ]
  },
  {
   "cell_type": "code",
   "execution_count": 35,
   "metadata": {},
   "outputs": [],
   "source": [
    "df_consumo.frecuencia_consumo_marihuana_tipo = df_consumo.frecuencia_consumo_marihuana_tipo.astype(\"category\")"
   ]
  },
  {
   "cell_type": "code",
   "execution_count": 36,
   "metadata": {},
   "outputs": [
    {
     "data": {
      "text/plain": [
       "CategoricalDtype(categories=['Alguna vez en su vida',\n",
       "                  'Algunas veces durante los últimos 12 meses',\n",
       "                  'Algunas veces mensualmente', 'Algunas veces semanalmente',\n",
       "                  'Diariamente', 'Nunca',\n",
       "                  'Una sola vez en los últimos 12 meses'],\n",
       ", ordered=False)"
      ]
     },
     "execution_count": 36,
     "metadata": {},
     "output_type": "execute_result"
    }
   ],
   "source": [
    "df_consumo.frecuencia_consumo_marihuana_tipo.dtype"
   ]
  },
  {
   "cell_type": "code",
   "execution_count": 37,
   "metadata": {},
   "outputs": [
    {
     "data": {
      "text/plain": [
       "Nunca                                         6088\n",
       "Alguna vez en su vida                         2725\n",
       "Diariamente                                    330\n",
       "Algunas veces durante los últimos 12 meses     299\n",
       "Algunas veces semanalmente                     212\n",
       "Algunas veces mensualmente                     203\n",
       "Una sola vez en los últimos 12 meses           143\n",
       "Name: frecuencia_consumo_marihuana_tipo, dtype: int64"
      ]
     },
     "execution_count": 37,
     "metadata": {},
     "output_type": "execute_result"
    }
   ],
   "source": [
    "df_consumo.frecuencia_consumo_marihuana_tipo.value_counts()"
   ]
  },
  {
   "cell_type": "markdown",
   "metadata": {},
   "source": [
    "##### Variable frecuencia_consumo_cocaina_tipo"
   ]
  },
  {
   "cell_type": "code",
   "execution_count": 38,
   "metadata": {},
   "outputs": [],
   "source": [
    "df_consumo.loc[df_consumo['g_11_g_consumio_alguna_vez_cocaina']==2, 'frecuencia_consumo_cocaina_tipo'] = 'Nunca'\n",
    "\n",
    "df_consumo.loc[(df_consumo['g_11_g_consumio_alguna_vez_cocaina']==1) & (df_consumo['l_02_consumio_cocaina_12m']==2), 'frecuencia_consumo_cocaina_tipo'] = 'Alguna vez en su vida'\n",
    "\n",
    "df_consumo.loc[df_consumo['l_03_frecuencia_consumo_cocaina_12m']==1, 'frecuencia_consumo_cocaina_tipo'] = 'Una sola vez en los últimos 12 meses'\n",
    "\n",
    "df_consumo.loc[df_consumo['l_03_frecuencia_consumo_cocaina_12m']==2, 'frecuencia_consumo_cocaina_tipo'] = 'Algunas veces durante los últimos 12 meses'\n",
    "\n",
    "df_consumo.loc[df_consumo['l_03_frecuencia_consumo_cocaina_12m']==3, 'frecuencia_consumo_cocaina_tipo'] = 'Algunas veces mensualmente'\n",
    "\n",
    "df_consumo.loc[df_consumo['l_03_frecuencia_consumo_cocaina_12m']==4, 'frecuencia_consumo_cocaina_tipo'] = 'Algunas veces semanalmente'\n",
    "\n",
    "df_consumo.loc[df_consumo['l_03_frecuencia_consumo_cocaina_12m']==5, 'frecuencia_consumo_cocaina_tipo'] = 'Diariamente'"
   ]
  },
  {
   "cell_type": "code",
   "execution_count": 39,
   "metadata": {},
   "outputs": [],
   "source": [
    "df_consumo.frecuencia_consumo_cocaina_tipo = df_consumo.frecuencia_consumo_cocaina_tipo.astype(\"category\")"
   ]
  },
  {
   "cell_type": "code",
   "execution_count": 40,
   "metadata": {},
   "outputs": [
    {
     "data": {
      "text/plain": [
       "Nunca                                         9052\n",
       "Alguna vez en su vida                          711\n",
       "Algunas veces durante los últimos 12 meses      81\n",
       "Algunas veces mensualmente                      47\n",
       "Una sola vez en los últimos 12 meses            47\n",
       "Algunas veces semanalmente                      44\n",
       "Diariamente                                     18\n",
       "Name: frecuencia_consumo_cocaina_tipo, dtype: int64"
      ]
     },
     "execution_count": 40,
     "metadata": {},
     "output_type": "execute_result"
    }
   ],
   "source": [
    "df_consumo.frecuencia_consumo_cocaina_tipo.value_counts()"
   ]
  },
  {
   "cell_type": "markdown",
   "metadata": {},
   "source": [
    "##### Variable frecuencia_consumo_basuco_tipo"
   ]
  },
  {
   "cell_type": "code",
   "execution_count": 41,
   "metadata": {},
   "outputs": [],
   "source": [
    "df_consumo.loc[df_consumo['g_11_h_consumio_alguna_vez_basuco']==2, 'frecuencia_consumo_basuco_tipo'] = 'Nunca'\n",
    "\n",
    "df_consumo.loc[(df_consumo['g_11_h_consumio_alguna_vez_basuco']==1) & (df_consumo['m_02_consumio_basuco_12m']==2), 'frecuencia_consumo_basuco_tipo'] = 'Alguna vez en su vida'\n",
    "\n",
    "df_consumo.loc[df_consumo['m_03_frecuencia_consumo_basuco_12m']==1, 'frecuencia_consumo_basuco_tipo'] = 'Una sola vez en los últimos 12 meses'\n",
    "\n",
    "df_consumo.loc[df_consumo['m_03_frecuencia_consumo_basuco_12m']==2, 'frecuencia_consumo_basuco_tipo'] = 'Algunas veces durante los últimos 12 meses'\n",
    "\n",
    "df_consumo.loc[df_consumo['m_03_frecuencia_consumo_basuco_12m']==3, 'frecuencia_consumo_basuco_tipo'] = 'Algunas veces mensualmente'\n",
    "\n",
    "df_consumo.loc[df_consumo['m_03_frecuencia_consumo_basuco_12m']==4, 'frecuencia_consumo_basuco_tipo'] = 'Algunas veces semanalmente'\n",
    "\n",
    "df_consumo.loc[df_consumo['m_03_frecuencia_consumo_basuco_12m']==5, 'frecuencia_consumo_basuco_tipo'] = 'Diariamente'"
   ]
  },
  {
   "cell_type": "code",
   "execution_count": 42,
   "metadata": {},
   "outputs": [],
   "source": [
    "df_consumo.frecuencia_consumo_basuco_tipo = df_consumo.frecuencia_consumo_basuco_tipo.astype(\"category\")"
   ]
  },
  {
   "cell_type": "code",
   "execution_count": 43,
   "metadata": {},
   "outputs": [
    {
     "data": {
      "text/plain": [
       "Nunca                                         9699\n",
       "Alguna vez en su vida                          249\n",
       "Algunas veces durante los últimos 12 meses      14\n",
       "Algunas veces semanalmente                      12\n",
       "Diariamente                                     12\n",
       "Algunas veces mensualmente                      11\n",
       "Una sola vez en los últimos 12 meses             3\n",
       "Name: frecuencia_consumo_basuco_tipo, dtype: int64"
      ]
     },
     "execution_count": 43,
     "metadata": {},
     "output_type": "execute_result"
    }
   ],
   "source": [
    "df_consumo.frecuencia_consumo_basuco_tipo.value_counts()"
   ]
  },
  {
   "cell_type": "markdown",
   "metadata": {},
   "source": [
    "##### Variable frecuencia_consumo_heroina_tipo"
   ]
  },
  {
   "cell_type": "code",
   "execution_count": 44,
   "metadata": {},
   "outputs": [],
   "source": [
    "df_consumo.loc[df_consumo['g_11_j_consumio_alguna_vez_heroina']==2, 'frecuencia_consumo_heroina_tipo'] = 'Nunca'\n",
    "\n",
    "df_consumo.loc[(df_consumo['g_11_j_consumio_alguna_vez_heroina']==1) & (df_consumo['o_02_consumio_heroina_12m']==2), 'frecuencia_consumo_heroina_tipo'] = 'Alguna vez en su vida'\n",
    "\n",
    "df_consumo.loc[df_consumo['o_03_frecuencia_consumo_heroina_12m']==1, 'frecuencia_consumo_heroina_tipo'] = 'Una sola vez en los últimos 12 meses'\n",
    "\n",
    "df_consumo.loc[df_consumo['o_03_frecuencia_consumo_heroina_12m']==2, 'frecuencia_consumo_heroina_tipo'] = 'Algunas veces durante los últimos 12 meses'\n",
    "\n",
    "df_consumo.loc[df_consumo['o_03_frecuencia_consumo_heroina_12m']==3, 'frecuencia_consumo_heroina_tipo'] = 'Algunas veces mensualmente'\n",
    "\n",
    "df_consumo.loc[df_consumo['o_03_frecuencia_consumo_heroina_12m']==4, 'frecuencia_consumo_heroina_tipo'] = 'Algunas veces semanalmente'\n",
    "\n",
    "df_consumo.loc[df_consumo['o_03_frecuencia_consumo_heroina_12m']==5, 'frecuencia_consumo_heroina_tipo'] = 'Diariamente'"
   ]
  },
  {
   "cell_type": "code",
   "execution_count": 45,
   "metadata": {},
   "outputs": [],
   "source": [
    "df_consumo.frecuencia_consumo_heroina_tipo = df_consumo.frecuencia_consumo_heroina_tipo.astype(\"category\")"
   ]
  },
  {
   "cell_type": "code",
   "execution_count": 46,
   "metadata": {},
   "outputs": [
    {
     "data": {
      "text/plain": [
       "Nunca                                         9956\n",
       "Alguna vez en su vida                           40\n",
       "Algunas veces durante los últimos 12 meses       3\n",
       "Diariamente                                      1\n",
       "Name: frecuencia_consumo_heroina_tipo, dtype: int64"
      ]
     },
     "execution_count": 46,
     "metadata": {},
     "output_type": "execute_result"
    }
   ],
   "source": [
    "df_consumo.frecuencia_consumo_heroina_tipo.value_counts()"
   ]
  },
  {
   "cell_type": "code",
   "execution_count": 47,
   "metadata": {},
   "outputs": [
    {
     "data": {
      "text/plain": [
       "CategoricalDtype(categories=['Alguna vez en su vida',\n",
       "                  'Algunas veces durante los últimos 12 meses', 'Diariamente',\n",
       "                  'Nunca'],\n",
       ", ordered=False)"
      ]
     },
     "execution_count": 47,
     "metadata": {},
     "output_type": "execute_result"
    }
   ],
   "source": [
    "df_consumo.frecuencia_consumo_heroina_tipo.dtype"
   ]
  },
  {
   "cell_type": "markdown",
   "metadata": {},
   "source": [
    "Para las variables de frecuencias (cocaina, heroina, marihuana y bazuco) se realizo una categorización teniendo en cuenta la pregunta general de si alguna vez consumió dichas sustancias, además de si lo hace frecuentemente en un periodo de 12 meses. Esto con el fín de unificar variables y reducir el numero de las mismas."
   ]
  },
  {
   "cell_type": "code",
   "execution_count": 50,
   "metadata": {},
   "outputs": [
    {
     "data": {
      "text/plain": [
       "directorio                              int64\n",
       "per_sexo                                int64\n",
       "per_edad                                int64\n",
       "vive_padre_hogar                        int64\n",
       "vive_madre_hogar                        int64\n",
       "                                       ...   \n",
       "situacion_tipo                       category\n",
       "frecuencia_consumo_marihuana_tipo    category\n",
       "frecuencia_consumo_cocaina_tipo      category\n",
       "frecuencia_consumo_basuco_tipo       category\n",
       "frecuencia_consumo_heroina_tipo      category\n",
       "Length: 63, dtype: object"
      ]
     },
     "execution_count": 50,
     "metadata": {},
     "output_type": "execute_result"
    }
   ],
   "source": [
    "df_consumo.dtypes"
   ]
  },
  {
   "cell_type": "markdown",
   "metadata": {},
   "source": [
    "### Conclusion"
   ]
  },
  {
   "cell_type": "markdown",
   "metadata": {},
   "source": [
    "- se categorizaron variables como `edad, estrato, situación actual, frecuencia_consumo_tipo para (marihuana, cocaina, basuco y heroina), con lo cual se unificaron 3 columnas`."
   ]
  },
  {
   "cell_type": "markdown",
   "metadata": {},
   "source": [
    "### Exportar Data"
   ]
  },
  {
   "cell_type": "code",
   "execution_count": 51,
   "metadata": {},
   "outputs": [],
   "source": [
    "df_consumo.to_pickle(\"Data/df_consumo.3.variables_agrupadas.pkl\")"
   ]
  },
  {
   "cell_type": "code",
   "execution_count": null,
   "metadata": {},
   "outputs": [],
   "source": []
  }
 ],
 "metadata": {
  "kernelspec": {
   "display_name": "Python 3 (ipykernel)",
   "language": "python",
   "name": "python3"
  },
  "language_info": {
   "codemirror_mode": {
    "name": "ipython",
    "version": 3
   },
   "file_extension": ".py",
   "mimetype": "text/x-python",
   "name": "python",
   "nbconvert_exporter": "python",
   "pygments_lexer": "ipython3",
   "version": "3.11.4"
  }
 },
 "nbformat": 4,
 "nbformat_minor": 2
}
