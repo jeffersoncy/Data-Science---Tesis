{
 "cells": [
  {
   "cell_type": "code",
   "execution_count": 1,
   "metadata": {},
   "outputs": [
    {
     "name": "stdout",
     "output_type": "stream",
     "text": [
      "Last updated: 2024-07-28T23:58:49.145707-05:00\n",
      "\n",
      "Python implementation: CPython\n",
      "Python version       : 3.11.4\n",
      "IPython version      : 8.12.2\n",
      "\n",
      "Compiler    : MSC v.1916 64 bit (AMD64)\n",
      "OS          : Windows\n",
      "Release     : 10\n",
      "Machine     : AMD64\n",
      "Processor   : Intel64 Family 6 Model 165 Stepping 2, GenuineIntel\n",
      "CPU cores   : 8\n",
      "Architecture: 64bit\n",
      "\n"
     ]
    }
   ],
   "source": [
    "%load_ext watermark\n",
    "%watermark"
   ]
  },
  {
   "cell_type": "code",
   "execution_count": 2,
   "metadata": {},
   "outputs": [],
   "source": [
    "from IPython.display import Image\n",
    "import pandas as pd\n",
    "import numpy as np\n",
    "import matplotlib.pyplot as plt\n",
    "\n",
    "from sklearn import preprocessing, feature_extraction\n"
   ]
  },
  {
   "cell_type": "code",
   "execution_count": 3,
   "metadata": {},
   "outputs": [],
   "source": [
    "import pandas as pd\n",
    "import numpy as np\n",
    "from sklearn.ensemble import RandomForestClassifier\n",
    "from sklearn import preprocessing, feature_extraction\n",
    "from sklearn.preprocessing import StandardScaler\n",
    "from sklearn.impute import SimpleImputer\n",
    "from sklearn.pipeline import Pipeline, FeatureUnion\n",
    "#import category_encoders\n",
    "from sklearn.model_selection import cross_validate\n",
    "from category_encoders import OneHotEncoder\n",
    "from category_encoders.ordinal import OrdinalEncoder\n",
    "from sklearn.pipeline import FeatureUnion\n",
    "from sklearn.model_selection import train_test_split\n",
    "from sklearn import metrics\n",
    "from sklearn.compose import ColumnTransformer"
   ]
  },
  {
   "cell_type": "code",
   "execution_count": 4,
   "metadata": {},
   "outputs": [],
   "source": [
    "consumidores = pd.read_csv(\"../data/df_consumo_varObjetivo.csv\")"
   ]
  },
  {
   "cell_type": "code",
   "execution_count": 5,
   "metadata": {
    "scrolled": true
   },
   "outputs": [
    {
     "data": {
      "text/html": [
       "<div>\n",
       "<style scoped>\n",
       "    .dataframe tbody tr th:only-of-type {\n",
       "        vertical-align: middle;\n",
       "    }\n",
       "\n",
       "    .dataframe tbody tr th {\n",
       "        vertical-align: top;\n",
       "    }\n",
       "\n",
       "    .dataframe thead th {\n",
       "        text-align: right;\n",
       "    }\n",
       "</style>\n",
       "<table border=\"1\" class=\"dataframe\">\n",
       "  <thead>\n",
       "    <tr style=\"text-align: right;\">\n",
       "      <th></th>\n",
       "      <th>departamento</th>\n",
       "      <th>residentes_hogar</th>\n",
       "      <th>d2_04_num_hijos</th>\n",
       "      <th>per_edad_tipo</th>\n",
       "      <th>estrato_tipo</th>\n",
       "      <th>situacion_tipo</th>\n",
       "      <th>frecuencia_consumo_marihuana_tipo</th>\n",
       "      <th>frecuencia_consumo_cocaina_tipo</th>\n",
       "      <th>frecuencia_consumo_basuco_tipo</th>\n",
       "      <th>per_sexo_tipo</th>\n",
       "      <th>...</th>\n",
       "      <th>g_06_a_posibilidad_conseguir_marihuana_tipo</th>\n",
       "      <th>g_06_b_posibilidad_conseguir_cocaina_tipo</th>\n",
       "      <th>g_06_c_posibilidad_conseguir_basuco_tipo</th>\n",
       "      <th>g_07_alguien_ofrecio_comprar_probar_sp_tipo</th>\n",
       "      <th>g_01_a_num_familiares_consumen_sp_imp_tipo</th>\n",
       "      <th>g_02_a_num_amigos_consumen_sp_imp_tipo</th>\n",
       "      <th>g_08_a_ofrecieron_marihuana_imp_tipo</th>\n",
       "      <th>g_08_b_ofrecieron_cocaina_imp_tipo</th>\n",
       "      <th>g_08_c_ofrecieron_basuco_imp_tipo</th>\n",
       "      <th>CatRiesgo</th>\n",
       "    </tr>\n",
       "  </thead>\n",
       "  <tbody>\n",
       "    <tr>\n",
       "      <th>0</th>\n",
       "      <td>Guaviare</td>\n",
       "      <td>5</td>\n",
       "      <td>0</td>\n",
       "      <td>Joven</td>\n",
       "      <td>Estrato bajo</td>\n",
       "      <td>Trabajando</td>\n",
       "      <td>Nunca</td>\n",
       "      <td>Nunca</td>\n",
       "      <td>Nunca</td>\n",
       "      <td>Hombre</td>\n",
       "      <td>...</td>\n",
       "      <td>g_06_a_No_conoce_facilidad_dificultad</td>\n",
       "      <td>g_06_b_No_conoce_facilidad_dificultad</td>\n",
       "      <td>g_06_c_No_conoce_facilidad_dificultad</td>\n",
       "      <td>g_07_No</td>\n",
       "      <td>g_01_a_No_aplica</td>\n",
       "      <td>g_02_a_Dos_o_mas</td>\n",
       "      <td>g_08_a_No_aplica</td>\n",
       "      <td>g_08_b_No_aplica</td>\n",
       "      <td>g_08_c_No_aplica</td>\n",
       "      <td>0</td>\n",
       "    </tr>\n",
       "    <tr>\n",
       "      <th>1</th>\n",
       "      <td>Cordoba</td>\n",
       "      <td>4</td>\n",
       "      <td>3</td>\n",
       "      <td>Adulto</td>\n",
       "      <td>Estrato bajo</td>\n",
       "      <td>Trabajando</td>\n",
       "      <td>Nunca</td>\n",
       "      <td>Nunca</td>\n",
       "      <td>Nunca</td>\n",
       "      <td>Mujer</td>\n",
       "      <td>...</td>\n",
       "      <td>g_06_a_Seria_facil</td>\n",
       "      <td>g_06_b_Seria_facil</td>\n",
       "      <td>g_06_c_Seria_facil</td>\n",
       "      <td>g_07_No</td>\n",
       "      <td>g_01_a_No_aplica</td>\n",
       "      <td>g_02_a_No_aplica</td>\n",
       "      <td>g_08_a_No_aplica</td>\n",
       "      <td>g_08_b_No_aplica</td>\n",
       "      <td>g_08_c_No_aplica</td>\n",
       "      <td>0</td>\n",
       "    </tr>\n",
       "    <tr>\n",
       "      <th>2</th>\n",
       "      <td>Caqueta</td>\n",
       "      <td>4</td>\n",
       "      <td>2</td>\n",
       "      <td>Adulto</td>\n",
       "      <td>Estrato bajo</td>\n",
       "      <td>Trabajando</td>\n",
       "      <td>Nunca</td>\n",
       "      <td>Nunca</td>\n",
       "      <td>Nunca</td>\n",
       "      <td>Hombre</td>\n",
       "      <td>...</td>\n",
       "      <td>g_06_a_No_conoce_facilidad_dificultad</td>\n",
       "      <td>g_06_b_No_conoce_facilidad_dificultad</td>\n",
       "      <td>g_06_c_No_conoce_facilidad_dificultad</td>\n",
       "      <td>g_07_No</td>\n",
       "      <td>g_01_a_No_aplica</td>\n",
       "      <td>g_02_a_No_aplica</td>\n",
       "      <td>g_08_a_No_aplica</td>\n",
       "      <td>g_08_b_No_aplica</td>\n",
       "      <td>g_08_c_No_aplica</td>\n",
       "      <td>0</td>\n",
       "    </tr>\n",
       "    <tr>\n",
       "      <th>3</th>\n",
       "      <td>Bolivar</td>\n",
       "      <td>6</td>\n",
       "      <td>0</td>\n",
       "      <td>Adulto</td>\n",
       "      <td>Estrato alto</td>\n",
       "      <td>Trabajando</td>\n",
       "      <td>Nunca</td>\n",
       "      <td>Nunca</td>\n",
       "      <td>Nunca</td>\n",
       "      <td>Mujer</td>\n",
       "      <td>...</td>\n",
       "      <td>g_06_a_No_podria_conseguir</td>\n",
       "      <td>g_06_b_No_podria_conseguir</td>\n",
       "      <td>g_06_c_No_podria_conseguir</td>\n",
       "      <td>g_07_No</td>\n",
       "      <td>g_01_a_No_aplica</td>\n",
       "      <td>g_02_a_No_aplica</td>\n",
       "      <td>g_08_a_No_aplica</td>\n",
       "      <td>g_08_b_No_aplica</td>\n",
       "      <td>g_08_c_No_aplica</td>\n",
       "      <td>0</td>\n",
       "    </tr>\n",
       "    <tr>\n",
       "      <th>4</th>\n",
       "      <td>Tolima</td>\n",
       "      <td>4</td>\n",
       "      <td>1</td>\n",
       "      <td>Joven</td>\n",
       "      <td>Estrato bajo</td>\n",
       "      <td>Buscando trabajo</td>\n",
       "      <td>Nunca</td>\n",
       "      <td>Nunca</td>\n",
       "      <td>Nunca</td>\n",
       "      <td>Mujer</td>\n",
       "      <td>...</td>\n",
       "      <td>g_06_a_Seria_facil</td>\n",
       "      <td>g_06_b_Seria_facil</td>\n",
       "      <td>g_06_c_Seria_facil</td>\n",
       "      <td>g_07_No</td>\n",
       "      <td>g_01_a_No_aplica</td>\n",
       "      <td>g_02_a_Dos_o_mas</td>\n",
       "      <td>g_08_a_No_aplica</td>\n",
       "      <td>g_08_b_No_aplica</td>\n",
       "      <td>g_08_c_No_aplica</td>\n",
       "      <td>1</td>\n",
       "    </tr>\n",
       "  </tbody>\n",
       "</table>\n",
       "<p>5 rows × 40 columns</p>\n",
       "</div>"
      ],
      "text/plain": [
       "  departamento  residentes_hogar  d2_04_num_hijos per_edad_tipo  estrato_tipo  \\\n",
       "0     Guaviare                 5                0         Joven  Estrato bajo   \n",
       "1      Cordoba                 4                3        Adulto  Estrato bajo   \n",
       "2      Caqueta                 4                2        Adulto  Estrato bajo   \n",
       "3      Bolivar                 6                0        Adulto  Estrato alto   \n",
       "4       Tolima                 4                1         Joven  Estrato bajo   \n",
       "\n",
       "     situacion_tipo frecuencia_consumo_marihuana_tipo  \\\n",
       "0        Trabajando                             Nunca   \n",
       "1        Trabajando                             Nunca   \n",
       "2        Trabajando                             Nunca   \n",
       "3        Trabajando                             Nunca   \n",
       "4  Buscando trabajo                             Nunca   \n",
       "\n",
       "  frecuencia_consumo_cocaina_tipo frecuencia_consumo_basuco_tipo  \\\n",
       "0                           Nunca                          Nunca   \n",
       "1                           Nunca                          Nunca   \n",
       "2                           Nunca                          Nunca   \n",
       "3                           Nunca                          Nunca   \n",
       "4                           Nunca                          Nunca   \n",
       "\n",
       "  per_sexo_tipo  ... g_06_a_posibilidad_conseguir_marihuana_tipo  \\\n",
       "0        Hombre  ...       g_06_a_No_conoce_facilidad_dificultad   \n",
       "1         Mujer  ...                          g_06_a_Seria_facil   \n",
       "2        Hombre  ...       g_06_a_No_conoce_facilidad_dificultad   \n",
       "3         Mujer  ...                  g_06_a_No_podria_conseguir   \n",
       "4         Mujer  ...                          g_06_a_Seria_facil   \n",
       "\n",
       "  g_06_b_posibilidad_conseguir_cocaina_tipo  \\\n",
       "0     g_06_b_No_conoce_facilidad_dificultad   \n",
       "1                        g_06_b_Seria_facil   \n",
       "2     g_06_b_No_conoce_facilidad_dificultad   \n",
       "3                g_06_b_No_podria_conseguir   \n",
       "4                        g_06_b_Seria_facil   \n",
       "\n",
       "  g_06_c_posibilidad_conseguir_basuco_tipo  \\\n",
       "0    g_06_c_No_conoce_facilidad_dificultad   \n",
       "1                       g_06_c_Seria_facil   \n",
       "2    g_06_c_No_conoce_facilidad_dificultad   \n",
       "3               g_06_c_No_podria_conseguir   \n",
       "4                       g_06_c_Seria_facil   \n",
       "\n",
       "  g_07_alguien_ofrecio_comprar_probar_sp_tipo  \\\n",
       "0                                     g_07_No   \n",
       "1                                     g_07_No   \n",
       "2                                     g_07_No   \n",
       "3                                     g_07_No   \n",
       "4                                     g_07_No   \n",
       "\n",
       "  g_01_a_num_familiares_consumen_sp_imp_tipo  \\\n",
       "0                           g_01_a_No_aplica   \n",
       "1                           g_01_a_No_aplica   \n",
       "2                           g_01_a_No_aplica   \n",
       "3                           g_01_a_No_aplica   \n",
       "4                           g_01_a_No_aplica   \n",
       "\n",
       "  g_02_a_num_amigos_consumen_sp_imp_tipo g_08_a_ofrecieron_marihuana_imp_tipo  \\\n",
       "0                       g_02_a_Dos_o_mas                     g_08_a_No_aplica   \n",
       "1                       g_02_a_No_aplica                     g_08_a_No_aplica   \n",
       "2                       g_02_a_No_aplica                     g_08_a_No_aplica   \n",
       "3                       g_02_a_No_aplica                     g_08_a_No_aplica   \n",
       "4                       g_02_a_Dos_o_mas                     g_08_a_No_aplica   \n",
       "\n",
       "  g_08_b_ofrecieron_cocaina_imp_tipo g_08_c_ofrecieron_basuco_imp_tipo  \\\n",
       "0                   g_08_b_No_aplica                  g_08_c_No_aplica   \n",
       "1                   g_08_b_No_aplica                  g_08_c_No_aplica   \n",
       "2                   g_08_b_No_aplica                  g_08_c_No_aplica   \n",
       "3                   g_08_b_No_aplica                  g_08_c_No_aplica   \n",
       "4                   g_08_b_No_aplica                  g_08_c_No_aplica   \n",
       "\n",
       "  CatRiesgo  \n",
       "0         0  \n",
       "1         0  \n",
       "2         0  \n",
       "3         0  \n",
       "4         1  \n",
       "\n",
       "[5 rows x 40 columns]"
      ]
     },
     "execution_count": 5,
     "metadata": {},
     "output_type": "execute_result"
    }
   ],
   "source": [
    "consumidores.head()"
   ]
  },
  {
   "cell_type": "markdown",
   "metadata": {},
   "source": [
    "En este modelo vamos a modificar cada variable en función de su tipo. Al conjunto de pasos que siguen los datos se le llama comúnmente **Pipelines** (literalmente, sistemas de tuberias)."
   ]
  },
  {
   "cell_type": "code",
   "execution_count": 6,
   "metadata": {
    "scrolled": false
   },
   "outputs": [],
   "source": [
    "#consumidores.info(verbose=True)"
   ]
  },
  {
   "cell_type": "markdown",
   "metadata": {},
   "source": [
    "**INCISO**\n",
    "\n",
    "vamos a modificar dos transformadores de scikitlearn para que sean compatibles con pipelines. Este paso es necesario en la version actual de scikit-learn"
   ]
  },
  {
   "cell_type": "code",
   "execution_count": 7,
   "metadata": {},
   "outputs": [],
   "source": [
    "variable_objetivo = [\"CatRiesgo\"]\n",
    "variables_independientes = consumidores.drop(variable_objetivo, axis=1).columns"
   ]
  },
  {
   "cell_type": "code",
   "execution_count": 8,
   "metadata": {},
   "outputs": [],
   "source": [
    "datos_numericos = consumidores[variables_independientes].select_dtypes([int, float])\n",
    "col_numericas = datos_numericos.columns\n",
    "col_no_numericas = consumidores[variables_independientes].select_dtypes([object]).columns\n",
    "\n",
    "dict_var_ordinales = {\n",
    "    \"per_edad_tipo\": [\"Adolescente\", \"Joven\", \"Adulto\", \"Persona mayor\"],\n",
    "    \"estrato_tipo\":[\"Estrato bajo\", \"Estrato medio\", \"Estrato alto\"],\n",
    "    \"d_08_estado_salud_tipo\":[\"d_08_Muy_malo\",\"d_08_Malo\",\"d_08_Regular\",\"d_08_Bueno\",\"d_08_Muy_bueno\"],\n",
    "    \"frecuencia_consumo_marihuana_tipo\":[\"Nunca\", \"Alguna vez en su vida\", \"Una vez en el año\", \"Algunas veces durante los últimos 12 meses\", \"Algunas veces mensualmente\", \"Algunas veces semanalmente\", \"Diariamente\"],\n",
    "    \"frecuencia_consumo_cocaina_tipo\":[\"Nunca\", \"Alguna vez en su vida\", \"Una vez en el año\", \"Algunas veces durante los últimos 12 meses\", \"Algunas veces mensualmente\", \"Algunas veces semanalmente\", \"Diariamente\"],\n",
    "    \"frecuencia_consumo_basuco_tipo\":[\"Nunca\", \"Alguna vez en su vida\", \"Una vez en el año\", \"Algunas veces durante los últimos 12 meses\", \"Algunas veces mensualmente\", \"Algunas veces semanalmente\", \"Diariamente\"],\n",
    "}\n",
    "\n",
    "col_ordinales = list(dict_var_ordinales.keys())\n",
    "datos_ordinales = consumidores[col_ordinales]\n",
    "col_categoricas = list(set(col_no_numericas) - set(col_ordinales))\n",
    "datos_categoricos = consumidores[col_categoricas]"
   ]
  },
  {
   "cell_type": "markdown",
   "metadata": {},
   "source": [
    "Un pipeline de sklearn se define como una secuencia de pasos. Cada paso se define con una tupla de forma `[nombre del paso, transformador]`\n",
    "\n",
    "Por ejemplo, si queremos crear un pipeline que procese las variables numéricas, primero imputándolas y después estandarizandolas, podriamos crear un pipeline"
   ]
  },
  {
   "cell_type": "markdown",
   "metadata": {},
   "source": [
    "Creamos ahora los pipelines para cada tipo de variable. Es necesario aclarar que se va ha hacer uso de la libreria Column Transformer par ael procesamiento de variables categoricas y categoricas ordinales"
   ]
  },
  {
   "cell_type": "code",
   "execution_count": 9,
   "metadata": {},
   "outputs": [
    {
     "data": {
      "text/plain": [
       "array([[0.30769231, 0.        ],\n",
       "       [0.23076923, 0.25      ],\n",
       "       [0.23076923, 0.16666667],\n",
       "       [0.38461538, 0.        ],\n",
       "       [0.23076923, 0.08333333]])"
      ]
     },
     "execution_count": 9,
     "metadata": {},
     "output_type": "execute_result"
    }
   ],
   "source": [
    "transformador_numerico = Pipeline([\n",
    "    (\"imputador_numerico\", SimpleImputer(missing_values=np.nan, strategy='mean')),\n",
    "    (\"escalador_numerico\", preprocessing.MinMaxScaler())\n",
    "])\n",
    "\n",
    "pipeline_numerico = ColumnTransformer([\n",
    "    (\"transformador_numerico\", transformador_numerico, col_numericas),\n",
    "])\n",
    "\n",
    "pipeline_numerico.fit_transform(consumidores)[:5]"
   ]
  },
  {
   "cell_type": "code",
   "execution_count": 10,
   "metadata": {},
   "outputs": [
    {
     "data": {
      "text/html": [
       "<style>#sk-container-id-1 {color: black;background-color: white;}#sk-container-id-1 pre{padding: 0;}#sk-container-id-1 div.sk-toggleable {background-color: white;}#sk-container-id-1 label.sk-toggleable__label {cursor: pointer;display: block;width: 100%;margin-bottom: 0;padding: 0.3em;box-sizing: border-box;text-align: center;}#sk-container-id-1 label.sk-toggleable__label-arrow:before {content: \"▸\";float: left;margin-right: 0.25em;color: #696969;}#sk-container-id-1 label.sk-toggleable__label-arrow:hover:before {color: black;}#sk-container-id-1 div.sk-estimator:hover label.sk-toggleable__label-arrow:before {color: black;}#sk-container-id-1 div.sk-toggleable__content {max-height: 0;max-width: 0;overflow: hidden;text-align: left;background-color: #f0f8ff;}#sk-container-id-1 div.sk-toggleable__content pre {margin: 0.2em;color: black;border-radius: 0.25em;background-color: #f0f8ff;}#sk-container-id-1 input.sk-toggleable__control:checked~div.sk-toggleable__content {max-height: 200px;max-width: 100%;overflow: auto;}#sk-container-id-1 input.sk-toggleable__control:checked~label.sk-toggleable__label-arrow:before {content: \"▾\";}#sk-container-id-1 div.sk-estimator input.sk-toggleable__control:checked~label.sk-toggleable__label {background-color: #d4ebff;}#sk-container-id-1 div.sk-label input.sk-toggleable__control:checked~label.sk-toggleable__label {background-color: #d4ebff;}#sk-container-id-1 input.sk-hidden--visually {border: 0;clip: rect(1px 1px 1px 1px);clip: rect(1px, 1px, 1px, 1px);height: 1px;margin: -1px;overflow: hidden;padding: 0;position: absolute;width: 1px;}#sk-container-id-1 div.sk-estimator {font-family: monospace;background-color: #f0f8ff;border: 1px dotted black;border-radius: 0.25em;box-sizing: border-box;margin-bottom: 0.5em;}#sk-container-id-1 div.sk-estimator:hover {background-color: #d4ebff;}#sk-container-id-1 div.sk-parallel-item::after {content: \"\";width: 100%;border-bottom: 1px solid gray;flex-grow: 1;}#sk-container-id-1 div.sk-label:hover label.sk-toggleable__label {background-color: #d4ebff;}#sk-container-id-1 div.sk-serial::before {content: \"\";position: absolute;border-left: 1px solid gray;box-sizing: border-box;top: 0;bottom: 0;left: 50%;z-index: 0;}#sk-container-id-1 div.sk-serial {display: flex;flex-direction: column;align-items: center;background-color: white;padding-right: 0.2em;padding-left: 0.2em;position: relative;}#sk-container-id-1 div.sk-item {position: relative;z-index: 1;}#sk-container-id-1 div.sk-parallel {display: flex;align-items: stretch;justify-content: center;background-color: white;position: relative;}#sk-container-id-1 div.sk-item::before, #sk-container-id-1 div.sk-parallel-item::before {content: \"\";position: absolute;border-left: 1px solid gray;box-sizing: border-box;top: 0;bottom: 0;left: 50%;z-index: -1;}#sk-container-id-1 div.sk-parallel-item {display: flex;flex-direction: column;z-index: 1;position: relative;background-color: white;}#sk-container-id-1 div.sk-parallel-item:first-child::after {align-self: flex-end;width: 50%;}#sk-container-id-1 div.sk-parallel-item:last-child::after {align-self: flex-start;width: 50%;}#sk-container-id-1 div.sk-parallel-item:only-child::after {width: 0;}#sk-container-id-1 div.sk-dashed-wrapped {border: 1px dashed gray;margin: 0 0.4em 0.5em 0.4em;box-sizing: border-box;padding-bottom: 0.4em;background-color: white;}#sk-container-id-1 div.sk-label label {font-family: monospace;font-weight: bold;display: inline-block;line-height: 1.2em;}#sk-container-id-1 div.sk-label-container {text-align: center;}#sk-container-id-1 div.sk-container {/* jupyter's `normalize.less` sets `[hidden] { display: none; }` but bootstrap.min.css set `[hidden] { display: none !important; }` so we also need the `!important` here to be able to override the default hidden behavior on the sphinx rendered scikit-learn.org. See: https://github.com/scikit-learn/scikit-learn/issues/21755 */display: inline-block !important;position: relative;}#sk-container-id-1 div.sk-text-repr-fallback {display: none;}</style><div id=\"sk-container-id-1\" class=\"sk-top-container\"><div class=\"sk-text-repr-fallback\"><pre>ColumnTransformer(transformers=[(&#x27;transformador_numerico&#x27;,\n",
       "                                 Pipeline(steps=[(&#x27;imputador_numerico&#x27;,\n",
       "                                                  SimpleImputer()),\n",
       "                                                 (&#x27;escalador_numerico&#x27;,\n",
       "                                                  MinMaxScaler())]),\n",
       "                                 Index([&#x27;residentes_hogar&#x27;, &#x27;d2_04_num_hijos&#x27;], dtype=&#x27;object&#x27;))])</pre><b>In a Jupyter environment, please rerun this cell to show the HTML representation or trust the notebook. <br />On GitHub, the HTML representation is unable to render, please try loading this page with nbviewer.org.</b></div><div class=\"sk-container\" hidden><div class=\"sk-item sk-dashed-wrapped\"><div class=\"sk-label-container\"><div class=\"sk-label sk-toggleable\"><input class=\"sk-toggleable__control sk-hidden--visually\" id=\"sk-estimator-id-1\" type=\"checkbox\" ><label for=\"sk-estimator-id-1\" class=\"sk-toggleable__label sk-toggleable__label-arrow\">ColumnTransformer</label><div class=\"sk-toggleable__content\"><pre>ColumnTransformer(transformers=[(&#x27;transformador_numerico&#x27;,\n",
       "                                 Pipeline(steps=[(&#x27;imputador_numerico&#x27;,\n",
       "                                                  SimpleImputer()),\n",
       "                                                 (&#x27;escalador_numerico&#x27;,\n",
       "                                                  MinMaxScaler())]),\n",
       "                                 Index([&#x27;residentes_hogar&#x27;, &#x27;d2_04_num_hijos&#x27;], dtype=&#x27;object&#x27;))])</pre></div></div></div><div class=\"sk-parallel\"><div class=\"sk-parallel-item\"><div class=\"sk-item\"><div class=\"sk-label-container\"><div class=\"sk-label sk-toggleable\"><input class=\"sk-toggleable__control sk-hidden--visually\" id=\"sk-estimator-id-2\" type=\"checkbox\" ><label for=\"sk-estimator-id-2\" class=\"sk-toggleable__label sk-toggleable__label-arrow\">transformador_numerico</label><div class=\"sk-toggleable__content\"><pre>Index([&#x27;residentes_hogar&#x27;, &#x27;d2_04_num_hijos&#x27;], dtype=&#x27;object&#x27;)</pre></div></div></div><div class=\"sk-serial\"><div class=\"sk-item\"><div class=\"sk-serial\"><div class=\"sk-item\"><div class=\"sk-estimator sk-toggleable\"><input class=\"sk-toggleable__control sk-hidden--visually\" id=\"sk-estimator-id-3\" type=\"checkbox\" ><label for=\"sk-estimator-id-3\" class=\"sk-toggleable__label sk-toggleable__label-arrow\">SimpleImputer</label><div class=\"sk-toggleable__content\"><pre>SimpleImputer()</pre></div></div></div><div class=\"sk-item\"><div class=\"sk-estimator sk-toggleable\"><input class=\"sk-toggleable__control sk-hidden--visually\" id=\"sk-estimator-id-4\" type=\"checkbox\" ><label for=\"sk-estimator-id-4\" class=\"sk-toggleable__label sk-toggleable__label-arrow\">MinMaxScaler</label><div class=\"sk-toggleable__content\"><pre>MinMaxScaler()</pre></div></div></div></div></div></div></div></div></div></div></div></div>"
      ],
      "text/plain": [
       "ColumnTransformer(transformers=[('transformador_numerico',\n",
       "                                 Pipeline(steps=[('imputador_numerico',\n",
       "                                                  SimpleImputer()),\n",
       "                                                 ('escalador_numerico',\n",
       "                                                  MinMaxScaler())]),\n",
       "                                 Index(['residentes_hogar', 'd2_04_num_hijos'], dtype='object'))])"
      ]
     },
     "execution_count": 10,
     "metadata": {},
     "output_type": "execute_result"
    }
   ],
   "source": [
    "pipeline_numerico"
   ]
  },
  {
   "cell_type": "markdown",
   "metadata": {},
   "source": [
    "Ahora se procede a crear el pipeline categorico"
   ]
  },
  {
   "cell_type": "code",
   "execution_count": 11,
   "metadata": {},
   "outputs": [
    {
     "data": {
      "text/plain": [
       "array([[1, 0, 0, 0, 0, 1, 0, 0, 0, 0, 1, 0, 1, 0, 0, 0, 1, 0, 0, 0, 0, 1,\n",
       "        0, 0, 0, 1, 0, 0, 0, 1, 0, 0, 0, 1, 0, 1, 0, 1, 0, 0, 0, 1, 0, 0,\n",
       "        0, 0, 1, 0, 1, 0, 1, 0, 0, 0, 0, 1, 0, 1, 0, 1, 0, 0, 1, 0, 0, 1,\n",
       "        0, 0, 0, 0, 1, 0, 1, 0, 1, 0, 0, 0, 0, 0, 0, 0, 0, 0, 0, 0, 0, 0,\n",
       "        0, 0, 0, 0, 0, 0, 0, 0, 0, 0, 0, 0, 0, 0, 0, 0, 0, 0, 1, 0, 0, 1,\n",
       "        0, 1, 0, 0, 1, 0, 1, 0, 0, 0, 0, 0, 1, 0, 0, 0, 0, 0, 0, 0, 1, 0,\n",
       "        0, 0, 0, 1, 0],\n",
       "       [1, 0, 0, 0, 0, 1, 0, 0, 0, 0, 1, 0, 0, 1, 0, 0, 1, 0, 0, 0, 0, 0,\n",
       "        1, 0, 0, 0, 1, 0, 0, 1, 0, 0, 0, 0, 1, 1, 0, 0, 1, 0, 0, 0, 1, 0,\n",
       "        0, 0, 1, 0, 1, 0, 1, 0, 0, 0, 0, 0, 1, 1, 0, 0, 1, 0, 1, 0, 0, 1,\n",
       "        0, 0, 0, 0, 1, 0, 0, 1, 0, 1, 0, 0, 0, 0, 0, 0, 0, 0, 0, 0, 0, 0,\n",
       "        0, 0, 0, 0, 0, 0, 0, 0, 0, 0, 0, 0, 0, 0, 0, 0, 0, 0, 1, 0, 0, 0,\n",
       "        1, 0, 1, 0, 0, 1, 1, 0, 0, 0, 0, 0, 0, 1, 0, 0, 0, 0, 0, 0, 1, 0,\n",
       "        0, 0, 0, 0, 1],\n",
       "       [1, 0, 0, 0, 0, 1, 0, 0, 0, 0, 1, 0, 0, 1, 0, 0, 1, 0, 0, 0, 0, 1,\n",
       "        0, 0, 0, 1, 0, 0, 0, 1, 0, 0, 0, 0, 1, 1, 0, 1, 0, 0, 0, 0, 0, 1,\n",
       "        0, 0, 1, 0, 1, 0, 1, 0, 0, 0, 0, 1, 0, 1, 0, 0, 0, 1, 1, 0, 0, 1,\n",
       "        0, 0, 0, 0, 0, 1, 0, 1, 0, 0, 1, 0, 0, 0, 0, 0, 0, 0, 0, 0, 0, 0,\n",
       "        0, 0, 0, 0, 0, 0, 0, 0, 0, 0, 0, 0, 0, 0, 0, 0, 0, 0, 0, 1, 0, 0,\n",
       "        1, 0, 1, 0, 1, 0, 1, 0, 0, 0, 0, 0, 0, 0, 1, 0, 0, 0, 0, 0, 1, 0,\n",
       "        0, 0, 0, 0, 1],\n",
       "       [0, 1, 0, 0, 0, 1, 0, 0, 0, 0, 1, 0, 0, 1, 0, 0, 1, 0, 0, 0, 0, 0,\n",
       "        0, 1, 0, 0, 0, 1, 0, 1, 0, 0, 0, 0, 1, 1, 0, 0, 0, 1, 0, 1, 0, 0,\n",
       "        0, 0, 1, 0, 1, 0, 1, 0, 0, 0, 0, 1, 0, 1, 0, 0, 1, 0, 1, 0, 0, 1,\n",
       "        0, 0, 0, 0, 1, 0, 0, 1, 0, 0, 0, 1, 0, 0, 0, 0, 0, 0, 0, 0, 0, 0,\n",
       "        0, 0, 0, 0, 0, 0, 0, 0, 0, 0, 0, 0, 0, 0, 0, 0, 0, 0, 0, 0, 1, 1,\n",
       "        0, 0, 1, 0, 0, 1, 0, 1, 0, 0, 0, 0, 0, 0, 0, 1, 0, 0, 0, 0, 1, 0,\n",
       "        0, 0, 0, 1, 0],\n",
       "       [1, 0, 0, 0, 0, 1, 0, 0, 0, 0, 1, 0, 0, 1, 0, 0, 1, 0, 0, 0, 0, 0,\n",
       "        1, 0, 0, 0, 1, 0, 0, 0, 1, 0, 0, 0, 1, 1, 0, 0, 1, 0, 0, 1, 0, 0,\n",
       "        0, 0, 1, 0, 1, 0, 1, 0, 0, 0, 0, 0, 1, 1, 0, 0, 1, 0, 1, 0, 0, 1,\n",
       "        0, 0, 0, 0, 0, 1, 1, 0, 0, 0, 0, 0, 1, 0, 0, 0, 0, 0, 0, 0, 0, 0,\n",
       "        0, 0, 0, 0, 0, 0, 0, 0, 0, 0, 0, 0, 0, 0, 0, 0, 0, 0, 0, 0, 1, 0,\n",
       "        1, 1, 0, 0, 0, 1, 1, 0, 0, 0, 0, 0, 0, 1, 0, 0, 0, 0, 0, 0, 1, 0,\n",
       "        0, 0, 0, 0, 1]], dtype=int64)"
      ]
     },
     "execution_count": 11,
     "metadata": {},
     "output_type": "execute_result"
    }
   ],
   "source": [
    "transformador_categorico = ColumnTransformer([\n",
    "    (\"transformador_categorico\", OneHotEncoder(handle_unknown=\"impute\"), col_categoricas)\n",
    "])\n",
    "\n",
    "pipeline_categorico = Pipeline([\n",
    "    (\"transformador_categorico\", transformador_categorico)\n",
    "])\n",
    "\n",
    "pipeline_categorico.fit_transform(consumidores)[:5]"
   ]
  },
  {
   "cell_type": "code",
   "execution_count": 12,
   "metadata": {},
   "outputs": [
    {
     "data": {
      "text/html": [
       "<style>#sk-container-id-2 {color: black;background-color: white;}#sk-container-id-2 pre{padding: 0;}#sk-container-id-2 div.sk-toggleable {background-color: white;}#sk-container-id-2 label.sk-toggleable__label {cursor: pointer;display: block;width: 100%;margin-bottom: 0;padding: 0.3em;box-sizing: border-box;text-align: center;}#sk-container-id-2 label.sk-toggleable__label-arrow:before {content: \"▸\";float: left;margin-right: 0.25em;color: #696969;}#sk-container-id-2 label.sk-toggleable__label-arrow:hover:before {color: black;}#sk-container-id-2 div.sk-estimator:hover label.sk-toggleable__label-arrow:before {color: black;}#sk-container-id-2 div.sk-toggleable__content {max-height: 0;max-width: 0;overflow: hidden;text-align: left;background-color: #f0f8ff;}#sk-container-id-2 div.sk-toggleable__content pre {margin: 0.2em;color: black;border-radius: 0.25em;background-color: #f0f8ff;}#sk-container-id-2 input.sk-toggleable__control:checked~div.sk-toggleable__content {max-height: 200px;max-width: 100%;overflow: auto;}#sk-container-id-2 input.sk-toggleable__control:checked~label.sk-toggleable__label-arrow:before {content: \"▾\";}#sk-container-id-2 div.sk-estimator input.sk-toggleable__control:checked~label.sk-toggleable__label {background-color: #d4ebff;}#sk-container-id-2 div.sk-label input.sk-toggleable__control:checked~label.sk-toggleable__label {background-color: #d4ebff;}#sk-container-id-2 input.sk-hidden--visually {border: 0;clip: rect(1px 1px 1px 1px);clip: rect(1px, 1px, 1px, 1px);height: 1px;margin: -1px;overflow: hidden;padding: 0;position: absolute;width: 1px;}#sk-container-id-2 div.sk-estimator {font-family: monospace;background-color: #f0f8ff;border: 1px dotted black;border-radius: 0.25em;box-sizing: border-box;margin-bottom: 0.5em;}#sk-container-id-2 div.sk-estimator:hover {background-color: #d4ebff;}#sk-container-id-2 div.sk-parallel-item::after {content: \"\";width: 100%;border-bottom: 1px solid gray;flex-grow: 1;}#sk-container-id-2 div.sk-label:hover label.sk-toggleable__label {background-color: #d4ebff;}#sk-container-id-2 div.sk-serial::before {content: \"\";position: absolute;border-left: 1px solid gray;box-sizing: border-box;top: 0;bottom: 0;left: 50%;z-index: 0;}#sk-container-id-2 div.sk-serial {display: flex;flex-direction: column;align-items: center;background-color: white;padding-right: 0.2em;padding-left: 0.2em;position: relative;}#sk-container-id-2 div.sk-item {position: relative;z-index: 1;}#sk-container-id-2 div.sk-parallel {display: flex;align-items: stretch;justify-content: center;background-color: white;position: relative;}#sk-container-id-2 div.sk-item::before, #sk-container-id-2 div.sk-parallel-item::before {content: \"\";position: absolute;border-left: 1px solid gray;box-sizing: border-box;top: 0;bottom: 0;left: 50%;z-index: -1;}#sk-container-id-2 div.sk-parallel-item {display: flex;flex-direction: column;z-index: 1;position: relative;background-color: white;}#sk-container-id-2 div.sk-parallel-item:first-child::after {align-self: flex-end;width: 50%;}#sk-container-id-2 div.sk-parallel-item:last-child::after {align-self: flex-start;width: 50%;}#sk-container-id-2 div.sk-parallel-item:only-child::after {width: 0;}#sk-container-id-2 div.sk-dashed-wrapped {border: 1px dashed gray;margin: 0 0.4em 0.5em 0.4em;box-sizing: border-box;padding-bottom: 0.4em;background-color: white;}#sk-container-id-2 div.sk-label label {font-family: monospace;font-weight: bold;display: inline-block;line-height: 1.2em;}#sk-container-id-2 div.sk-label-container {text-align: center;}#sk-container-id-2 div.sk-container {/* jupyter's `normalize.less` sets `[hidden] { display: none; }` but bootstrap.min.css set `[hidden] { display: none !important; }` so we also need the `!important` here to be able to override the default hidden behavior on the sphinx rendered scikit-learn.org. See: https://github.com/scikit-learn/scikit-learn/issues/21755 */display: inline-block !important;position: relative;}#sk-container-id-2 div.sk-text-repr-fallback {display: none;}</style><div id=\"sk-container-id-2\" class=\"sk-top-container\"><div class=\"sk-text-repr-fallback\"><pre>Pipeline(steps=[(&#x27;transformador_categorico&#x27;,\n",
       "                 ColumnTransformer(transformers=[(&#x27;transformador_categorico&#x27;,\n",
       "                                                  OneHotEncoder(handle_unknown=&#x27;impute&#x27;),\n",
       "                                                  [&#x27;d_11_h_conocimiento_riesgo_fumar_marihuana_frecuentemente_tipo&#x27;,\n",
       "                                                   &#x27;d_11_n_conocimiento_riesgo_fumar_basuco_frecuentemente_tipo&#x27;,\n",
       "                                                   &#x27;g_01_familiares_consumen_sp_tipo&#x27;,\n",
       "                                                   &#x27;vivienda_tipo&#x27;,\n",
       "                                                   &#x27;g_08_a_ofrecieron_marihuana...\n",
       "                                                   &#x27;g_01_a_num_familiares_consumen_sp_imp_tipo&#x27;,\n",
       "                                                   &#x27;g_08_b_ofrecieron_cocaina_imp_tipo&#x27;,\n",
       "                                                   &#x27;d_12_c_presenta_problema_expendio_sp_barrio_tipo&#x27;,\n",
       "                                                   &#x27;g_02_amigos_consumen_sp_tipo&#x27;,\n",
       "                                                   &#x27;departamento&#x27;,\n",
       "                                                   &#x27;vive_padre_hogar_tipo&#x27;,\n",
       "                                                   &#x27;d_10_poco_interes_tipo&#x27;,\n",
       "                                                   &#x27;g_02_a_num_amigos_consumen_sp_imp_tipo&#x27;,\n",
       "                                                   &#x27;per_sexo_tipo&#x27;,\n",
       "                                                   &#x27;d2_01_etnia_tipo&#x27;,\n",
       "                                                   &#x27;d2_05_nivel_educativo_tipo&#x27;,\n",
       "                                                   &#x27;g_08_c_ofrecieron_basuco_imp_tipo&#x27;, ...])]))])</pre><b>In a Jupyter environment, please rerun this cell to show the HTML representation or trust the notebook. <br />On GitHub, the HTML representation is unable to render, please try loading this page with nbviewer.org.</b></div><div class=\"sk-container\" hidden><div class=\"sk-item sk-dashed-wrapped\"><div class=\"sk-label-container\"><div class=\"sk-label sk-toggleable\"><input class=\"sk-toggleable__control sk-hidden--visually\" id=\"sk-estimator-id-5\" type=\"checkbox\" ><label for=\"sk-estimator-id-5\" class=\"sk-toggleable__label sk-toggleable__label-arrow\">Pipeline</label><div class=\"sk-toggleable__content\"><pre>Pipeline(steps=[(&#x27;transformador_categorico&#x27;,\n",
       "                 ColumnTransformer(transformers=[(&#x27;transformador_categorico&#x27;,\n",
       "                                                  OneHotEncoder(handle_unknown=&#x27;impute&#x27;),\n",
       "                                                  [&#x27;d_11_h_conocimiento_riesgo_fumar_marihuana_frecuentemente_tipo&#x27;,\n",
       "                                                   &#x27;d_11_n_conocimiento_riesgo_fumar_basuco_frecuentemente_tipo&#x27;,\n",
       "                                                   &#x27;g_01_familiares_consumen_sp_tipo&#x27;,\n",
       "                                                   &#x27;vivienda_tipo&#x27;,\n",
       "                                                   &#x27;g_08_a_ofrecieron_marihuana...\n",
       "                                                   &#x27;g_01_a_num_familiares_consumen_sp_imp_tipo&#x27;,\n",
       "                                                   &#x27;g_08_b_ofrecieron_cocaina_imp_tipo&#x27;,\n",
       "                                                   &#x27;d_12_c_presenta_problema_expendio_sp_barrio_tipo&#x27;,\n",
       "                                                   &#x27;g_02_amigos_consumen_sp_tipo&#x27;,\n",
       "                                                   &#x27;departamento&#x27;,\n",
       "                                                   &#x27;vive_padre_hogar_tipo&#x27;,\n",
       "                                                   &#x27;d_10_poco_interes_tipo&#x27;,\n",
       "                                                   &#x27;g_02_a_num_amigos_consumen_sp_imp_tipo&#x27;,\n",
       "                                                   &#x27;per_sexo_tipo&#x27;,\n",
       "                                                   &#x27;d2_01_etnia_tipo&#x27;,\n",
       "                                                   &#x27;d2_05_nivel_educativo_tipo&#x27;,\n",
       "                                                   &#x27;g_08_c_ofrecieron_basuco_imp_tipo&#x27;, ...])]))])</pre></div></div></div><div class=\"sk-serial\"><div class=\"sk-item sk-dashed-wrapped\"><div class=\"sk-label-container\"><div class=\"sk-label sk-toggleable\"><input class=\"sk-toggleable__control sk-hidden--visually\" id=\"sk-estimator-id-6\" type=\"checkbox\" ><label for=\"sk-estimator-id-6\" class=\"sk-toggleable__label sk-toggleable__label-arrow\">transformador_categorico: ColumnTransformer</label><div class=\"sk-toggleable__content\"><pre>ColumnTransformer(transformers=[(&#x27;transformador_categorico&#x27;,\n",
       "                                 OneHotEncoder(handle_unknown=&#x27;impute&#x27;),\n",
       "                                 [&#x27;d_11_h_conocimiento_riesgo_fumar_marihuana_frecuentemente_tipo&#x27;,\n",
       "                                  &#x27;d_11_n_conocimiento_riesgo_fumar_basuco_frecuentemente_tipo&#x27;,\n",
       "                                  &#x27;g_01_familiares_consumen_sp_tipo&#x27;,\n",
       "                                  &#x27;vivienda_tipo&#x27;,\n",
       "                                  &#x27;g_08_a_ofrecieron_marihuana_imp_tipo&#x27;,\n",
       "                                  &#x27;g_06_a_posibilidad_conseguir_mar...\n",
       "                                  &#x27;g_01_a_num_familiares_consumen_sp_imp_tipo&#x27;,\n",
       "                                  &#x27;g_08_b_ofrecieron_cocaina_imp_tipo&#x27;,\n",
       "                                  &#x27;d_12_c_presenta_problema_expendio_sp_barrio_tipo&#x27;,\n",
       "                                  &#x27;g_02_amigos_consumen_sp_tipo&#x27;,\n",
       "                                  &#x27;departamento&#x27;, &#x27;vive_padre_hogar_tipo&#x27;,\n",
       "                                  &#x27;d_10_poco_interes_tipo&#x27;,\n",
       "                                  &#x27;g_02_a_num_amigos_consumen_sp_imp_tipo&#x27;,\n",
       "                                  &#x27;per_sexo_tipo&#x27;, &#x27;d2_01_etnia_tipo&#x27;,\n",
       "                                  &#x27;d2_05_nivel_educativo_tipo&#x27;,\n",
       "                                  &#x27;g_08_c_ofrecieron_basuco_imp_tipo&#x27;, ...])])</pre></div></div></div><div class=\"sk-parallel\"><div class=\"sk-parallel-item\"><div class=\"sk-item\"><div class=\"sk-label-container\"><div class=\"sk-label sk-toggleable\"><input class=\"sk-toggleable__control sk-hidden--visually\" id=\"sk-estimator-id-7\" type=\"checkbox\" ><label for=\"sk-estimator-id-7\" class=\"sk-toggleable__label sk-toggleable__label-arrow\">transformador_categorico</label><div class=\"sk-toggleable__content\"><pre>[&#x27;d_11_h_conocimiento_riesgo_fumar_marihuana_frecuentemente_tipo&#x27;, &#x27;d_11_n_conocimiento_riesgo_fumar_basuco_frecuentemente_tipo&#x27;, &#x27;g_01_familiares_consumen_sp_tipo&#x27;, &#x27;vivienda_tipo&#x27;, &#x27;g_08_a_ofrecieron_marihuana_imp_tipo&#x27;, &#x27;g_06_a_posibilidad_conseguir_marihuana_tipo&#x27;, &#x27;g_06_c_posibilidad_conseguir_basuco_tipo&#x27;, &#x27;situacion_tipo&#x27;, &#x27;d_12_b_presenta_problema_consumo_sp_barrio_tipo&#x27;, &#x27;g_05_posibilidad_probar_sp_tipo&#x27;, &#x27;g_06_b_posibilidad_conseguir_cocaina_tipo&#x27;, &#x27;d2_03_estado_civil_tipo&#x27;, &#x27;g_03_curiosidad_probar_sp_tipo&#x27;, &#x27;g_07_alguien_ofrecio_comprar_probar_sp_tipo&#x27;, &#x27;d_11_k_conocimiento_riesgo_cocaina_frecuentemente_tipo&#x27;, &#x27;d_01_aporta_dinero_hogar_tipo&#x27;, &#x27;g_04_probaria_sp_tipo&#x27;, &#x27;vive_madre_hogar_tipo&#x27;, &#x27;g_01_a_num_familiares_consumen_sp_imp_tipo&#x27;, &#x27;g_08_b_ofrecieron_cocaina_imp_tipo&#x27;, &#x27;d_12_c_presenta_problema_expendio_sp_barrio_tipo&#x27;, &#x27;g_02_amigos_consumen_sp_tipo&#x27;, &#x27;departamento&#x27;, &#x27;vive_padre_hogar_tipo&#x27;, &#x27;d_10_poco_interes_tipo&#x27;, &#x27;g_02_a_num_amigos_consumen_sp_imp_tipo&#x27;, &#x27;per_sexo_tipo&#x27;, &#x27;d2_01_etnia_tipo&#x27;, &#x27;d2_05_nivel_educativo_tipo&#x27;, &#x27;g_08_c_ofrecieron_basuco_imp_tipo&#x27;, &#x27;d_09_deprimido_tipo&#x27;]</pre></div></div></div><div class=\"sk-serial\"><div class=\"sk-item\"><div class=\"sk-estimator sk-toggleable\"><input class=\"sk-toggleable__control sk-hidden--visually\" id=\"sk-estimator-id-8\" type=\"checkbox\" ><label for=\"sk-estimator-id-8\" class=\"sk-toggleable__label sk-toggleable__label-arrow\">OneHotEncoder</label><div class=\"sk-toggleable__content\"><pre>OneHotEncoder(handle_unknown=&#x27;impute&#x27;)</pre></div></div></div></div></div></div></div></div></div></div></div></div>"
      ],
      "text/plain": [
       "Pipeline(steps=[('transformador_categorico',\n",
       "                 ColumnTransformer(transformers=[('transformador_categorico',\n",
       "                                                  OneHotEncoder(handle_unknown='impute'),\n",
       "                                                  ['d_11_h_conocimiento_riesgo_fumar_marihuana_frecuentemente_tipo',\n",
       "                                                   'd_11_n_conocimiento_riesgo_fumar_basuco_frecuentemente_tipo',\n",
       "                                                   'g_01_familiares_consumen_sp_tipo',\n",
       "                                                   'vivienda_tipo',\n",
       "                                                   'g_08_a_ofrecieron_marihuana...\n",
       "                                                   'g_01_a_num_familiares_consumen_sp_imp_tipo',\n",
       "                                                   'g_08_b_ofrecieron_cocaina_imp_tipo',\n",
       "                                                   'd_12_c_presenta_problema_expendio_sp_barrio_tipo',\n",
       "                                                   'g_02_amigos_consumen_sp_tipo',\n",
       "                                                   'departamento',\n",
       "                                                   'vive_padre_hogar_tipo',\n",
       "                                                   'd_10_poco_interes_tipo',\n",
       "                                                   'g_02_a_num_amigos_consumen_sp_imp_tipo',\n",
       "                                                   'per_sexo_tipo',\n",
       "                                                   'd2_01_etnia_tipo',\n",
       "                                                   'd2_05_nivel_educativo_tipo',\n",
       "                                                   'g_08_c_ofrecieron_basuco_imp_tipo', ...])]))])"
      ]
     },
     "execution_count": 12,
     "metadata": {},
     "output_type": "execute_result"
    }
   ],
   "source": [
    "pipeline_categorico"
   ]
  },
  {
   "cell_type": "markdown",
   "metadata": {},
   "source": [
    "`columnTransformer` requiere un mapeado específico para cada columna, indicando el número por el que queremos reemplazar cada nivel de cada variable ordinal. Si no especificamos un mapa, asume que el orden es aleatorio."
   ]
  },
  {
   "cell_type": "code",
   "execution_count": 13,
   "metadata": {
    "scrolled": true
   },
   "outputs": [],
   "source": [
    "niveles_ordinales = []\n",
    "for col, levels in dict_var_ordinales.items():\n",
    "    niveles_ordinales.append({\"col\": col, \n",
    "                              \"mapping\": dict(zip(levels, range(len(levels))))})"
   ]
  },
  {
   "cell_type": "code",
   "execution_count": 14,
   "metadata": {},
   "outputs": [
    {
     "data": {
      "text/plain": [
       "array([[1, 0, 1, 0, 0, 0],\n",
       "       [2, 0, 2, 0, 0, 0],\n",
       "       [2, 0, 3, 0, 0, 0],\n",
       "       [2, 2, 3, 0, 0, 0],\n",
       "       [1, 0, 3, 0, 0, 0]])"
      ]
     },
     "execution_count": 14,
     "metadata": {},
     "output_type": "execute_result"
    }
   ],
   "source": [
    "transformador_ordinal = ColumnTransformer([\n",
    "    (\"transformador_ordinal\", OrdinalEncoder(mapping=niveles_ordinales), col_ordinales)\n",
    "])\n",
    "\n",
    "pipeline_ordinal = Pipeline([\n",
    "    (\"transformador_ordinal\", transformador_ordinal)\n",
    "])\n",
    "pipeline_ordinal.fit_transform(consumidores)[:5]"
   ]
  },
  {
   "cell_type": "markdown",
   "metadata": {},
   "source": [
    "Ya tenemos una manera de, dado un conjunto de datos, separarlos y aplicar distintas transformaciones a cada variable. Nos falta una manera de, una vez se han transformado, reunirlas de nuevo."
   ]
  },
  {
   "cell_type": "markdown",
   "metadata": {},
   "source": [
    "Para ello podemos usar `FeatureUnion`, que simplemente toma un conjunto de pasos de un pipeline y los une."
   ]
  },
  {
   "cell_type": "code",
   "execution_count": 15,
   "metadata": {},
   "outputs": [],
   "source": [
    "pipeline_procesado = FeatureUnion([\n",
    "    ('variables_numericas', pipeline_numerico),\n",
    "    ('variables_ordinales', pipeline_ordinal),\n",
    "    ('variables_categoricas', pipeline_categorico),\n",
    "])"
   ]
  },
  {
   "cell_type": "code",
   "execution_count": 16,
   "metadata": {},
   "outputs": [
    {
     "data": {
      "text/html": [
       "<style>#sk-container-id-3 {color: black;background-color: white;}#sk-container-id-3 pre{padding: 0;}#sk-container-id-3 div.sk-toggleable {background-color: white;}#sk-container-id-3 label.sk-toggleable__label {cursor: pointer;display: block;width: 100%;margin-bottom: 0;padding: 0.3em;box-sizing: border-box;text-align: center;}#sk-container-id-3 label.sk-toggleable__label-arrow:before {content: \"▸\";float: left;margin-right: 0.25em;color: #696969;}#sk-container-id-3 label.sk-toggleable__label-arrow:hover:before {color: black;}#sk-container-id-3 div.sk-estimator:hover label.sk-toggleable__label-arrow:before {color: black;}#sk-container-id-3 div.sk-toggleable__content {max-height: 0;max-width: 0;overflow: hidden;text-align: left;background-color: #f0f8ff;}#sk-container-id-3 div.sk-toggleable__content pre {margin: 0.2em;color: black;border-radius: 0.25em;background-color: #f0f8ff;}#sk-container-id-3 input.sk-toggleable__control:checked~div.sk-toggleable__content {max-height: 200px;max-width: 100%;overflow: auto;}#sk-container-id-3 input.sk-toggleable__control:checked~label.sk-toggleable__label-arrow:before {content: \"▾\";}#sk-container-id-3 div.sk-estimator input.sk-toggleable__control:checked~label.sk-toggleable__label {background-color: #d4ebff;}#sk-container-id-3 div.sk-label input.sk-toggleable__control:checked~label.sk-toggleable__label {background-color: #d4ebff;}#sk-container-id-3 input.sk-hidden--visually {border: 0;clip: rect(1px 1px 1px 1px);clip: rect(1px, 1px, 1px, 1px);height: 1px;margin: -1px;overflow: hidden;padding: 0;position: absolute;width: 1px;}#sk-container-id-3 div.sk-estimator {font-family: monospace;background-color: #f0f8ff;border: 1px dotted black;border-radius: 0.25em;box-sizing: border-box;margin-bottom: 0.5em;}#sk-container-id-3 div.sk-estimator:hover {background-color: #d4ebff;}#sk-container-id-3 div.sk-parallel-item::after {content: \"\";width: 100%;border-bottom: 1px solid gray;flex-grow: 1;}#sk-container-id-3 div.sk-label:hover label.sk-toggleable__label {background-color: #d4ebff;}#sk-container-id-3 div.sk-serial::before {content: \"\";position: absolute;border-left: 1px solid gray;box-sizing: border-box;top: 0;bottom: 0;left: 50%;z-index: 0;}#sk-container-id-3 div.sk-serial {display: flex;flex-direction: column;align-items: center;background-color: white;padding-right: 0.2em;padding-left: 0.2em;position: relative;}#sk-container-id-3 div.sk-item {position: relative;z-index: 1;}#sk-container-id-3 div.sk-parallel {display: flex;align-items: stretch;justify-content: center;background-color: white;position: relative;}#sk-container-id-3 div.sk-item::before, #sk-container-id-3 div.sk-parallel-item::before {content: \"\";position: absolute;border-left: 1px solid gray;box-sizing: border-box;top: 0;bottom: 0;left: 50%;z-index: -1;}#sk-container-id-3 div.sk-parallel-item {display: flex;flex-direction: column;z-index: 1;position: relative;background-color: white;}#sk-container-id-3 div.sk-parallel-item:first-child::after {align-self: flex-end;width: 50%;}#sk-container-id-3 div.sk-parallel-item:last-child::after {align-self: flex-start;width: 50%;}#sk-container-id-3 div.sk-parallel-item:only-child::after {width: 0;}#sk-container-id-3 div.sk-dashed-wrapped {border: 1px dashed gray;margin: 0 0.4em 0.5em 0.4em;box-sizing: border-box;padding-bottom: 0.4em;background-color: white;}#sk-container-id-3 div.sk-label label {font-family: monospace;font-weight: bold;display: inline-block;line-height: 1.2em;}#sk-container-id-3 div.sk-label-container {text-align: center;}#sk-container-id-3 div.sk-container {/* jupyter's `normalize.less` sets `[hidden] { display: none; }` but bootstrap.min.css set `[hidden] { display: none !important; }` so we also need the `!important` here to be able to override the default hidden behavior on the sphinx rendered scikit-learn.org. See: https://github.com/scikit-learn/scikit-learn/issues/21755 */display: inline-block !important;position: relative;}#sk-container-id-3 div.sk-text-repr-fallback {display: none;}</style><div id=\"sk-container-id-3\" class=\"sk-top-container\"><div class=\"sk-text-repr-fallback\"><pre>FeatureUnion(transformer_list=[(&#x27;variables_numericas&#x27;,\n",
       "                                ColumnTransformer(transformers=[(&#x27;transformador_numerico&#x27;,\n",
       "                                                                 Pipeline(steps=[(&#x27;imputador_numerico&#x27;,\n",
       "                                                                                  SimpleImputer()),\n",
       "                                                                                 (&#x27;escalador_numerico&#x27;,\n",
       "                                                                                  MinMaxScaler())]),\n",
       "                                                                 Index([&#x27;residentes_hogar&#x27;, &#x27;d2_04_num_hijos&#x27;], dtype=&#x27;object&#x27;))])),\n",
       "                               (&#x27;variables_ordinales&#x27;,\n",
       "                                Pipeline(steps=[(&#x27;transformador_ordinal&#x27;,\n",
       "                                                 ColumnTransfor...\n",
       "                                                                                   &#x27;g_01_a_num_familiares_consumen_sp_imp_tipo&#x27;,\n",
       "                                                                                   &#x27;g_08_b_ofrecieron_cocaina_imp_tipo&#x27;,\n",
       "                                                                                   &#x27;d_12_c_presenta_problema_expendio_sp_barrio_tipo&#x27;,\n",
       "                                                                                   &#x27;g_02_amigos_consumen_sp_tipo&#x27;,\n",
       "                                                                                   &#x27;departamento&#x27;,\n",
       "                                                                                   &#x27;vive_padre_hogar_tipo&#x27;,\n",
       "                                                                                   &#x27;d_10_poco_interes_tipo&#x27;,\n",
       "                                                                                   &#x27;g_02_a_num_amigos_consumen_sp_imp_tipo&#x27;,\n",
       "                                                                                   &#x27;per_sexo_tipo&#x27;,\n",
       "                                                                                   &#x27;d2_01_etnia_tipo&#x27;,\n",
       "                                                                                   &#x27;d2_05_nivel_educativo_tipo&#x27;,\n",
       "                                                                                   &#x27;g_08_c_ofrecieron_basuco_imp_tipo&#x27;, ...])]))]))])</pre><b>In a Jupyter environment, please rerun this cell to show the HTML representation or trust the notebook. <br />On GitHub, the HTML representation is unable to render, please try loading this page with nbviewer.org.</b></div><div class=\"sk-container\" hidden><div class=\"sk-item sk-dashed-wrapped\"><div class=\"sk-label-container\"><div class=\"sk-label sk-toggleable\"><input class=\"sk-toggleable__control sk-hidden--visually\" id=\"sk-estimator-id-9\" type=\"checkbox\" ><label for=\"sk-estimator-id-9\" class=\"sk-toggleable__label sk-toggleable__label-arrow\">FeatureUnion</label><div class=\"sk-toggleable__content\"><pre>FeatureUnion(transformer_list=[(&#x27;variables_numericas&#x27;,\n",
       "                                ColumnTransformer(transformers=[(&#x27;transformador_numerico&#x27;,\n",
       "                                                                 Pipeline(steps=[(&#x27;imputador_numerico&#x27;,\n",
       "                                                                                  SimpleImputer()),\n",
       "                                                                                 (&#x27;escalador_numerico&#x27;,\n",
       "                                                                                  MinMaxScaler())]),\n",
       "                                                                 Index([&#x27;residentes_hogar&#x27;, &#x27;d2_04_num_hijos&#x27;], dtype=&#x27;object&#x27;))])),\n",
       "                               (&#x27;variables_ordinales&#x27;,\n",
       "                                Pipeline(steps=[(&#x27;transformador_ordinal&#x27;,\n",
       "                                                 ColumnTransfor...\n",
       "                                                                                   &#x27;g_01_a_num_familiares_consumen_sp_imp_tipo&#x27;,\n",
       "                                                                                   &#x27;g_08_b_ofrecieron_cocaina_imp_tipo&#x27;,\n",
       "                                                                                   &#x27;d_12_c_presenta_problema_expendio_sp_barrio_tipo&#x27;,\n",
       "                                                                                   &#x27;g_02_amigos_consumen_sp_tipo&#x27;,\n",
       "                                                                                   &#x27;departamento&#x27;,\n",
       "                                                                                   &#x27;vive_padre_hogar_tipo&#x27;,\n",
       "                                                                                   &#x27;d_10_poco_interes_tipo&#x27;,\n",
       "                                                                                   &#x27;g_02_a_num_amigos_consumen_sp_imp_tipo&#x27;,\n",
       "                                                                                   &#x27;per_sexo_tipo&#x27;,\n",
       "                                                                                   &#x27;d2_01_etnia_tipo&#x27;,\n",
       "                                                                                   &#x27;d2_05_nivel_educativo_tipo&#x27;,\n",
       "                                                                                   &#x27;g_08_c_ofrecieron_basuco_imp_tipo&#x27;, ...])]))]))])</pre></div></div></div><div class=\"sk-parallel\"><div class=\"sk-parallel-item\"><div class=\"sk-item\"><div class=\"sk-label-container\"><div class=\"sk-label sk-toggleable\"><label>variables_numericas</label></div></div><div class=\"sk-serial\"><div class=\"sk-item sk-dashed-wrapped\"><div class=\"sk-parallel\"><div class=\"sk-parallel-item\"><div class=\"sk-item\"><div class=\"sk-label-container\"><div class=\"sk-label sk-toggleable\"><input class=\"sk-toggleable__control sk-hidden--visually\" id=\"sk-estimator-id-10\" type=\"checkbox\" ><label for=\"sk-estimator-id-10\" class=\"sk-toggleable__label sk-toggleable__label-arrow\">transformador_numerico</label><div class=\"sk-toggleable__content\"><pre>Index([&#x27;residentes_hogar&#x27;, &#x27;d2_04_num_hijos&#x27;], dtype=&#x27;object&#x27;)</pre></div></div></div><div class=\"sk-serial\"><div class=\"sk-item\"><div class=\"sk-serial\"><div class=\"sk-item\"><div class=\"sk-estimator sk-toggleable\"><input class=\"sk-toggleable__control sk-hidden--visually\" id=\"sk-estimator-id-11\" type=\"checkbox\" ><label for=\"sk-estimator-id-11\" class=\"sk-toggleable__label sk-toggleable__label-arrow\">SimpleImputer</label><div class=\"sk-toggleable__content\"><pre>SimpleImputer()</pre></div></div></div><div class=\"sk-item\"><div class=\"sk-estimator sk-toggleable\"><input class=\"sk-toggleable__control sk-hidden--visually\" id=\"sk-estimator-id-12\" type=\"checkbox\" ><label for=\"sk-estimator-id-12\" class=\"sk-toggleable__label sk-toggleable__label-arrow\">MinMaxScaler</label><div class=\"sk-toggleable__content\"><pre>MinMaxScaler()</pre></div></div></div></div></div></div></div></div></div></div></div></div></div><div class=\"sk-parallel-item\"><div class=\"sk-item\"><div class=\"sk-label-container\"><div class=\"sk-label sk-toggleable\"><label>variables_ordinales</label></div></div><div class=\"sk-serial\"><div class=\"sk-item\"><div class=\"sk-serial\"><div class=\"sk-item sk-dashed-wrapped\"><div class=\"sk-label-container\"><div class=\"sk-label sk-toggleable\"><input class=\"sk-toggleable__control sk-hidden--visually\" id=\"sk-estimator-id-13\" type=\"checkbox\" ><label for=\"sk-estimator-id-13\" class=\"sk-toggleable__label sk-toggleable__label-arrow\">transformador_ordinal: ColumnTransformer</label><div class=\"sk-toggleable__content\"><pre>ColumnTransformer(transformers=[(&#x27;transformador_ordinal&#x27;,\n",
       "                                 OrdinalEncoder(mapping=[{&#x27;col&#x27;: &#x27;per_edad_tipo&#x27;,\n",
       "                                                          &#x27;data_type&#x27;: dtype(&#x27;O&#x27;),\n",
       "                                                          &#x27;mapping&#x27;: Adolescente      0\n",
       "Joven            1\n",
       "Adulto           2\n",
       "Persona mayor    3\n",
       "dtype: int64},\n",
       "                                                         {&#x27;col&#x27;: &#x27;estrato_tipo&#x27;,\n",
       "                                                          &#x27;data_type&#x27;: dtype(&#x27;O&#x27;),\n",
       "                                                          &#x27;mapping&#x27;: Estrato bajo     0\n",
       "Estrato medio    1\n",
       "Estrato alto     2\n",
       "dtype: int64},\n",
       "                                                         {&#x27;col&#x27;: &#x27;d_08_estado_salud_tipo&#x27;,\n",
       "                                                          &#x27;data_type&#x27;: dtype(&#x27;O&#x27;),\n",
       "                                                          &#x27;m...\n",
       "                                                         {&#x27;col&#x27;: &#x27;frecuencia_consumo_basuco_tipo&#x27;,\n",
       "                                                          &#x27;data_type&#x27;: dtype(&#x27;O&#x27;),\n",
       "                                                          &#x27;mapping&#x27;: Nunca                                         0\n",
       "Alguna vez en su vida                         1\n",
       "Una vez en el año                             2\n",
       "Algunas veces durante los últimos 12 meses    3\n",
       "Algunas veces mensualmente                    4\n",
       "Algunas veces semanalmente                    5\n",
       "Diariamente                                   6\n",
       "dtype: int64}]),\n",
       "                                 [&#x27;per_edad_tipo&#x27;, &#x27;estrato_tipo&#x27;,\n",
       "                                  &#x27;d_08_estado_salud_tipo&#x27;,\n",
       "                                  &#x27;frecuencia_consumo_marihuana_tipo&#x27;,\n",
       "                                  &#x27;frecuencia_consumo_cocaina_tipo&#x27;,\n",
       "                                  &#x27;frecuencia_consumo_basuco_tipo&#x27;])])</pre></div></div></div><div class=\"sk-parallel\"><div class=\"sk-parallel-item\"><div class=\"sk-item\"><div class=\"sk-label-container\"><div class=\"sk-label sk-toggleable\"><input class=\"sk-toggleable__control sk-hidden--visually\" id=\"sk-estimator-id-14\" type=\"checkbox\" ><label for=\"sk-estimator-id-14\" class=\"sk-toggleable__label sk-toggleable__label-arrow\">transformador_ordinal</label><div class=\"sk-toggleable__content\"><pre>[&#x27;per_edad_tipo&#x27;, &#x27;estrato_tipo&#x27;, &#x27;d_08_estado_salud_tipo&#x27;, &#x27;frecuencia_consumo_marihuana_tipo&#x27;, &#x27;frecuencia_consumo_cocaina_tipo&#x27;, &#x27;frecuencia_consumo_basuco_tipo&#x27;]</pre></div></div></div><div class=\"sk-serial\"><div class=\"sk-item\"><div class=\"sk-estimator sk-toggleable\"><input class=\"sk-toggleable__control sk-hidden--visually\" id=\"sk-estimator-id-15\" type=\"checkbox\" ><label for=\"sk-estimator-id-15\" class=\"sk-toggleable__label sk-toggleable__label-arrow\">OrdinalEncoder</label><div class=\"sk-toggleable__content\"><pre>OrdinalEncoder(mapping=[{&#x27;col&#x27;: &#x27;per_edad_tipo&#x27;, &#x27;data_type&#x27;: dtype(&#x27;O&#x27;),\n",
       "                         &#x27;mapping&#x27;: Adolescente      0\n",
       "Joven            1\n",
       "Adulto           2\n",
       "Persona mayor    3\n",
       "dtype: int64},\n",
       "                        {&#x27;col&#x27;: &#x27;estrato_tipo&#x27;, &#x27;data_type&#x27;: dtype(&#x27;O&#x27;),\n",
       "                         &#x27;mapping&#x27;: Estrato bajo     0\n",
       "Estrato medio    1\n",
       "Estrato alto     2\n",
       "dtype: int64},\n",
       "                        {&#x27;col&#x27;: &#x27;d_08_estado_salud_tipo&#x27;,\n",
       "                         &#x27;data_type&#x27;: dtype(&#x27;O&#x27;),\n",
       "                         &#x27;mapping&#x27;: d_08_Muy_malo     0\n",
       "d_08_Malo         1\n",
       "d_08_Regular      2\n",
       "d_08_Bueno        3\n",
       "d...\n",
       "Una vez en el año                             2\n",
       "Algunas veces durante los últimos 12 meses    3\n",
       "Algunas veces mensualmente                    4\n",
       "Algunas veces semanalmente                    5\n",
       "Diariamente                                   6\n",
       "dtype: int64},\n",
       "                        {&#x27;col&#x27;: &#x27;frecuencia_consumo_basuco_tipo&#x27;,\n",
       "                         &#x27;data_type&#x27;: dtype(&#x27;O&#x27;),\n",
       "                         &#x27;mapping&#x27;: Nunca                                         0\n",
       "Alguna vez en su vida                         1\n",
       "Una vez en el año                             2\n",
       "Algunas veces durante los últimos 12 meses    3\n",
       "Algunas veces mensualmente                    4\n",
       "Algunas veces semanalmente                    5\n",
       "Diariamente                                   6\n",
       "dtype: int64}])</pre></div></div></div></div></div></div></div></div></div></div></div></div></div><div class=\"sk-parallel-item\"><div class=\"sk-item\"><div class=\"sk-label-container\"><div class=\"sk-label sk-toggleable\"><label>variables_categoricas</label></div></div><div class=\"sk-serial\"><div class=\"sk-item\"><div class=\"sk-serial\"><div class=\"sk-item sk-dashed-wrapped\"><div class=\"sk-label-container\"><div class=\"sk-label sk-toggleable\"><input class=\"sk-toggleable__control sk-hidden--visually\" id=\"sk-estimator-id-16\" type=\"checkbox\" ><label for=\"sk-estimator-id-16\" class=\"sk-toggleable__label sk-toggleable__label-arrow\">transformador_categorico: ColumnTransformer</label><div class=\"sk-toggleable__content\"><pre>ColumnTransformer(transformers=[(&#x27;transformador_categorico&#x27;,\n",
       "                                 OneHotEncoder(handle_unknown=&#x27;impute&#x27;),\n",
       "                                 [&#x27;d_11_h_conocimiento_riesgo_fumar_marihuana_frecuentemente_tipo&#x27;,\n",
       "                                  &#x27;d_11_n_conocimiento_riesgo_fumar_basuco_frecuentemente_tipo&#x27;,\n",
       "                                  &#x27;g_01_familiares_consumen_sp_tipo&#x27;,\n",
       "                                  &#x27;vivienda_tipo&#x27;,\n",
       "                                  &#x27;g_08_a_ofrecieron_marihuana_imp_tipo&#x27;,\n",
       "                                  &#x27;g_06_a_posibilidad_conseguir_mar...\n",
       "                                  &#x27;g_01_a_num_familiares_consumen_sp_imp_tipo&#x27;,\n",
       "                                  &#x27;g_08_b_ofrecieron_cocaina_imp_tipo&#x27;,\n",
       "                                  &#x27;d_12_c_presenta_problema_expendio_sp_barrio_tipo&#x27;,\n",
       "                                  &#x27;g_02_amigos_consumen_sp_tipo&#x27;,\n",
       "                                  &#x27;departamento&#x27;, &#x27;vive_padre_hogar_tipo&#x27;,\n",
       "                                  &#x27;d_10_poco_interes_tipo&#x27;,\n",
       "                                  &#x27;g_02_a_num_amigos_consumen_sp_imp_tipo&#x27;,\n",
       "                                  &#x27;per_sexo_tipo&#x27;, &#x27;d2_01_etnia_tipo&#x27;,\n",
       "                                  &#x27;d2_05_nivel_educativo_tipo&#x27;,\n",
       "                                  &#x27;g_08_c_ofrecieron_basuco_imp_tipo&#x27;, ...])])</pre></div></div></div><div class=\"sk-parallel\"><div class=\"sk-parallel-item\"><div class=\"sk-item\"><div class=\"sk-label-container\"><div class=\"sk-label sk-toggleable\"><input class=\"sk-toggleable__control sk-hidden--visually\" id=\"sk-estimator-id-17\" type=\"checkbox\" ><label for=\"sk-estimator-id-17\" class=\"sk-toggleable__label sk-toggleable__label-arrow\">transformador_categorico</label><div class=\"sk-toggleable__content\"><pre>[&#x27;d_11_h_conocimiento_riesgo_fumar_marihuana_frecuentemente_tipo&#x27;, &#x27;d_11_n_conocimiento_riesgo_fumar_basuco_frecuentemente_tipo&#x27;, &#x27;g_01_familiares_consumen_sp_tipo&#x27;, &#x27;vivienda_tipo&#x27;, &#x27;g_08_a_ofrecieron_marihuana_imp_tipo&#x27;, &#x27;g_06_a_posibilidad_conseguir_marihuana_tipo&#x27;, &#x27;g_06_c_posibilidad_conseguir_basuco_tipo&#x27;, &#x27;situacion_tipo&#x27;, &#x27;d_12_b_presenta_problema_consumo_sp_barrio_tipo&#x27;, &#x27;g_05_posibilidad_probar_sp_tipo&#x27;, &#x27;g_06_b_posibilidad_conseguir_cocaina_tipo&#x27;, &#x27;d2_03_estado_civil_tipo&#x27;, &#x27;g_03_curiosidad_probar_sp_tipo&#x27;, &#x27;g_07_alguien_ofrecio_comprar_probar_sp_tipo&#x27;, &#x27;d_11_k_conocimiento_riesgo_cocaina_frecuentemente_tipo&#x27;, &#x27;d_01_aporta_dinero_hogar_tipo&#x27;, &#x27;g_04_probaria_sp_tipo&#x27;, &#x27;vive_madre_hogar_tipo&#x27;, &#x27;g_01_a_num_familiares_consumen_sp_imp_tipo&#x27;, &#x27;g_08_b_ofrecieron_cocaina_imp_tipo&#x27;, &#x27;d_12_c_presenta_problema_expendio_sp_barrio_tipo&#x27;, &#x27;g_02_amigos_consumen_sp_tipo&#x27;, &#x27;departamento&#x27;, &#x27;vive_padre_hogar_tipo&#x27;, &#x27;d_10_poco_interes_tipo&#x27;, &#x27;g_02_a_num_amigos_consumen_sp_imp_tipo&#x27;, &#x27;per_sexo_tipo&#x27;, &#x27;d2_01_etnia_tipo&#x27;, &#x27;d2_05_nivel_educativo_tipo&#x27;, &#x27;g_08_c_ofrecieron_basuco_imp_tipo&#x27;, &#x27;d_09_deprimido_tipo&#x27;]</pre></div></div></div><div class=\"sk-serial\"><div class=\"sk-item\"><div class=\"sk-estimator sk-toggleable\"><input class=\"sk-toggleable__control sk-hidden--visually\" id=\"sk-estimator-id-18\" type=\"checkbox\" ><label for=\"sk-estimator-id-18\" class=\"sk-toggleable__label sk-toggleable__label-arrow\">OneHotEncoder</label><div class=\"sk-toggleable__content\"><pre>OneHotEncoder(handle_unknown=&#x27;impute&#x27;)</pre></div></div></div></div></div></div></div></div></div></div></div></div></div></div></div></div></div>"
      ],
      "text/plain": [
       "FeatureUnion(transformer_list=[('variables_numericas',\n",
       "                                ColumnTransformer(transformers=[('transformador_numerico',\n",
       "                                                                 Pipeline(steps=[('imputador_numerico',\n",
       "                                                                                  SimpleImputer()),\n",
       "                                                                                 ('escalador_numerico',\n",
       "                                                                                  MinMaxScaler())]),\n",
       "                                                                 Index(['residentes_hogar', 'd2_04_num_hijos'], dtype='object'))])),\n",
       "                               ('variables_ordinales',\n",
       "                                Pipeline(steps=[('transformador_ordinal',\n",
       "                                                 ColumnTransfor...\n",
       "                                                                                   'g_01_a_num_familiares_consumen_sp_imp_tipo',\n",
       "                                                                                   'g_08_b_ofrecieron_cocaina_imp_tipo',\n",
       "                                                                                   'd_12_c_presenta_problema_expendio_sp_barrio_tipo',\n",
       "                                                                                   'g_02_amigos_consumen_sp_tipo',\n",
       "                                                                                   'departamento',\n",
       "                                                                                   'vive_padre_hogar_tipo',\n",
       "                                                                                   'd_10_poco_interes_tipo',\n",
       "                                                                                   'g_02_a_num_amigos_consumen_sp_imp_tipo',\n",
       "                                                                                   'per_sexo_tipo',\n",
       "                                                                                   'd2_01_etnia_tipo',\n",
       "                                                                                   'd2_05_nivel_educativo_tipo',\n",
       "                                                                                   'g_08_c_ofrecieron_basuco_imp_tipo', ...])]))]))])"
      ]
     },
     "execution_count": 16,
     "metadata": {},
     "output_type": "execute_result"
    }
   ],
   "source": [
    "pipeline_procesado"
   ]
  },
  {
   "cell_type": "code",
   "execution_count": 17,
   "metadata": {},
   "outputs": [],
   "source": [
    "consumidores_procesado = pipeline_procesado.fit_transform(consumidores)"
   ]
  },
  {
   "cell_type": "markdown",
   "metadata": {},
   "source": [
    "Finalmente, necesitamos añadir un estimador al final para predecir en base a los datos transformados, pero primero se separa los datos en datos de entrenamiento y datos de test"
   ]
  },
  {
   "cell_type": "code",
   "execution_count": 18,
   "metadata": {},
   "outputs": [],
   "source": [
    "X_train, X_test, y_train, y_test = train_test_split(\n",
    "     consumidores[variables_independientes], consumidores[\"CatRiesgo\"],\n",
    "     test_size=0.20, random_state=42\n",
    ")"
   ]
  },
  {
   "cell_type": "code",
   "execution_count": 19,
   "metadata": {},
   "outputs": [],
   "source": [
    "from sklearn import svm\n",
    "from sklearn.metrics import accuracy_score, classification_report\n",
    "estimador = svm.SVC(kernel='linear', C=1.0, decision_function_shape='ovr')"
   ]
  },
  {
   "cell_type": "code",
   "execution_count": 20,
   "metadata": {},
   "outputs": [
    {
     "name": "stdout",
     "output_type": "stream",
     "text": [
      "(8000, 39) (8000,)\n",
      "(2000, 39) (2000,)\n"
     ]
    }
   ],
   "source": [
    "print(X_train.shape, y_train.shape)\n",
    "print(X_test.shape, y_test.shape)"
   ]
  },
  {
   "cell_type": "markdown",
   "metadata": {},
   "source": [
    "Se debe realizar la separacion de datos en datos de entrenamiento y datos de test y ademas se debe establecer el estimador a usar en el modelo"
   ]
  },
  {
   "cell_type": "code",
   "execution_count": 21,
   "metadata": {},
   "outputs": [],
   "source": [
    "pipeline_estimador = Pipeline([\n",
    "    ('procesador', pipeline_procesado),\n",
    "    ('estimador', estimador)\n",
    "])"
   ]
  },
  {
   "cell_type": "code",
   "execution_count": 22,
   "metadata": {},
   "outputs": [
    {
     "data": {
      "text/html": [
       "<style>#sk-container-id-4 {color: black;background-color: white;}#sk-container-id-4 pre{padding: 0;}#sk-container-id-4 div.sk-toggleable {background-color: white;}#sk-container-id-4 label.sk-toggleable__label {cursor: pointer;display: block;width: 100%;margin-bottom: 0;padding: 0.3em;box-sizing: border-box;text-align: center;}#sk-container-id-4 label.sk-toggleable__label-arrow:before {content: \"▸\";float: left;margin-right: 0.25em;color: #696969;}#sk-container-id-4 label.sk-toggleable__label-arrow:hover:before {color: black;}#sk-container-id-4 div.sk-estimator:hover label.sk-toggleable__label-arrow:before {color: black;}#sk-container-id-4 div.sk-toggleable__content {max-height: 0;max-width: 0;overflow: hidden;text-align: left;background-color: #f0f8ff;}#sk-container-id-4 div.sk-toggleable__content pre {margin: 0.2em;color: black;border-radius: 0.25em;background-color: #f0f8ff;}#sk-container-id-4 input.sk-toggleable__control:checked~div.sk-toggleable__content {max-height: 200px;max-width: 100%;overflow: auto;}#sk-container-id-4 input.sk-toggleable__control:checked~label.sk-toggleable__label-arrow:before {content: \"▾\";}#sk-container-id-4 div.sk-estimator input.sk-toggleable__control:checked~label.sk-toggleable__label {background-color: #d4ebff;}#sk-container-id-4 div.sk-label input.sk-toggleable__control:checked~label.sk-toggleable__label {background-color: #d4ebff;}#sk-container-id-4 input.sk-hidden--visually {border: 0;clip: rect(1px 1px 1px 1px);clip: rect(1px, 1px, 1px, 1px);height: 1px;margin: -1px;overflow: hidden;padding: 0;position: absolute;width: 1px;}#sk-container-id-4 div.sk-estimator {font-family: monospace;background-color: #f0f8ff;border: 1px dotted black;border-radius: 0.25em;box-sizing: border-box;margin-bottom: 0.5em;}#sk-container-id-4 div.sk-estimator:hover {background-color: #d4ebff;}#sk-container-id-4 div.sk-parallel-item::after {content: \"\";width: 100%;border-bottom: 1px solid gray;flex-grow: 1;}#sk-container-id-4 div.sk-label:hover label.sk-toggleable__label {background-color: #d4ebff;}#sk-container-id-4 div.sk-serial::before {content: \"\";position: absolute;border-left: 1px solid gray;box-sizing: border-box;top: 0;bottom: 0;left: 50%;z-index: 0;}#sk-container-id-4 div.sk-serial {display: flex;flex-direction: column;align-items: center;background-color: white;padding-right: 0.2em;padding-left: 0.2em;position: relative;}#sk-container-id-4 div.sk-item {position: relative;z-index: 1;}#sk-container-id-4 div.sk-parallel {display: flex;align-items: stretch;justify-content: center;background-color: white;position: relative;}#sk-container-id-4 div.sk-item::before, #sk-container-id-4 div.sk-parallel-item::before {content: \"\";position: absolute;border-left: 1px solid gray;box-sizing: border-box;top: 0;bottom: 0;left: 50%;z-index: -1;}#sk-container-id-4 div.sk-parallel-item {display: flex;flex-direction: column;z-index: 1;position: relative;background-color: white;}#sk-container-id-4 div.sk-parallel-item:first-child::after {align-self: flex-end;width: 50%;}#sk-container-id-4 div.sk-parallel-item:last-child::after {align-self: flex-start;width: 50%;}#sk-container-id-4 div.sk-parallel-item:only-child::after {width: 0;}#sk-container-id-4 div.sk-dashed-wrapped {border: 1px dashed gray;margin: 0 0.4em 0.5em 0.4em;box-sizing: border-box;padding-bottom: 0.4em;background-color: white;}#sk-container-id-4 div.sk-label label {font-family: monospace;font-weight: bold;display: inline-block;line-height: 1.2em;}#sk-container-id-4 div.sk-label-container {text-align: center;}#sk-container-id-4 div.sk-container {/* jupyter's `normalize.less` sets `[hidden] { display: none; }` but bootstrap.min.css set `[hidden] { display: none !important; }` so we also need the `!important` here to be able to override the default hidden behavior on the sphinx rendered scikit-learn.org. See: https://github.com/scikit-learn/scikit-learn/issues/21755 */display: inline-block !important;position: relative;}#sk-container-id-4 div.sk-text-repr-fallback {display: none;}</style><div id=\"sk-container-id-4\" class=\"sk-top-container\"><div class=\"sk-text-repr-fallback\"><pre>Pipeline(steps=[(&#x27;procesador&#x27;,\n",
       "                 FeatureUnion(transformer_list=[(&#x27;variables_numericas&#x27;,\n",
       "                                                 ColumnTransformer(transformers=[(&#x27;transformador_numerico&#x27;,\n",
       "                                                                                  Pipeline(steps=[(&#x27;imputador_numerico&#x27;,\n",
       "                                                                                                   SimpleImputer()),\n",
       "                                                                                                  (&#x27;escalador_numerico&#x27;,\n",
       "                                                                                                   MinMaxScaler())]),\n",
       "                                                                                  Index([&#x27;residentes_hogar&#x27;, &#x27;d2_04_num_hijos&#x27;], dtype=&#x27;object&#x27;))])),\n",
       "                                                (&#x27;variables_ordinales&#x27;,\n",
       "                                                 Pipeline(steps=[(&#x27;transfo...\n",
       "                                                                                                    &#x27;g_08_b_ofrecieron_cocaina_imp_tipo&#x27;,\n",
       "                                                                                                    &#x27;d_12_c_presenta_problema_expendio_sp_barrio_tipo&#x27;,\n",
       "                                                                                                    &#x27;g_02_amigos_consumen_sp_tipo&#x27;,\n",
       "                                                                                                    &#x27;departamento&#x27;,\n",
       "                                                                                                    &#x27;vive_padre_hogar_tipo&#x27;,\n",
       "                                                                                                    &#x27;d_10_poco_interes_tipo&#x27;,\n",
       "                                                                                                    &#x27;g_02_a_num_amigos_consumen_sp_imp_tipo&#x27;,\n",
       "                                                                                                    &#x27;per_sexo_tipo&#x27;,\n",
       "                                                                                                    &#x27;d2_01_etnia_tipo&#x27;,\n",
       "                                                                                                    &#x27;d2_05_nivel_educativo_tipo&#x27;,\n",
       "                                                                                                    &#x27;g_08_c_ofrecieron_basuco_imp_tipo&#x27;, ...])]))]))])),\n",
       "                (&#x27;estimador&#x27;, SVC(kernel=&#x27;linear&#x27;))])</pre><b>In a Jupyter environment, please rerun this cell to show the HTML representation or trust the notebook. <br />On GitHub, the HTML representation is unable to render, please try loading this page with nbviewer.org.</b></div><div class=\"sk-container\" hidden><div class=\"sk-item sk-dashed-wrapped\"><div class=\"sk-label-container\"><div class=\"sk-label sk-toggleable\"><input class=\"sk-toggleable__control sk-hidden--visually\" id=\"sk-estimator-id-19\" type=\"checkbox\" ><label for=\"sk-estimator-id-19\" class=\"sk-toggleable__label sk-toggleable__label-arrow\">Pipeline</label><div class=\"sk-toggleable__content\"><pre>Pipeline(steps=[(&#x27;procesador&#x27;,\n",
       "                 FeatureUnion(transformer_list=[(&#x27;variables_numericas&#x27;,\n",
       "                                                 ColumnTransformer(transformers=[(&#x27;transformador_numerico&#x27;,\n",
       "                                                                                  Pipeline(steps=[(&#x27;imputador_numerico&#x27;,\n",
       "                                                                                                   SimpleImputer()),\n",
       "                                                                                                  (&#x27;escalador_numerico&#x27;,\n",
       "                                                                                                   MinMaxScaler())]),\n",
       "                                                                                  Index([&#x27;residentes_hogar&#x27;, &#x27;d2_04_num_hijos&#x27;], dtype=&#x27;object&#x27;))])),\n",
       "                                                (&#x27;variables_ordinales&#x27;,\n",
       "                                                 Pipeline(steps=[(&#x27;transfo...\n",
       "                                                                                                    &#x27;g_08_b_ofrecieron_cocaina_imp_tipo&#x27;,\n",
       "                                                                                                    &#x27;d_12_c_presenta_problema_expendio_sp_barrio_tipo&#x27;,\n",
       "                                                                                                    &#x27;g_02_amigos_consumen_sp_tipo&#x27;,\n",
       "                                                                                                    &#x27;departamento&#x27;,\n",
       "                                                                                                    &#x27;vive_padre_hogar_tipo&#x27;,\n",
       "                                                                                                    &#x27;d_10_poco_interes_tipo&#x27;,\n",
       "                                                                                                    &#x27;g_02_a_num_amigos_consumen_sp_imp_tipo&#x27;,\n",
       "                                                                                                    &#x27;per_sexo_tipo&#x27;,\n",
       "                                                                                                    &#x27;d2_01_etnia_tipo&#x27;,\n",
       "                                                                                                    &#x27;d2_05_nivel_educativo_tipo&#x27;,\n",
       "                                                                                                    &#x27;g_08_c_ofrecieron_basuco_imp_tipo&#x27;, ...])]))]))])),\n",
       "                (&#x27;estimador&#x27;, SVC(kernel=&#x27;linear&#x27;))])</pre></div></div></div><div class=\"sk-serial\"><div class=\"sk-item sk-dashed-wrapped\"><div class=\"sk-label-container\"><div class=\"sk-label sk-toggleable\"><input class=\"sk-toggleable__control sk-hidden--visually\" id=\"sk-estimator-id-20\" type=\"checkbox\" ><label for=\"sk-estimator-id-20\" class=\"sk-toggleable__label sk-toggleable__label-arrow\">procesador: FeatureUnion</label><div class=\"sk-toggleable__content\"><pre>FeatureUnion(transformer_list=[(&#x27;variables_numericas&#x27;,\n",
       "                                ColumnTransformer(transformers=[(&#x27;transformador_numerico&#x27;,\n",
       "                                                                 Pipeline(steps=[(&#x27;imputador_numerico&#x27;,\n",
       "                                                                                  SimpleImputer()),\n",
       "                                                                                 (&#x27;escalador_numerico&#x27;,\n",
       "                                                                                  MinMaxScaler())]),\n",
       "                                                                 Index([&#x27;residentes_hogar&#x27;, &#x27;d2_04_num_hijos&#x27;], dtype=&#x27;object&#x27;))])),\n",
       "                               (&#x27;variables_ordinales&#x27;,\n",
       "                                Pipeline(steps=[(&#x27;transformador_ordinal&#x27;,\n",
       "                                                 ColumnTransfor...\n",
       "                                                                                   &#x27;g_01_a_num_familiares_consumen_sp_imp_tipo&#x27;,\n",
       "                                                                                   &#x27;g_08_b_ofrecieron_cocaina_imp_tipo&#x27;,\n",
       "                                                                                   &#x27;d_12_c_presenta_problema_expendio_sp_barrio_tipo&#x27;,\n",
       "                                                                                   &#x27;g_02_amigos_consumen_sp_tipo&#x27;,\n",
       "                                                                                   &#x27;departamento&#x27;,\n",
       "                                                                                   &#x27;vive_padre_hogar_tipo&#x27;,\n",
       "                                                                                   &#x27;d_10_poco_interes_tipo&#x27;,\n",
       "                                                                                   &#x27;g_02_a_num_amigos_consumen_sp_imp_tipo&#x27;,\n",
       "                                                                                   &#x27;per_sexo_tipo&#x27;,\n",
       "                                                                                   &#x27;d2_01_etnia_tipo&#x27;,\n",
       "                                                                                   &#x27;d2_05_nivel_educativo_tipo&#x27;,\n",
       "                                                                                   &#x27;g_08_c_ofrecieron_basuco_imp_tipo&#x27;, ...])]))]))])</pre></div></div></div><div class=\"sk-parallel\"><div class=\"sk-parallel-item\"><div class=\"sk-item\"><div class=\"sk-label-container\"><div class=\"sk-label sk-toggleable\"><label>variables_numericas</label></div></div><div class=\"sk-serial\"><div class=\"sk-item sk-dashed-wrapped\"><div class=\"sk-parallel\"><div class=\"sk-parallel-item\"><div class=\"sk-item\"><div class=\"sk-label-container\"><div class=\"sk-label sk-toggleable\"><input class=\"sk-toggleable__control sk-hidden--visually\" id=\"sk-estimator-id-21\" type=\"checkbox\" ><label for=\"sk-estimator-id-21\" class=\"sk-toggleable__label sk-toggleable__label-arrow\">transformador_numerico</label><div class=\"sk-toggleable__content\"><pre>Index([&#x27;residentes_hogar&#x27;, &#x27;d2_04_num_hijos&#x27;], dtype=&#x27;object&#x27;)</pre></div></div></div><div class=\"sk-serial\"><div class=\"sk-item\"><div class=\"sk-serial\"><div class=\"sk-item\"><div class=\"sk-estimator sk-toggleable\"><input class=\"sk-toggleable__control sk-hidden--visually\" id=\"sk-estimator-id-22\" type=\"checkbox\" ><label for=\"sk-estimator-id-22\" class=\"sk-toggleable__label sk-toggleable__label-arrow\">SimpleImputer</label><div class=\"sk-toggleable__content\"><pre>SimpleImputer()</pre></div></div></div><div class=\"sk-item\"><div class=\"sk-estimator sk-toggleable\"><input class=\"sk-toggleable__control sk-hidden--visually\" id=\"sk-estimator-id-23\" type=\"checkbox\" ><label for=\"sk-estimator-id-23\" class=\"sk-toggleable__label sk-toggleable__label-arrow\">MinMaxScaler</label><div class=\"sk-toggleable__content\"><pre>MinMaxScaler()</pre></div></div></div></div></div></div></div></div></div></div></div></div></div><div class=\"sk-parallel-item\"><div class=\"sk-item\"><div class=\"sk-label-container\"><div class=\"sk-label sk-toggleable\"><label>variables_ordinales</label></div></div><div class=\"sk-serial\"><div class=\"sk-item\"><div class=\"sk-serial\"><div class=\"sk-item sk-dashed-wrapped\"><div class=\"sk-label-container\"><div class=\"sk-label sk-toggleable\"><input class=\"sk-toggleable__control sk-hidden--visually\" id=\"sk-estimator-id-24\" type=\"checkbox\" ><label for=\"sk-estimator-id-24\" class=\"sk-toggleable__label sk-toggleable__label-arrow\">transformador_ordinal: ColumnTransformer</label><div class=\"sk-toggleable__content\"><pre>ColumnTransformer(transformers=[(&#x27;transformador_ordinal&#x27;,\n",
       "                                 OrdinalEncoder(mapping=[{&#x27;col&#x27;: &#x27;per_edad_tipo&#x27;,\n",
       "                                                          &#x27;data_type&#x27;: dtype(&#x27;O&#x27;),\n",
       "                                                          &#x27;mapping&#x27;: Adolescente      0\n",
       "Joven            1\n",
       "Adulto           2\n",
       "Persona mayor    3\n",
       "dtype: int64},\n",
       "                                                         {&#x27;col&#x27;: &#x27;estrato_tipo&#x27;,\n",
       "                                                          &#x27;data_type&#x27;: dtype(&#x27;O&#x27;),\n",
       "                                                          &#x27;mapping&#x27;: Estrato bajo     0\n",
       "Estrato medio    1\n",
       "Estrato alto     2\n",
       "dtype: int64},\n",
       "                                                         {&#x27;col&#x27;: &#x27;d_08_estado_salud_tipo&#x27;,\n",
       "                                                          &#x27;data_type&#x27;: dtype(&#x27;O&#x27;),\n",
       "                                                          &#x27;m...\n",
       "                                                         {&#x27;col&#x27;: &#x27;frecuencia_consumo_basuco_tipo&#x27;,\n",
       "                                                          &#x27;data_type&#x27;: dtype(&#x27;O&#x27;),\n",
       "                                                          &#x27;mapping&#x27;: Nunca                                         0\n",
       "Alguna vez en su vida                         1\n",
       "Una vez en el año                             2\n",
       "Algunas veces durante los últimos 12 meses    3\n",
       "Algunas veces mensualmente                    4\n",
       "Algunas veces semanalmente                    5\n",
       "Diariamente                                   6\n",
       "dtype: int64}]),\n",
       "                                 [&#x27;per_edad_tipo&#x27;, &#x27;estrato_tipo&#x27;,\n",
       "                                  &#x27;d_08_estado_salud_tipo&#x27;,\n",
       "                                  &#x27;frecuencia_consumo_marihuana_tipo&#x27;,\n",
       "                                  &#x27;frecuencia_consumo_cocaina_tipo&#x27;,\n",
       "                                  &#x27;frecuencia_consumo_basuco_tipo&#x27;])])</pre></div></div></div><div class=\"sk-parallel\"><div class=\"sk-parallel-item\"><div class=\"sk-item\"><div class=\"sk-label-container\"><div class=\"sk-label sk-toggleable\"><input class=\"sk-toggleable__control sk-hidden--visually\" id=\"sk-estimator-id-25\" type=\"checkbox\" ><label for=\"sk-estimator-id-25\" class=\"sk-toggleable__label sk-toggleable__label-arrow\">transformador_ordinal</label><div class=\"sk-toggleable__content\"><pre>[&#x27;per_edad_tipo&#x27;, &#x27;estrato_tipo&#x27;, &#x27;d_08_estado_salud_tipo&#x27;, &#x27;frecuencia_consumo_marihuana_tipo&#x27;, &#x27;frecuencia_consumo_cocaina_tipo&#x27;, &#x27;frecuencia_consumo_basuco_tipo&#x27;]</pre></div></div></div><div class=\"sk-serial\"><div class=\"sk-item\"><div class=\"sk-estimator sk-toggleable\"><input class=\"sk-toggleable__control sk-hidden--visually\" id=\"sk-estimator-id-26\" type=\"checkbox\" ><label for=\"sk-estimator-id-26\" class=\"sk-toggleable__label sk-toggleable__label-arrow\">OrdinalEncoder</label><div class=\"sk-toggleable__content\"><pre>OrdinalEncoder(mapping=[{&#x27;col&#x27;: &#x27;per_edad_tipo&#x27;, &#x27;data_type&#x27;: dtype(&#x27;O&#x27;),\n",
       "                         &#x27;mapping&#x27;: Adolescente      0\n",
       "Joven            1\n",
       "Adulto           2\n",
       "Persona mayor    3\n",
       "dtype: int64},\n",
       "                        {&#x27;col&#x27;: &#x27;estrato_tipo&#x27;, &#x27;data_type&#x27;: dtype(&#x27;O&#x27;),\n",
       "                         &#x27;mapping&#x27;: Estrato bajo     0\n",
       "Estrato medio    1\n",
       "Estrato alto     2\n",
       "dtype: int64},\n",
       "                        {&#x27;col&#x27;: &#x27;d_08_estado_salud_tipo&#x27;,\n",
       "                         &#x27;data_type&#x27;: dtype(&#x27;O&#x27;),\n",
       "                         &#x27;mapping&#x27;: d_08_Muy_malo     0\n",
       "d_08_Malo         1\n",
       "d_08_Regular      2\n",
       "d_08_Bueno        3\n",
       "d...\n",
       "Una vez en el año                             2\n",
       "Algunas veces durante los últimos 12 meses    3\n",
       "Algunas veces mensualmente                    4\n",
       "Algunas veces semanalmente                    5\n",
       "Diariamente                                   6\n",
       "dtype: int64},\n",
       "                        {&#x27;col&#x27;: &#x27;frecuencia_consumo_basuco_tipo&#x27;,\n",
       "                         &#x27;data_type&#x27;: dtype(&#x27;O&#x27;),\n",
       "                         &#x27;mapping&#x27;: Nunca                                         0\n",
       "Alguna vez en su vida                         1\n",
       "Una vez en el año                             2\n",
       "Algunas veces durante los últimos 12 meses    3\n",
       "Algunas veces mensualmente                    4\n",
       "Algunas veces semanalmente                    5\n",
       "Diariamente                                   6\n",
       "dtype: int64}])</pre></div></div></div></div></div></div></div></div></div></div></div></div></div><div class=\"sk-parallel-item\"><div class=\"sk-item\"><div class=\"sk-label-container\"><div class=\"sk-label sk-toggleable\"><label>variables_categoricas</label></div></div><div class=\"sk-serial\"><div class=\"sk-item\"><div class=\"sk-serial\"><div class=\"sk-item sk-dashed-wrapped\"><div class=\"sk-label-container\"><div class=\"sk-label sk-toggleable\"><input class=\"sk-toggleable__control sk-hidden--visually\" id=\"sk-estimator-id-27\" type=\"checkbox\" ><label for=\"sk-estimator-id-27\" class=\"sk-toggleable__label sk-toggleable__label-arrow\">transformador_categorico: ColumnTransformer</label><div class=\"sk-toggleable__content\"><pre>ColumnTransformer(transformers=[(&#x27;transformador_categorico&#x27;,\n",
       "                                 OneHotEncoder(handle_unknown=&#x27;impute&#x27;),\n",
       "                                 [&#x27;d_11_h_conocimiento_riesgo_fumar_marihuana_frecuentemente_tipo&#x27;,\n",
       "                                  &#x27;d_11_n_conocimiento_riesgo_fumar_basuco_frecuentemente_tipo&#x27;,\n",
       "                                  &#x27;g_01_familiares_consumen_sp_tipo&#x27;,\n",
       "                                  &#x27;vivienda_tipo&#x27;,\n",
       "                                  &#x27;g_08_a_ofrecieron_marihuana_imp_tipo&#x27;,\n",
       "                                  &#x27;g_06_a_posibilidad_conseguir_mar...\n",
       "                                  &#x27;g_01_a_num_familiares_consumen_sp_imp_tipo&#x27;,\n",
       "                                  &#x27;g_08_b_ofrecieron_cocaina_imp_tipo&#x27;,\n",
       "                                  &#x27;d_12_c_presenta_problema_expendio_sp_barrio_tipo&#x27;,\n",
       "                                  &#x27;g_02_amigos_consumen_sp_tipo&#x27;,\n",
       "                                  &#x27;departamento&#x27;, &#x27;vive_padre_hogar_tipo&#x27;,\n",
       "                                  &#x27;d_10_poco_interes_tipo&#x27;,\n",
       "                                  &#x27;g_02_a_num_amigos_consumen_sp_imp_tipo&#x27;,\n",
       "                                  &#x27;per_sexo_tipo&#x27;, &#x27;d2_01_etnia_tipo&#x27;,\n",
       "                                  &#x27;d2_05_nivel_educativo_tipo&#x27;,\n",
       "                                  &#x27;g_08_c_ofrecieron_basuco_imp_tipo&#x27;, ...])])</pre></div></div></div><div class=\"sk-parallel\"><div class=\"sk-parallel-item\"><div class=\"sk-item\"><div class=\"sk-label-container\"><div class=\"sk-label sk-toggleable\"><input class=\"sk-toggleable__control sk-hidden--visually\" id=\"sk-estimator-id-28\" type=\"checkbox\" ><label for=\"sk-estimator-id-28\" class=\"sk-toggleable__label sk-toggleable__label-arrow\">transformador_categorico</label><div class=\"sk-toggleable__content\"><pre>[&#x27;d_11_h_conocimiento_riesgo_fumar_marihuana_frecuentemente_tipo&#x27;, &#x27;d_11_n_conocimiento_riesgo_fumar_basuco_frecuentemente_tipo&#x27;, &#x27;g_01_familiares_consumen_sp_tipo&#x27;, &#x27;vivienda_tipo&#x27;, &#x27;g_08_a_ofrecieron_marihuana_imp_tipo&#x27;, &#x27;g_06_a_posibilidad_conseguir_marihuana_tipo&#x27;, &#x27;g_06_c_posibilidad_conseguir_basuco_tipo&#x27;, &#x27;situacion_tipo&#x27;, &#x27;d_12_b_presenta_problema_consumo_sp_barrio_tipo&#x27;, &#x27;g_05_posibilidad_probar_sp_tipo&#x27;, &#x27;g_06_b_posibilidad_conseguir_cocaina_tipo&#x27;, &#x27;d2_03_estado_civil_tipo&#x27;, &#x27;g_03_curiosidad_probar_sp_tipo&#x27;, &#x27;g_07_alguien_ofrecio_comprar_probar_sp_tipo&#x27;, &#x27;d_11_k_conocimiento_riesgo_cocaina_frecuentemente_tipo&#x27;, &#x27;d_01_aporta_dinero_hogar_tipo&#x27;, &#x27;g_04_probaria_sp_tipo&#x27;, &#x27;vive_madre_hogar_tipo&#x27;, &#x27;g_01_a_num_familiares_consumen_sp_imp_tipo&#x27;, &#x27;g_08_b_ofrecieron_cocaina_imp_tipo&#x27;, &#x27;d_12_c_presenta_problema_expendio_sp_barrio_tipo&#x27;, &#x27;g_02_amigos_consumen_sp_tipo&#x27;, &#x27;departamento&#x27;, &#x27;vive_padre_hogar_tipo&#x27;, &#x27;d_10_poco_interes_tipo&#x27;, &#x27;g_02_a_num_amigos_consumen_sp_imp_tipo&#x27;, &#x27;per_sexo_tipo&#x27;, &#x27;d2_01_etnia_tipo&#x27;, &#x27;d2_05_nivel_educativo_tipo&#x27;, &#x27;g_08_c_ofrecieron_basuco_imp_tipo&#x27;, &#x27;d_09_deprimido_tipo&#x27;]</pre></div></div></div><div class=\"sk-serial\"><div class=\"sk-item\"><div class=\"sk-estimator sk-toggleable\"><input class=\"sk-toggleable__control sk-hidden--visually\" id=\"sk-estimator-id-29\" type=\"checkbox\" ><label for=\"sk-estimator-id-29\" class=\"sk-toggleable__label sk-toggleable__label-arrow\">OneHotEncoder</label><div class=\"sk-toggleable__content\"><pre>OneHotEncoder(handle_unknown=&#x27;impute&#x27;)</pre></div></div></div></div></div></div></div></div></div></div></div></div></div></div></div><div class=\"sk-item\"><div class=\"sk-estimator sk-toggleable\"><input class=\"sk-toggleable__control sk-hidden--visually\" id=\"sk-estimator-id-30\" type=\"checkbox\" ><label for=\"sk-estimator-id-30\" class=\"sk-toggleable__label sk-toggleable__label-arrow\">SVC</label><div class=\"sk-toggleable__content\"><pre>SVC(kernel=&#x27;linear&#x27;)</pre></div></div></div></div></div></div></div>"
      ],
      "text/plain": [
       "Pipeline(steps=[('procesador',\n",
       "                 FeatureUnion(transformer_list=[('variables_numericas',\n",
       "                                                 ColumnTransformer(transformers=[('transformador_numerico',\n",
       "                                                                                  Pipeline(steps=[('imputador_numerico',\n",
       "                                                                                                   SimpleImputer()),\n",
       "                                                                                                  ('escalador_numerico',\n",
       "                                                                                                   MinMaxScaler())]),\n",
       "                                                                                  Index(['residentes_hogar', 'd2_04_num_hijos'], dtype='object'))])),\n",
       "                                                ('variables_ordinales',\n",
       "                                                 Pipeline(steps=[('transfo...\n",
       "                                                                                                    'g_08_b_ofrecieron_cocaina_imp_tipo',\n",
       "                                                                                                    'd_12_c_presenta_problema_expendio_sp_barrio_tipo',\n",
       "                                                                                                    'g_02_amigos_consumen_sp_tipo',\n",
       "                                                                                                    'departamento',\n",
       "                                                                                                    'vive_padre_hogar_tipo',\n",
       "                                                                                                    'd_10_poco_interes_tipo',\n",
       "                                                                                                    'g_02_a_num_amigos_consumen_sp_imp_tipo',\n",
       "                                                                                                    'per_sexo_tipo',\n",
       "                                                                                                    'd2_01_etnia_tipo',\n",
       "                                                                                                    'd2_05_nivel_educativo_tipo',\n",
       "                                                                                                    'g_08_c_ofrecieron_basuco_imp_tipo', ...])]))]))])),\n",
       "                ('estimador', SVC(kernel='linear'))])"
      ]
     },
     "execution_count": 22,
     "metadata": {},
     "output_type": "execute_result"
    }
   ],
   "source": [
    "pipeline_estimador"
   ]
  },
  {
   "cell_type": "code",
   "execution_count": 30,
   "metadata": {},
   "outputs": [
    {
     "data": {
      "text/html": [
       "<style>#sk-container-id-5 {color: black;background-color: white;}#sk-container-id-5 pre{padding: 0;}#sk-container-id-5 div.sk-toggleable {background-color: white;}#sk-container-id-5 label.sk-toggleable__label {cursor: pointer;display: block;width: 100%;margin-bottom: 0;padding: 0.3em;box-sizing: border-box;text-align: center;}#sk-container-id-5 label.sk-toggleable__label-arrow:before {content: \"▸\";float: left;margin-right: 0.25em;color: #696969;}#sk-container-id-5 label.sk-toggleable__label-arrow:hover:before {color: black;}#sk-container-id-5 div.sk-estimator:hover label.sk-toggleable__label-arrow:before {color: black;}#sk-container-id-5 div.sk-toggleable__content {max-height: 0;max-width: 0;overflow: hidden;text-align: left;background-color: #f0f8ff;}#sk-container-id-5 div.sk-toggleable__content pre {margin: 0.2em;color: black;border-radius: 0.25em;background-color: #f0f8ff;}#sk-container-id-5 input.sk-toggleable__control:checked~div.sk-toggleable__content {max-height: 200px;max-width: 100%;overflow: auto;}#sk-container-id-5 input.sk-toggleable__control:checked~label.sk-toggleable__label-arrow:before {content: \"▾\";}#sk-container-id-5 div.sk-estimator input.sk-toggleable__control:checked~label.sk-toggleable__label {background-color: #d4ebff;}#sk-container-id-5 div.sk-label input.sk-toggleable__control:checked~label.sk-toggleable__label {background-color: #d4ebff;}#sk-container-id-5 input.sk-hidden--visually {border: 0;clip: rect(1px 1px 1px 1px);clip: rect(1px, 1px, 1px, 1px);height: 1px;margin: -1px;overflow: hidden;padding: 0;position: absolute;width: 1px;}#sk-container-id-5 div.sk-estimator {font-family: monospace;background-color: #f0f8ff;border: 1px dotted black;border-radius: 0.25em;box-sizing: border-box;margin-bottom: 0.5em;}#sk-container-id-5 div.sk-estimator:hover {background-color: #d4ebff;}#sk-container-id-5 div.sk-parallel-item::after {content: \"\";width: 100%;border-bottom: 1px solid gray;flex-grow: 1;}#sk-container-id-5 div.sk-label:hover label.sk-toggleable__label {background-color: #d4ebff;}#sk-container-id-5 div.sk-serial::before {content: \"\";position: absolute;border-left: 1px solid gray;box-sizing: border-box;top: 0;bottom: 0;left: 50%;z-index: 0;}#sk-container-id-5 div.sk-serial {display: flex;flex-direction: column;align-items: center;background-color: white;padding-right: 0.2em;padding-left: 0.2em;position: relative;}#sk-container-id-5 div.sk-item {position: relative;z-index: 1;}#sk-container-id-5 div.sk-parallel {display: flex;align-items: stretch;justify-content: center;background-color: white;position: relative;}#sk-container-id-5 div.sk-item::before, #sk-container-id-5 div.sk-parallel-item::before {content: \"\";position: absolute;border-left: 1px solid gray;box-sizing: border-box;top: 0;bottom: 0;left: 50%;z-index: -1;}#sk-container-id-5 div.sk-parallel-item {display: flex;flex-direction: column;z-index: 1;position: relative;background-color: white;}#sk-container-id-5 div.sk-parallel-item:first-child::after {align-self: flex-end;width: 50%;}#sk-container-id-5 div.sk-parallel-item:last-child::after {align-self: flex-start;width: 50%;}#sk-container-id-5 div.sk-parallel-item:only-child::after {width: 0;}#sk-container-id-5 div.sk-dashed-wrapped {border: 1px dashed gray;margin: 0 0.4em 0.5em 0.4em;box-sizing: border-box;padding-bottom: 0.4em;background-color: white;}#sk-container-id-5 div.sk-label label {font-family: monospace;font-weight: bold;display: inline-block;line-height: 1.2em;}#sk-container-id-5 div.sk-label-container {text-align: center;}#sk-container-id-5 div.sk-container {/* jupyter's `normalize.less` sets `[hidden] { display: none; }` but bootstrap.min.css set `[hidden] { display: none !important; }` so we also need the `!important` here to be able to override the default hidden behavior on the sphinx rendered scikit-learn.org. See: https://github.com/scikit-learn/scikit-learn/issues/21755 */display: inline-block !important;position: relative;}#sk-container-id-5 div.sk-text-repr-fallback {display: none;}</style><div id=\"sk-container-id-5\" class=\"sk-top-container\"><div class=\"sk-text-repr-fallback\"><pre>Pipeline(steps=[(&#x27;procesador&#x27;,\n",
       "                 FeatureUnion(transformer_list=[(&#x27;variables_numericas&#x27;,\n",
       "                                                 ColumnTransformer(transformers=[(&#x27;transformador_numerico&#x27;,\n",
       "                                                                                  Pipeline(steps=[(&#x27;imputador_numerico&#x27;,\n",
       "                                                                                                   SimpleImputer()),\n",
       "                                                                                                  (&#x27;escalador_numerico&#x27;,\n",
       "                                                                                                   MinMaxScaler())]),\n",
       "                                                                                  Index([&#x27;residentes_hogar&#x27;, &#x27;d2_04_num_hijos&#x27;], dtype=&#x27;object&#x27;))])),\n",
       "                                                (&#x27;variables_ordinales&#x27;,\n",
       "                                                 Pipeline(steps=[(&#x27;transfo...\n",
       "                                                                                                    &#x27;g_07_alguien_ofrecio_comprar_probar_sp_tipo&#x27;,\n",
       "                                                                                                    &#x27;g_06_b_posibilidad_conseguir_cocaina_tipo&#x27;,\n",
       "                                                                                                    &#x27;g_02_a_num_amigos_consumen_sp_imp_tipo&#x27;,\n",
       "                                                                                                    &#x27;g_08_b_ofrecieron_cocaina_imp_tipo&#x27;,\n",
       "                                                                                                    &#x27;situacion_tipo&#x27;,\n",
       "                                                                                                    &#x27;d_11_h_conocimiento_riesgo_fumar_marihuana_frecuentemente_tipo&#x27;,\n",
       "                                                                                                    &#x27;vive_padre_hogar_tipo&#x27;,\n",
       "                                                                                                    &#x27;per_sexo_tipo&#x27;,\n",
       "                                                                                                    &#x27;d_09_deprimido_tipo&#x27;, ...])]))]))])),\n",
       "                (&#x27;estimador&#x27;, SVC(kernel=&#x27;linear&#x27;))])</pre><b>In a Jupyter environment, please rerun this cell to show the HTML representation or trust the notebook. <br />On GitHub, the HTML representation is unable to render, please try loading this page with nbviewer.org.</b></div><div class=\"sk-container\" hidden><div class=\"sk-item sk-dashed-wrapped\"><div class=\"sk-label-container\"><div class=\"sk-label sk-toggleable\"><input class=\"sk-toggleable__control sk-hidden--visually\" id=\"sk-estimator-id-23\" type=\"checkbox\" ><label for=\"sk-estimator-id-23\" class=\"sk-toggleable__label sk-toggleable__label-arrow\">Pipeline</label><div class=\"sk-toggleable__content\"><pre>Pipeline(steps=[(&#x27;procesador&#x27;,\n",
       "                 FeatureUnion(transformer_list=[(&#x27;variables_numericas&#x27;,\n",
       "                                                 ColumnTransformer(transformers=[(&#x27;transformador_numerico&#x27;,\n",
       "                                                                                  Pipeline(steps=[(&#x27;imputador_numerico&#x27;,\n",
       "                                                                                                   SimpleImputer()),\n",
       "                                                                                                  (&#x27;escalador_numerico&#x27;,\n",
       "                                                                                                   MinMaxScaler())]),\n",
       "                                                                                  Index([&#x27;residentes_hogar&#x27;, &#x27;d2_04_num_hijos&#x27;], dtype=&#x27;object&#x27;))])),\n",
       "                                                (&#x27;variables_ordinales&#x27;,\n",
       "                                                 Pipeline(steps=[(&#x27;transfo...\n",
       "                                                                                                    &#x27;g_07_alguien_ofrecio_comprar_probar_sp_tipo&#x27;,\n",
       "                                                                                                    &#x27;g_06_b_posibilidad_conseguir_cocaina_tipo&#x27;,\n",
       "                                                                                                    &#x27;g_02_a_num_amigos_consumen_sp_imp_tipo&#x27;,\n",
       "                                                                                                    &#x27;g_08_b_ofrecieron_cocaina_imp_tipo&#x27;,\n",
       "                                                                                                    &#x27;situacion_tipo&#x27;,\n",
       "                                                                                                    &#x27;d_11_h_conocimiento_riesgo_fumar_marihuana_frecuentemente_tipo&#x27;,\n",
       "                                                                                                    &#x27;vive_padre_hogar_tipo&#x27;,\n",
       "                                                                                                    &#x27;per_sexo_tipo&#x27;,\n",
       "                                                                                                    &#x27;d_09_deprimido_tipo&#x27;, ...])]))]))])),\n",
       "                (&#x27;estimador&#x27;, SVC(kernel=&#x27;linear&#x27;))])</pre></div></div></div><div class=\"sk-serial\"><div class=\"sk-item sk-dashed-wrapped\"><div class=\"sk-label-container\"><div class=\"sk-label sk-toggleable\"><input class=\"sk-toggleable__control sk-hidden--visually\" id=\"sk-estimator-id-24\" type=\"checkbox\" ><label for=\"sk-estimator-id-24\" class=\"sk-toggleable__label sk-toggleable__label-arrow\">procesador: FeatureUnion</label><div class=\"sk-toggleable__content\"><pre>FeatureUnion(transformer_list=[(&#x27;variables_numericas&#x27;,\n",
       "                                ColumnTransformer(transformers=[(&#x27;transformador_numerico&#x27;,\n",
       "                                                                 Pipeline(steps=[(&#x27;imputador_numerico&#x27;,\n",
       "                                                                                  SimpleImputer()),\n",
       "                                                                                 (&#x27;escalador_numerico&#x27;,\n",
       "                                                                                  MinMaxScaler())]),\n",
       "                                                                 Index([&#x27;residentes_hogar&#x27;, &#x27;d2_04_num_hijos&#x27;], dtype=&#x27;object&#x27;))])),\n",
       "                               (&#x27;variables_ordinales&#x27;,\n",
       "                                Pipeline(steps=[(&#x27;transformador_ordinal&#x27;,\n",
       "                                                 ColumnTransfor...\n",
       "                                                                                   &#x27;d_10_poco_interes_tipo&#x27;,\n",
       "                                                                                   &#x27;g_07_alguien_ofrecio_comprar_probar_sp_tipo&#x27;,\n",
       "                                                                                   &#x27;g_06_b_posibilidad_conseguir_cocaina_tipo&#x27;,\n",
       "                                                                                   &#x27;g_02_a_num_amigos_consumen_sp_imp_tipo&#x27;,\n",
       "                                                                                   &#x27;g_08_b_ofrecieron_cocaina_imp_tipo&#x27;,\n",
       "                                                                                   &#x27;situacion_tipo&#x27;,\n",
       "                                                                                   &#x27;d_11_h_conocimiento_riesgo_fumar_marihuana_frecuentemente_tipo&#x27;,\n",
       "                                                                                   &#x27;vive_padre_hogar_tipo&#x27;,\n",
       "                                                                                   &#x27;per_sexo_tipo&#x27;,\n",
       "                                                                                   &#x27;d_09_deprimido_tipo&#x27;, ...])]))]))])</pre></div></div></div><div class=\"sk-parallel\"><div class=\"sk-parallel-item\"><div class=\"sk-item\"><div class=\"sk-label-container\"><div class=\"sk-label sk-toggleable\"><label>variables_numericas</label></div></div><div class=\"sk-serial\"><div class=\"sk-item sk-dashed-wrapped\"><div class=\"sk-parallel\"><div class=\"sk-parallel-item\"><div class=\"sk-item\"><div class=\"sk-label-container\"><div class=\"sk-label sk-toggleable\"><input class=\"sk-toggleable__control sk-hidden--visually\" id=\"sk-estimator-id-25\" type=\"checkbox\" ><label for=\"sk-estimator-id-25\" class=\"sk-toggleable__label sk-toggleable__label-arrow\">transformador_numerico</label><div class=\"sk-toggleable__content\"><pre>Index([&#x27;residentes_hogar&#x27;, &#x27;d2_04_num_hijos&#x27;], dtype=&#x27;object&#x27;)</pre></div></div></div><div class=\"sk-serial\"><div class=\"sk-item\"><div class=\"sk-serial\"><div class=\"sk-item\"><div class=\"sk-estimator sk-toggleable\"><input class=\"sk-toggleable__control sk-hidden--visually\" id=\"sk-estimator-id-26\" type=\"checkbox\" ><label for=\"sk-estimator-id-26\" class=\"sk-toggleable__label sk-toggleable__label-arrow\">SimpleImputer</label><div class=\"sk-toggleable__content\"><pre>SimpleImputer()</pre></div></div></div><div class=\"sk-item\"><div class=\"sk-estimator sk-toggleable\"><input class=\"sk-toggleable__control sk-hidden--visually\" id=\"sk-estimator-id-27\" type=\"checkbox\" ><label for=\"sk-estimator-id-27\" class=\"sk-toggleable__label sk-toggleable__label-arrow\">MinMaxScaler</label><div class=\"sk-toggleable__content\"><pre>MinMaxScaler()</pre></div></div></div></div></div></div></div></div></div></div></div></div></div><div class=\"sk-parallel-item\"><div class=\"sk-item\"><div class=\"sk-label-container\"><div class=\"sk-label sk-toggleable\"><label>variables_ordinales</label></div></div><div class=\"sk-serial\"><div class=\"sk-item\"><div class=\"sk-serial\"><div class=\"sk-item sk-dashed-wrapped\"><div class=\"sk-label-container\"><div class=\"sk-label sk-toggleable\"><input class=\"sk-toggleable__control sk-hidden--visually\" id=\"sk-estimator-id-28\" type=\"checkbox\" ><label for=\"sk-estimator-id-28\" class=\"sk-toggleable__label sk-toggleable__label-arrow\">transformador_ordinal: ColumnTransformer</label><div class=\"sk-toggleable__content\"><pre>ColumnTransformer(transformers=[(&#x27;transformador_ordinal&#x27;,\n",
       "                                 OrdinalEncoder(mapping=[{&#x27;col&#x27;: &#x27;per_edad_tipo&#x27;,\n",
       "                                                          &#x27;data_type&#x27;: dtype(&#x27;O&#x27;),\n",
       "                                                          &#x27;mapping&#x27;: Adolescente      0\n",
       "Joven            1\n",
       "Adulto           2\n",
       "Persona mayor    3\n",
       "dtype: int64},\n",
       "                                                         {&#x27;col&#x27;: &#x27;estrato_tipo&#x27;,\n",
       "                                                          &#x27;data_type&#x27;: dtype(&#x27;O&#x27;),\n",
       "                                                          &#x27;mapping&#x27;: Estrato bajo     0\n",
       "Estrato medio    1\n",
       "Estrato alto     2\n",
       "dtype: int64},\n",
       "                                                         {&#x27;col&#x27;: &#x27;d_08_estado_salud_tipo&#x27;,\n",
       "                                                          &#x27;data_type&#x27;: dtype(&#x27;O&#x27;),\n",
       "                                                          &#x27;m...\n",
       "                                                         {&#x27;col&#x27;: &#x27;frecuencia_consumo_basuco_tipo&#x27;,\n",
       "                                                          &#x27;data_type&#x27;: dtype(&#x27;O&#x27;),\n",
       "                                                          &#x27;mapping&#x27;: Nunca                                         0\n",
       "Alguna vez en su vida                         1\n",
       "Una vez en el año                             2\n",
       "Algunas veces durante los últimos 12 meses    3\n",
       "Algunas veces mensualmente                    4\n",
       "Algunas veces semanalmente                    5\n",
       "Diariamente                                   6\n",
       "dtype: int64}]),\n",
       "                                 [&#x27;per_edad_tipo&#x27;, &#x27;estrato_tipo&#x27;,\n",
       "                                  &#x27;d_08_estado_salud_tipo&#x27;,\n",
       "                                  &#x27;frecuencia_consumo_marihuana_tipo&#x27;,\n",
       "                                  &#x27;frecuencia_consumo_cocaina_tipo&#x27;,\n",
       "                                  &#x27;frecuencia_consumo_basuco_tipo&#x27;])])</pre></div></div></div><div class=\"sk-parallel\"><div class=\"sk-parallel-item\"><div class=\"sk-item\"><div class=\"sk-label-container\"><div class=\"sk-label sk-toggleable\"><input class=\"sk-toggleable__control sk-hidden--visually\" id=\"sk-estimator-id-29\" type=\"checkbox\" ><label for=\"sk-estimator-id-29\" class=\"sk-toggleable__label sk-toggleable__label-arrow\">transformador_ordinal</label><div class=\"sk-toggleable__content\"><pre>[&#x27;per_edad_tipo&#x27;, &#x27;estrato_tipo&#x27;, &#x27;d_08_estado_salud_tipo&#x27;, &#x27;frecuencia_consumo_marihuana_tipo&#x27;, &#x27;frecuencia_consumo_cocaina_tipo&#x27;, &#x27;frecuencia_consumo_basuco_tipo&#x27;]</pre></div></div></div><div class=\"sk-serial\"><div class=\"sk-item\"><div class=\"sk-estimator sk-toggleable\"><input class=\"sk-toggleable__control sk-hidden--visually\" id=\"sk-estimator-id-30\" type=\"checkbox\" ><label for=\"sk-estimator-id-30\" class=\"sk-toggleable__label sk-toggleable__label-arrow\">OrdinalEncoder</label><div class=\"sk-toggleable__content\"><pre>OrdinalEncoder(mapping=[{&#x27;col&#x27;: &#x27;per_edad_tipo&#x27;, &#x27;data_type&#x27;: dtype(&#x27;O&#x27;),\n",
       "                         &#x27;mapping&#x27;: Adolescente      0\n",
       "Joven            1\n",
       "Adulto           2\n",
       "Persona mayor    3\n",
       "dtype: int64},\n",
       "                        {&#x27;col&#x27;: &#x27;estrato_tipo&#x27;, &#x27;data_type&#x27;: dtype(&#x27;O&#x27;),\n",
       "                         &#x27;mapping&#x27;: Estrato bajo     0\n",
       "Estrato medio    1\n",
       "Estrato alto     2\n",
       "dtype: int64},\n",
       "                        {&#x27;col&#x27;: &#x27;d_08_estado_salud_tipo&#x27;,\n",
       "                         &#x27;data_type&#x27;: dtype(&#x27;O&#x27;),\n",
       "                         &#x27;mapping&#x27;: d_08_Muy_malo     0\n",
       "d_08_Malo         1\n",
       "d_08_Regular      2\n",
       "d_08_Bueno        3\n",
       "d...\n",
       "Una vez en el año                             2\n",
       "Algunas veces durante los últimos 12 meses    3\n",
       "Algunas veces mensualmente                    4\n",
       "Algunas veces semanalmente                    5\n",
       "Diariamente                                   6\n",
       "dtype: int64},\n",
       "                        {&#x27;col&#x27;: &#x27;frecuencia_consumo_basuco_tipo&#x27;,\n",
       "                         &#x27;data_type&#x27;: dtype(&#x27;O&#x27;),\n",
       "                         &#x27;mapping&#x27;: Nunca                                         0\n",
       "Alguna vez en su vida                         1\n",
       "Una vez en el año                             2\n",
       "Algunas veces durante los últimos 12 meses    3\n",
       "Algunas veces mensualmente                    4\n",
       "Algunas veces semanalmente                    5\n",
       "Diariamente                                   6\n",
       "dtype: int64}])</pre></div></div></div></div></div></div></div></div></div></div></div></div></div><div class=\"sk-parallel-item\"><div class=\"sk-item\"><div class=\"sk-label-container\"><div class=\"sk-label sk-toggleable\"><label>variables_categoricas</label></div></div><div class=\"sk-serial\"><div class=\"sk-item\"><div class=\"sk-serial\"><div class=\"sk-item sk-dashed-wrapped\"><div class=\"sk-label-container\"><div class=\"sk-label sk-toggleable\"><input class=\"sk-toggleable__control sk-hidden--visually\" id=\"sk-estimator-id-31\" type=\"checkbox\" ><label for=\"sk-estimator-id-31\" class=\"sk-toggleable__label sk-toggleable__label-arrow\">transformador_categorico: ColumnTransformer</label><div class=\"sk-toggleable__content\"><pre>ColumnTransformer(transformers=[(&#x27;transformador_categorico&#x27;,\n",
       "                                 OneHotEncoder(handle_unknown=&#x27;impute&#x27;),\n",
       "                                 [&#x27;d2_03_estado_civil_tipo&#x27;,\n",
       "                                  &#x27;g_05_posibilidad_probar_sp_tipo&#x27;,\n",
       "                                  &#x27;g_02_amigos_consumen_sp_tipo&#x27;,\n",
       "                                  &#x27;g_04_probaria_sp_tipo&#x27;,\n",
       "                                  &#x27;vive_madre_hogar_tipo&#x27;,\n",
       "                                  &#x27;d_12_b_presenta_problema_consumo_sp_barrio_tipo&#x27;,\n",
       "                                  &#x27;d_11_k_conocimiento_riesgo_cocaina_frecuentemente_tipo&#x27;,\n",
       "                                  &#x27;g_0...\n",
       "                                  &#x27;d_12_c_presenta_problema_expendio_sp_barrio_tipo&#x27;,\n",
       "                                  &#x27;d_10_poco_interes_tipo&#x27;,\n",
       "                                  &#x27;g_07_alguien_ofrecio_comprar_probar_sp_tipo&#x27;,\n",
       "                                  &#x27;g_06_b_posibilidad_conseguir_cocaina_tipo&#x27;,\n",
       "                                  &#x27;g_02_a_num_amigos_consumen_sp_imp_tipo&#x27;,\n",
       "                                  &#x27;g_08_b_ofrecieron_cocaina_imp_tipo&#x27;,\n",
       "                                  &#x27;situacion_tipo&#x27;,\n",
       "                                  &#x27;d_11_h_conocimiento_riesgo_fumar_marihuana_frecuentemente_tipo&#x27;,\n",
       "                                  &#x27;vive_padre_hogar_tipo&#x27;, &#x27;per_sexo_tipo&#x27;,\n",
       "                                  &#x27;d_09_deprimido_tipo&#x27;, ...])])</pre></div></div></div><div class=\"sk-parallel\"><div class=\"sk-parallel-item\"><div class=\"sk-item\"><div class=\"sk-label-container\"><div class=\"sk-label sk-toggleable\"><input class=\"sk-toggleable__control sk-hidden--visually\" id=\"sk-estimator-id-32\" type=\"checkbox\" ><label for=\"sk-estimator-id-32\" class=\"sk-toggleable__label sk-toggleable__label-arrow\">transformador_categorico</label><div class=\"sk-toggleable__content\"><pre>[&#x27;d2_03_estado_civil_tipo&#x27;, &#x27;g_05_posibilidad_probar_sp_tipo&#x27;, &#x27;g_02_amigos_consumen_sp_tipo&#x27;, &#x27;g_04_probaria_sp_tipo&#x27;, &#x27;vive_madre_hogar_tipo&#x27;, &#x27;d_12_b_presenta_problema_consumo_sp_barrio_tipo&#x27;, &#x27;d_11_k_conocimiento_riesgo_cocaina_frecuentemente_tipo&#x27;, &#x27;g_06_c_posibilidad_conseguir_basuco_tipo&#x27;, &#x27;d2_01_etnia_tipo&#x27;, &#x27;d_11_n_conocimiento_riesgo_fumar_basuco_frecuentemente_tipo&#x27;, &#x27;g_06_a_posibilidad_conseguir_marihuana_tipo&#x27;, &#x27;g_08_c_ofrecieron_basuco_imp_tipo&#x27;, &#x27;g_01_a_num_familiares_consumen_sp_imp_tipo&#x27;, &#x27;g_08_a_ofrecieron_marihuana_imp_tipo&#x27;, &#x27;g_03_curiosidad_probar_sp_tipo&#x27;, &#x27;departamento&#x27;, &#x27;d_01_aporta_dinero_hogar_tipo&#x27;, &#x27;d2_05_nivel_educativo_tipo&#x27;, &#x27;g_01_familiares_consumen_sp_tipo&#x27;, &#x27;d_12_c_presenta_problema_expendio_sp_barrio_tipo&#x27;, &#x27;d_10_poco_interes_tipo&#x27;, &#x27;g_07_alguien_ofrecio_comprar_probar_sp_tipo&#x27;, &#x27;g_06_b_posibilidad_conseguir_cocaina_tipo&#x27;, &#x27;g_02_a_num_amigos_consumen_sp_imp_tipo&#x27;, &#x27;g_08_b_ofrecieron_cocaina_imp_tipo&#x27;, &#x27;situacion_tipo&#x27;, &#x27;d_11_h_conocimiento_riesgo_fumar_marihuana_frecuentemente_tipo&#x27;, &#x27;vive_padre_hogar_tipo&#x27;, &#x27;per_sexo_tipo&#x27;, &#x27;d_09_deprimido_tipo&#x27;, &#x27;vivienda_tipo&#x27;]</pre></div></div></div><div class=\"sk-serial\"><div class=\"sk-item\"><div class=\"sk-estimator sk-toggleable\"><input class=\"sk-toggleable__control sk-hidden--visually\" id=\"sk-estimator-id-33\" type=\"checkbox\" ><label for=\"sk-estimator-id-33\" class=\"sk-toggleable__label sk-toggleable__label-arrow\">OneHotEncoder</label><div class=\"sk-toggleable__content\"><pre>OneHotEncoder(handle_unknown=&#x27;impute&#x27;)</pre></div></div></div></div></div></div></div></div></div></div></div></div></div></div></div><div class=\"sk-item\"><div class=\"sk-estimator sk-toggleable\"><input class=\"sk-toggleable__control sk-hidden--visually\" id=\"sk-estimator-id-34\" type=\"checkbox\" ><label for=\"sk-estimator-id-34\" class=\"sk-toggleable__label sk-toggleable__label-arrow\">SVC</label><div class=\"sk-toggleable__content\"><pre>SVC(kernel=&#x27;linear&#x27;)</pre></div></div></div></div></div></div></div>"
      ],
      "text/plain": [
       "Pipeline(steps=[('procesador',\n",
       "                 FeatureUnion(transformer_list=[('variables_numericas',\n",
       "                                                 ColumnTransformer(transformers=[('transformador_numerico',\n",
       "                                                                                  Pipeline(steps=[('imputador_numerico',\n",
       "                                                                                                   SimpleImputer()),\n",
       "                                                                                                  ('escalador_numerico',\n",
       "                                                                                                   MinMaxScaler())]),\n",
       "                                                                                  Index(['residentes_hogar', 'd2_04_num_hijos'], dtype='object'))])),\n",
       "                                                ('variables_ordinales',\n",
       "                                                 Pipeline(steps=[('transfo...\n",
       "                                                                                                    'g_07_alguien_ofrecio_comprar_probar_sp_tipo',\n",
       "                                                                                                    'g_06_b_posibilidad_conseguir_cocaina_tipo',\n",
       "                                                                                                    'g_02_a_num_amigos_consumen_sp_imp_tipo',\n",
       "                                                                                                    'g_08_b_ofrecieron_cocaina_imp_tipo',\n",
       "                                                                                                    'situacion_tipo',\n",
       "                                                                                                    'd_11_h_conocimiento_riesgo_fumar_marihuana_frecuentemente_tipo',\n",
       "                                                                                                    'vive_padre_hogar_tipo',\n",
       "                                                                                                    'per_sexo_tipo',\n",
       "                                                                                                    'd_09_deprimido_tipo', ...])]))]))])),\n",
       "                ('estimador', SVC(kernel='linear'))])"
      ]
     },
     "execution_count": 30,
     "metadata": {},
     "output_type": "execute_result"
    }
   ],
   "source": [
    "pipeline_estimador.fit(X_train, y_train)"
   ]
  },
  {
   "cell_type": "code",
   "execution_count": 31,
   "metadata": {},
   "outputs": [],
   "source": [
    "predicciones = pipeline_estimador.predict(X_test)"
   ]
  },
  {
   "cell_type": "markdown",
   "metadata": {},
   "source": [
    "Se evalua el modelo segun lo obtenido"
   ]
  },
  {
   "cell_type": "markdown",
   "metadata": {},
   "source": [
    "El beneficio de los pipelines, no solo es tener codigo mas legible y poder gestionar de forma ordenada todo el ciclo de vida del modelado, sino que los pipelines tienen todos los beneficios de los objetos de scikitlearn, por ejemplo, podemos usar validacion cruzada directamente con el pipeline."
   ]
  },
  {
   "cell_type": "code",
   "execution_count": 32,
   "metadata": {},
   "outputs": [],
   "source": [
    "resultados = {}\n",
    "\n",
    "def exactitud_multietiqueta(estimador, X, y):\n",
    "    preds = estimador.predict(X)\n",
    "    return metrics.accuracy_score(y, preds)\n",
    "\n",
    "def precision_multietiqueta(estimador, X, y):\n",
    "    preds = estimador.predict(X)\n",
    "    return metrics.precision_score(y, preds, average=\"macro\")\n",
    "\n",
    "def exhaustividad_multietiqueta(estimador, X, y):\n",
    "    preds = estimador.predict(X)\n",
    "    return metrics.recall_score(y, preds, average=\"macro\")\n",
    "\n",
    "def f1_multietiqueta(estimador, X, y):\n",
    "    preds = estimador.predict(X)\n",
    "    return metrics.f1_score(y, preds, average=\"macro\")"
   ]
  },
  {
   "cell_type": "code",
   "execution_count": 33,
   "metadata": {},
   "outputs": [],
   "source": [
    "def evaluar_modelo(prmPipeline,X, y, semillas):\n",
    "    restultados_estimador = {}\n",
    "    restultados_estimador[\"exactitud\"] = cross_validate(prmPipeline, X, y,\n",
    "                                           scoring=exactitud_multietiqueta, n_jobs=-1, cv=semillas, return_train_score=True)\n",
    "    \n",
    "    restultados_estimador[\"precision\"] = cross_validate(prmPipeline, X, y,\n",
    "                                           scoring=precision_multietiqueta, n_jobs=-1, cv=semillas, return_train_score=True)\n",
    "    \n",
    "    restultados_estimador[\"exhaustividad\"] = cross_validate(prmPipeline, X, y,\n",
    "                                           scoring=exhaustividad_multietiqueta, n_jobs=-1, cv=semillas, return_train_score=True)\n",
    "    \n",
    "    restultados_estimador[\"f1_score\"] = cross_validate(prmPipeline, X, y,\n",
    "                                           scoring=f1_multietiqueta, n_jobs=-1, cv=semillas, return_train_score=True)\n",
    "    return restultados_estimador"
   ]
  },
  {
   "cell_type": "code",
   "execution_count": 34,
   "metadata": {},
   "outputs": [],
   "source": [
    "\n",
    "#Funcion para poder visuallizar los resultados de las metricas\n",
    "def ver_resultados():\n",
    "    df_res = pd.DataFrame()\n",
    "    for modelo, metricas in resultados.items():\n",
    "        for metrica, valores in metricas.items():\n",
    "            for medida, arreglo in valores.items():\n",
    "                # Calcula la media de cada array y agrega una nueva fila al DataFrame\n",
    "                df_res.loc[f\"{modelo}_{metrica}\", medida] = np.mean(arreglo)\n",
    "                \n",
    "    return df_res"
   ]
  },
  {
   "cell_type": "code",
   "execution_count": 35,
   "metadata": {},
   "outputs": [
    {
     "data": {
      "text/html": [
       "<div>\n",
       "<style scoped>\n",
       "    .dataframe tbody tr th:only-of-type {\n",
       "        vertical-align: middle;\n",
       "    }\n",
       "\n",
       "    .dataframe tbody tr th {\n",
       "        vertical-align: top;\n",
       "    }\n",
       "\n",
       "    .dataframe thead th {\n",
       "        text-align: right;\n",
       "    }\n",
       "</style>\n",
       "<table border=\"1\" class=\"dataframe\">\n",
       "  <thead>\n",
       "    <tr style=\"text-align: right;\">\n",
       "      <th></th>\n",
       "      <th>fit_time</th>\n",
       "      <th>score_time</th>\n",
       "      <th>test_score</th>\n",
       "      <th>train_score</th>\n",
       "    </tr>\n",
       "  </thead>\n",
       "  <tbody>\n",
       "    <tr>\n",
       "      <th>svm_exactitud</th>\n",
       "      <td>2.902915</td>\n",
       "      <td>0.022530</td>\n",
       "      <td>0.984100</td>\n",
       "      <td>0.994629</td>\n",
       "    </tr>\n",
       "    <tr>\n",
       "      <th>svm_precision</th>\n",
       "      <td>3.033229</td>\n",
       "      <td>0.023249</td>\n",
       "      <td>0.978580</td>\n",
       "      <td>0.994754</td>\n",
       "    </tr>\n",
       "    <tr>\n",
       "      <th>svm_exhaustividad</th>\n",
       "      <td>2.967160</td>\n",
       "      <td>0.021971</td>\n",
       "      <td>0.976901</td>\n",
       "      <td>0.994247</td>\n",
       "    </tr>\n",
       "    <tr>\n",
       "      <th>svm_f1_score</th>\n",
       "      <td>3.345306</td>\n",
       "      <td>0.023329</td>\n",
       "      <td>0.977038</td>\n",
       "      <td>0.994497</td>\n",
       "    </tr>\n",
       "  </tbody>\n",
       "</table>\n",
       "</div>"
      ],
      "text/plain": [
       "                   fit_time  score_time  test_score  train_score\n",
       "svm_exactitud      2.902915    0.022530    0.984100     0.994629\n",
       "svm_precision      3.033229    0.023249    0.978580     0.994754\n",
       "svm_exhaustividad  2.967160    0.021971    0.976901     0.994247\n",
       "svm_f1_score       3.345306    0.023329    0.977038     0.994497"
      ]
     },
     "execution_count": 35,
     "metadata": {},
     "output_type": "execute_result"
    }
   ],
   "source": [
    "estimador_agregado = pipeline_estimador.named_steps['estimador']\n",
    "resultados[\"svm\"] = evaluar_modelo(estimador_agregado, consumidores_procesado, consumidores.CatRiesgo, 50)\n",
    "ver_resultados()"
   ]
  },
  {
   "cell_type": "code",
   "execution_count": 36,
   "metadata": {},
   "outputs": [
    {
     "name": "stdout",
     "output_type": "stream",
     "text": [
      "Reporte de Clasificación:\n",
      "              precision    recall  f1-score   support\n",
      "\n",
      "           0       0.99      1.00      0.99       864\n",
      "           1       0.97      0.98      0.98       477\n",
      "           2       0.98      0.98      0.98       475\n",
      "           3       0.96      0.87      0.91       114\n",
      "           4       0.92      0.97      0.94        70\n",
      "\n",
      "    accuracy                           0.98      2000\n",
      "   macro avg       0.96      0.96      0.96      2000\n",
      "weighted avg       0.98      0.98      0.98      2000\n",
      "\n"
     ]
    }
   ],
   "source": [
    "report = classification_report(y_test, predicciones)\n",
    "print('Reporte de Clasificación:')\n",
    "print(report)"
   ]
  },
  {
   "cell_type": "markdown",
   "metadata": {
    "collapsed": true
   },
   "source": [
    "### Optimizacion de hiperparametros"
   ]
  },
  {
   "cell_type": "markdown",
   "metadata": {},
   "source": [
    "En esta sección se configuran los diferentes parámetros del modelo, con el objetivo de mejorar los resultados de las métricas."
   ]
  },
  {
   "cell_type": "code",
   "execution_count": 34,
   "metadata": {},
   "outputs": [
    {
     "name": "stdout",
     "output_type": "stream",
     "text": [
      "C-Support Vector Classification.\n",
      "\n",
      "    The implementation is based on libsvm. The fit time scales at least\n",
      "    quadratically with the number of samples and may be impractical\n",
      "    beyond tens of thousands of samples. For large datasets\n",
      "    consider using :class:`~sklearn.svm.LinearSVC` or\n",
      "    :class:`~sklearn.linear_model.SGDClassifier` instead, possibly after a\n",
      "    :class:`~sklearn.kernel_approximation.Nystroem` transformer or\n",
      "    other :ref:`kernel_approximation`.\n",
      "\n",
      "    The multiclass support is handled according to a one-vs-one scheme.\n",
      "\n",
      "    For details on the precise mathematical formulation of the provided\n",
      "    kernel functions and how `gamma`, `coef0` and `degree` affect each\n",
      "    other, see the corresponding section in the narrative documentation:\n",
      "    :ref:`svm_kernels`.\n",
      "\n",
      "    Read more in the :ref:`User Guide <svm_classification>`.\n",
      "\n",
      "    Parameters\n",
      "    ----------\n",
      "    C : float, default=1.0\n",
      "        Regularization parameter. The strength of the regularization is\n",
      "        inversely proportional to C. Must be strictly positive. The penalty\n",
      "        is a squared l2 penalty.\n",
      "\n",
      "    kernel : {'linear', 'poly', 'rbf', 'sigmoid', 'precomputed'} or callable,          default='rbf'\n",
      "        Specifies the kernel type to be used in the algorithm.\n",
      "        If none is given, 'rbf' will be used. If a callable is given it is\n",
      "        used to pre-compute the kernel matrix from data matrices; that matrix\n",
      "        should be an array of shape ``(n_samples, n_samples)``.\n",
      "\n",
      "    degree : int, default=3\n",
      "        Degree of the polynomial kernel function ('poly').\n",
      "        Must be non-negative. Ignored by all other kernels.\n",
      "\n",
      "    gamma : {'scale', 'auto'} or float, default='scale'\n",
      "        Kernel coefficient for 'rbf', 'poly' and 'sigmoid'.\n",
      "\n",
      "        - if ``gamma='scale'`` (default) is passed then it uses\n",
      "          1 / (n_features * X.var()) as value of gamma,\n",
      "        - if 'auto', uses 1 / n_features\n",
      "        - if float, must be non-negative.\n",
      "\n",
      "        .. versionchanged:: 0.22\n",
      "           The default value of ``gamma`` changed from 'auto' to 'scale'.\n",
      "\n",
      "    coef0 : float, default=0.0\n",
      "        Independent term in kernel function.\n",
      "        It is only significant in 'poly' and 'sigmoid'.\n",
      "\n",
      "    shrinking : bool, default=True\n",
      "        Whether to use the shrinking heuristic.\n",
      "        See the :ref:`User Guide <shrinking_svm>`.\n",
      "\n",
      "    probability : bool, default=False\n",
      "        Whether to enable probability estimates. This must be enabled prior\n",
      "        to calling `fit`, will slow down that method as it internally uses\n",
      "        5-fold cross-validation, and `predict_proba` may be inconsistent with\n",
      "        `predict`. Read more in the :ref:`User Guide <scores_probabilities>`.\n",
      "\n",
      "    tol : float, default=1e-3\n",
      "        Tolerance for stopping criterion.\n",
      "\n",
      "    cache_size : float, default=200\n",
      "        Specify the size of the kernel cache (in MB).\n",
      "\n",
      "    class_weight : dict or 'balanced', default=None\n",
      "        Set the parameter C of class i to class_weight[i]*C for\n",
      "        SVC. If not given, all classes are supposed to have\n",
      "        weight one.\n",
      "        The \"balanced\" mode uses the values of y to automatically adjust\n",
      "        weights inversely proportional to class frequencies in the input data\n",
      "        as ``n_samples / (n_classes * np.bincount(y))``.\n",
      "\n",
      "    verbose : bool, default=False\n",
      "        Enable verbose output. Note that this setting takes advantage of a\n",
      "        per-process runtime setting in libsvm that, if enabled, may not work\n",
      "        properly in a multithreaded context.\n",
      "\n",
      "    max_iter : int, default=-1\n",
      "        Hard limit on iterations within solver, or -1 for no limit.\n",
      "\n",
      "    decision_function_shape : {'ovo', 'ovr'}, default='ovr'\n",
      "        Whether to return a one-vs-rest ('ovr') decision function of shape\n",
      "        (n_samples, n_classes) as all other classifiers, or the original\n",
      "        one-vs-one ('ovo') decision function of libsvm which has shape\n",
      "        (n_samples, n_classes * (n_classes - 1) / 2). However, note that\n",
      "        internally, one-vs-one ('ovo') is always used as a multi-class strategy\n",
      "        to train models; an ovr matrix is only constructed from the ovo matrix.\n",
      "        The parameter is ignored for binary classification.\n",
      "\n",
      "        .. versionchanged:: 0.19\n",
      "            decision_function_shape is 'ovr' by default.\n",
      "\n",
      "        .. versionadded:: 0.17\n",
      "           *decision_function_shape='ovr'* is recommended.\n",
      "\n",
      "        .. versionchanged:: 0.17\n",
      "           Deprecated *decision_function_shape='ovo' and None*.\n",
      "\n",
      "    break_ties : bool, default=False\n",
      "        If true, ``decision_function_shape='ovr'``, and number of classes > 2,\n",
      "        :term:`predict` will break ties according to the confidence values of\n",
      "        :term:`decision_function`; otherwise the first class among the tied\n",
      "        classes is returned. Please note that breaking ties comes at a\n",
      "        relatively high computational cost compared to a simple predict.\n",
      "\n",
      "        .. versionadded:: 0.22\n",
      "\n",
      "    random_state : int, RandomState instance or None, default=None\n",
      "        Controls the pseudo random number generation for shuffling the data for\n",
      "        probability estimates. Ignored when `probability` is False.\n",
      "        Pass an int for reproducible output across multiple function calls.\n",
      "        See :term:`Glossary <random_state>`.\n",
      "\n",
      "    Attributes\n",
      "    ----------\n",
      "    class_weight_ : ndarray of shape (n_classes,)\n",
      "        Multipliers of parameter C for each class.\n",
      "        Computed based on the ``class_weight`` parameter.\n",
      "\n",
      "    classes_ : ndarray of shape (n_classes,)\n",
      "        The classes labels.\n",
      "\n",
      "    coef_ : ndarray of shape (n_classes * (n_classes - 1) / 2, n_features)\n",
      "        Weights assigned to the features (coefficients in the primal\n",
      "        problem). This is only available in the case of a linear kernel.\n",
      "\n",
      "        `coef_` is a readonly property derived from `dual_coef_` and\n",
      "        `support_vectors_`.\n",
      "\n",
      "    dual_coef_ : ndarray of shape (n_classes -1, n_SV)\n",
      "        Dual coefficients of the support vector in the decision\n",
      "        function (see :ref:`sgd_mathematical_formulation`), multiplied by\n",
      "        their targets.\n",
      "        For multiclass, coefficient for all 1-vs-1 classifiers.\n",
      "        The layout of the coefficients in the multiclass case is somewhat\n",
      "        non-trivial. See the :ref:`multi-class section of the User Guide\n",
      "        <svm_multi_class>` for details.\n",
      "\n",
      "    fit_status_ : int\n",
      "        0 if correctly fitted, 1 otherwise (will raise warning)\n",
      "\n",
      "    intercept_ : ndarray of shape (n_classes * (n_classes - 1) / 2,)\n",
      "        Constants in decision function.\n",
      "\n",
      "    n_features_in_ : int\n",
      "        Number of features seen during :term:`fit`.\n",
      "\n",
      "        .. versionadded:: 0.24\n",
      "\n",
      "    feature_names_in_ : ndarray of shape (`n_features_in_`,)\n",
      "        Names of features seen during :term:`fit`. Defined only when `X`\n",
      "        has feature names that are all strings.\n",
      "\n",
      "        .. versionadded:: 1.0\n",
      "\n",
      "    n_iter_ : ndarray of shape (n_classes * (n_classes - 1) // 2,)\n",
      "        Number of iterations run by the optimization routine to fit the model.\n",
      "        The shape of this attribute depends on the number of models optimized\n",
      "        which in turn depends on the number of classes.\n",
      "\n",
      "        .. versionadded:: 1.1\n",
      "\n",
      "    support_ : ndarray of shape (n_SV)\n",
      "        Indices of support vectors.\n",
      "\n",
      "    support_vectors_ : ndarray of shape (n_SV, n_features)\n",
      "        Support vectors.\n",
      "\n",
      "    n_support_ : ndarray of shape (n_classes,), dtype=int32\n",
      "        Number of support vectors for each class.\n",
      "\n",
      "    probA_ : ndarray of shape (n_classes * (n_classes - 1) / 2)\n",
      "    probB_ : ndarray of shape (n_classes * (n_classes - 1) / 2)\n",
      "        If `probability=True`, it corresponds to the parameters learned in\n",
      "        Platt scaling to produce probability estimates from decision values.\n",
      "        If `probability=False`, it's an empty array. Platt scaling uses the\n",
      "        logistic function\n",
      "        ``1 / (1 + exp(decision_value * probA_ + probB_))``\n",
      "        where ``probA_`` and ``probB_`` are learned from the dataset [2]_. For\n",
      "        more information on the multiclass case and training procedure see\n",
      "        section 8 of [1]_.\n",
      "\n",
      "    shape_fit_ : tuple of int of shape (n_dimensions_of_X,)\n",
      "        Array dimensions of training vector ``X``.\n",
      "\n",
      "    See Also\n",
      "    --------\n",
      "    SVR : Support Vector Machine for Regression implemented using libsvm.\n",
      "\n",
      "    LinearSVC : Scalable Linear Support Vector Machine for classification\n",
      "        implemented using liblinear. Check the See Also section of\n",
      "        LinearSVC for more comparison element.\n",
      "\n",
      "    References\n",
      "    ----------\n",
      "    .. [1] `LIBSVM: A Library for Support Vector Machines\n",
      "        <http://www.csie.ntu.edu.tw/~cjlin/papers/libsvm.pdf>`_\n",
      "\n",
      "    .. [2] `Platt, John (1999). \"Probabilistic Outputs for Support Vector\n",
      "        Machines and Comparisons to Regularized Likelihood Methods\"\n",
      "        <https://citeseerx.ist.psu.edu/doc_view/pid/42e5ed832d4310ce4378c44d05570439df28a393>`_\n",
      "\n",
      "    Examples\n",
      "    --------\n",
      "    >>> import numpy as np\n",
      "    >>> from sklearn.pipeline import make_pipeline\n",
      "    >>> from sklearn.preprocessing import StandardScaler\n",
      "    >>> X = np.array([[-1, -1], [-2, -1], [1, 1], [2, 1]])\n",
      "    >>> y = np.array([1, 1, 2, 2])\n",
      "    >>> from sklearn.svm import SVC\n",
      "    >>> clf = make_pipeline(StandardScaler(), SVC(gamma='auto'))\n",
      "    >>> clf.fit(X, y)\n",
      "    Pipeline(steps=[('standardscaler', StandardScaler()),\n",
      "                    ('svc', SVC(gamma='auto'))])\n",
      "\n",
      "    >>> print(clf.predict([[-0.8, -1]]))\n",
      "    [1]\n",
      "    \n"
     ]
    }
   ],
   "source": [
    "print(estimador.__doc__)"
   ]
  },
  {
   "cell_type": "code",
   "execution_count": 37,
   "metadata": {},
   "outputs": [],
   "source": [
    "from sklearn.model_selection import GridSearchCV\n",
    "from sklearn.model_selection import RandomizedSearchCV\n",
    "from sklearn.svm import SVC"
   ]
  },
  {
   "cell_type": "code",
   "execution_count": null,
   "metadata": {},
   "outputs": [],
   "source": [
    "Grid Básico, este grid es pequeño y rápido de evaluar."
   ]
  },
  {
   "cell_type": "code",
   "execution_count": 38,
   "metadata": {},
   "outputs": [],
   "source": [
    "param_distributions = {\n",
    "    'C': [0.1, 1, 10],\n",
    "    'kernel': ['linear', 'rbf', 'poly'],\n",
    "    'gamma': [0.01, 0.1],\n",
    "}"
   ]
  },
  {
   "cell_type": "code",
   "execution_count": 39,
   "metadata": {},
   "outputs": [],
   "source": [
    "random_search = RandomizedSearchCV(estimator=svc, param_distributions=param_distributions, n_iter=100, cv=5, scoring='accuracy', n_jobs=-1, random_state=42)"
   ]
  },
  {
   "cell_type": "code",
   "execution_count": 40,
   "metadata": {},
   "outputs": [],
   "source": [
    "pipeline_estimador_op = Pipeline([\n",
    "    ('procesador', pipeline_procesado),\n",
    "    ('estimador', random_search)\n",
    "])"
   ]
  },
  {
   "cell_type": "code",
   "execution_count": 41,
   "metadata": {},
   "outputs": [
    {
     "data": {
      "text/html": [
       "<style>#sk-container-id-6 {color: black;background-color: white;}#sk-container-id-6 pre{padding: 0;}#sk-container-id-6 div.sk-toggleable {background-color: white;}#sk-container-id-6 label.sk-toggleable__label {cursor: pointer;display: block;width: 100%;margin-bottom: 0;padding: 0.3em;box-sizing: border-box;text-align: center;}#sk-container-id-6 label.sk-toggleable__label-arrow:before {content: \"▸\";float: left;margin-right: 0.25em;color: #696969;}#sk-container-id-6 label.sk-toggleable__label-arrow:hover:before {color: black;}#sk-container-id-6 div.sk-estimator:hover label.sk-toggleable__label-arrow:before {color: black;}#sk-container-id-6 div.sk-toggleable__content {max-height: 0;max-width: 0;overflow: hidden;text-align: left;background-color: #f0f8ff;}#sk-container-id-6 div.sk-toggleable__content pre {margin: 0.2em;color: black;border-radius: 0.25em;background-color: #f0f8ff;}#sk-container-id-6 input.sk-toggleable__control:checked~div.sk-toggleable__content {max-height: 200px;max-width: 100%;overflow: auto;}#sk-container-id-6 input.sk-toggleable__control:checked~label.sk-toggleable__label-arrow:before {content: \"▾\";}#sk-container-id-6 div.sk-estimator input.sk-toggleable__control:checked~label.sk-toggleable__label {background-color: #d4ebff;}#sk-container-id-6 div.sk-label input.sk-toggleable__control:checked~label.sk-toggleable__label {background-color: #d4ebff;}#sk-container-id-6 input.sk-hidden--visually {border: 0;clip: rect(1px 1px 1px 1px);clip: rect(1px, 1px, 1px, 1px);height: 1px;margin: -1px;overflow: hidden;padding: 0;position: absolute;width: 1px;}#sk-container-id-6 div.sk-estimator {font-family: monospace;background-color: #f0f8ff;border: 1px dotted black;border-radius: 0.25em;box-sizing: border-box;margin-bottom: 0.5em;}#sk-container-id-6 div.sk-estimator:hover {background-color: #d4ebff;}#sk-container-id-6 div.sk-parallel-item::after {content: \"\";width: 100%;border-bottom: 1px solid gray;flex-grow: 1;}#sk-container-id-6 div.sk-label:hover label.sk-toggleable__label {background-color: #d4ebff;}#sk-container-id-6 div.sk-serial::before {content: \"\";position: absolute;border-left: 1px solid gray;box-sizing: border-box;top: 0;bottom: 0;left: 50%;z-index: 0;}#sk-container-id-6 div.sk-serial {display: flex;flex-direction: column;align-items: center;background-color: white;padding-right: 0.2em;padding-left: 0.2em;position: relative;}#sk-container-id-6 div.sk-item {position: relative;z-index: 1;}#sk-container-id-6 div.sk-parallel {display: flex;align-items: stretch;justify-content: center;background-color: white;position: relative;}#sk-container-id-6 div.sk-item::before, #sk-container-id-6 div.sk-parallel-item::before {content: \"\";position: absolute;border-left: 1px solid gray;box-sizing: border-box;top: 0;bottom: 0;left: 50%;z-index: -1;}#sk-container-id-6 div.sk-parallel-item {display: flex;flex-direction: column;z-index: 1;position: relative;background-color: white;}#sk-container-id-6 div.sk-parallel-item:first-child::after {align-self: flex-end;width: 50%;}#sk-container-id-6 div.sk-parallel-item:last-child::after {align-self: flex-start;width: 50%;}#sk-container-id-6 div.sk-parallel-item:only-child::after {width: 0;}#sk-container-id-6 div.sk-dashed-wrapped {border: 1px dashed gray;margin: 0 0.4em 0.5em 0.4em;box-sizing: border-box;padding-bottom: 0.4em;background-color: white;}#sk-container-id-6 div.sk-label label {font-family: monospace;font-weight: bold;display: inline-block;line-height: 1.2em;}#sk-container-id-6 div.sk-label-container {text-align: center;}#sk-container-id-6 div.sk-container {/* jupyter's `normalize.less` sets `[hidden] { display: none; }` but bootstrap.min.css set `[hidden] { display: none !important; }` so we also need the `!important` here to be able to override the default hidden behavior on the sphinx rendered scikit-learn.org. See: https://github.com/scikit-learn/scikit-learn/issues/21755 */display: inline-block !important;position: relative;}#sk-container-id-6 div.sk-text-repr-fallback {display: none;}</style><div id=\"sk-container-id-6\" class=\"sk-top-container\"><div class=\"sk-text-repr-fallback\"><pre>Pipeline(steps=[(&#x27;procesador&#x27;,\n",
       "                 FeatureUnion(transformer_list=[(&#x27;variables_numericas&#x27;,\n",
       "                                                 ColumnTransformer(transformers=[(&#x27;transformador_numerico&#x27;,\n",
       "                                                                                  Pipeline(steps=[(&#x27;imputador_numerico&#x27;,\n",
       "                                                                                                   SimpleImputer()),\n",
       "                                                                                                  (&#x27;escalador_numerico&#x27;,\n",
       "                                                                                                   MinMaxScaler())]),\n",
       "                                                                                  Index([&#x27;residentes_hogar&#x27;, &#x27;d2_04_num_hijos&#x27;], dtype=&#x27;object&#x27;))])),\n",
       "                                                (&#x27;variables_ordinales&#x27;,\n",
       "                                                 Pipeline(steps=[(&#x27;transfo...\n",
       "                                                                                                    &#x27;g_02_a_num_amigos_consumen_sp_imp_tipo&#x27;,\n",
       "                                                                                                    &#x27;g_08_b_ofrecieron_cocaina_imp_tipo&#x27;,\n",
       "                                                                                                    &#x27;situacion_tipo&#x27;,\n",
       "                                                                                                    &#x27;d_11_h_conocimiento_riesgo_fumar_marihuana_frecuentemente_tipo&#x27;,\n",
       "                                                                                                    &#x27;vive_padre_hogar_tipo&#x27;,\n",
       "                                                                                                    &#x27;per_sexo_tipo&#x27;,\n",
       "                                                                                                    &#x27;d_09_deprimido_tipo&#x27;, ...])]))]))])),\n",
       "                (&#x27;estimador&#x27;,\n",
       "                 GridSearchCV(cv=5, estimator=SVC(),\n",
       "                              param_grid={&#x27;C&#x27;: [0.1, 1, 10],\n",
       "                                          &#x27;kernel&#x27;: [&#x27;linear&#x27;, &#x27;rbf&#x27;, &#x27;poly&#x27;]},\n",
       "                              scoring=&#x27;accuracy&#x27;))])</pre><b>In a Jupyter environment, please rerun this cell to show the HTML representation or trust the notebook. <br />On GitHub, the HTML representation is unable to render, please try loading this page with nbviewer.org.</b></div><div class=\"sk-container\" hidden><div class=\"sk-item sk-dashed-wrapped\"><div class=\"sk-label-container\"><div class=\"sk-label sk-toggleable\"><input class=\"sk-toggleable__control sk-hidden--visually\" id=\"sk-estimator-id-35\" type=\"checkbox\" ><label for=\"sk-estimator-id-35\" class=\"sk-toggleable__label sk-toggleable__label-arrow\">Pipeline</label><div class=\"sk-toggleable__content\"><pre>Pipeline(steps=[(&#x27;procesador&#x27;,\n",
       "                 FeatureUnion(transformer_list=[(&#x27;variables_numericas&#x27;,\n",
       "                                                 ColumnTransformer(transformers=[(&#x27;transformador_numerico&#x27;,\n",
       "                                                                                  Pipeline(steps=[(&#x27;imputador_numerico&#x27;,\n",
       "                                                                                                   SimpleImputer()),\n",
       "                                                                                                  (&#x27;escalador_numerico&#x27;,\n",
       "                                                                                                   MinMaxScaler())]),\n",
       "                                                                                  Index([&#x27;residentes_hogar&#x27;, &#x27;d2_04_num_hijos&#x27;], dtype=&#x27;object&#x27;))])),\n",
       "                                                (&#x27;variables_ordinales&#x27;,\n",
       "                                                 Pipeline(steps=[(&#x27;transfo...\n",
       "                                                                                                    &#x27;g_02_a_num_amigos_consumen_sp_imp_tipo&#x27;,\n",
       "                                                                                                    &#x27;g_08_b_ofrecieron_cocaina_imp_tipo&#x27;,\n",
       "                                                                                                    &#x27;situacion_tipo&#x27;,\n",
       "                                                                                                    &#x27;d_11_h_conocimiento_riesgo_fumar_marihuana_frecuentemente_tipo&#x27;,\n",
       "                                                                                                    &#x27;vive_padre_hogar_tipo&#x27;,\n",
       "                                                                                                    &#x27;per_sexo_tipo&#x27;,\n",
       "                                                                                                    &#x27;d_09_deprimido_tipo&#x27;, ...])]))]))])),\n",
       "                (&#x27;estimador&#x27;,\n",
       "                 GridSearchCV(cv=5, estimator=SVC(),\n",
       "                              param_grid={&#x27;C&#x27;: [0.1, 1, 10],\n",
       "                                          &#x27;kernel&#x27;: [&#x27;linear&#x27;, &#x27;rbf&#x27;, &#x27;poly&#x27;]},\n",
       "                              scoring=&#x27;accuracy&#x27;))])</pre></div></div></div><div class=\"sk-serial\"><div class=\"sk-item sk-dashed-wrapped\"><div class=\"sk-label-container\"><div class=\"sk-label sk-toggleable\"><input class=\"sk-toggleable__control sk-hidden--visually\" id=\"sk-estimator-id-36\" type=\"checkbox\" ><label for=\"sk-estimator-id-36\" class=\"sk-toggleable__label sk-toggleable__label-arrow\">procesador: FeatureUnion</label><div class=\"sk-toggleable__content\"><pre>FeatureUnion(transformer_list=[(&#x27;variables_numericas&#x27;,\n",
       "                                ColumnTransformer(transformers=[(&#x27;transformador_numerico&#x27;,\n",
       "                                                                 Pipeline(steps=[(&#x27;imputador_numerico&#x27;,\n",
       "                                                                                  SimpleImputer()),\n",
       "                                                                                 (&#x27;escalador_numerico&#x27;,\n",
       "                                                                                  MinMaxScaler())]),\n",
       "                                                                 Index([&#x27;residentes_hogar&#x27;, &#x27;d2_04_num_hijos&#x27;], dtype=&#x27;object&#x27;))])),\n",
       "                               (&#x27;variables_ordinales&#x27;,\n",
       "                                Pipeline(steps=[(&#x27;transformador_ordinal&#x27;,\n",
       "                                                 ColumnTransfor...\n",
       "                                                                                   &#x27;d_10_poco_interes_tipo&#x27;,\n",
       "                                                                                   &#x27;g_07_alguien_ofrecio_comprar_probar_sp_tipo&#x27;,\n",
       "                                                                                   &#x27;g_06_b_posibilidad_conseguir_cocaina_tipo&#x27;,\n",
       "                                                                                   &#x27;g_02_a_num_amigos_consumen_sp_imp_tipo&#x27;,\n",
       "                                                                                   &#x27;g_08_b_ofrecieron_cocaina_imp_tipo&#x27;,\n",
       "                                                                                   &#x27;situacion_tipo&#x27;,\n",
       "                                                                                   &#x27;d_11_h_conocimiento_riesgo_fumar_marihuana_frecuentemente_tipo&#x27;,\n",
       "                                                                                   &#x27;vive_padre_hogar_tipo&#x27;,\n",
       "                                                                                   &#x27;per_sexo_tipo&#x27;,\n",
       "                                                                                   &#x27;d_09_deprimido_tipo&#x27;, ...])]))]))])</pre></div></div></div><div class=\"sk-parallel\"><div class=\"sk-parallel-item\"><div class=\"sk-item\"><div class=\"sk-label-container\"><div class=\"sk-label sk-toggleable\"><label>variables_numericas</label></div></div><div class=\"sk-serial\"><div class=\"sk-item sk-dashed-wrapped\"><div class=\"sk-parallel\"><div class=\"sk-parallel-item\"><div class=\"sk-item\"><div class=\"sk-label-container\"><div class=\"sk-label sk-toggleable\"><input class=\"sk-toggleable__control sk-hidden--visually\" id=\"sk-estimator-id-37\" type=\"checkbox\" ><label for=\"sk-estimator-id-37\" class=\"sk-toggleable__label sk-toggleable__label-arrow\">transformador_numerico</label><div class=\"sk-toggleable__content\"><pre>Index([&#x27;residentes_hogar&#x27;, &#x27;d2_04_num_hijos&#x27;], dtype=&#x27;object&#x27;)</pre></div></div></div><div class=\"sk-serial\"><div class=\"sk-item\"><div class=\"sk-serial\"><div class=\"sk-item\"><div class=\"sk-estimator sk-toggleable\"><input class=\"sk-toggleable__control sk-hidden--visually\" id=\"sk-estimator-id-38\" type=\"checkbox\" ><label for=\"sk-estimator-id-38\" class=\"sk-toggleable__label sk-toggleable__label-arrow\">SimpleImputer</label><div class=\"sk-toggleable__content\"><pre>SimpleImputer()</pre></div></div></div><div class=\"sk-item\"><div class=\"sk-estimator sk-toggleable\"><input class=\"sk-toggleable__control sk-hidden--visually\" id=\"sk-estimator-id-39\" type=\"checkbox\" ><label for=\"sk-estimator-id-39\" class=\"sk-toggleable__label sk-toggleable__label-arrow\">MinMaxScaler</label><div class=\"sk-toggleable__content\"><pre>MinMaxScaler()</pre></div></div></div></div></div></div></div></div></div></div></div></div></div><div class=\"sk-parallel-item\"><div class=\"sk-item\"><div class=\"sk-label-container\"><div class=\"sk-label sk-toggleable\"><label>variables_ordinales</label></div></div><div class=\"sk-serial\"><div class=\"sk-item\"><div class=\"sk-serial\"><div class=\"sk-item sk-dashed-wrapped\"><div class=\"sk-label-container\"><div class=\"sk-label sk-toggleable\"><input class=\"sk-toggleable__control sk-hidden--visually\" id=\"sk-estimator-id-40\" type=\"checkbox\" ><label for=\"sk-estimator-id-40\" class=\"sk-toggleable__label sk-toggleable__label-arrow\">transformador_ordinal: ColumnTransformer</label><div class=\"sk-toggleable__content\"><pre>ColumnTransformer(transformers=[(&#x27;transformador_ordinal&#x27;,\n",
       "                                 OrdinalEncoder(mapping=[{&#x27;col&#x27;: &#x27;per_edad_tipo&#x27;,\n",
       "                                                          &#x27;data_type&#x27;: dtype(&#x27;O&#x27;),\n",
       "                                                          &#x27;mapping&#x27;: Adolescente      0\n",
       "Joven            1\n",
       "Adulto           2\n",
       "Persona mayor    3\n",
       "dtype: int64},\n",
       "                                                         {&#x27;col&#x27;: &#x27;estrato_tipo&#x27;,\n",
       "                                                          &#x27;data_type&#x27;: dtype(&#x27;O&#x27;),\n",
       "                                                          &#x27;mapping&#x27;: Estrato bajo     0\n",
       "Estrato medio    1\n",
       "Estrato alto     2\n",
       "dtype: int64},\n",
       "                                                         {&#x27;col&#x27;: &#x27;d_08_estado_salud_tipo&#x27;,\n",
       "                                                          &#x27;data_type&#x27;: dtype(&#x27;O&#x27;),\n",
       "                                                          &#x27;m...\n",
       "                                                         {&#x27;col&#x27;: &#x27;frecuencia_consumo_basuco_tipo&#x27;,\n",
       "                                                          &#x27;data_type&#x27;: dtype(&#x27;O&#x27;),\n",
       "                                                          &#x27;mapping&#x27;: Nunca                                         0\n",
       "Alguna vez en su vida                         1\n",
       "Una vez en el año                             2\n",
       "Algunas veces durante los últimos 12 meses    3\n",
       "Algunas veces mensualmente                    4\n",
       "Algunas veces semanalmente                    5\n",
       "Diariamente                                   6\n",
       "dtype: int64}]),\n",
       "                                 [&#x27;per_edad_tipo&#x27;, &#x27;estrato_tipo&#x27;,\n",
       "                                  &#x27;d_08_estado_salud_tipo&#x27;,\n",
       "                                  &#x27;frecuencia_consumo_marihuana_tipo&#x27;,\n",
       "                                  &#x27;frecuencia_consumo_cocaina_tipo&#x27;,\n",
       "                                  &#x27;frecuencia_consumo_basuco_tipo&#x27;])])</pre></div></div></div><div class=\"sk-parallel\"><div class=\"sk-parallel-item\"><div class=\"sk-item\"><div class=\"sk-label-container\"><div class=\"sk-label sk-toggleable\"><input class=\"sk-toggleable__control sk-hidden--visually\" id=\"sk-estimator-id-41\" type=\"checkbox\" ><label for=\"sk-estimator-id-41\" class=\"sk-toggleable__label sk-toggleable__label-arrow\">transformador_ordinal</label><div class=\"sk-toggleable__content\"><pre>[&#x27;per_edad_tipo&#x27;, &#x27;estrato_tipo&#x27;, &#x27;d_08_estado_salud_tipo&#x27;, &#x27;frecuencia_consumo_marihuana_tipo&#x27;, &#x27;frecuencia_consumo_cocaina_tipo&#x27;, &#x27;frecuencia_consumo_basuco_tipo&#x27;]</pre></div></div></div><div class=\"sk-serial\"><div class=\"sk-item\"><div class=\"sk-estimator sk-toggleable\"><input class=\"sk-toggleable__control sk-hidden--visually\" id=\"sk-estimator-id-42\" type=\"checkbox\" ><label for=\"sk-estimator-id-42\" class=\"sk-toggleable__label sk-toggleable__label-arrow\">OrdinalEncoder</label><div class=\"sk-toggleable__content\"><pre>OrdinalEncoder(mapping=[{&#x27;col&#x27;: &#x27;per_edad_tipo&#x27;, &#x27;data_type&#x27;: dtype(&#x27;O&#x27;),\n",
       "                         &#x27;mapping&#x27;: Adolescente      0\n",
       "Joven            1\n",
       "Adulto           2\n",
       "Persona mayor    3\n",
       "dtype: int64},\n",
       "                        {&#x27;col&#x27;: &#x27;estrato_tipo&#x27;, &#x27;data_type&#x27;: dtype(&#x27;O&#x27;),\n",
       "                         &#x27;mapping&#x27;: Estrato bajo     0\n",
       "Estrato medio    1\n",
       "Estrato alto     2\n",
       "dtype: int64},\n",
       "                        {&#x27;col&#x27;: &#x27;d_08_estado_salud_tipo&#x27;,\n",
       "                         &#x27;data_type&#x27;: dtype(&#x27;O&#x27;),\n",
       "                         &#x27;mapping&#x27;: d_08_Muy_malo     0\n",
       "d_08_Malo         1\n",
       "d_08_Regular      2\n",
       "d_08_Bueno        3\n",
       "d...\n",
       "Una vez en el año                             2\n",
       "Algunas veces durante los últimos 12 meses    3\n",
       "Algunas veces mensualmente                    4\n",
       "Algunas veces semanalmente                    5\n",
       "Diariamente                                   6\n",
       "dtype: int64},\n",
       "                        {&#x27;col&#x27;: &#x27;frecuencia_consumo_basuco_tipo&#x27;,\n",
       "                         &#x27;data_type&#x27;: dtype(&#x27;O&#x27;),\n",
       "                         &#x27;mapping&#x27;: Nunca                                         0\n",
       "Alguna vez en su vida                         1\n",
       "Una vez en el año                             2\n",
       "Algunas veces durante los últimos 12 meses    3\n",
       "Algunas veces mensualmente                    4\n",
       "Algunas veces semanalmente                    5\n",
       "Diariamente                                   6\n",
       "dtype: int64}])</pre></div></div></div></div></div></div></div></div></div></div></div></div></div><div class=\"sk-parallel-item\"><div class=\"sk-item\"><div class=\"sk-label-container\"><div class=\"sk-label sk-toggleable\"><label>variables_categoricas</label></div></div><div class=\"sk-serial\"><div class=\"sk-item\"><div class=\"sk-serial\"><div class=\"sk-item sk-dashed-wrapped\"><div class=\"sk-label-container\"><div class=\"sk-label sk-toggleable\"><input class=\"sk-toggleable__control sk-hidden--visually\" id=\"sk-estimator-id-43\" type=\"checkbox\" ><label for=\"sk-estimator-id-43\" class=\"sk-toggleable__label sk-toggleable__label-arrow\">transformador_categorico: ColumnTransformer</label><div class=\"sk-toggleable__content\"><pre>ColumnTransformer(transformers=[(&#x27;transformador_categorico&#x27;,\n",
       "                                 OneHotEncoder(handle_unknown=&#x27;impute&#x27;),\n",
       "                                 [&#x27;d2_03_estado_civil_tipo&#x27;,\n",
       "                                  &#x27;g_05_posibilidad_probar_sp_tipo&#x27;,\n",
       "                                  &#x27;g_02_amigos_consumen_sp_tipo&#x27;,\n",
       "                                  &#x27;g_04_probaria_sp_tipo&#x27;,\n",
       "                                  &#x27;vive_madre_hogar_tipo&#x27;,\n",
       "                                  &#x27;d_12_b_presenta_problema_consumo_sp_barrio_tipo&#x27;,\n",
       "                                  &#x27;d_11_k_conocimiento_riesgo_cocaina_frecuentemente_tipo&#x27;,\n",
       "                                  &#x27;g_0...\n",
       "                                  &#x27;d_12_c_presenta_problema_expendio_sp_barrio_tipo&#x27;,\n",
       "                                  &#x27;d_10_poco_interes_tipo&#x27;,\n",
       "                                  &#x27;g_07_alguien_ofrecio_comprar_probar_sp_tipo&#x27;,\n",
       "                                  &#x27;g_06_b_posibilidad_conseguir_cocaina_tipo&#x27;,\n",
       "                                  &#x27;g_02_a_num_amigos_consumen_sp_imp_tipo&#x27;,\n",
       "                                  &#x27;g_08_b_ofrecieron_cocaina_imp_tipo&#x27;,\n",
       "                                  &#x27;situacion_tipo&#x27;,\n",
       "                                  &#x27;d_11_h_conocimiento_riesgo_fumar_marihuana_frecuentemente_tipo&#x27;,\n",
       "                                  &#x27;vive_padre_hogar_tipo&#x27;, &#x27;per_sexo_tipo&#x27;,\n",
       "                                  &#x27;d_09_deprimido_tipo&#x27;, ...])])</pre></div></div></div><div class=\"sk-parallel\"><div class=\"sk-parallel-item\"><div class=\"sk-item\"><div class=\"sk-label-container\"><div class=\"sk-label sk-toggleable\"><input class=\"sk-toggleable__control sk-hidden--visually\" id=\"sk-estimator-id-44\" type=\"checkbox\" ><label for=\"sk-estimator-id-44\" class=\"sk-toggleable__label sk-toggleable__label-arrow\">transformador_categorico</label><div class=\"sk-toggleable__content\"><pre>[&#x27;d2_03_estado_civil_tipo&#x27;, &#x27;g_05_posibilidad_probar_sp_tipo&#x27;, &#x27;g_02_amigos_consumen_sp_tipo&#x27;, &#x27;g_04_probaria_sp_tipo&#x27;, &#x27;vive_madre_hogar_tipo&#x27;, &#x27;d_12_b_presenta_problema_consumo_sp_barrio_tipo&#x27;, &#x27;d_11_k_conocimiento_riesgo_cocaina_frecuentemente_tipo&#x27;, &#x27;g_06_c_posibilidad_conseguir_basuco_tipo&#x27;, &#x27;d2_01_etnia_tipo&#x27;, &#x27;d_11_n_conocimiento_riesgo_fumar_basuco_frecuentemente_tipo&#x27;, &#x27;g_06_a_posibilidad_conseguir_marihuana_tipo&#x27;, &#x27;g_08_c_ofrecieron_basuco_imp_tipo&#x27;, &#x27;g_01_a_num_familiares_consumen_sp_imp_tipo&#x27;, &#x27;g_08_a_ofrecieron_marihuana_imp_tipo&#x27;, &#x27;g_03_curiosidad_probar_sp_tipo&#x27;, &#x27;departamento&#x27;, &#x27;d_01_aporta_dinero_hogar_tipo&#x27;, &#x27;d2_05_nivel_educativo_tipo&#x27;, &#x27;g_01_familiares_consumen_sp_tipo&#x27;, &#x27;d_12_c_presenta_problema_expendio_sp_barrio_tipo&#x27;, &#x27;d_10_poco_interes_tipo&#x27;, &#x27;g_07_alguien_ofrecio_comprar_probar_sp_tipo&#x27;, &#x27;g_06_b_posibilidad_conseguir_cocaina_tipo&#x27;, &#x27;g_02_a_num_amigos_consumen_sp_imp_tipo&#x27;, &#x27;g_08_b_ofrecieron_cocaina_imp_tipo&#x27;, &#x27;situacion_tipo&#x27;, &#x27;d_11_h_conocimiento_riesgo_fumar_marihuana_frecuentemente_tipo&#x27;, &#x27;vive_padre_hogar_tipo&#x27;, &#x27;per_sexo_tipo&#x27;, &#x27;d_09_deprimido_tipo&#x27;, &#x27;vivienda_tipo&#x27;]</pre></div></div></div><div class=\"sk-serial\"><div class=\"sk-item\"><div class=\"sk-estimator sk-toggleable\"><input class=\"sk-toggleable__control sk-hidden--visually\" id=\"sk-estimator-id-45\" type=\"checkbox\" ><label for=\"sk-estimator-id-45\" class=\"sk-toggleable__label sk-toggleable__label-arrow\">OneHotEncoder</label><div class=\"sk-toggleable__content\"><pre>OneHotEncoder(handle_unknown=&#x27;impute&#x27;)</pre></div></div></div></div></div></div></div></div></div></div></div></div></div></div></div><div class=\"sk-item sk-dashed-wrapped\"><div class=\"sk-label-container\"><div class=\"sk-label sk-toggleable\"><input class=\"sk-toggleable__control sk-hidden--visually\" id=\"sk-estimator-id-46\" type=\"checkbox\" ><label for=\"sk-estimator-id-46\" class=\"sk-toggleable__label sk-toggleable__label-arrow\">estimador: GridSearchCV</label><div class=\"sk-toggleable__content\"><pre>GridSearchCV(cv=5, estimator=SVC(),\n",
       "             param_grid={&#x27;C&#x27;: [0.1, 1, 10],\n",
       "                         &#x27;kernel&#x27;: [&#x27;linear&#x27;, &#x27;rbf&#x27;, &#x27;poly&#x27;]},\n",
       "             scoring=&#x27;accuracy&#x27;)</pre></div></div></div><div class=\"sk-parallel\"><div class=\"sk-parallel-item\"><div class=\"sk-item\"><div class=\"sk-label-container\"><div class=\"sk-label sk-toggleable\"><input class=\"sk-toggleable__control sk-hidden--visually\" id=\"sk-estimator-id-47\" type=\"checkbox\" ><label for=\"sk-estimator-id-47\" class=\"sk-toggleable__label sk-toggleable__label-arrow\">estimator: SVC</label><div class=\"sk-toggleable__content\"><pre>SVC()</pre></div></div></div><div class=\"sk-serial\"><div class=\"sk-item\"><div class=\"sk-estimator sk-toggleable\"><input class=\"sk-toggleable__control sk-hidden--visually\" id=\"sk-estimator-id-48\" type=\"checkbox\" ><label for=\"sk-estimator-id-48\" class=\"sk-toggleable__label sk-toggleable__label-arrow\">SVC</label><div class=\"sk-toggleable__content\"><pre>SVC()</pre></div></div></div></div></div></div></div></div></div></div></div></div>"
      ],
      "text/plain": [
       "Pipeline(steps=[('procesador',\n",
       "                 FeatureUnion(transformer_list=[('variables_numericas',\n",
       "                                                 ColumnTransformer(transformers=[('transformador_numerico',\n",
       "                                                                                  Pipeline(steps=[('imputador_numerico',\n",
       "                                                                                                   SimpleImputer()),\n",
       "                                                                                                  ('escalador_numerico',\n",
       "                                                                                                   MinMaxScaler())]),\n",
       "                                                                                  Index(['residentes_hogar', 'd2_04_num_hijos'], dtype='object'))])),\n",
       "                                                ('variables_ordinales',\n",
       "                                                 Pipeline(steps=[('transfo...\n",
       "                                                                                                    'g_02_a_num_amigos_consumen_sp_imp_tipo',\n",
       "                                                                                                    'g_08_b_ofrecieron_cocaina_imp_tipo',\n",
       "                                                                                                    'situacion_tipo',\n",
       "                                                                                                    'd_11_h_conocimiento_riesgo_fumar_marihuana_frecuentemente_tipo',\n",
       "                                                                                                    'vive_padre_hogar_tipo',\n",
       "                                                                                                    'per_sexo_tipo',\n",
       "                                                                                                    'd_09_deprimido_tipo', ...])]))]))])),\n",
       "                ('estimador',\n",
       "                 GridSearchCV(cv=5, estimator=SVC(),\n",
       "                              param_grid={'C': [0.1, 1, 10],\n",
       "                                          'kernel': ['linear', 'rbf', 'poly']},\n",
       "                              scoring='accuracy'))])"
      ]
     },
     "execution_count": 41,
     "metadata": {},
     "output_type": "execute_result"
    }
   ],
   "source": [
    "pipeline_estimador_op.fit(X_train, y_train)"
   ]
  },
  {
   "cell_type": "markdown",
   "metadata": {},
   "source": [
    "Se crea un pipeline con el mejor estimador obtenido"
   ]
  },
  {
   "cell_type": "code",
   "execution_count": 43,
   "metadata": {},
   "outputs": [],
   "source": [
    "best_params = random_search.best_params_"
   ]
  },
  {
   "cell_type": "code",
   "execution_count": 42,
   "metadata": {},
   "outputs": [
    {
     "data": {
      "text/plain": [
       "array([0, 2, 0, ..., 2, 0, 4], dtype=int64)"
      ]
     },
     "execution_count": 42,
     "metadata": {},
     "output_type": "execute_result"
    }
   ],
   "source": [
    "pipeline_estimador_op.predict(X_test)"
   ]
  },
  {
   "cell_type": "code",
   "execution_count": 44,
   "metadata": {},
   "outputs": [],
   "source": [
    "pipeline_estimador_op_best = Pipeline([\n",
    "    ('procesador', pipeline_procesado),\n",
    "    ('estimador', random_search.best_estimator_)\n",
    "])"
   ]
  },
  {
   "cell_type": "code",
   "execution_count": 45,
   "metadata": {},
   "outputs": [
    {
     "data": {
      "text/html": [
       "<style>#sk-container-id-7 {color: black;background-color: white;}#sk-container-id-7 pre{padding: 0;}#sk-container-id-7 div.sk-toggleable {background-color: white;}#sk-container-id-7 label.sk-toggleable__label {cursor: pointer;display: block;width: 100%;margin-bottom: 0;padding: 0.3em;box-sizing: border-box;text-align: center;}#sk-container-id-7 label.sk-toggleable__label-arrow:before {content: \"▸\";float: left;margin-right: 0.25em;color: #696969;}#sk-container-id-7 label.sk-toggleable__label-arrow:hover:before {color: black;}#sk-container-id-7 div.sk-estimator:hover label.sk-toggleable__label-arrow:before {color: black;}#sk-container-id-7 div.sk-toggleable__content {max-height: 0;max-width: 0;overflow: hidden;text-align: left;background-color: #f0f8ff;}#sk-container-id-7 div.sk-toggleable__content pre {margin: 0.2em;color: black;border-radius: 0.25em;background-color: #f0f8ff;}#sk-container-id-7 input.sk-toggleable__control:checked~div.sk-toggleable__content {max-height: 200px;max-width: 100%;overflow: auto;}#sk-container-id-7 input.sk-toggleable__control:checked~label.sk-toggleable__label-arrow:before {content: \"▾\";}#sk-container-id-7 div.sk-estimator input.sk-toggleable__control:checked~label.sk-toggleable__label {background-color: #d4ebff;}#sk-container-id-7 div.sk-label input.sk-toggleable__control:checked~label.sk-toggleable__label {background-color: #d4ebff;}#sk-container-id-7 input.sk-hidden--visually {border: 0;clip: rect(1px 1px 1px 1px);clip: rect(1px, 1px, 1px, 1px);height: 1px;margin: -1px;overflow: hidden;padding: 0;position: absolute;width: 1px;}#sk-container-id-7 div.sk-estimator {font-family: monospace;background-color: #f0f8ff;border: 1px dotted black;border-radius: 0.25em;box-sizing: border-box;margin-bottom: 0.5em;}#sk-container-id-7 div.sk-estimator:hover {background-color: #d4ebff;}#sk-container-id-7 div.sk-parallel-item::after {content: \"\";width: 100%;border-bottom: 1px solid gray;flex-grow: 1;}#sk-container-id-7 div.sk-label:hover label.sk-toggleable__label {background-color: #d4ebff;}#sk-container-id-7 div.sk-serial::before {content: \"\";position: absolute;border-left: 1px solid gray;box-sizing: border-box;top: 0;bottom: 0;left: 50%;z-index: 0;}#sk-container-id-7 div.sk-serial {display: flex;flex-direction: column;align-items: center;background-color: white;padding-right: 0.2em;padding-left: 0.2em;position: relative;}#sk-container-id-7 div.sk-item {position: relative;z-index: 1;}#sk-container-id-7 div.sk-parallel {display: flex;align-items: stretch;justify-content: center;background-color: white;position: relative;}#sk-container-id-7 div.sk-item::before, #sk-container-id-7 div.sk-parallel-item::before {content: \"\";position: absolute;border-left: 1px solid gray;box-sizing: border-box;top: 0;bottom: 0;left: 50%;z-index: -1;}#sk-container-id-7 div.sk-parallel-item {display: flex;flex-direction: column;z-index: 1;position: relative;background-color: white;}#sk-container-id-7 div.sk-parallel-item:first-child::after {align-self: flex-end;width: 50%;}#sk-container-id-7 div.sk-parallel-item:last-child::after {align-self: flex-start;width: 50%;}#sk-container-id-7 div.sk-parallel-item:only-child::after {width: 0;}#sk-container-id-7 div.sk-dashed-wrapped {border: 1px dashed gray;margin: 0 0.4em 0.5em 0.4em;box-sizing: border-box;padding-bottom: 0.4em;background-color: white;}#sk-container-id-7 div.sk-label label {font-family: monospace;font-weight: bold;display: inline-block;line-height: 1.2em;}#sk-container-id-7 div.sk-label-container {text-align: center;}#sk-container-id-7 div.sk-container {/* jupyter's `normalize.less` sets `[hidden] { display: none; }` but bootstrap.min.css set `[hidden] { display: none !important; }` so we also need the `!important` here to be able to override the default hidden behavior on the sphinx rendered scikit-learn.org. See: https://github.com/scikit-learn/scikit-learn/issues/21755 */display: inline-block !important;position: relative;}#sk-container-id-7 div.sk-text-repr-fallback {display: none;}</style><div id=\"sk-container-id-7\" class=\"sk-top-container\"><div class=\"sk-text-repr-fallback\"><pre>Pipeline(steps=[(&#x27;procesador&#x27;,\n",
       "                 FeatureUnion(transformer_list=[(&#x27;variables_numericas&#x27;,\n",
       "                                                 ColumnTransformer(transformers=[(&#x27;transformador_numerico&#x27;,\n",
       "                                                                                  Pipeline(steps=[(&#x27;imputador_numerico&#x27;,\n",
       "                                                                                                   SimpleImputer()),\n",
       "                                                                                                  (&#x27;escalador_numerico&#x27;,\n",
       "                                                                                                   MinMaxScaler())]),\n",
       "                                                                                  Index([&#x27;residentes_hogar&#x27;, &#x27;d2_04_num_hijos&#x27;], dtype=&#x27;object&#x27;))])),\n",
       "                                                (&#x27;variables_ordinales&#x27;,\n",
       "                                                 Pipeline(steps=[(&#x27;transfo...\n",
       "                                                                                                    &#x27;g_07_alguien_ofrecio_comprar_probar_sp_tipo&#x27;,\n",
       "                                                                                                    &#x27;g_06_b_posibilidad_conseguir_cocaina_tipo&#x27;,\n",
       "                                                                                                    &#x27;g_02_a_num_amigos_consumen_sp_imp_tipo&#x27;,\n",
       "                                                                                                    &#x27;g_08_b_ofrecieron_cocaina_imp_tipo&#x27;,\n",
       "                                                                                                    &#x27;situacion_tipo&#x27;,\n",
       "                                                                                                    &#x27;d_11_h_conocimiento_riesgo_fumar_marihuana_frecuentemente_tipo&#x27;,\n",
       "                                                                                                    &#x27;vive_padre_hogar_tipo&#x27;,\n",
       "                                                                                                    &#x27;per_sexo_tipo&#x27;,\n",
       "                                                                                                    &#x27;d_09_deprimido_tipo&#x27;, ...])]))]))])),\n",
       "                (&#x27;estimador&#x27;, SVC(C=10, kernel=&#x27;linear&#x27;))])</pre><b>In a Jupyter environment, please rerun this cell to show the HTML representation or trust the notebook. <br />On GitHub, the HTML representation is unable to render, please try loading this page with nbviewer.org.</b></div><div class=\"sk-container\" hidden><div class=\"sk-item sk-dashed-wrapped\"><div class=\"sk-label-container\"><div class=\"sk-label sk-toggleable\"><input class=\"sk-toggleable__control sk-hidden--visually\" id=\"sk-estimator-id-49\" type=\"checkbox\" ><label for=\"sk-estimator-id-49\" class=\"sk-toggleable__label sk-toggleable__label-arrow\">Pipeline</label><div class=\"sk-toggleable__content\"><pre>Pipeline(steps=[(&#x27;procesador&#x27;,\n",
       "                 FeatureUnion(transformer_list=[(&#x27;variables_numericas&#x27;,\n",
       "                                                 ColumnTransformer(transformers=[(&#x27;transformador_numerico&#x27;,\n",
       "                                                                                  Pipeline(steps=[(&#x27;imputador_numerico&#x27;,\n",
       "                                                                                                   SimpleImputer()),\n",
       "                                                                                                  (&#x27;escalador_numerico&#x27;,\n",
       "                                                                                                   MinMaxScaler())]),\n",
       "                                                                                  Index([&#x27;residentes_hogar&#x27;, &#x27;d2_04_num_hijos&#x27;], dtype=&#x27;object&#x27;))])),\n",
       "                                                (&#x27;variables_ordinales&#x27;,\n",
       "                                                 Pipeline(steps=[(&#x27;transfo...\n",
       "                                                                                                    &#x27;g_07_alguien_ofrecio_comprar_probar_sp_tipo&#x27;,\n",
       "                                                                                                    &#x27;g_06_b_posibilidad_conseguir_cocaina_tipo&#x27;,\n",
       "                                                                                                    &#x27;g_02_a_num_amigos_consumen_sp_imp_tipo&#x27;,\n",
       "                                                                                                    &#x27;g_08_b_ofrecieron_cocaina_imp_tipo&#x27;,\n",
       "                                                                                                    &#x27;situacion_tipo&#x27;,\n",
       "                                                                                                    &#x27;d_11_h_conocimiento_riesgo_fumar_marihuana_frecuentemente_tipo&#x27;,\n",
       "                                                                                                    &#x27;vive_padre_hogar_tipo&#x27;,\n",
       "                                                                                                    &#x27;per_sexo_tipo&#x27;,\n",
       "                                                                                                    &#x27;d_09_deprimido_tipo&#x27;, ...])]))]))])),\n",
       "                (&#x27;estimador&#x27;, SVC(C=10, kernel=&#x27;linear&#x27;))])</pre></div></div></div><div class=\"sk-serial\"><div class=\"sk-item sk-dashed-wrapped\"><div class=\"sk-label-container\"><div class=\"sk-label sk-toggleable\"><input class=\"sk-toggleable__control sk-hidden--visually\" id=\"sk-estimator-id-50\" type=\"checkbox\" ><label for=\"sk-estimator-id-50\" class=\"sk-toggleable__label sk-toggleable__label-arrow\">procesador: FeatureUnion</label><div class=\"sk-toggleable__content\"><pre>FeatureUnion(transformer_list=[(&#x27;variables_numericas&#x27;,\n",
       "                                ColumnTransformer(transformers=[(&#x27;transformador_numerico&#x27;,\n",
       "                                                                 Pipeline(steps=[(&#x27;imputador_numerico&#x27;,\n",
       "                                                                                  SimpleImputer()),\n",
       "                                                                                 (&#x27;escalador_numerico&#x27;,\n",
       "                                                                                  MinMaxScaler())]),\n",
       "                                                                 Index([&#x27;residentes_hogar&#x27;, &#x27;d2_04_num_hijos&#x27;], dtype=&#x27;object&#x27;))])),\n",
       "                               (&#x27;variables_ordinales&#x27;,\n",
       "                                Pipeline(steps=[(&#x27;transformador_ordinal&#x27;,\n",
       "                                                 ColumnTransfor...\n",
       "                                                                                   &#x27;d_10_poco_interes_tipo&#x27;,\n",
       "                                                                                   &#x27;g_07_alguien_ofrecio_comprar_probar_sp_tipo&#x27;,\n",
       "                                                                                   &#x27;g_06_b_posibilidad_conseguir_cocaina_tipo&#x27;,\n",
       "                                                                                   &#x27;g_02_a_num_amigos_consumen_sp_imp_tipo&#x27;,\n",
       "                                                                                   &#x27;g_08_b_ofrecieron_cocaina_imp_tipo&#x27;,\n",
       "                                                                                   &#x27;situacion_tipo&#x27;,\n",
       "                                                                                   &#x27;d_11_h_conocimiento_riesgo_fumar_marihuana_frecuentemente_tipo&#x27;,\n",
       "                                                                                   &#x27;vive_padre_hogar_tipo&#x27;,\n",
       "                                                                                   &#x27;per_sexo_tipo&#x27;,\n",
       "                                                                                   &#x27;d_09_deprimido_tipo&#x27;, ...])]))]))])</pre></div></div></div><div class=\"sk-parallel\"><div class=\"sk-parallel-item\"><div class=\"sk-item\"><div class=\"sk-label-container\"><div class=\"sk-label sk-toggleable\"><label>variables_numericas</label></div></div><div class=\"sk-serial\"><div class=\"sk-item sk-dashed-wrapped\"><div class=\"sk-parallel\"><div class=\"sk-parallel-item\"><div class=\"sk-item\"><div class=\"sk-label-container\"><div class=\"sk-label sk-toggleable\"><input class=\"sk-toggleable__control sk-hidden--visually\" id=\"sk-estimator-id-51\" type=\"checkbox\" ><label for=\"sk-estimator-id-51\" class=\"sk-toggleable__label sk-toggleable__label-arrow\">transformador_numerico</label><div class=\"sk-toggleable__content\"><pre>Index([&#x27;residentes_hogar&#x27;, &#x27;d2_04_num_hijos&#x27;], dtype=&#x27;object&#x27;)</pre></div></div></div><div class=\"sk-serial\"><div class=\"sk-item\"><div class=\"sk-serial\"><div class=\"sk-item\"><div class=\"sk-estimator sk-toggleable\"><input class=\"sk-toggleable__control sk-hidden--visually\" id=\"sk-estimator-id-52\" type=\"checkbox\" ><label for=\"sk-estimator-id-52\" class=\"sk-toggleable__label sk-toggleable__label-arrow\">SimpleImputer</label><div class=\"sk-toggleable__content\"><pre>SimpleImputer()</pre></div></div></div><div class=\"sk-item\"><div class=\"sk-estimator sk-toggleable\"><input class=\"sk-toggleable__control sk-hidden--visually\" id=\"sk-estimator-id-53\" type=\"checkbox\" ><label for=\"sk-estimator-id-53\" class=\"sk-toggleable__label sk-toggleable__label-arrow\">MinMaxScaler</label><div class=\"sk-toggleable__content\"><pre>MinMaxScaler()</pre></div></div></div></div></div></div></div></div></div></div></div></div></div><div class=\"sk-parallel-item\"><div class=\"sk-item\"><div class=\"sk-label-container\"><div class=\"sk-label sk-toggleable\"><label>variables_ordinales</label></div></div><div class=\"sk-serial\"><div class=\"sk-item\"><div class=\"sk-serial\"><div class=\"sk-item sk-dashed-wrapped\"><div class=\"sk-label-container\"><div class=\"sk-label sk-toggleable\"><input class=\"sk-toggleable__control sk-hidden--visually\" id=\"sk-estimator-id-54\" type=\"checkbox\" ><label for=\"sk-estimator-id-54\" class=\"sk-toggleable__label sk-toggleable__label-arrow\">transformador_ordinal: ColumnTransformer</label><div class=\"sk-toggleable__content\"><pre>ColumnTransformer(transformers=[(&#x27;transformador_ordinal&#x27;,\n",
       "                                 OrdinalEncoder(mapping=[{&#x27;col&#x27;: &#x27;per_edad_tipo&#x27;,\n",
       "                                                          &#x27;data_type&#x27;: dtype(&#x27;O&#x27;),\n",
       "                                                          &#x27;mapping&#x27;: Adolescente      0\n",
       "Joven            1\n",
       "Adulto           2\n",
       "Persona mayor    3\n",
       "dtype: int64},\n",
       "                                                         {&#x27;col&#x27;: &#x27;estrato_tipo&#x27;,\n",
       "                                                          &#x27;data_type&#x27;: dtype(&#x27;O&#x27;),\n",
       "                                                          &#x27;mapping&#x27;: Estrato bajo     0\n",
       "Estrato medio    1\n",
       "Estrato alto     2\n",
       "dtype: int64},\n",
       "                                                         {&#x27;col&#x27;: &#x27;d_08_estado_salud_tipo&#x27;,\n",
       "                                                          &#x27;data_type&#x27;: dtype(&#x27;O&#x27;),\n",
       "                                                          &#x27;m...\n",
       "                                                         {&#x27;col&#x27;: &#x27;frecuencia_consumo_basuco_tipo&#x27;,\n",
       "                                                          &#x27;data_type&#x27;: dtype(&#x27;O&#x27;),\n",
       "                                                          &#x27;mapping&#x27;: Nunca                                         0\n",
       "Alguna vez en su vida                         1\n",
       "Una vez en el año                             2\n",
       "Algunas veces durante los últimos 12 meses    3\n",
       "Algunas veces mensualmente                    4\n",
       "Algunas veces semanalmente                    5\n",
       "Diariamente                                   6\n",
       "dtype: int64}]),\n",
       "                                 [&#x27;per_edad_tipo&#x27;, &#x27;estrato_tipo&#x27;,\n",
       "                                  &#x27;d_08_estado_salud_tipo&#x27;,\n",
       "                                  &#x27;frecuencia_consumo_marihuana_tipo&#x27;,\n",
       "                                  &#x27;frecuencia_consumo_cocaina_tipo&#x27;,\n",
       "                                  &#x27;frecuencia_consumo_basuco_tipo&#x27;])])</pre></div></div></div><div class=\"sk-parallel\"><div class=\"sk-parallel-item\"><div class=\"sk-item\"><div class=\"sk-label-container\"><div class=\"sk-label sk-toggleable\"><input class=\"sk-toggleable__control sk-hidden--visually\" id=\"sk-estimator-id-55\" type=\"checkbox\" ><label for=\"sk-estimator-id-55\" class=\"sk-toggleable__label sk-toggleable__label-arrow\">transformador_ordinal</label><div class=\"sk-toggleable__content\"><pre>[&#x27;per_edad_tipo&#x27;, &#x27;estrato_tipo&#x27;, &#x27;d_08_estado_salud_tipo&#x27;, &#x27;frecuencia_consumo_marihuana_tipo&#x27;, &#x27;frecuencia_consumo_cocaina_tipo&#x27;, &#x27;frecuencia_consumo_basuco_tipo&#x27;]</pre></div></div></div><div class=\"sk-serial\"><div class=\"sk-item\"><div class=\"sk-estimator sk-toggleable\"><input class=\"sk-toggleable__control sk-hidden--visually\" id=\"sk-estimator-id-56\" type=\"checkbox\" ><label for=\"sk-estimator-id-56\" class=\"sk-toggleable__label sk-toggleable__label-arrow\">OrdinalEncoder</label><div class=\"sk-toggleable__content\"><pre>OrdinalEncoder(mapping=[{&#x27;col&#x27;: &#x27;per_edad_tipo&#x27;, &#x27;data_type&#x27;: dtype(&#x27;O&#x27;),\n",
       "                         &#x27;mapping&#x27;: Adolescente      0\n",
       "Joven            1\n",
       "Adulto           2\n",
       "Persona mayor    3\n",
       "dtype: int64},\n",
       "                        {&#x27;col&#x27;: &#x27;estrato_tipo&#x27;, &#x27;data_type&#x27;: dtype(&#x27;O&#x27;),\n",
       "                         &#x27;mapping&#x27;: Estrato bajo     0\n",
       "Estrato medio    1\n",
       "Estrato alto     2\n",
       "dtype: int64},\n",
       "                        {&#x27;col&#x27;: &#x27;d_08_estado_salud_tipo&#x27;,\n",
       "                         &#x27;data_type&#x27;: dtype(&#x27;O&#x27;),\n",
       "                         &#x27;mapping&#x27;: d_08_Muy_malo     0\n",
       "d_08_Malo         1\n",
       "d_08_Regular      2\n",
       "d_08_Bueno        3\n",
       "d...\n",
       "Una vez en el año                             2\n",
       "Algunas veces durante los últimos 12 meses    3\n",
       "Algunas veces mensualmente                    4\n",
       "Algunas veces semanalmente                    5\n",
       "Diariamente                                   6\n",
       "dtype: int64},\n",
       "                        {&#x27;col&#x27;: &#x27;frecuencia_consumo_basuco_tipo&#x27;,\n",
       "                         &#x27;data_type&#x27;: dtype(&#x27;O&#x27;),\n",
       "                         &#x27;mapping&#x27;: Nunca                                         0\n",
       "Alguna vez en su vida                         1\n",
       "Una vez en el año                             2\n",
       "Algunas veces durante los últimos 12 meses    3\n",
       "Algunas veces mensualmente                    4\n",
       "Algunas veces semanalmente                    5\n",
       "Diariamente                                   6\n",
       "dtype: int64}])</pre></div></div></div></div></div></div></div></div></div></div></div></div></div><div class=\"sk-parallel-item\"><div class=\"sk-item\"><div class=\"sk-label-container\"><div class=\"sk-label sk-toggleable\"><label>variables_categoricas</label></div></div><div class=\"sk-serial\"><div class=\"sk-item\"><div class=\"sk-serial\"><div class=\"sk-item sk-dashed-wrapped\"><div class=\"sk-label-container\"><div class=\"sk-label sk-toggleable\"><input class=\"sk-toggleable__control sk-hidden--visually\" id=\"sk-estimator-id-57\" type=\"checkbox\" ><label for=\"sk-estimator-id-57\" class=\"sk-toggleable__label sk-toggleable__label-arrow\">transformador_categorico: ColumnTransformer</label><div class=\"sk-toggleable__content\"><pre>ColumnTransformer(transformers=[(&#x27;transformador_categorico&#x27;,\n",
       "                                 OneHotEncoder(handle_unknown=&#x27;impute&#x27;),\n",
       "                                 [&#x27;d2_03_estado_civil_tipo&#x27;,\n",
       "                                  &#x27;g_05_posibilidad_probar_sp_tipo&#x27;,\n",
       "                                  &#x27;g_02_amigos_consumen_sp_tipo&#x27;,\n",
       "                                  &#x27;g_04_probaria_sp_tipo&#x27;,\n",
       "                                  &#x27;vive_madre_hogar_tipo&#x27;,\n",
       "                                  &#x27;d_12_b_presenta_problema_consumo_sp_barrio_tipo&#x27;,\n",
       "                                  &#x27;d_11_k_conocimiento_riesgo_cocaina_frecuentemente_tipo&#x27;,\n",
       "                                  &#x27;g_0...\n",
       "                                  &#x27;d_12_c_presenta_problema_expendio_sp_barrio_tipo&#x27;,\n",
       "                                  &#x27;d_10_poco_interes_tipo&#x27;,\n",
       "                                  &#x27;g_07_alguien_ofrecio_comprar_probar_sp_tipo&#x27;,\n",
       "                                  &#x27;g_06_b_posibilidad_conseguir_cocaina_tipo&#x27;,\n",
       "                                  &#x27;g_02_a_num_amigos_consumen_sp_imp_tipo&#x27;,\n",
       "                                  &#x27;g_08_b_ofrecieron_cocaina_imp_tipo&#x27;,\n",
       "                                  &#x27;situacion_tipo&#x27;,\n",
       "                                  &#x27;d_11_h_conocimiento_riesgo_fumar_marihuana_frecuentemente_tipo&#x27;,\n",
       "                                  &#x27;vive_padre_hogar_tipo&#x27;, &#x27;per_sexo_tipo&#x27;,\n",
       "                                  &#x27;d_09_deprimido_tipo&#x27;, ...])])</pre></div></div></div><div class=\"sk-parallel\"><div class=\"sk-parallel-item\"><div class=\"sk-item\"><div class=\"sk-label-container\"><div class=\"sk-label sk-toggleable\"><input class=\"sk-toggleable__control sk-hidden--visually\" id=\"sk-estimator-id-58\" type=\"checkbox\" ><label for=\"sk-estimator-id-58\" class=\"sk-toggleable__label sk-toggleable__label-arrow\">transformador_categorico</label><div class=\"sk-toggleable__content\"><pre>[&#x27;d2_03_estado_civil_tipo&#x27;, &#x27;g_05_posibilidad_probar_sp_tipo&#x27;, &#x27;g_02_amigos_consumen_sp_tipo&#x27;, &#x27;g_04_probaria_sp_tipo&#x27;, &#x27;vive_madre_hogar_tipo&#x27;, &#x27;d_12_b_presenta_problema_consumo_sp_barrio_tipo&#x27;, &#x27;d_11_k_conocimiento_riesgo_cocaina_frecuentemente_tipo&#x27;, &#x27;g_06_c_posibilidad_conseguir_basuco_tipo&#x27;, &#x27;d2_01_etnia_tipo&#x27;, &#x27;d_11_n_conocimiento_riesgo_fumar_basuco_frecuentemente_tipo&#x27;, &#x27;g_06_a_posibilidad_conseguir_marihuana_tipo&#x27;, &#x27;g_08_c_ofrecieron_basuco_imp_tipo&#x27;, &#x27;g_01_a_num_familiares_consumen_sp_imp_tipo&#x27;, &#x27;g_08_a_ofrecieron_marihuana_imp_tipo&#x27;, &#x27;g_03_curiosidad_probar_sp_tipo&#x27;, &#x27;departamento&#x27;, &#x27;d_01_aporta_dinero_hogar_tipo&#x27;, &#x27;d2_05_nivel_educativo_tipo&#x27;, &#x27;g_01_familiares_consumen_sp_tipo&#x27;, &#x27;d_12_c_presenta_problema_expendio_sp_barrio_tipo&#x27;, &#x27;d_10_poco_interes_tipo&#x27;, &#x27;g_07_alguien_ofrecio_comprar_probar_sp_tipo&#x27;, &#x27;g_06_b_posibilidad_conseguir_cocaina_tipo&#x27;, &#x27;g_02_a_num_amigos_consumen_sp_imp_tipo&#x27;, &#x27;g_08_b_ofrecieron_cocaina_imp_tipo&#x27;, &#x27;situacion_tipo&#x27;, &#x27;d_11_h_conocimiento_riesgo_fumar_marihuana_frecuentemente_tipo&#x27;, &#x27;vive_padre_hogar_tipo&#x27;, &#x27;per_sexo_tipo&#x27;, &#x27;d_09_deprimido_tipo&#x27;, &#x27;vivienda_tipo&#x27;]</pre></div></div></div><div class=\"sk-serial\"><div class=\"sk-item\"><div class=\"sk-estimator sk-toggleable\"><input class=\"sk-toggleable__control sk-hidden--visually\" id=\"sk-estimator-id-59\" type=\"checkbox\" ><label for=\"sk-estimator-id-59\" class=\"sk-toggleable__label sk-toggleable__label-arrow\">OneHotEncoder</label><div class=\"sk-toggleable__content\"><pre>OneHotEncoder(handle_unknown=&#x27;impute&#x27;)</pre></div></div></div></div></div></div></div></div></div></div></div></div></div></div></div><div class=\"sk-item\"><div class=\"sk-estimator sk-toggleable\"><input class=\"sk-toggleable__control sk-hidden--visually\" id=\"sk-estimator-id-60\" type=\"checkbox\" ><label for=\"sk-estimator-id-60\" class=\"sk-toggleable__label sk-toggleable__label-arrow\">SVC</label><div class=\"sk-toggleable__content\"><pre>SVC(C=10, kernel=&#x27;linear&#x27;)</pre></div></div></div></div></div></div></div>"
      ],
      "text/plain": [
       "Pipeline(steps=[('procesador',\n",
       "                 FeatureUnion(transformer_list=[('variables_numericas',\n",
       "                                                 ColumnTransformer(transformers=[('transformador_numerico',\n",
       "                                                                                  Pipeline(steps=[('imputador_numerico',\n",
       "                                                                                                   SimpleImputer()),\n",
       "                                                                                                  ('escalador_numerico',\n",
       "                                                                                                   MinMaxScaler())]),\n",
       "                                                                                  Index(['residentes_hogar', 'd2_04_num_hijos'], dtype='object'))])),\n",
       "                                                ('variables_ordinales',\n",
       "                                                 Pipeline(steps=[('transfo...\n",
       "                                                                                                    'g_07_alguien_ofrecio_comprar_probar_sp_tipo',\n",
       "                                                                                                    'g_06_b_posibilidad_conseguir_cocaina_tipo',\n",
       "                                                                                                    'g_02_a_num_amigos_consumen_sp_imp_tipo',\n",
       "                                                                                                    'g_08_b_ofrecieron_cocaina_imp_tipo',\n",
       "                                                                                                    'situacion_tipo',\n",
       "                                                                                                    'd_11_h_conocimiento_riesgo_fumar_marihuana_frecuentemente_tipo',\n",
       "                                                                                                    'vive_padre_hogar_tipo',\n",
       "                                                                                                    'per_sexo_tipo',\n",
       "                                                                                                    'd_09_deprimido_tipo', ...])]))]))])),\n",
       "                ('estimador', SVC(C=10, kernel='linear'))])"
      ]
     },
     "execution_count": 45,
     "metadata": {},
     "output_type": "execute_result"
    }
   ],
   "source": [
    "pipeline_estimador_op_best.fit(X_train, y_train)"
   ]
  },
  {
   "cell_type": "code",
   "execution_count": 46,
   "metadata": {},
   "outputs": [
    {
     "data": {
      "text/plain": [
       "array([0, 2, 0, ..., 2, 0, 4], dtype=int64)"
      ]
     },
     "execution_count": 46,
     "metadata": {},
     "output_type": "execute_result"
    }
   ],
   "source": [
    "pipeline_estimador_op_best.predict(X_test)"
   ]
  },
  {
   "cell_type": "code",
   "execution_count": 49,
   "metadata": {},
   "outputs": [
    {
     "data": {
      "text/html": [
       "<div>\n",
       "<style scoped>\n",
       "    .dataframe tbody tr th:only-of-type {\n",
       "        vertical-align: middle;\n",
       "    }\n",
       "\n",
       "    .dataframe tbody tr th {\n",
       "        vertical-align: top;\n",
       "    }\n",
       "\n",
       "    .dataframe thead th {\n",
       "        text-align: right;\n",
       "    }\n",
       "</style>\n",
       "<table border=\"1\" class=\"dataframe\">\n",
       "  <thead>\n",
       "    <tr style=\"text-align: right;\">\n",
       "      <th></th>\n",
       "      <th>fit_time</th>\n",
       "      <th>score_time</th>\n",
       "      <th>test_score</th>\n",
       "      <th>train_score</th>\n",
       "    </tr>\n",
       "  </thead>\n",
       "  <tbody>\n",
       "    <tr>\n",
       "      <th>svm_exactitud</th>\n",
       "      <td>2.902915</td>\n",
       "      <td>0.022530</td>\n",
       "      <td>0.984100</td>\n",
       "      <td>0.994629</td>\n",
       "    </tr>\n",
       "    <tr>\n",
       "      <th>svm_precision</th>\n",
       "      <td>3.033229</td>\n",
       "      <td>0.023249</td>\n",
       "      <td>0.978580</td>\n",
       "      <td>0.994754</td>\n",
       "    </tr>\n",
       "    <tr>\n",
       "      <th>svm_exhaustividad</th>\n",
       "      <td>2.967160</td>\n",
       "      <td>0.021971</td>\n",
       "      <td>0.976901</td>\n",
       "      <td>0.994247</td>\n",
       "    </tr>\n",
       "    <tr>\n",
       "      <th>svm_f1_score</th>\n",
       "      <td>3.345306</td>\n",
       "      <td>0.023329</td>\n",
       "      <td>0.977038</td>\n",
       "      <td>0.994497</td>\n",
       "    </tr>\n",
       "    <tr>\n",
       "      <th>rf_best_exactitud</th>\n",
       "      <td>3.322181</td>\n",
       "      <td>0.015579</td>\n",
       "      <td>0.984200</td>\n",
       "      <td>0.998610</td>\n",
       "    </tr>\n",
       "    <tr>\n",
       "      <th>rf_best_precision</th>\n",
       "      <td>3.136104</td>\n",
       "      <td>0.017018</td>\n",
       "      <td>0.977627</td>\n",
       "      <td>0.998933</td>\n",
       "    </tr>\n",
       "    <tr>\n",
       "      <th>rf_best_exhaustividad</th>\n",
       "      <td>3.180792</td>\n",
       "      <td>0.017576</td>\n",
       "      <td>0.975575</td>\n",
       "      <td>0.998890</td>\n",
       "    </tr>\n",
       "    <tr>\n",
       "      <th>rf_best_f1_score</th>\n",
       "      <td>3.182548</td>\n",
       "      <td>0.015899</td>\n",
       "      <td>0.975941</td>\n",
       "      <td>0.998912</td>\n",
       "    </tr>\n",
       "  </tbody>\n",
       "</table>\n",
       "</div>"
      ],
      "text/plain": [
       "                       fit_time  score_time  test_score  train_score\n",
       "svm_exactitud          2.902915    0.022530    0.984100     0.994629\n",
       "svm_precision          3.033229    0.023249    0.978580     0.994754\n",
       "svm_exhaustividad      2.967160    0.021971    0.976901     0.994247\n",
       "svm_f1_score           3.345306    0.023329    0.977038     0.994497\n",
       "rf_best_exactitud      3.322181    0.015579    0.984200     0.998610\n",
       "rf_best_precision      3.136104    0.017018    0.977627     0.998933\n",
       "rf_best_exhaustividad  3.180792    0.017576    0.975575     0.998890\n",
       "rf_best_f1_score       3.182548    0.015899    0.975941     0.998912"
      ]
     },
     "execution_count": 49,
     "metadata": {},
     "output_type": "execute_result"
    }
   ],
   "source": [
    "estimador_best = pipeline_estimador_op_best.named_steps['estimador']\n",
    "resultados[\"rf_best\"] = evaluar_modelo(estimador_best, consumidores_procesado, consumidores.CatRiesgo, 50)\n",
    "ver_resultados()"
   ]
  },
  {
   "cell_type": "code",
   "execution_count": null,
   "metadata": {},
   "outputs": [],
   "source": [
    "resultadoEvaluacionOPBest = evaluar_modelo_cross(pipeline_estimador_op_best, consumidores.drop('CatRiesgo', axis=1), consumidores.CatRiesgo, 50)"
   ]
  },
  {
   "cell_type": "code",
   "execution_count": null,
   "metadata": {},
   "outputs": [],
   "source": [
    "resultadoEvaluacionOPBest"
   ]
  },
  {
   "cell_type": "markdown",
   "metadata": {},
   "source": [
    "### Segunda optimizacion"
   ]
  },
  {
   "cell_type": "code",
   "execution_count": null,
   "metadata": {},
   "outputs": [],
   "source": [
    "Grid Moderado, este grid es un poco más grande y toma más combinaciones en cuenta."
   ]
  },
  {
   "cell_type": "code",
   "execution_count": 61,
   "metadata": {},
   "outputs": [],
   "source": [
    "param_distributions_2 = {\n",
    "    'C': [0.01, 0.1, 1, 10, 100],\n",
    "    'kernel': ['linear', 'rbf', 'poly'],\n",
    "    'gamma': [0.001, 0.01, 0.1, 'scale'],\n",
    "    'degree': [3, 4], \n",
    "}"
   ]
  },
  {
   "cell_type": "code",
   "execution_count": 51,
   "metadata": {},
   "outputs": [],
   "source": [
    "random_search_2 = RandomizedSearchCV(estimator=svc, param_distributions=param_distributions_2, n_iter=100, cv=5, scoring='accuracy', n_jobs=-1, random_state=42)"
   ]
  },
  {
   "cell_type": "code",
   "execution_count": 52,
   "metadata": {},
   "outputs": [],
   "source": [
    "pipeline_estimador_op2 = Pipeline([\n",
    "    ('procesador', pipeline_procesado),\n",
    "    ('estimador', random_search_2)\n",
    "])"
   ]
  },
  {
   "cell_type": "code",
   "execution_count": 53,
   "metadata": {},
   "outputs": [
    {
     "data": {
      "text/html": [
       "<style>#sk-container-id-8 {color: black;background-color: white;}#sk-container-id-8 pre{padding: 0;}#sk-container-id-8 div.sk-toggleable {background-color: white;}#sk-container-id-8 label.sk-toggleable__label {cursor: pointer;display: block;width: 100%;margin-bottom: 0;padding: 0.3em;box-sizing: border-box;text-align: center;}#sk-container-id-8 label.sk-toggleable__label-arrow:before {content: \"▸\";float: left;margin-right: 0.25em;color: #696969;}#sk-container-id-8 label.sk-toggleable__label-arrow:hover:before {color: black;}#sk-container-id-8 div.sk-estimator:hover label.sk-toggleable__label-arrow:before {color: black;}#sk-container-id-8 div.sk-toggleable__content {max-height: 0;max-width: 0;overflow: hidden;text-align: left;background-color: #f0f8ff;}#sk-container-id-8 div.sk-toggleable__content pre {margin: 0.2em;color: black;border-radius: 0.25em;background-color: #f0f8ff;}#sk-container-id-8 input.sk-toggleable__control:checked~div.sk-toggleable__content {max-height: 200px;max-width: 100%;overflow: auto;}#sk-container-id-8 input.sk-toggleable__control:checked~label.sk-toggleable__label-arrow:before {content: \"▾\";}#sk-container-id-8 div.sk-estimator input.sk-toggleable__control:checked~label.sk-toggleable__label {background-color: #d4ebff;}#sk-container-id-8 div.sk-label input.sk-toggleable__control:checked~label.sk-toggleable__label {background-color: #d4ebff;}#sk-container-id-8 input.sk-hidden--visually {border: 0;clip: rect(1px 1px 1px 1px);clip: rect(1px, 1px, 1px, 1px);height: 1px;margin: -1px;overflow: hidden;padding: 0;position: absolute;width: 1px;}#sk-container-id-8 div.sk-estimator {font-family: monospace;background-color: #f0f8ff;border: 1px dotted black;border-radius: 0.25em;box-sizing: border-box;margin-bottom: 0.5em;}#sk-container-id-8 div.sk-estimator:hover {background-color: #d4ebff;}#sk-container-id-8 div.sk-parallel-item::after {content: \"\";width: 100%;border-bottom: 1px solid gray;flex-grow: 1;}#sk-container-id-8 div.sk-label:hover label.sk-toggleable__label {background-color: #d4ebff;}#sk-container-id-8 div.sk-serial::before {content: \"\";position: absolute;border-left: 1px solid gray;box-sizing: border-box;top: 0;bottom: 0;left: 50%;z-index: 0;}#sk-container-id-8 div.sk-serial {display: flex;flex-direction: column;align-items: center;background-color: white;padding-right: 0.2em;padding-left: 0.2em;position: relative;}#sk-container-id-8 div.sk-item {position: relative;z-index: 1;}#sk-container-id-8 div.sk-parallel {display: flex;align-items: stretch;justify-content: center;background-color: white;position: relative;}#sk-container-id-8 div.sk-item::before, #sk-container-id-8 div.sk-parallel-item::before {content: \"\";position: absolute;border-left: 1px solid gray;box-sizing: border-box;top: 0;bottom: 0;left: 50%;z-index: -1;}#sk-container-id-8 div.sk-parallel-item {display: flex;flex-direction: column;z-index: 1;position: relative;background-color: white;}#sk-container-id-8 div.sk-parallel-item:first-child::after {align-self: flex-end;width: 50%;}#sk-container-id-8 div.sk-parallel-item:last-child::after {align-self: flex-start;width: 50%;}#sk-container-id-8 div.sk-parallel-item:only-child::after {width: 0;}#sk-container-id-8 div.sk-dashed-wrapped {border: 1px dashed gray;margin: 0 0.4em 0.5em 0.4em;box-sizing: border-box;padding-bottom: 0.4em;background-color: white;}#sk-container-id-8 div.sk-label label {font-family: monospace;font-weight: bold;display: inline-block;line-height: 1.2em;}#sk-container-id-8 div.sk-label-container {text-align: center;}#sk-container-id-8 div.sk-container {/* jupyter's `normalize.less` sets `[hidden] { display: none; }` but bootstrap.min.css set `[hidden] { display: none !important; }` so we also need the `!important` here to be able to override the default hidden behavior on the sphinx rendered scikit-learn.org. See: https://github.com/scikit-learn/scikit-learn/issues/21755 */display: inline-block !important;position: relative;}#sk-container-id-8 div.sk-text-repr-fallback {display: none;}</style><div id=\"sk-container-id-8\" class=\"sk-top-container\"><div class=\"sk-text-repr-fallback\"><pre>Pipeline(steps=[(&#x27;procesador&#x27;,\n",
       "                 FeatureUnion(transformer_list=[(&#x27;variables_numericas&#x27;,\n",
       "                                                 ColumnTransformer(transformers=[(&#x27;transformador_numerico&#x27;,\n",
       "                                                                                  Pipeline(steps=[(&#x27;imputador_numerico&#x27;,\n",
       "                                                                                                   SimpleImputer()),\n",
       "                                                                                                  (&#x27;escalador_numerico&#x27;,\n",
       "                                                                                                   MinMaxScaler())]),\n",
       "                                                                                  Index([&#x27;residentes_hogar&#x27;, &#x27;d2_04_num_hijos&#x27;], dtype=&#x27;object&#x27;))])),\n",
       "                                                (&#x27;variables_ordinales&#x27;,\n",
       "                                                 Pipeline(steps=[(&#x27;transfo...\n",
       "                                                                                                    &#x27;d_11_h_conocimiento_riesgo_fumar_marihuana_frecuentemente_tipo&#x27;,\n",
       "                                                                                                    &#x27;vive_padre_hogar_tipo&#x27;,\n",
       "                                                                                                    &#x27;per_sexo_tipo&#x27;,\n",
       "                                                                                                    &#x27;d_09_deprimido_tipo&#x27;, ...])]))]))])),\n",
       "                (&#x27;estimador&#x27;,\n",
       "                 GridSearchCV(cv=5, estimator=SVC(), n_jobs=-1,\n",
       "                              param_grid={&#x27;C&#x27;: [0.001, 0.01, 0.1],\n",
       "                                          &#x27;class_weight&#x27;: [None, &#x27;balanced&#x27;],\n",
       "                                          &#x27;decision_function_shape&#x27;: [&#x27;ovr&#x27;,\n",
       "                                                                      &#x27;ovo&#x27;],\n",
       "                                          &#x27;gamma&#x27;: [0.001, 0.01, 0.1],\n",
       "                                          &#x27;kernel&#x27;: [&#x27;linear&#x27;, &#x27;rbf&#x27;],\n",
       "                                          &#x27;shrinking&#x27;: [True, False]},\n",
       "                              scoring=&#x27;accuracy&#x27;))])</pre><b>In a Jupyter environment, please rerun this cell to show the HTML representation or trust the notebook. <br />On GitHub, the HTML representation is unable to render, please try loading this page with nbviewer.org.</b></div><div class=\"sk-container\" hidden><div class=\"sk-item sk-dashed-wrapped\"><div class=\"sk-label-container\"><div class=\"sk-label sk-toggleable\"><input class=\"sk-toggleable__control sk-hidden--visually\" id=\"sk-estimator-id-61\" type=\"checkbox\" ><label for=\"sk-estimator-id-61\" class=\"sk-toggleable__label sk-toggleable__label-arrow\">Pipeline</label><div class=\"sk-toggleable__content\"><pre>Pipeline(steps=[(&#x27;procesador&#x27;,\n",
       "                 FeatureUnion(transformer_list=[(&#x27;variables_numericas&#x27;,\n",
       "                                                 ColumnTransformer(transformers=[(&#x27;transformador_numerico&#x27;,\n",
       "                                                                                  Pipeline(steps=[(&#x27;imputador_numerico&#x27;,\n",
       "                                                                                                   SimpleImputer()),\n",
       "                                                                                                  (&#x27;escalador_numerico&#x27;,\n",
       "                                                                                                   MinMaxScaler())]),\n",
       "                                                                                  Index([&#x27;residentes_hogar&#x27;, &#x27;d2_04_num_hijos&#x27;], dtype=&#x27;object&#x27;))])),\n",
       "                                                (&#x27;variables_ordinales&#x27;,\n",
       "                                                 Pipeline(steps=[(&#x27;transfo...\n",
       "                                                                                                    &#x27;d_11_h_conocimiento_riesgo_fumar_marihuana_frecuentemente_tipo&#x27;,\n",
       "                                                                                                    &#x27;vive_padre_hogar_tipo&#x27;,\n",
       "                                                                                                    &#x27;per_sexo_tipo&#x27;,\n",
       "                                                                                                    &#x27;d_09_deprimido_tipo&#x27;, ...])]))]))])),\n",
       "                (&#x27;estimador&#x27;,\n",
       "                 GridSearchCV(cv=5, estimator=SVC(), n_jobs=-1,\n",
       "                              param_grid={&#x27;C&#x27;: [0.001, 0.01, 0.1],\n",
       "                                          &#x27;class_weight&#x27;: [None, &#x27;balanced&#x27;],\n",
       "                                          &#x27;decision_function_shape&#x27;: [&#x27;ovr&#x27;,\n",
       "                                                                      &#x27;ovo&#x27;],\n",
       "                                          &#x27;gamma&#x27;: [0.001, 0.01, 0.1],\n",
       "                                          &#x27;kernel&#x27;: [&#x27;linear&#x27;, &#x27;rbf&#x27;],\n",
       "                                          &#x27;shrinking&#x27;: [True, False]},\n",
       "                              scoring=&#x27;accuracy&#x27;))])</pre></div></div></div><div class=\"sk-serial\"><div class=\"sk-item sk-dashed-wrapped\"><div class=\"sk-label-container\"><div class=\"sk-label sk-toggleable\"><input class=\"sk-toggleable__control sk-hidden--visually\" id=\"sk-estimator-id-62\" type=\"checkbox\" ><label for=\"sk-estimator-id-62\" class=\"sk-toggleable__label sk-toggleable__label-arrow\">procesador: FeatureUnion</label><div class=\"sk-toggleable__content\"><pre>FeatureUnion(transformer_list=[(&#x27;variables_numericas&#x27;,\n",
       "                                ColumnTransformer(transformers=[(&#x27;transformador_numerico&#x27;,\n",
       "                                                                 Pipeline(steps=[(&#x27;imputador_numerico&#x27;,\n",
       "                                                                                  SimpleImputer()),\n",
       "                                                                                 (&#x27;escalador_numerico&#x27;,\n",
       "                                                                                  MinMaxScaler())]),\n",
       "                                                                 Index([&#x27;residentes_hogar&#x27;, &#x27;d2_04_num_hijos&#x27;], dtype=&#x27;object&#x27;))])),\n",
       "                               (&#x27;variables_ordinales&#x27;,\n",
       "                                Pipeline(steps=[(&#x27;transformador_ordinal&#x27;,\n",
       "                                                 ColumnTransfor...\n",
       "                                                                                   &#x27;d_10_poco_interes_tipo&#x27;,\n",
       "                                                                                   &#x27;g_07_alguien_ofrecio_comprar_probar_sp_tipo&#x27;,\n",
       "                                                                                   &#x27;g_06_b_posibilidad_conseguir_cocaina_tipo&#x27;,\n",
       "                                                                                   &#x27;g_02_a_num_amigos_consumen_sp_imp_tipo&#x27;,\n",
       "                                                                                   &#x27;g_08_b_ofrecieron_cocaina_imp_tipo&#x27;,\n",
       "                                                                                   &#x27;situacion_tipo&#x27;,\n",
       "                                                                                   &#x27;d_11_h_conocimiento_riesgo_fumar_marihuana_frecuentemente_tipo&#x27;,\n",
       "                                                                                   &#x27;vive_padre_hogar_tipo&#x27;,\n",
       "                                                                                   &#x27;per_sexo_tipo&#x27;,\n",
       "                                                                                   &#x27;d_09_deprimido_tipo&#x27;, ...])]))]))])</pre></div></div></div><div class=\"sk-parallel\"><div class=\"sk-parallel-item\"><div class=\"sk-item\"><div class=\"sk-label-container\"><div class=\"sk-label sk-toggleable\"><label>variables_numericas</label></div></div><div class=\"sk-serial\"><div class=\"sk-item sk-dashed-wrapped\"><div class=\"sk-parallel\"><div class=\"sk-parallel-item\"><div class=\"sk-item\"><div class=\"sk-label-container\"><div class=\"sk-label sk-toggleable\"><input class=\"sk-toggleable__control sk-hidden--visually\" id=\"sk-estimator-id-63\" type=\"checkbox\" ><label for=\"sk-estimator-id-63\" class=\"sk-toggleable__label sk-toggleable__label-arrow\">transformador_numerico</label><div class=\"sk-toggleable__content\"><pre>Index([&#x27;residentes_hogar&#x27;, &#x27;d2_04_num_hijos&#x27;], dtype=&#x27;object&#x27;)</pre></div></div></div><div class=\"sk-serial\"><div class=\"sk-item\"><div class=\"sk-serial\"><div class=\"sk-item\"><div class=\"sk-estimator sk-toggleable\"><input class=\"sk-toggleable__control sk-hidden--visually\" id=\"sk-estimator-id-64\" type=\"checkbox\" ><label for=\"sk-estimator-id-64\" class=\"sk-toggleable__label sk-toggleable__label-arrow\">SimpleImputer</label><div class=\"sk-toggleable__content\"><pre>SimpleImputer()</pre></div></div></div><div class=\"sk-item\"><div class=\"sk-estimator sk-toggleable\"><input class=\"sk-toggleable__control sk-hidden--visually\" id=\"sk-estimator-id-65\" type=\"checkbox\" ><label for=\"sk-estimator-id-65\" class=\"sk-toggleable__label sk-toggleable__label-arrow\">MinMaxScaler</label><div class=\"sk-toggleable__content\"><pre>MinMaxScaler()</pre></div></div></div></div></div></div></div></div></div></div></div></div></div><div class=\"sk-parallel-item\"><div class=\"sk-item\"><div class=\"sk-label-container\"><div class=\"sk-label sk-toggleable\"><label>variables_ordinales</label></div></div><div class=\"sk-serial\"><div class=\"sk-item\"><div class=\"sk-serial\"><div class=\"sk-item sk-dashed-wrapped\"><div class=\"sk-label-container\"><div class=\"sk-label sk-toggleable\"><input class=\"sk-toggleable__control sk-hidden--visually\" id=\"sk-estimator-id-66\" type=\"checkbox\" ><label for=\"sk-estimator-id-66\" class=\"sk-toggleable__label sk-toggleable__label-arrow\">transformador_ordinal: ColumnTransformer</label><div class=\"sk-toggleable__content\"><pre>ColumnTransformer(transformers=[(&#x27;transformador_ordinal&#x27;,\n",
       "                                 OrdinalEncoder(mapping=[{&#x27;col&#x27;: &#x27;per_edad_tipo&#x27;,\n",
       "                                                          &#x27;data_type&#x27;: dtype(&#x27;O&#x27;),\n",
       "                                                          &#x27;mapping&#x27;: Adolescente      0\n",
       "Joven            1\n",
       "Adulto           2\n",
       "Persona mayor    3\n",
       "dtype: int64},\n",
       "                                                         {&#x27;col&#x27;: &#x27;estrato_tipo&#x27;,\n",
       "                                                          &#x27;data_type&#x27;: dtype(&#x27;O&#x27;),\n",
       "                                                          &#x27;mapping&#x27;: Estrato bajo     0\n",
       "Estrato medio    1\n",
       "Estrato alto     2\n",
       "dtype: int64},\n",
       "                                                         {&#x27;col&#x27;: &#x27;d_08_estado_salud_tipo&#x27;,\n",
       "                                                          &#x27;data_type&#x27;: dtype(&#x27;O&#x27;),\n",
       "                                                          &#x27;m...\n",
       "                                                         {&#x27;col&#x27;: &#x27;frecuencia_consumo_basuco_tipo&#x27;,\n",
       "                                                          &#x27;data_type&#x27;: dtype(&#x27;O&#x27;),\n",
       "                                                          &#x27;mapping&#x27;: Nunca                                         0\n",
       "Alguna vez en su vida                         1\n",
       "Una vez en el año                             2\n",
       "Algunas veces durante los últimos 12 meses    3\n",
       "Algunas veces mensualmente                    4\n",
       "Algunas veces semanalmente                    5\n",
       "Diariamente                                   6\n",
       "dtype: int64}]),\n",
       "                                 [&#x27;per_edad_tipo&#x27;, &#x27;estrato_tipo&#x27;,\n",
       "                                  &#x27;d_08_estado_salud_tipo&#x27;,\n",
       "                                  &#x27;frecuencia_consumo_marihuana_tipo&#x27;,\n",
       "                                  &#x27;frecuencia_consumo_cocaina_tipo&#x27;,\n",
       "                                  &#x27;frecuencia_consumo_basuco_tipo&#x27;])])</pre></div></div></div><div class=\"sk-parallel\"><div class=\"sk-parallel-item\"><div class=\"sk-item\"><div class=\"sk-label-container\"><div class=\"sk-label sk-toggleable\"><input class=\"sk-toggleable__control sk-hidden--visually\" id=\"sk-estimator-id-67\" type=\"checkbox\" ><label for=\"sk-estimator-id-67\" class=\"sk-toggleable__label sk-toggleable__label-arrow\">transformador_ordinal</label><div class=\"sk-toggleable__content\"><pre>[&#x27;per_edad_tipo&#x27;, &#x27;estrato_tipo&#x27;, &#x27;d_08_estado_salud_tipo&#x27;, &#x27;frecuencia_consumo_marihuana_tipo&#x27;, &#x27;frecuencia_consumo_cocaina_tipo&#x27;, &#x27;frecuencia_consumo_basuco_tipo&#x27;]</pre></div></div></div><div class=\"sk-serial\"><div class=\"sk-item\"><div class=\"sk-estimator sk-toggleable\"><input class=\"sk-toggleable__control sk-hidden--visually\" id=\"sk-estimator-id-68\" type=\"checkbox\" ><label for=\"sk-estimator-id-68\" class=\"sk-toggleable__label sk-toggleable__label-arrow\">OrdinalEncoder</label><div class=\"sk-toggleable__content\"><pre>OrdinalEncoder(mapping=[{&#x27;col&#x27;: &#x27;per_edad_tipo&#x27;, &#x27;data_type&#x27;: dtype(&#x27;O&#x27;),\n",
       "                         &#x27;mapping&#x27;: Adolescente      0\n",
       "Joven            1\n",
       "Adulto           2\n",
       "Persona mayor    3\n",
       "dtype: int64},\n",
       "                        {&#x27;col&#x27;: &#x27;estrato_tipo&#x27;, &#x27;data_type&#x27;: dtype(&#x27;O&#x27;),\n",
       "                         &#x27;mapping&#x27;: Estrato bajo     0\n",
       "Estrato medio    1\n",
       "Estrato alto     2\n",
       "dtype: int64},\n",
       "                        {&#x27;col&#x27;: &#x27;d_08_estado_salud_tipo&#x27;,\n",
       "                         &#x27;data_type&#x27;: dtype(&#x27;O&#x27;),\n",
       "                         &#x27;mapping&#x27;: d_08_Muy_malo     0\n",
       "d_08_Malo         1\n",
       "d_08_Regular      2\n",
       "d_08_Bueno        3\n",
       "d...\n",
       "Una vez en el año                             2\n",
       "Algunas veces durante los últimos 12 meses    3\n",
       "Algunas veces mensualmente                    4\n",
       "Algunas veces semanalmente                    5\n",
       "Diariamente                                   6\n",
       "dtype: int64},\n",
       "                        {&#x27;col&#x27;: &#x27;frecuencia_consumo_basuco_tipo&#x27;,\n",
       "                         &#x27;data_type&#x27;: dtype(&#x27;O&#x27;),\n",
       "                         &#x27;mapping&#x27;: Nunca                                         0\n",
       "Alguna vez en su vida                         1\n",
       "Una vez en el año                             2\n",
       "Algunas veces durante los últimos 12 meses    3\n",
       "Algunas veces mensualmente                    4\n",
       "Algunas veces semanalmente                    5\n",
       "Diariamente                                   6\n",
       "dtype: int64}])</pre></div></div></div></div></div></div></div></div></div></div></div></div></div><div class=\"sk-parallel-item\"><div class=\"sk-item\"><div class=\"sk-label-container\"><div class=\"sk-label sk-toggleable\"><label>variables_categoricas</label></div></div><div class=\"sk-serial\"><div class=\"sk-item\"><div class=\"sk-serial\"><div class=\"sk-item sk-dashed-wrapped\"><div class=\"sk-label-container\"><div class=\"sk-label sk-toggleable\"><input class=\"sk-toggleable__control sk-hidden--visually\" id=\"sk-estimator-id-69\" type=\"checkbox\" ><label for=\"sk-estimator-id-69\" class=\"sk-toggleable__label sk-toggleable__label-arrow\">transformador_categorico: ColumnTransformer</label><div class=\"sk-toggleable__content\"><pre>ColumnTransformer(transformers=[(&#x27;transformador_categorico&#x27;,\n",
       "                                 OneHotEncoder(handle_unknown=&#x27;impute&#x27;),\n",
       "                                 [&#x27;d2_03_estado_civil_tipo&#x27;,\n",
       "                                  &#x27;g_05_posibilidad_probar_sp_tipo&#x27;,\n",
       "                                  &#x27;g_02_amigos_consumen_sp_tipo&#x27;,\n",
       "                                  &#x27;g_04_probaria_sp_tipo&#x27;,\n",
       "                                  &#x27;vive_madre_hogar_tipo&#x27;,\n",
       "                                  &#x27;d_12_b_presenta_problema_consumo_sp_barrio_tipo&#x27;,\n",
       "                                  &#x27;d_11_k_conocimiento_riesgo_cocaina_frecuentemente_tipo&#x27;,\n",
       "                                  &#x27;g_0...\n",
       "                                  &#x27;d_12_c_presenta_problema_expendio_sp_barrio_tipo&#x27;,\n",
       "                                  &#x27;d_10_poco_interes_tipo&#x27;,\n",
       "                                  &#x27;g_07_alguien_ofrecio_comprar_probar_sp_tipo&#x27;,\n",
       "                                  &#x27;g_06_b_posibilidad_conseguir_cocaina_tipo&#x27;,\n",
       "                                  &#x27;g_02_a_num_amigos_consumen_sp_imp_tipo&#x27;,\n",
       "                                  &#x27;g_08_b_ofrecieron_cocaina_imp_tipo&#x27;,\n",
       "                                  &#x27;situacion_tipo&#x27;,\n",
       "                                  &#x27;d_11_h_conocimiento_riesgo_fumar_marihuana_frecuentemente_tipo&#x27;,\n",
       "                                  &#x27;vive_padre_hogar_tipo&#x27;, &#x27;per_sexo_tipo&#x27;,\n",
       "                                  &#x27;d_09_deprimido_tipo&#x27;, ...])])</pre></div></div></div><div class=\"sk-parallel\"><div class=\"sk-parallel-item\"><div class=\"sk-item\"><div class=\"sk-label-container\"><div class=\"sk-label sk-toggleable\"><input class=\"sk-toggleable__control sk-hidden--visually\" id=\"sk-estimator-id-70\" type=\"checkbox\" ><label for=\"sk-estimator-id-70\" class=\"sk-toggleable__label sk-toggleable__label-arrow\">transformador_categorico</label><div class=\"sk-toggleable__content\"><pre>[&#x27;d2_03_estado_civil_tipo&#x27;, &#x27;g_05_posibilidad_probar_sp_tipo&#x27;, &#x27;g_02_amigos_consumen_sp_tipo&#x27;, &#x27;g_04_probaria_sp_tipo&#x27;, &#x27;vive_madre_hogar_tipo&#x27;, &#x27;d_12_b_presenta_problema_consumo_sp_barrio_tipo&#x27;, &#x27;d_11_k_conocimiento_riesgo_cocaina_frecuentemente_tipo&#x27;, &#x27;g_06_c_posibilidad_conseguir_basuco_tipo&#x27;, &#x27;d2_01_etnia_tipo&#x27;, &#x27;d_11_n_conocimiento_riesgo_fumar_basuco_frecuentemente_tipo&#x27;, &#x27;g_06_a_posibilidad_conseguir_marihuana_tipo&#x27;, &#x27;g_08_c_ofrecieron_basuco_imp_tipo&#x27;, &#x27;g_01_a_num_familiares_consumen_sp_imp_tipo&#x27;, &#x27;g_08_a_ofrecieron_marihuana_imp_tipo&#x27;, &#x27;g_03_curiosidad_probar_sp_tipo&#x27;, &#x27;departamento&#x27;, &#x27;d_01_aporta_dinero_hogar_tipo&#x27;, &#x27;d2_05_nivel_educativo_tipo&#x27;, &#x27;g_01_familiares_consumen_sp_tipo&#x27;, &#x27;d_12_c_presenta_problema_expendio_sp_barrio_tipo&#x27;, &#x27;d_10_poco_interes_tipo&#x27;, &#x27;g_07_alguien_ofrecio_comprar_probar_sp_tipo&#x27;, &#x27;g_06_b_posibilidad_conseguir_cocaina_tipo&#x27;, &#x27;g_02_a_num_amigos_consumen_sp_imp_tipo&#x27;, &#x27;g_08_b_ofrecieron_cocaina_imp_tipo&#x27;, &#x27;situacion_tipo&#x27;, &#x27;d_11_h_conocimiento_riesgo_fumar_marihuana_frecuentemente_tipo&#x27;, &#x27;vive_padre_hogar_tipo&#x27;, &#x27;per_sexo_tipo&#x27;, &#x27;d_09_deprimido_tipo&#x27;, &#x27;vivienda_tipo&#x27;]</pre></div></div></div><div class=\"sk-serial\"><div class=\"sk-item\"><div class=\"sk-estimator sk-toggleable\"><input class=\"sk-toggleable__control sk-hidden--visually\" id=\"sk-estimator-id-71\" type=\"checkbox\" ><label for=\"sk-estimator-id-71\" class=\"sk-toggleable__label sk-toggleable__label-arrow\">OneHotEncoder</label><div class=\"sk-toggleable__content\"><pre>OneHotEncoder(handle_unknown=&#x27;impute&#x27;)</pre></div></div></div></div></div></div></div></div></div></div></div></div></div></div></div><div class=\"sk-item sk-dashed-wrapped\"><div class=\"sk-label-container\"><div class=\"sk-label sk-toggleable\"><input class=\"sk-toggleable__control sk-hidden--visually\" id=\"sk-estimator-id-72\" type=\"checkbox\" ><label for=\"sk-estimator-id-72\" class=\"sk-toggleable__label sk-toggleable__label-arrow\">estimador: GridSearchCV</label><div class=\"sk-toggleable__content\"><pre>GridSearchCV(cv=5, estimator=SVC(), n_jobs=-1,\n",
       "             param_grid={&#x27;C&#x27;: [0.001, 0.01, 0.1],\n",
       "                         &#x27;class_weight&#x27;: [None, &#x27;balanced&#x27;],\n",
       "                         &#x27;decision_function_shape&#x27;: [&#x27;ovr&#x27;, &#x27;ovo&#x27;],\n",
       "                         &#x27;gamma&#x27;: [0.001, 0.01, 0.1],\n",
       "                         &#x27;kernel&#x27;: [&#x27;linear&#x27;, &#x27;rbf&#x27;],\n",
       "                         &#x27;shrinking&#x27;: [True, False]},\n",
       "             scoring=&#x27;accuracy&#x27;)</pre></div></div></div><div class=\"sk-parallel\"><div class=\"sk-parallel-item\"><div class=\"sk-item\"><div class=\"sk-label-container\"><div class=\"sk-label sk-toggleable\"><input class=\"sk-toggleable__control sk-hidden--visually\" id=\"sk-estimator-id-73\" type=\"checkbox\" ><label for=\"sk-estimator-id-73\" class=\"sk-toggleable__label sk-toggleable__label-arrow\">estimator: SVC</label><div class=\"sk-toggleable__content\"><pre>SVC()</pre></div></div></div><div class=\"sk-serial\"><div class=\"sk-item\"><div class=\"sk-estimator sk-toggleable\"><input class=\"sk-toggleable__control sk-hidden--visually\" id=\"sk-estimator-id-74\" type=\"checkbox\" ><label for=\"sk-estimator-id-74\" class=\"sk-toggleable__label sk-toggleable__label-arrow\">SVC</label><div class=\"sk-toggleable__content\"><pre>SVC()</pre></div></div></div></div></div></div></div></div></div></div></div></div>"
      ],
      "text/plain": [
       "Pipeline(steps=[('procesador',\n",
       "                 FeatureUnion(transformer_list=[('variables_numericas',\n",
       "                                                 ColumnTransformer(transformers=[('transformador_numerico',\n",
       "                                                                                  Pipeline(steps=[('imputador_numerico',\n",
       "                                                                                                   SimpleImputer()),\n",
       "                                                                                                  ('escalador_numerico',\n",
       "                                                                                                   MinMaxScaler())]),\n",
       "                                                                                  Index(['residentes_hogar', 'd2_04_num_hijos'], dtype='object'))])),\n",
       "                                                ('variables_ordinales',\n",
       "                                                 Pipeline(steps=[('transfo...\n",
       "                                                                                                    'd_11_h_conocimiento_riesgo_fumar_marihuana_frecuentemente_tipo',\n",
       "                                                                                                    'vive_padre_hogar_tipo',\n",
       "                                                                                                    'per_sexo_tipo',\n",
       "                                                                                                    'd_09_deprimido_tipo', ...])]))]))])),\n",
       "                ('estimador',\n",
       "                 GridSearchCV(cv=5, estimator=SVC(), n_jobs=-1,\n",
       "                              param_grid={'C': [0.001, 0.01, 0.1],\n",
       "                                          'class_weight': [None, 'balanced'],\n",
       "                                          'decision_function_shape': ['ovr',\n",
       "                                                                      'ovo'],\n",
       "                                          'gamma': [0.001, 0.01, 0.1],\n",
       "                                          'kernel': ['linear', 'rbf'],\n",
       "                                          'shrinking': [True, False]},\n",
       "                              scoring='accuracy'))])"
      ]
     },
     "execution_count": 53,
     "metadata": {},
     "output_type": "execute_result"
    }
   ],
   "source": [
    "pipeline_estimador_op2.fit(X_train, y_train)"
   ]
  },
  {
   "cell_type": "code",
   "execution_count": 54,
   "metadata": {},
   "outputs": [],
   "source": [
    "best_params2 = random_search_2.best_params_"
   ]
  },
  {
   "cell_type": "code",
   "execution_count": 55,
   "metadata": {},
   "outputs": [
    {
     "data": {
      "text/plain": [
       "array([0, 2, 0, ..., 2, 0, 4], dtype=int64)"
      ]
     },
     "execution_count": 55,
     "metadata": {},
     "output_type": "execute_result"
    }
   ],
   "source": [
    "pipeline_estimador_op2.predict(X_test)"
   ]
  },
  {
   "cell_type": "code",
   "execution_count": 56,
   "metadata": {},
   "outputs": [],
   "source": [
    "pipeline_estimador_op_best2 = Pipeline([\n",
    "    ('procesador', pipeline_procesado),\n",
    "    ('estimador', random_search_2.best_estimator_)\n",
    "])"
   ]
  },
  {
   "cell_type": "code",
   "execution_count": 57,
   "metadata": {},
   "outputs": [
    {
     "data": {
      "text/html": [
       "<style>#sk-container-id-9 {color: black;background-color: white;}#sk-container-id-9 pre{padding: 0;}#sk-container-id-9 div.sk-toggleable {background-color: white;}#sk-container-id-9 label.sk-toggleable__label {cursor: pointer;display: block;width: 100%;margin-bottom: 0;padding: 0.3em;box-sizing: border-box;text-align: center;}#sk-container-id-9 label.sk-toggleable__label-arrow:before {content: \"▸\";float: left;margin-right: 0.25em;color: #696969;}#sk-container-id-9 label.sk-toggleable__label-arrow:hover:before {color: black;}#sk-container-id-9 div.sk-estimator:hover label.sk-toggleable__label-arrow:before {color: black;}#sk-container-id-9 div.sk-toggleable__content {max-height: 0;max-width: 0;overflow: hidden;text-align: left;background-color: #f0f8ff;}#sk-container-id-9 div.sk-toggleable__content pre {margin: 0.2em;color: black;border-radius: 0.25em;background-color: #f0f8ff;}#sk-container-id-9 input.sk-toggleable__control:checked~div.sk-toggleable__content {max-height: 200px;max-width: 100%;overflow: auto;}#sk-container-id-9 input.sk-toggleable__control:checked~label.sk-toggleable__label-arrow:before {content: \"▾\";}#sk-container-id-9 div.sk-estimator input.sk-toggleable__control:checked~label.sk-toggleable__label {background-color: #d4ebff;}#sk-container-id-9 div.sk-label input.sk-toggleable__control:checked~label.sk-toggleable__label {background-color: #d4ebff;}#sk-container-id-9 input.sk-hidden--visually {border: 0;clip: rect(1px 1px 1px 1px);clip: rect(1px, 1px, 1px, 1px);height: 1px;margin: -1px;overflow: hidden;padding: 0;position: absolute;width: 1px;}#sk-container-id-9 div.sk-estimator {font-family: monospace;background-color: #f0f8ff;border: 1px dotted black;border-radius: 0.25em;box-sizing: border-box;margin-bottom: 0.5em;}#sk-container-id-9 div.sk-estimator:hover {background-color: #d4ebff;}#sk-container-id-9 div.sk-parallel-item::after {content: \"\";width: 100%;border-bottom: 1px solid gray;flex-grow: 1;}#sk-container-id-9 div.sk-label:hover label.sk-toggleable__label {background-color: #d4ebff;}#sk-container-id-9 div.sk-serial::before {content: \"\";position: absolute;border-left: 1px solid gray;box-sizing: border-box;top: 0;bottom: 0;left: 50%;z-index: 0;}#sk-container-id-9 div.sk-serial {display: flex;flex-direction: column;align-items: center;background-color: white;padding-right: 0.2em;padding-left: 0.2em;position: relative;}#sk-container-id-9 div.sk-item {position: relative;z-index: 1;}#sk-container-id-9 div.sk-parallel {display: flex;align-items: stretch;justify-content: center;background-color: white;position: relative;}#sk-container-id-9 div.sk-item::before, #sk-container-id-9 div.sk-parallel-item::before {content: \"\";position: absolute;border-left: 1px solid gray;box-sizing: border-box;top: 0;bottom: 0;left: 50%;z-index: -1;}#sk-container-id-9 div.sk-parallel-item {display: flex;flex-direction: column;z-index: 1;position: relative;background-color: white;}#sk-container-id-9 div.sk-parallel-item:first-child::after {align-self: flex-end;width: 50%;}#sk-container-id-9 div.sk-parallel-item:last-child::after {align-self: flex-start;width: 50%;}#sk-container-id-9 div.sk-parallel-item:only-child::after {width: 0;}#sk-container-id-9 div.sk-dashed-wrapped {border: 1px dashed gray;margin: 0 0.4em 0.5em 0.4em;box-sizing: border-box;padding-bottom: 0.4em;background-color: white;}#sk-container-id-9 div.sk-label label {font-family: monospace;font-weight: bold;display: inline-block;line-height: 1.2em;}#sk-container-id-9 div.sk-label-container {text-align: center;}#sk-container-id-9 div.sk-container {/* jupyter's `normalize.less` sets `[hidden] { display: none; }` but bootstrap.min.css set `[hidden] { display: none !important; }` so we also need the `!important` here to be able to override the default hidden behavior on the sphinx rendered scikit-learn.org. See: https://github.com/scikit-learn/scikit-learn/issues/21755 */display: inline-block !important;position: relative;}#sk-container-id-9 div.sk-text-repr-fallback {display: none;}</style><div id=\"sk-container-id-9\" class=\"sk-top-container\"><div class=\"sk-text-repr-fallback\"><pre>Pipeline(steps=[(&#x27;procesador&#x27;,\n",
       "                 FeatureUnion(transformer_list=[(&#x27;variables_numericas&#x27;,\n",
       "                                                 ColumnTransformer(transformers=[(&#x27;transformador_numerico&#x27;,\n",
       "                                                                                  Pipeline(steps=[(&#x27;imputador_numerico&#x27;,\n",
       "                                                                                                   SimpleImputer()),\n",
       "                                                                                                  (&#x27;escalador_numerico&#x27;,\n",
       "                                                                                                   MinMaxScaler())]),\n",
       "                                                                                  Index([&#x27;residentes_hogar&#x27;, &#x27;d2_04_num_hijos&#x27;], dtype=&#x27;object&#x27;))])),\n",
       "                                                (&#x27;variables_ordinales&#x27;,\n",
       "                                                 Pipeline(steps=[(&#x27;transfo...\n",
       "                                                                                                    &#x27;g_07_alguien_ofrecio_comprar_probar_sp_tipo&#x27;,\n",
       "                                                                                                    &#x27;g_06_b_posibilidad_conseguir_cocaina_tipo&#x27;,\n",
       "                                                                                                    &#x27;g_02_a_num_amigos_consumen_sp_imp_tipo&#x27;,\n",
       "                                                                                                    &#x27;g_08_b_ofrecieron_cocaina_imp_tipo&#x27;,\n",
       "                                                                                                    &#x27;situacion_tipo&#x27;,\n",
       "                                                                                                    &#x27;d_11_h_conocimiento_riesgo_fumar_marihuana_frecuentemente_tipo&#x27;,\n",
       "                                                                                                    &#x27;vive_padre_hogar_tipo&#x27;,\n",
       "                                                                                                    &#x27;per_sexo_tipo&#x27;,\n",
       "                                                                                                    &#x27;d_09_deprimido_tipo&#x27;, ...])]))]))])),\n",
       "                (&#x27;estimador&#x27;, SVC(C=0.1, gamma=0.001, kernel=&#x27;linear&#x27;))])</pre><b>In a Jupyter environment, please rerun this cell to show the HTML representation or trust the notebook. <br />On GitHub, the HTML representation is unable to render, please try loading this page with nbviewer.org.</b></div><div class=\"sk-container\" hidden><div class=\"sk-item sk-dashed-wrapped\"><div class=\"sk-label-container\"><div class=\"sk-label sk-toggleable\"><input class=\"sk-toggleable__control sk-hidden--visually\" id=\"sk-estimator-id-75\" type=\"checkbox\" ><label for=\"sk-estimator-id-75\" class=\"sk-toggleable__label sk-toggleable__label-arrow\">Pipeline</label><div class=\"sk-toggleable__content\"><pre>Pipeline(steps=[(&#x27;procesador&#x27;,\n",
       "                 FeatureUnion(transformer_list=[(&#x27;variables_numericas&#x27;,\n",
       "                                                 ColumnTransformer(transformers=[(&#x27;transformador_numerico&#x27;,\n",
       "                                                                                  Pipeline(steps=[(&#x27;imputador_numerico&#x27;,\n",
       "                                                                                                   SimpleImputer()),\n",
       "                                                                                                  (&#x27;escalador_numerico&#x27;,\n",
       "                                                                                                   MinMaxScaler())]),\n",
       "                                                                                  Index([&#x27;residentes_hogar&#x27;, &#x27;d2_04_num_hijos&#x27;], dtype=&#x27;object&#x27;))])),\n",
       "                                                (&#x27;variables_ordinales&#x27;,\n",
       "                                                 Pipeline(steps=[(&#x27;transfo...\n",
       "                                                                                                    &#x27;g_07_alguien_ofrecio_comprar_probar_sp_tipo&#x27;,\n",
       "                                                                                                    &#x27;g_06_b_posibilidad_conseguir_cocaina_tipo&#x27;,\n",
       "                                                                                                    &#x27;g_02_a_num_amigos_consumen_sp_imp_tipo&#x27;,\n",
       "                                                                                                    &#x27;g_08_b_ofrecieron_cocaina_imp_tipo&#x27;,\n",
       "                                                                                                    &#x27;situacion_tipo&#x27;,\n",
       "                                                                                                    &#x27;d_11_h_conocimiento_riesgo_fumar_marihuana_frecuentemente_tipo&#x27;,\n",
       "                                                                                                    &#x27;vive_padre_hogar_tipo&#x27;,\n",
       "                                                                                                    &#x27;per_sexo_tipo&#x27;,\n",
       "                                                                                                    &#x27;d_09_deprimido_tipo&#x27;, ...])]))]))])),\n",
       "                (&#x27;estimador&#x27;, SVC(C=0.1, gamma=0.001, kernel=&#x27;linear&#x27;))])</pre></div></div></div><div class=\"sk-serial\"><div class=\"sk-item sk-dashed-wrapped\"><div class=\"sk-label-container\"><div class=\"sk-label sk-toggleable\"><input class=\"sk-toggleable__control sk-hidden--visually\" id=\"sk-estimator-id-76\" type=\"checkbox\" ><label for=\"sk-estimator-id-76\" class=\"sk-toggleable__label sk-toggleable__label-arrow\">procesador: FeatureUnion</label><div class=\"sk-toggleable__content\"><pre>FeatureUnion(transformer_list=[(&#x27;variables_numericas&#x27;,\n",
       "                                ColumnTransformer(transformers=[(&#x27;transformador_numerico&#x27;,\n",
       "                                                                 Pipeline(steps=[(&#x27;imputador_numerico&#x27;,\n",
       "                                                                                  SimpleImputer()),\n",
       "                                                                                 (&#x27;escalador_numerico&#x27;,\n",
       "                                                                                  MinMaxScaler())]),\n",
       "                                                                 Index([&#x27;residentes_hogar&#x27;, &#x27;d2_04_num_hijos&#x27;], dtype=&#x27;object&#x27;))])),\n",
       "                               (&#x27;variables_ordinales&#x27;,\n",
       "                                Pipeline(steps=[(&#x27;transformador_ordinal&#x27;,\n",
       "                                                 ColumnTransfor...\n",
       "                                                                                   &#x27;d_10_poco_interes_tipo&#x27;,\n",
       "                                                                                   &#x27;g_07_alguien_ofrecio_comprar_probar_sp_tipo&#x27;,\n",
       "                                                                                   &#x27;g_06_b_posibilidad_conseguir_cocaina_tipo&#x27;,\n",
       "                                                                                   &#x27;g_02_a_num_amigos_consumen_sp_imp_tipo&#x27;,\n",
       "                                                                                   &#x27;g_08_b_ofrecieron_cocaina_imp_tipo&#x27;,\n",
       "                                                                                   &#x27;situacion_tipo&#x27;,\n",
       "                                                                                   &#x27;d_11_h_conocimiento_riesgo_fumar_marihuana_frecuentemente_tipo&#x27;,\n",
       "                                                                                   &#x27;vive_padre_hogar_tipo&#x27;,\n",
       "                                                                                   &#x27;per_sexo_tipo&#x27;,\n",
       "                                                                                   &#x27;d_09_deprimido_tipo&#x27;, ...])]))]))])</pre></div></div></div><div class=\"sk-parallel\"><div class=\"sk-parallel-item\"><div class=\"sk-item\"><div class=\"sk-label-container\"><div class=\"sk-label sk-toggleable\"><label>variables_numericas</label></div></div><div class=\"sk-serial\"><div class=\"sk-item sk-dashed-wrapped\"><div class=\"sk-parallel\"><div class=\"sk-parallel-item\"><div class=\"sk-item\"><div class=\"sk-label-container\"><div class=\"sk-label sk-toggleable\"><input class=\"sk-toggleable__control sk-hidden--visually\" id=\"sk-estimator-id-77\" type=\"checkbox\" ><label for=\"sk-estimator-id-77\" class=\"sk-toggleable__label sk-toggleable__label-arrow\">transformador_numerico</label><div class=\"sk-toggleable__content\"><pre>Index([&#x27;residentes_hogar&#x27;, &#x27;d2_04_num_hijos&#x27;], dtype=&#x27;object&#x27;)</pre></div></div></div><div class=\"sk-serial\"><div class=\"sk-item\"><div class=\"sk-serial\"><div class=\"sk-item\"><div class=\"sk-estimator sk-toggleable\"><input class=\"sk-toggleable__control sk-hidden--visually\" id=\"sk-estimator-id-78\" type=\"checkbox\" ><label for=\"sk-estimator-id-78\" class=\"sk-toggleable__label sk-toggleable__label-arrow\">SimpleImputer</label><div class=\"sk-toggleable__content\"><pre>SimpleImputer()</pre></div></div></div><div class=\"sk-item\"><div class=\"sk-estimator sk-toggleable\"><input class=\"sk-toggleable__control sk-hidden--visually\" id=\"sk-estimator-id-79\" type=\"checkbox\" ><label for=\"sk-estimator-id-79\" class=\"sk-toggleable__label sk-toggleable__label-arrow\">MinMaxScaler</label><div class=\"sk-toggleable__content\"><pre>MinMaxScaler()</pre></div></div></div></div></div></div></div></div></div></div></div></div></div><div class=\"sk-parallel-item\"><div class=\"sk-item\"><div class=\"sk-label-container\"><div class=\"sk-label sk-toggleable\"><label>variables_ordinales</label></div></div><div class=\"sk-serial\"><div class=\"sk-item\"><div class=\"sk-serial\"><div class=\"sk-item sk-dashed-wrapped\"><div class=\"sk-label-container\"><div class=\"sk-label sk-toggleable\"><input class=\"sk-toggleable__control sk-hidden--visually\" id=\"sk-estimator-id-80\" type=\"checkbox\" ><label for=\"sk-estimator-id-80\" class=\"sk-toggleable__label sk-toggleable__label-arrow\">transformador_ordinal: ColumnTransformer</label><div class=\"sk-toggleable__content\"><pre>ColumnTransformer(transformers=[(&#x27;transformador_ordinal&#x27;,\n",
       "                                 OrdinalEncoder(mapping=[{&#x27;col&#x27;: &#x27;per_edad_tipo&#x27;,\n",
       "                                                          &#x27;data_type&#x27;: dtype(&#x27;O&#x27;),\n",
       "                                                          &#x27;mapping&#x27;: Adolescente      0\n",
       "Joven            1\n",
       "Adulto           2\n",
       "Persona mayor    3\n",
       "dtype: int64},\n",
       "                                                         {&#x27;col&#x27;: &#x27;estrato_tipo&#x27;,\n",
       "                                                          &#x27;data_type&#x27;: dtype(&#x27;O&#x27;),\n",
       "                                                          &#x27;mapping&#x27;: Estrato bajo     0\n",
       "Estrato medio    1\n",
       "Estrato alto     2\n",
       "dtype: int64},\n",
       "                                                         {&#x27;col&#x27;: &#x27;d_08_estado_salud_tipo&#x27;,\n",
       "                                                          &#x27;data_type&#x27;: dtype(&#x27;O&#x27;),\n",
       "                                                          &#x27;m...\n",
       "                                                         {&#x27;col&#x27;: &#x27;frecuencia_consumo_basuco_tipo&#x27;,\n",
       "                                                          &#x27;data_type&#x27;: dtype(&#x27;O&#x27;),\n",
       "                                                          &#x27;mapping&#x27;: Nunca                                         0\n",
       "Alguna vez en su vida                         1\n",
       "Una vez en el año                             2\n",
       "Algunas veces durante los últimos 12 meses    3\n",
       "Algunas veces mensualmente                    4\n",
       "Algunas veces semanalmente                    5\n",
       "Diariamente                                   6\n",
       "dtype: int64}]),\n",
       "                                 [&#x27;per_edad_tipo&#x27;, &#x27;estrato_tipo&#x27;,\n",
       "                                  &#x27;d_08_estado_salud_tipo&#x27;,\n",
       "                                  &#x27;frecuencia_consumo_marihuana_tipo&#x27;,\n",
       "                                  &#x27;frecuencia_consumo_cocaina_tipo&#x27;,\n",
       "                                  &#x27;frecuencia_consumo_basuco_tipo&#x27;])])</pre></div></div></div><div class=\"sk-parallel\"><div class=\"sk-parallel-item\"><div class=\"sk-item\"><div class=\"sk-label-container\"><div class=\"sk-label sk-toggleable\"><input class=\"sk-toggleable__control sk-hidden--visually\" id=\"sk-estimator-id-81\" type=\"checkbox\" ><label for=\"sk-estimator-id-81\" class=\"sk-toggleable__label sk-toggleable__label-arrow\">transformador_ordinal</label><div class=\"sk-toggleable__content\"><pre>[&#x27;per_edad_tipo&#x27;, &#x27;estrato_tipo&#x27;, &#x27;d_08_estado_salud_tipo&#x27;, &#x27;frecuencia_consumo_marihuana_tipo&#x27;, &#x27;frecuencia_consumo_cocaina_tipo&#x27;, &#x27;frecuencia_consumo_basuco_tipo&#x27;]</pre></div></div></div><div class=\"sk-serial\"><div class=\"sk-item\"><div class=\"sk-estimator sk-toggleable\"><input class=\"sk-toggleable__control sk-hidden--visually\" id=\"sk-estimator-id-82\" type=\"checkbox\" ><label for=\"sk-estimator-id-82\" class=\"sk-toggleable__label sk-toggleable__label-arrow\">OrdinalEncoder</label><div class=\"sk-toggleable__content\"><pre>OrdinalEncoder(mapping=[{&#x27;col&#x27;: &#x27;per_edad_tipo&#x27;, &#x27;data_type&#x27;: dtype(&#x27;O&#x27;),\n",
       "                         &#x27;mapping&#x27;: Adolescente      0\n",
       "Joven            1\n",
       "Adulto           2\n",
       "Persona mayor    3\n",
       "dtype: int64},\n",
       "                        {&#x27;col&#x27;: &#x27;estrato_tipo&#x27;, &#x27;data_type&#x27;: dtype(&#x27;O&#x27;),\n",
       "                         &#x27;mapping&#x27;: Estrato bajo     0\n",
       "Estrato medio    1\n",
       "Estrato alto     2\n",
       "dtype: int64},\n",
       "                        {&#x27;col&#x27;: &#x27;d_08_estado_salud_tipo&#x27;,\n",
       "                         &#x27;data_type&#x27;: dtype(&#x27;O&#x27;),\n",
       "                         &#x27;mapping&#x27;: d_08_Muy_malo     0\n",
       "d_08_Malo         1\n",
       "d_08_Regular      2\n",
       "d_08_Bueno        3\n",
       "d...\n",
       "Una vez en el año                             2\n",
       "Algunas veces durante los últimos 12 meses    3\n",
       "Algunas veces mensualmente                    4\n",
       "Algunas veces semanalmente                    5\n",
       "Diariamente                                   6\n",
       "dtype: int64},\n",
       "                        {&#x27;col&#x27;: &#x27;frecuencia_consumo_basuco_tipo&#x27;,\n",
       "                         &#x27;data_type&#x27;: dtype(&#x27;O&#x27;),\n",
       "                         &#x27;mapping&#x27;: Nunca                                         0\n",
       "Alguna vez en su vida                         1\n",
       "Una vez en el año                             2\n",
       "Algunas veces durante los últimos 12 meses    3\n",
       "Algunas veces mensualmente                    4\n",
       "Algunas veces semanalmente                    5\n",
       "Diariamente                                   6\n",
       "dtype: int64}])</pre></div></div></div></div></div></div></div></div></div></div></div></div></div><div class=\"sk-parallel-item\"><div class=\"sk-item\"><div class=\"sk-label-container\"><div class=\"sk-label sk-toggleable\"><label>variables_categoricas</label></div></div><div class=\"sk-serial\"><div class=\"sk-item\"><div class=\"sk-serial\"><div class=\"sk-item sk-dashed-wrapped\"><div class=\"sk-label-container\"><div class=\"sk-label sk-toggleable\"><input class=\"sk-toggleable__control sk-hidden--visually\" id=\"sk-estimator-id-83\" type=\"checkbox\" ><label for=\"sk-estimator-id-83\" class=\"sk-toggleable__label sk-toggleable__label-arrow\">transformador_categorico: ColumnTransformer</label><div class=\"sk-toggleable__content\"><pre>ColumnTransformer(transformers=[(&#x27;transformador_categorico&#x27;,\n",
       "                                 OneHotEncoder(handle_unknown=&#x27;impute&#x27;),\n",
       "                                 [&#x27;d2_03_estado_civil_tipo&#x27;,\n",
       "                                  &#x27;g_05_posibilidad_probar_sp_tipo&#x27;,\n",
       "                                  &#x27;g_02_amigos_consumen_sp_tipo&#x27;,\n",
       "                                  &#x27;g_04_probaria_sp_tipo&#x27;,\n",
       "                                  &#x27;vive_madre_hogar_tipo&#x27;,\n",
       "                                  &#x27;d_12_b_presenta_problema_consumo_sp_barrio_tipo&#x27;,\n",
       "                                  &#x27;d_11_k_conocimiento_riesgo_cocaina_frecuentemente_tipo&#x27;,\n",
       "                                  &#x27;g_0...\n",
       "                                  &#x27;d_12_c_presenta_problema_expendio_sp_barrio_tipo&#x27;,\n",
       "                                  &#x27;d_10_poco_interes_tipo&#x27;,\n",
       "                                  &#x27;g_07_alguien_ofrecio_comprar_probar_sp_tipo&#x27;,\n",
       "                                  &#x27;g_06_b_posibilidad_conseguir_cocaina_tipo&#x27;,\n",
       "                                  &#x27;g_02_a_num_amigos_consumen_sp_imp_tipo&#x27;,\n",
       "                                  &#x27;g_08_b_ofrecieron_cocaina_imp_tipo&#x27;,\n",
       "                                  &#x27;situacion_tipo&#x27;,\n",
       "                                  &#x27;d_11_h_conocimiento_riesgo_fumar_marihuana_frecuentemente_tipo&#x27;,\n",
       "                                  &#x27;vive_padre_hogar_tipo&#x27;, &#x27;per_sexo_tipo&#x27;,\n",
       "                                  &#x27;d_09_deprimido_tipo&#x27;, ...])])</pre></div></div></div><div class=\"sk-parallel\"><div class=\"sk-parallel-item\"><div class=\"sk-item\"><div class=\"sk-label-container\"><div class=\"sk-label sk-toggleable\"><input class=\"sk-toggleable__control sk-hidden--visually\" id=\"sk-estimator-id-84\" type=\"checkbox\" ><label for=\"sk-estimator-id-84\" class=\"sk-toggleable__label sk-toggleable__label-arrow\">transformador_categorico</label><div class=\"sk-toggleable__content\"><pre>[&#x27;d2_03_estado_civil_tipo&#x27;, &#x27;g_05_posibilidad_probar_sp_tipo&#x27;, &#x27;g_02_amigos_consumen_sp_tipo&#x27;, &#x27;g_04_probaria_sp_tipo&#x27;, &#x27;vive_madre_hogar_tipo&#x27;, &#x27;d_12_b_presenta_problema_consumo_sp_barrio_tipo&#x27;, &#x27;d_11_k_conocimiento_riesgo_cocaina_frecuentemente_tipo&#x27;, &#x27;g_06_c_posibilidad_conseguir_basuco_tipo&#x27;, &#x27;d2_01_etnia_tipo&#x27;, &#x27;d_11_n_conocimiento_riesgo_fumar_basuco_frecuentemente_tipo&#x27;, &#x27;g_06_a_posibilidad_conseguir_marihuana_tipo&#x27;, &#x27;g_08_c_ofrecieron_basuco_imp_tipo&#x27;, &#x27;g_01_a_num_familiares_consumen_sp_imp_tipo&#x27;, &#x27;g_08_a_ofrecieron_marihuana_imp_tipo&#x27;, &#x27;g_03_curiosidad_probar_sp_tipo&#x27;, &#x27;departamento&#x27;, &#x27;d_01_aporta_dinero_hogar_tipo&#x27;, &#x27;d2_05_nivel_educativo_tipo&#x27;, &#x27;g_01_familiares_consumen_sp_tipo&#x27;, &#x27;d_12_c_presenta_problema_expendio_sp_barrio_tipo&#x27;, &#x27;d_10_poco_interes_tipo&#x27;, &#x27;g_07_alguien_ofrecio_comprar_probar_sp_tipo&#x27;, &#x27;g_06_b_posibilidad_conseguir_cocaina_tipo&#x27;, &#x27;g_02_a_num_amigos_consumen_sp_imp_tipo&#x27;, &#x27;g_08_b_ofrecieron_cocaina_imp_tipo&#x27;, &#x27;situacion_tipo&#x27;, &#x27;d_11_h_conocimiento_riesgo_fumar_marihuana_frecuentemente_tipo&#x27;, &#x27;vive_padre_hogar_tipo&#x27;, &#x27;per_sexo_tipo&#x27;, &#x27;d_09_deprimido_tipo&#x27;, &#x27;vivienda_tipo&#x27;]</pre></div></div></div><div class=\"sk-serial\"><div class=\"sk-item\"><div class=\"sk-estimator sk-toggleable\"><input class=\"sk-toggleable__control sk-hidden--visually\" id=\"sk-estimator-id-85\" type=\"checkbox\" ><label for=\"sk-estimator-id-85\" class=\"sk-toggleable__label sk-toggleable__label-arrow\">OneHotEncoder</label><div class=\"sk-toggleable__content\"><pre>OneHotEncoder(handle_unknown=&#x27;impute&#x27;)</pre></div></div></div></div></div></div></div></div></div></div></div></div></div></div></div><div class=\"sk-item\"><div class=\"sk-estimator sk-toggleable\"><input class=\"sk-toggleable__control sk-hidden--visually\" id=\"sk-estimator-id-86\" type=\"checkbox\" ><label for=\"sk-estimator-id-86\" class=\"sk-toggleable__label sk-toggleable__label-arrow\">SVC</label><div class=\"sk-toggleable__content\"><pre>SVC(C=0.1, gamma=0.001, kernel=&#x27;linear&#x27;)</pre></div></div></div></div></div></div></div>"
      ],
      "text/plain": [
       "Pipeline(steps=[('procesador',\n",
       "                 FeatureUnion(transformer_list=[('variables_numericas',\n",
       "                                                 ColumnTransformer(transformers=[('transformador_numerico',\n",
       "                                                                                  Pipeline(steps=[('imputador_numerico',\n",
       "                                                                                                   SimpleImputer()),\n",
       "                                                                                                  ('escalador_numerico',\n",
       "                                                                                                   MinMaxScaler())]),\n",
       "                                                                                  Index(['residentes_hogar', 'd2_04_num_hijos'], dtype='object'))])),\n",
       "                                                ('variables_ordinales',\n",
       "                                                 Pipeline(steps=[('transfo...\n",
       "                                                                                                    'g_07_alguien_ofrecio_comprar_probar_sp_tipo',\n",
       "                                                                                                    'g_06_b_posibilidad_conseguir_cocaina_tipo',\n",
       "                                                                                                    'g_02_a_num_amigos_consumen_sp_imp_tipo',\n",
       "                                                                                                    'g_08_b_ofrecieron_cocaina_imp_tipo',\n",
       "                                                                                                    'situacion_tipo',\n",
       "                                                                                                    'd_11_h_conocimiento_riesgo_fumar_marihuana_frecuentemente_tipo',\n",
       "                                                                                                    'vive_padre_hogar_tipo',\n",
       "                                                                                                    'per_sexo_tipo',\n",
       "                                                                                                    'd_09_deprimido_tipo', ...])]))]))])),\n",
       "                ('estimador', SVC(C=0.1, gamma=0.001, kernel='linear'))])"
      ]
     },
     "execution_count": 57,
     "metadata": {},
     "output_type": "execute_result"
    }
   ],
   "source": [
    "pipeline_estimador_op_best2.fit(X_train, y_train)"
   ]
  },
  {
   "cell_type": "code",
   "execution_count": 58,
   "metadata": {},
   "outputs": [
    {
     "data": {
      "text/plain": [
       "array([0, 2, 0, ..., 2, 0, 4], dtype=int64)"
      ]
     },
     "execution_count": 58,
     "metadata": {},
     "output_type": "execute_result"
    }
   ],
   "source": [
    "pipeline_estimador_op_best2.predict(X_test)"
   ]
  },
  {
   "cell_type": "code",
   "execution_count": 59,
   "metadata": {},
   "outputs": [
    {
     "data": {
      "text/html": [
       "<div>\n",
       "<style scoped>\n",
       "    .dataframe tbody tr th:only-of-type {\n",
       "        vertical-align: middle;\n",
       "    }\n",
       "\n",
       "    .dataframe tbody tr th {\n",
       "        vertical-align: top;\n",
       "    }\n",
       "\n",
       "    .dataframe thead th {\n",
       "        text-align: right;\n",
       "    }\n",
       "</style>\n",
       "<table border=\"1\" class=\"dataframe\">\n",
       "  <thead>\n",
       "    <tr style=\"text-align: right;\">\n",
       "      <th></th>\n",
       "      <th>fit_time</th>\n",
       "      <th>score_time</th>\n",
       "      <th>test_score</th>\n",
       "      <th>train_score</th>\n",
       "    </tr>\n",
       "  </thead>\n",
       "  <tbody>\n",
       "    <tr>\n",
       "      <th>svm_exactitud</th>\n",
       "      <td>2.902915</td>\n",
       "      <td>0.022530</td>\n",
       "      <td>0.984100</td>\n",
       "      <td>0.994629</td>\n",
       "    </tr>\n",
       "    <tr>\n",
       "      <th>svm_precision</th>\n",
       "      <td>3.033229</td>\n",
       "      <td>0.023249</td>\n",
       "      <td>0.978580</td>\n",
       "      <td>0.994754</td>\n",
       "    </tr>\n",
       "    <tr>\n",
       "      <th>svm_exhaustividad</th>\n",
       "      <td>2.967160</td>\n",
       "      <td>0.021971</td>\n",
       "      <td>0.976901</td>\n",
       "      <td>0.994247</td>\n",
       "    </tr>\n",
       "    <tr>\n",
       "      <th>svm_f1_score</th>\n",
       "      <td>3.345306</td>\n",
       "      <td>0.023329</td>\n",
       "      <td>0.977038</td>\n",
       "      <td>0.994497</td>\n",
       "    </tr>\n",
       "    <tr>\n",
       "      <th>rf_best_exactitud</th>\n",
       "      <td>3.343941</td>\n",
       "      <td>0.014302</td>\n",
       "      <td>0.984200</td>\n",
       "      <td>0.998610</td>\n",
       "    </tr>\n",
       "    <tr>\n",
       "      <th>rf_best_precision</th>\n",
       "      <td>3.394602</td>\n",
       "      <td>0.015898</td>\n",
       "      <td>0.977627</td>\n",
       "      <td>0.998933</td>\n",
       "    </tr>\n",
       "    <tr>\n",
       "      <th>rf_best_exhaustividad</th>\n",
       "      <td>3.412835</td>\n",
       "      <td>0.016815</td>\n",
       "      <td>0.975575</td>\n",
       "      <td>0.998890</td>\n",
       "    </tr>\n",
       "    <tr>\n",
       "      <th>rf_best_f1_score</th>\n",
       "      <td>3.377547</td>\n",
       "      <td>0.014521</td>\n",
       "      <td>0.975941</td>\n",
       "      <td>0.998912</td>\n",
       "    </tr>\n",
       "  </tbody>\n",
       "</table>\n",
       "</div>"
      ],
      "text/plain": [
       "                       fit_time  score_time  test_score  train_score\n",
       "svm_exactitud          2.902915    0.022530    0.984100     0.994629\n",
       "svm_precision          3.033229    0.023249    0.978580     0.994754\n",
       "svm_exhaustividad      2.967160    0.021971    0.976901     0.994247\n",
       "svm_f1_score           3.345306    0.023329    0.977038     0.994497\n",
       "rf_best_exactitud      3.343941    0.014302    0.984200     0.998610\n",
       "rf_best_precision      3.394602    0.015898    0.977627     0.998933\n",
       "rf_best_exhaustividad  3.412835    0.016815    0.975575     0.998890\n",
       "rf_best_f1_score       3.377547    0.014521    0.975941     0.998912"
      ]
     },
     "execution_count": 59,
     "metadata": {},
     "output_type": "execute_result"
    }
   ],
   "source": [
    "estimador_best2 = pipeline_estimador_op_best2.named_steps['estimador']\n",
    "resultados[\"svm_best_2\"] = evaluar_modelo(estimador_best2, consumidores_procesado, consumidores.CatRiesgo, 50)\n",
    "ver_resultados()"
   ]
  },
  {
   "cell_type": "code",
   "execution_count": 57,
   "metadata": {},
   "outputs": [],
   "source": [
    "resultadoEvaluacionOPBest2 = evaluar_modelo_cross(pipeline_estimador_op_best2, consumidores.drop('CatRiesgo', axis=1), consumidores.CatRiesgo, 50)"
   ]
  },
  {
   "cell_type": "code",
   "execution_count": 58,
   "metadata": {},
   "outputs": [
    {
     "data": {
      "text/plain": [
       "{'exactitud': 0.9797000000000001,\n",
       " 'precision': 0.9804839887727199,\n",
       " 'exhaustividad': 0.9797000000000001,\n",
       " 'f1_score': 0.9797000000000001}"
      ]
     },
     "execution_count": 58,
     "metadata": {},
     "output_type": "execute_result"
    }
   ],
   "source": [
    "resultadoEvaluacionOPBest2"
   ]
  },
  {
   "cell_type": "code",
   "execution_count": 62,
   "metadata": {},
   "outputs": [],
   "source": [
    "from scipy.stats import uniform"
   ]
  },
  {
   "cell_type": "markdown",
   "metadata": {},
   "source": [
    "### Tercera optimizacion"
   ]
  },
  {
   "cell_type": "code",
   "execution_count": null,
   "metadata": {},
   "outputs": [],
   "source": [
    "Este grid es más exhaustivo y considera más opciones."
   ]
  },
  {
   "cell_type": "code",
   "execution_count": 84,
   "metadata": {},
   "outputs": [],
   "source": [
    "param_distributions_3 = {\n",
    "    'C': [0.001, 0.01, 0.1, 1, 10, 100],\n",
    "    'kernel': ['linear', 'rbf', 'poly', 'sigmoid'],\n",
    "    'gamma': [0.0001, 0.001, 0.01, 0.1, 'scale'],\n",
    "    'class_weight': [None, 'balanced'],\n",
    "    'shrinking': [True, False],\n",
    "    'decision_function_shape': ['ovr', 'ovo'],\n",
    "    'degree': [2, 3, 4],  # Para kernel 'poly'\n",
    "    'coef0': [0.0, 0.1, 0.5, 1]  # Para kernels 'poly' y 'sigmoid'\n",
    "}"
   ]
  },
  {
   "cell_type": "code",
   "execution_count": 85,
   "metadata": {},
   "outputs": [],
   "source": [
    "random_search_3 = RandomizedSearchCV(estimator=svc, param_distributions=param_distributions_3, n_iter=100, cv=5, scoring='accuracy', n_jobs=-1, random_state=42)"
   ]
  },
  {
   "cell_type": "code",
   "execution_count": 86,
   "metadata": {},
   "outputs": [],
   "source": [
    "pipeline_estimador_op3 = Pipeline([\n",
    "    ('procesador', pipeline_procesado),\n",
    "    ('estimador', random_search_3)\n",
    "])"
   ]
  },
  {
   "cell_type": "code",
   "execution_count": null,
   "metadata": {},
   "outputs": [],
   "source": [
    "pipeline_estimador_op3.fit(X_train, y_train)"
   ]
  },
  {
   "cell_type": "code",
   "execution_count": null,
   "metadata": {},
   "outputs": [],
   "source": [
    "best_params3 = random_search_3.best_params_"
   ]
  },
  {
   "cell_type": "code",
   "execution_count": null,
   "metadata": {},
   "outputs": [],
   "source": [
    "pipeline_estimador_op3.predict(X_test)"
   ]
  },
  {
   "cell_type": "code",
   "execution_count": null,
   "metadata": {},
   "outputs": [],
   "source": [
    "pipeline_estimador_op_best3 = Pipeline([\n",
    "    ('procesador', pipeline_procesado),\n",
    "    ('estimador', random_search_3.best_estimator_)\n",
    "])"
   ]
  },
  {
   "cell_type": "code",
   "execution_count": null,
   "metadata": {},
   "outputs": [],
   "source": [
    "pipeline_estimador_op_best3.fit(X_train, y_train)"
   ]
  },
  {
   "cell_type": "code",
   "execution_count": null,
   "metadata": {},
   "outputs": [],
   "source": [
    "pipeline_estimador_op_best3.predict(X_test)"
   ]
  },
  {
   "cell_type": "code",
   "execution_count": null,
   "metadata": {},
   "outputs": [],
   "source": [
    "estimador_best3 = pipeline_estimador_op_best3.named_steps['estimador']\n",
    "resultados[\"svm_best_3\"] = evaluar_modelo(estimador_best3, consumidores_procesado, consumidores.CatRiesgo, 50)\n",
    "ver_resultados()"
   ]
  },
  {
   "cell_type": "code",
   "execution_count": null,
   "metadata": {},
   "outputs": [],
   "source": [
    "resultadoEvaluacionOPBest3 = evaluar_modelo_cross(pipeline_estimador_op_best3,consumidores.drop('CatRiesgo', axis=1), consumidores.CatRiesgo, 50)"
   ]
  },
  {
   "cell_type": "code",
   "execution_count": null,
   "metadata": {},
   "outputs": [],
   "source": [
    "resultadoEvaluacionOPBest3"
   ]
  },
  {
   "cell_type": "markdown",
   "metadata": {},
   "source": [
    "### Cuarta optimizacion"
   ]
  },
  {
   "cell_type": "code",
   "execution_count": null,
   "metadata": {},
   "outputs": [],
   "source": [
    "Este grid incluye algunos parámetros adicionales para ajustes mas finos."
   ]
  },
  {
   "cell_type": "code",
   "execution_count": 71,
   "metadata": {},
   "outputs": [],
   "source": [
    "param_distributions_4 = {\n",
    "    'C': [0.1, 1, 10],\n",
    "    'kernel': ['linear', 'rbf', 'poly'],\n",
    "    'gamma': [0.001, 0.01, 0.1, 'scale'],\n",
    "    'degree': [3, 4],  # Solo relevante para 'poly'\n",
    "    'coef0': [0.0, 0.1, 0.5],  # Para 'poly' y 'sigmoid'\n",
    "    'shrinking': [True, False],\n",
    "    'decision_function_shape': ['ovr'],\n",
    "    'tol': [1e-3, 1e-2],\n",
    "}"
   ]
  },
  {
   "cell_type": "code",
   "execution_count": null,
   "metadata": {},
   "outputs": [],
   "source": [
    "random_search_4 = RandomizedSearchCV(estimator=svc, param_distributions=param_distributions_4, n_iter=100, cv=5, scoring='accuracy', n_jobs=-1, random_state=42)"
   ]
  },
  {
   "cell_type": "code",
   "execution_count": null,
   "metadata": {},
   "outputs": [],
   "source": [
    "pipeline_estimador_op4 = Pipeline([\n",
    "    ('procesador', pipeline_procesado),\n",
    "    ('estimador', random_search_4)\n",
    "])"
   ]
  },
  {
   "cell_type": "code",
   "execution_count": null,
   "metadata": {},
   "outputs": [],
   "source": [
    "pipeline_estimador_op4.fit(X_train, y_train)"
   ]
  },
  {
   "cell_type": "code",
   "execution_count": null,
   "metadata": {},
   "outputs": [],
   "source": [
    "best_params4 = random_search_4.best_params_"
   ]
  },
  {
   "cell_type": "code",
   "execution_count": null,
   "metadata": {},
   "outputs": [],
   "source": [
    "pipeline_estimador_op4.predict(X_test)"
   ]
  },
  {
   "cell_type": "code",
   "execution_count": null,
   "metadata": {},
   "outputs": [],
   "source": [
    "pipeline_estimador_op_best4 = Pipeline([\n",
    "    ('procesador', pipeline_procesado),\n",
    "    ('estimador', random_search_4.best_estimator_)\n",
    "])"
   ]
  },
  {
   "cell_type": "code",
   "execution_count": null,
   "metadata": {},
   "outputs": [],
   "source": [
    "pipeline_estimador_op_best4.fit(X_train, y_train)"
   ]
  },
  {
   "cell_type": "code",
   "execution_count": null,
   "metadata": {},
   "outputs": [],
   "source": [
    "pipeline_estimador_op_best4.predict(X_test)"
   ]
  },
  {
   "cell_type": "code",
   "execution_count": null,
   "metadata": {},
   "outputs": [],
   "source": [
    "estimador_best4 = pipeline_estimador_op_best4.named_steps['estimador']\n",
    "resultados[\"svm_best_4\"] = evaluar_modelo(estimador_best4, consumidores_procesado, consumidores.CatRiesgo, 50)\n",
    "ver_resultados()"
   ]
  },
  {
   "cell_type": "code",
   "execution_count": null,
   "metadata": {},
   "outputs": [],
   "source": [
    "resultadoEvaluacionOPBest4 = evaluar_modelo_cross(pipeline_estimador_op_best4,consumidores.drop('CatRiesgo', axis=1), consumidores.CatRiesgo, 50)"
   ]
  },
  {
   "cell_type": "code",
   "execution_count": null,
   "metadata": {},
   "outputs": [],
   "source": [
    "resultadoEvaluacionOPBest4"
   ]
  },
  {
   "cell_type": "markdown",
   "metadata": {},
   "source": [
    "### Quinta optimizacion"
   ]
  },
  {
   "cell_type": "code",
   "execution_count": null,
   "metadata": {},
   "outputs": [],
   "source": [
    "Grid con Foco en Polinomial y Sigmoide: Este grid es específico para explorar kernels polinomiales y sigmoides."
   ]
  },
  {
   "cell_type": "code",
   "execution_count": 83,
   "metadata": {},
   "outputs": [],
   "source": [
    "param_distributions_5 = {\n",
    "    'C': [0.1, 1, 10],\n",
    "    'kernel': ['poly', 'sigmoid'],\n",
    "    'gamma': [0.01, 0.1, 'scale'],\n",
    "    'degree': [2, 3, 4],\n",
    "    'coef0': [0.0, 0.5, 1],\n",
    "    'class_weight': [None, 'balanced'],\n",
    "}"
   ]
  },
  {
   "cell_type": "code",
   "execution_count": null,
   "metadata": {},
   "outputs": [],
   "source": [
    "random_search_5 = RandomizedSearchCV(estimator=svc, param_distributions=param_distributions_5, n_iter=100, cv=5, scoring='accuracy', n_jobs=-1, random_state=42)"
   ]
  },
  {
   "cell_type": "code",
   "execution_count": null,
   "metadata": {},
   "outputs": [],
   "source": [
    "pipeline_estimador_op5 = Pipeline([\n",
    "    ('procesador', pipeline_procesado),\n",
    "    ('estimador', random_search_5)\n",
    "])"
   ]
  },
  {
   "cell_type": "code",
   "execution_count": null,
   "metadata": {},
   "outputs": [],
   "source": [
    "pipeline_estimador_op5.fit(X_train, y_train)"
   ]
  },
  {
   "cell_type": "code",
   "execution_count": null,
   "metadata": {},
   "outputs": [],
   "source": [
    "best_params5 = random_search_5.best_params_"
   ]
  },
  {
   "cell_type": "code",
   "execution_count": null,
   "metadata": {},
   "outputs": [],
   "source": [
    "pipeline_estimador_op5.predict(X_test)"
   ]
  },
  {
   "cell_type": "code",
   "execution_count": null,
   "metadata": {},
   "outputs": [],
   "source": [
    "pipeline_estimador_op_best5 = Pipeline([\n",
    "    ('procesador', pipeline_procesado),\n",
    "    ('estimador', random_search_5.best_estimator_)\n",
    "])"
   ]
  },
  {
   "cell_type": "code",
   "execution_count": null,
   "metadata": {},
   "outputs": [],
   "source": [
    "pipeline_estimador_op_best5.fit(X_train, y_train)"
   ]
  },
  {
   "cell_type": "code",
   "execution_count": null,
   "metadata": {},
   "outputs": [],
   "source": [
    "pipeline_estimador_op_best5.predict(X_test)"
   ]
  },
  {
   "cell_type": "code",
   "execution_count": null,
   "metadata": {},
   "outputs": [],
   "source": [
    "estimador_best5 = pipeline_estimador_op_best5.named_steps['estimador']\n",
    "resultados[\"svm_best_5\"] = evaluar_modelo(estimador_best5, consumidores_procesado, consumidores.CatRiesgo, 50)\n",
    "ver_resultados()"
   ]
  },
  {
   "cell_type": "code",
   "execution_count": null,
   "metadata": {},
   "outputs": [],
   "source": [
    "resultadoEvaluacionOPBest5 = evaluar_modelo_cross(pipeline_estimador_op_best5,consumidores.drop('CatRiesgo', axis=1), consumidores.CatRiesgo, 50)"
   ]
  },
  {
   "cell_type": "code",
   "execution_count": null,
   "metadata": {},
   "outputs": [],
   "source": [
    "resultadoEvaluacionOPBest5"
   ]
  },
  {
   "cell_type": "markdown",
   "metadata": {},
   "source": [
    "### Sexta optimizacion"
   ]
  },
  {
   "cell_type": "code",
   "execution_count": null,
   "metadata": {},
   "outputs": [],
   "source": [
    "Grid enfocado en la Regularización y Gamma"
   ]
  },
  {
   "cell_type": "code",
   "execution_count": null,
   "metadata": {},
   "outputs": [],
   "source": [
    "param_distributions_6 = {\n",
    "    'C': [0.01, 0.1, 1, 10],\n",
    "    'kernel': ['rbf', 'sigmoid'],\n",
    "    'gamma': [0.001, 0.01, 0.1, 1],\n",
    "    'coef0': [0.0, 0.1, 0.5],\n",
    "    'shrinking': [True, False],\n",
    "}"
   ]
  },
  {
   "cell_type": "code",
   "execution_count": null,
   "metadata": {},
   "outputs": [],
   "source": [
    "random_search_6 = RandomizedSearchCV(estimator=svc, param_distributions=param_distributions_6, n_iter=100, cv=5, scoring='accuracy', n_jobs=-1, random_state=42)"
   ]
  },
  {
   "cell_type": "code",
   "execution_count": null,
   "metadata": {},
   "outputs": [],
   "source": [
    "pipeline_estimador_op6 = Pipeline([\n",
    "    ('procesador', pipeline_procesado),\n",
    "    ('estimador', random_search_6)\n",
    "])"
   ]
  },
  {
   "cell_type": "code",
   "execution_count": null,
   "metadata": {},
   "outputs": [],
   "source": [
    "pipeline_estimador_op6.fit(X_train, y_train)"
   ]
  },
  {
   "cell_type": "code",
   "execution_count": null,
   "metadata": {},
   "outputs": [],
   "source": [
    "best_params6 = random_search_6.best_params_"
   ]
  },
  {
   "cell_type": "code",
   "execution_count": null,
   "metadata": {},
   "outputs": [],
   "source": [
    "pipeline_estimador_op6.predict(X_test)"
   ]
  },
  {
   "cell_type": "code",
   "execution_count": null,
   "metadata": {},
   "outputs": [],
   "source": [
    "pipeline_estimador_op_best6 = Pipeline([\n",
    "    ('procesador', pipeline_procesado),\n",
    "    ('estimador', random_search_6.best_estimator_)\n",
    "])"
   ]
  },
  {
   "cell_type": "code",
   "execution_count": null,
   "metadata": {},
   "outputs": [],
   "source": [
    "pipeline_estimador_op_best6.fit(X_train, y_train)"
   ]
  },
  {
   "cell_type": "code",
   "execution_count": null,
   "metadata": {},
   "outputs": [],
   "source": [
    "pipeline_estimador_op_best6.predict(X_test)"
   ]
  },
  {
   "cell_type": "code",
   "execution_count": null,
   "metadata": {},
   "outputs": [],
   "source": [
    "estimador_best6 = pipeline_estimador_op_best6.named_steps['estimador']\n",
    "resultados[\"svm_best_6\"] = evaluar_modelo(estimador_best6, consumidores_procesado, consumidores.CatRiesgo, 50)\n",
    "ver_resultados()"
   ]
  },
  {
   "cell_type": "code",
   "execution_count": null,
   "metadata": {},
   "outputs": [],
   "source": [
    "resultadoEvaluacionOPBest6 = evaluar_modelo_cross(pipeline_estimador_op_best6, consumidores.drop('CatRiesgo', axis=1), consumidores.CatRiesgo, 50)"
   ]
  },
  {
   "cell_type": "code",
   "execution_count": null,
   "metadata": {},
   "outputs": [],
   "source": [
    "resultadoEvaluacionOPBest6"
   ]
  }
 ],
 "metadata": {
  "kernelspec": {
   "display_name": "Python 3 (ipykernel)",
   "language": "python",
   "name": "python3"
  },
  "language_info": {
   "codemirror_mode": {
    "name": "ipython",
    "version": 3
   },
   "file_extension": ".py",
   "mimetype": "text/x-python",
   "name": "python",
   "nbconvert_exporter": "python",
   "pygments_lexer": "ipython3",
   "version": "3.11.4"
  }
 },
 "nbformat": 4,
 "nbformat_minor": 2
}
